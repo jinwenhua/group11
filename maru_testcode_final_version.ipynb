{
 "cells": [
  {
   "cell_type": "code",
   "execution_count": 1,
   "id": "6a2769d5",
   "metadata": {
    "ExecuteTime": {
     "end_time": "2022-07-11T06:07:59.697136Z",
     "start_time": "2022-07-11T06:07:57.439559Z"
    }
   },
   "outputs": [],
   "source": [
    "import pandas as pd\n",
    "import numpy as np\n",
    "import matplotlib.pyplot as plt \n",
    "import seaborn as sns \n",
    "from sklearn.model_selection import train_test_split, GridSearchCV\n",
    "from sklearn.preprocessing import StandardScaler\n",
    "from sklearn.metrics import classification_report, confusion_matrix, roc_curve, roc_auc_score\n",
    "from sklearn import metrics\n",
    "from sklearn.model_selection import cross_val_score\n",
    "from sklearn.neighbors import KNeighborsClassifier\n",
    "from sklearn.tree import DecisionTreeClassifier \n",
    "from sklearn.svm import SVC\n",
    "from sklearn.naive_bayes import BernoulliNB\n",
    "from sklearn.feature_selection import SelectKBest, f_classif\n",
    "from sklearn.feature_selection import RFE\n",
    "import matplotlib.pyplot as plt "
   ]
  },
  {
   "cell_type": "code",
   "execution_count": 2,
   "id": "f0ef3b30",
   "metadata": {
    "ExecuteTime": {
     "end_time": "2022-07-11T06:07:59.722961Z",
     "start_time": "2022-07-11T06:07:59.698343Z"
    }
   },
   "outputs": [
    {
     "data": {
      "text/html": [
       "<div>\n",
       "<style scoped>\n",
       "    .dataframe tbody tr th:only-of-type {\n",
       "        vertical-align: middle;\n",
       "    }\n",
       "\n",
       "    .dataframe tbody tr th {\n",
       "        vertical-align: top;\n",
       "    }\n",
       "\n",
       "    .dataframe thead th {\n",
       "        text-align: right;\n",
       "    }\n",
       "</style>\n",
       "<table border=\"1\" class=\"dataframe\">\n",
       "  <thead>\n",
       "    <tr style=\"text-align: right;\">\n",
       "      <th></th>\n",
       "      <th>fixed acidity</th>\n",
       "      <th>volatile acidity</th>\n",
       "      <th>citric acid</th>\n",
       "      <th>residual sugar</th>\n",
       "      <th>chlorides</th>\n",
       "      <th>free sulfur dioxide</th>\n",
       "      <th>total sulfur dioxide</th>\n",
       "      <th>density</th>\n",
       "      <th>pH</th>\n",
       "      <th>sulphates</th>\n",
       "      <th>alcohol</th>\n",
       "      <th>quality</th>\n",
       "    </tr>\n",
       "  </thead>\n",
       "  <tbody>\n",
       "    <tr>\n",
       "      <th>0</th>\n",
       "      <td>7.0</td>\n",
       "      <td>0.27</td>\n",
       "      <td>0.36</td>\n",
       "      <td>20.7</td>\n",
       "      <td>0.045</td>\n",
       "      <td>45.0</td>\n",
       "      <td>170.0</td>\n",
       "      <td>1.00100</td>\n",
       "      <td>3.00</td>\n",
       "      <td>0.45</td>\n",
       "      <td>8.8</td>\n",
       "      <td>1</td>\n",
       "    </tr>\n",
       "    <tr>\n",
       "      <th>1</th>\n",
       "      <td>6.3</td>\n",
       "      <td>0.30</td>\n",
       "      <td>0.34</td>\n",
       "      <td>1.6</td>\n",
       "      <td>0.049</td>\n",
       "      <td>14.0</td>\n",
       "      <td>132.0</td>\n",
       "      <td>0.99400</td>\n",
       "      <td>3.30</td>\n",
       "      <td>0.49</td>\n",
       "      <td>9.5</td>\n",
       "      <td>1</td>\n",
       "    </tr>\n",
       "    <tr>\n",
       "      <th>2</th>\n",
       "      <td>8.1</td>\n",
       "      <td>0.28</td>\n",
       "      <td>0.40</td>\n",
       "      <td>6.9</td>\n",
       "      <td>0.050</td>\n",
       "      <td>30.0</td>\n",
       "      <td>97.0</td>\n",
       "      <td>0.99510</td>\n",
       "      <td>3.26</td>\n",
       "      <td>0.44</td>\n",
       "      <td>10.1</td>\n",
       "      <td>1</td>\n",
       "    </tr>\n",
       "    <tr>\n",
       "      <th>3</th>\n",
       "      <td>7.2</td>\n",
       "      <td>0.23</td>\n",
       "      <td>0.32</td>\n",
       "      <td>8.5</td>\n",
       "      <td>0.058</td>\n",
       "      <td>47.0</td>\n",
       "      <td>186.0</td>\n",
       "      <td>0.99560</td>\n",
       "      <td>3.19</td>\n",
       "      <td>0.40</td>\n",
       "      <td>9.9</td>\n",
       "      <td>1</td>\n",
       "    </tr>\n",
       "    <tr>\n",
       "      <th>4</th>\n",
       "      <td>7.2</td>\n",
       "      <td>0.23</td>\n",
       "      <td>0.32</td>\n",
       "      <td>8.5</td>\n",
       "      <td>0.058</td>\n",
       "      <td>47.0</td>\n",
       "      <td>186.0</td>\n",
       "      <td>0.99560</td>\n",
       "      <td>3.19</td>\n",
       "      <td>0.40</td>\n",
       "      <td>9.9</td>\n",
       "      <td>1</td>\n",
       "    </tr>\n",
       "    <tr>\n",
       "      <th>...</th>\n",
       "      <td>...</td>\n",
       "      <td>...</td>\n",
       "      <td>...</td>\n",
       "      <td>...</td>\n",
       "      <td>...</td>\n",
       "      <td>...</td>\n",
       "      <td>...</td>\n",
       "      <td>...</td>\n",
       "      <td>...</td>\n",
       "      <td>...</td>\n",
       "      <td>...</td>\n",
       "      <td>...</td>\n",
       "    </tr>\n",
       "    <tr>\n",
       "      <th>4893</th>\n",
       "      <td>6.2</td>\n",
       "      <td>0.21</td>\n",
       "      <td>0.29</td>\n",
       "      <td>1.6</td>\n",
       "      <td>0.039</td>\n",
       "      <td>24.0</td>\n",
       "      <td>92.0</td>\n",
       "      <td>0.99114</td>\n",
       "      <td>3.27</td>\n",
       "      <td>0.50</td>\n",
       "      <td>11.2</td>\n",
       "      <td>1</td>\n",
       "    </tr>\n",
       "    <tr>\n",
       "      <th>4894</th>\n",
       "      <td>6.6</td>\n",
       "      <td>0.32</td>\n",
       "      <td>0.36</td>\n",
       "      <td>8.0</td>\n",
       "      <td>0.047</td>\n",
       "      <td>57.0</td>\n",
       "      <td>168.0</td>\n",
       "      <td>0.99490</td>\n",
       "      <td>3.15</td>\n",
       "      <td>0.46</td>\n",
       "      <td>9.6</td>\n",
       "      <td>1</td>\n",
       "    </tr>\n",
       "    <tr>\n",
       "      <th>4895</th>\n",
       "      <td>6.5</td>\n",
       "      <td>0.24</td>\n",
       "      <td>0.19</td>\n",
       "      <td>1.2</td>\n",
       "      <td>0.041</td>\n",
       "      <td>30.0</td>\n",
       "      <td>111.0</td>\n",
       "      <td>0.99254</td>\n",
       "      <td>2.99</td>\n",
       "      <td>0.46</td>\n",
       "      <td>9.4</td>\n",
       "      <td>1</td>\n",
       "    </tr>\n",
       "    <tr>\n",
       "      <th>4896</th>\n",
       "      <td>5.5</td>\n",
       "      <td>0.29</td>\n",
       "      <td>0.30</td>\n",
       "      <td>1.1</td>\n",
       "      <td>0.022</td>\n",
       "      <td>20.0</td>\n",
       "      <td>110.0</td>\n",
       "      <td>0.98869</td>\n",
       "      <td>3.34</td>\n",
       "      <td>0.38</td>\n",
       "      <td>12.8</td>\n",
       "      <td>2</td>\n",
       "    </tr>\n",
       "    <tr>\n",
       "      <th>4897</th>\n",
       "      <td>6.0</td>\n",
       "      <td>0.21</td>\n",
       "      <td>0.38</td>\n",
       "      <td>0.8</td>\n",
       "      <td>0.020</td>\n",
       "      <td>22.0</td>\n",
       "      <td>98.0</td>\n",
       "      <td>0.98941</td>\n",
       "      <td>3.26</td>\n",
       "      <td>0.32</td>\n",
       "      <td>11.8</td>\n",
       "      <td>1</td>\n",
       "    </tr>\n",
       "  </tbody>\n",
       "</table>\n",
       "<p>4898 rows × 12 columns</p>\n",
       "</div>"
      ],
      "text/plain": [
       "      fixed acidity  volatile acidity  citric acid  residual sugar  chlorides  \\\n",
       "0               7.0              0.27         0.36            20.7      0.045   \n",
       "1               6.3              0.30         0.34             1.6      0.049   \n",
       "2               8.1              0.28         0.40             6.9      0.050   \n",
       "3               7.2              0.23         0.32             8.5      0.058   \n",
       "4               7.2              0.23         0.32             8.5      0.058   \n",
       "...             ...               ...          ...             ...        ...   \n",
       "4893            6.2              0.21         0.29             1.6      0.039   \n",
       "4894            6.6              0.32         0.36             8.0      0.047   \n",
       "4895            6.5              0.24         0.19             1.2      0.041   \n",
       "4896            5.5              0.29         0.30             1.1      0.022   \n",
       "4897            6.0              0.21         0.38             0.8      0.020   \n",
       "\n",
       "      free sulfur dioxide  total sulfur dioxide  density    pH  sulphates  \\\n",
       "0                    45.0                 170.0  1.00100  3.00       0.45   \n",
       "1                    14.0                 132.0  0.99400  3.30       0.49   \n",
       "2                    30.0                  97.0  0.99510  3.26       0.44   \n",
       "3                    47.0                 186.0  0.99560  3.19       0.40   \n",
       "4                    47.0                 186.0  0.99560  3.19       0.40   \n",
       "...                   ...                   ...      ...   ...        ...   \n",
       "4893                 24.0                  92.0  0.99114  3.27       0.50   \n",
       "4894                 57.0                 168.0  0.99490  3.15       0.46   \n",
       "4895                 30.0                 111.0  0.99254  2.99       0.46   \n",
       "4896                 20.0                 110.0  0.98869  3.34       0.38   \n",
       "4897                 22.0                  98.0  0.98941  3.26       0.32   \n",
       "\n",
       "      alcohol  quality  \n",
       "0         8.8        1  \n",
       "1         9.5        1  \n",
       "2        10.1        1  \n",
       "3         9.9        1  \n",
       "4         9.9        1  \n",
       "...       ...      ...  \n",
       "4893     11.2        1  \n",
       "4894      9.6        1  \n",
       "4895      9.4        1  \n",
       "4896     12.8        2  \n",
       "4897     11.8        1  \n",
       "\n",
       "[4898 rows x 12 columns]"
      ]
     },
     "execution_count": 2,
     "metadata": {},
     "output_type": "execute_result"
    }
   ],
   "source": [
    "df = pd.read_csv('winequality-preprocess.csv')\n",
    "df"
   ]
  },
  {
   "cell_type": "code",
   "execution_count": 3,
   "id": "58e5bbdd",
   "metadata": {
    "ExecuteTime": {
     "end_time": "2022-07-11T06:07:59.729292Z",
     "start_time": "2022-07-11T06:07:59.724609Z"
    }
   },
   "outputs": [],
   "source": [
    "#Indicate the target column\n",
    "target = df['quality']\n",
    "\n",
    "#Indicatethe columns that will serve as features.\n",
    "features = df.drop('quality', axis = 1)"
   ]
  },
  {
   "cell_type": "code",
   "execution_count": 4,
   "id": "0c1c2fd9",
   "metadata": {
    "ExecuteTime": {
     "end_time": "2022-07-11T06:07:59.734875Z",
     "start_time": "2022-07-11T06:07:59.730883Z"
    }
   },
   "outputs": [],
   "source": [
    "# Scaler feature\n",
    "cols = features.columns\n",
    "scaler = StandardScaler()\n",
    "features = scaler.fit_transform(features)"
   ]
  },
  {
   "cell_type": "code",
   "execution_count": 5,
   "id": "04910dbf",
   "metadata": {
    "ExecuteTime": {
     "end_time": "2022-07-11T06:07:59.740819Z",
     "start_time": "2022-07-11T06:07:59.735875Z"
    }
   },
   "outputs": [],
   "source": [
    "x_train, x_test, y_train, y_test = train_test_split(features, target, test_size = 0.2, random_state = 0)"
   ]
  },
  {
   "cell_type": "code",
   "execution_count": 6,
   "id": "f1df69c0",
   "metadata": {
    "ExecuteTime": {
     "end_time": "2022-07-11T06:07:59.743948Z",
     "start_time": "2022-07-11T06:07:59.741895Z"
    }
   },
   "outputs": [],
   "source": [
    "x_train_sc = pd.DataFrame(x_train, columns=cols)\n",
    "x_test_sc = pd.DataFrame(x_test, columns=cols)"
   ]
  },
  {
   "cell_type": "code",
   "execution_count": 7,
   "id": "9baacfea",
   "metadata": {
    "ExecuteTime": {
     "end_time": "2022-07-11T06:07:59.748554Z",
     "start_time": "2022-07-11T06:07:59.745072Z"
    }
   },
   "outputs": [],
   "source": [
    "# Train and Evaluate model performance\n",
    "def performance(estimators, x_train, x_test, y_train, y_test):\n",
    "\n",
    "    def validation(estimator, x_train, y_train, name = None, cv = 5):\n",
    "        estimator.fit(x_train, y_train)\n",
    "        #predict the target for the test dataset \n",
    "        test_predict = estimator.predict(x_test)\n",
    "\n",
    "        print(estimator.__class__)\n",
    "\n",
    "        scores = cross_val_score(estimator, x_train, y_train, cv =5, scoring = 'f1_weighted')\n",
    "        print(\"f1_weighted(validation) = \", scores.mean())\n",
    "    \n",
    "        #compute the model f1_weighted on the development set: How often is the classifier correct?\n",
    "        print(\"f1_weighted(test):{}\".format(metrics.f1_score(y_test, test_predict, average='weighted')))\n",
    "\n",
    "        #print confusion matrix\n",
    "        print(confusion_matrix(y_test, test_predict))\n",
    "\n",
    "        #print precision, recall and f1 \n",
    "        print(classification_report(y_test, test_predict))        \n",
    "    \n",
    "    # Print validation and test performance for all classifiers in the list.\n",
    "    for estimator in estimators:\n",
    "        \n",
    "        validation(estimators[estimator], x_train, y_train, name = estimator)   \n",
    "        \n",
    "        print()"
   ]
  },
  {
   "cell_type": "code",
   "execution_count": 8,
   "id": "2184f60b",
   "metadata": {
    "ExecuteTime": {
     "end_time": "2022-07-11T06:07:59.751702Z",
     "start_time": "2022-07-11T06:07:59.749509Z"
    }
   },
   "outputs": [],
   "source": [
    "# Define 3 different estimators\n",
    "estimators = {\n",
    "    \n",
    "    \"KNN\": KNeighborsClassifier(n_neighbors = 11, p = 1, weights='distance'),\n",
    "    \"Decision Tree\": DecisionTreeClassifier(criterion='entropy', random_state = 0),\n",
    "    \"SVM\": SVC(C=1, gamma=0.5, kernel = 'rbf')\n",
    "}"
   ]
  },
  {
   "cell_type": "code",
   "execution_count": 9,
   "id": "d412afdc",
   "metadata": {
    "ExecuteTime": {
     "end_time": "2022-07-11T06:07:59.759428Z",
     "start_time": "2022-07-11T06:07:59.752606Z"
    }
   },
   "outputs": [
    {
     "data": {
      "text/plain": [
       "Index(['fixed acidity', 'volatile acidity', 'citric acid', 'residual sugar',\n",
       "       'chlorides', 'free sulfur dioxide', 'total sulfur dioxide', 'density',\n",
       "       'pH', 'sulphates', 'alcohol'],\n",
       "      dtype='object')"
      ]
     },
     "execution_count": 9,
     "metadata": {},
     "output_type": "execute_result"
    }
   ],
   "source": [
    "# Case1: all features\n",
    "\n",
    "# configure to select all features\n",
    "selector = SelectKBest(score_func = f_classif, k = 'all')\n",
    "\n",
    "# learn relationship from training data\n",
    "selector.fit(x_train_sc, y_train)\n",
    "\n",
    "# transform train input data\n",
    "x_train_fs = selector.transform(x_train_sc)\n",
    "\n",
    "# transform test input data\n",
    "x_test_fs = selector.transform(x_test_sc)\n",
    "\n",
    "# Selected features \n",
    "selected = x_train_sc.columns[selector.get_support()]\n",
    "selected"
   ]
  },
  {
   "cell_type": "code",
   "execution_count": 10,
   "id": "f5061e47",
   "metadata": {
    "ExecuteTime": {
     "end_time": "2022-07-11T06:07:59.872565Z",
     "start_time": "2022-07-11T06:07:59.761680Z"
    }
   },
   "outputs": [
    {
     "name": "stdout",
     "output_type": "stream",
     "text": [
      "Feature 0: 15.804665\n",
      "Feature 1: 75.398201\n",
      "Feature 2: 7.722746\n",
      "Feature 3: 38.858196\n",
      "Feature 4: 69.915612\n",
      "Feature 5: 30.892913\n",
      "Feature 6: 56.460540\n",
      "Feature 7: 178.080086\n",
      "Feature 8: 16.858377\n",
      "Feature 9: 4.669541\n",
      "Feature 10: 349.409917\n"
     ]
    },
    {
     "data": {
      "image/png": "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\n",
      "text/plain": [
       "<Figure size 432x288 with 1 Axes>"
      ]
     },
     "metadata": {
      "needs_background": "light"
     },
     "output_type": "display_data"
    }
   ],
   "source": [
    "# what are scores for the features\n",
    "for i in range(len(selector.scores_)):\n",
    "    print('Feature %d: %f' % (i, selector.scores_[i]))\n",
    "    \n",
    "# plot the scores\n",
    "plt.bar([i for i in range(len(selector.scores_))], selector.scores_)\n",
    "plt.xlabel('Feature index')\n",
    "plt.ylabel('Feature importance score')\n",
    "plt.title('Feature importance score of all features')\n",
    "plt.show()"
   ]
  },
  {
   "cell_type": "code",
   "execution_count": 11,
   "id": "f760e0bb",
   "metadata": {
    "ExecuteTime": {
     "end_time": "2022-07-11T06:08:05.024773Z",
     "start_time": "2022-07-11T06:07:59.873670Z"
    }
   },
   "outputs": [
    {
     "name": "stdout",
     "output_type": "stream",
     "text": [
      "<class 'sklearn.neighbors._classification.KNeighborsClassifier'>\n",
      "f1_weighted(validation) =  0.8292807834702943\n",
      "f1_weighted(test):0.7779318549916966\n",
      "[[  4  55   1]\n",
      " [  0 653  51]\n",
      " [  0  86 130]]\n",
      "              precision    recall  f1-score   support\n",
      "\n",
      "           0       1.00      0.07      0.12        60\n",
      "           1       0.82      0.93      0.87       704\n",
      "           2       0.71      0.60      0.65       216\n",
      "\n",
      "    accuracy                           0.80       980\n",
      "   macro avg       0.85      0.53      0.55       980\n",
      "weighted avg       0.81      0.80      0.78       980\n",
      "\n",
      "\n",
      "<class 'sklearn.tree._classes.DecisionTreeClassifier'>\n",
      "f1_weighted(validation) =  0.7851414836759589\n",
      "f1_weighted(test):0.7403588313858527\n",
      "[[ 10  47   3]\n",
      " [ 19 603  82]\n",
      " [  0  93 123]]\n",
      "              precision    recall  f1-score   support\n",
      "\n",
      "           0       0.34      0.17      0.22        60\n",
      "           1       0.81      0.86      0.83       704\n",
      "           2       0.59      0.57      0.58       216\n",
      "\n",
      "    accuracy                           0.75       980\n",
      "   macro avg       0.58      0.53      0.55       980\n",
      "weighted avg       0.73      0.75      0.74       980\n",
      "\n",
      "\n",
      "<class 'sklearn.svm._classes.SVC'>\n",
      "f1_weighted(validation) =  0.7919818954975618\n",
      "f1_weighted(test):0.7469330871547311\n",
      "[[  2  58   0]\n",
      " [  0 672  32]\n",
      " [  0 121  95]]\n",
      "              precision    recall  f1-score   support\n",
      "\n",
      "           0       1.00      0.03      0.06        60\n",
      "           1       0.79      0.95      0.86       704\n",
      "           2       0.75      0.44      0.55       216\n",
      "\n",
      "    accuracy                           0.78       980\n",
      "   macro avg       0.85      0.48      0.49       980\n",
      "weighted avg       0.79      0.78      0.75       980\n",
      "\n",
      "\n"
     ]
    }
   ],
   "source": [
    "performance(estimators, x_train_fs, x_test_fs, y_train, y_test)"
   ]
  },
  {
   "cell_type": "code",
   "execution_count": 12,
   "id": "2312abc3",
   "metadata": {
    "ExecuteTime": {
     "end_time": "2022-07-11T06:08:05.032009Z",
     "start_time": "2022-07-11T06:08:05.026471Z"
    }
   },
   "outputs": [],
   "source": [
    "# Case2: 10 features\n",
    "\n",
    "# configure to select top 10 features\n",
    "selector = SelectKBest(score_func = f_classif, k = 10)\n",
    "\n",
    "# learn relationship from training data\n",
    "selector.fit(x_train_sc, y_train)\n",
    "\n",
    "# transform train input data\n",
    "x_train_fs = selector.transform(x_train_sc)\n",
    "\n",
    "# transform test input data\n",
    "x_test_fs = selector.transform(x_test_sc)"
   ]
  },
  {
   "cell_type": "code",
   "execution_count": 13,
   "id": "94f27646",
   "metadata": {
    "ExecuteTime": {
     "end_time": "2022-07-11T06:08:09.517305Z",
     "start_time": "2022-07-11T06:08:05.032944Z"
    }
   },
   "outputs": [
    {
     "name": "stdout",
     "output_type": "stream",
     "text": [
      "<class 'sklearn.neighbors._classification.KNeighborsClassifier'>\n",
      "f1_weighted(validation) =  0.8178130654477895\n",
      "f1_weighted(test):0.7770253262595361\n",
      "[[  4  53   3]\n",
      " [  0 648  56]\n",
      " [  0  83 133]]\n",
      "              precision    recall  f1-score   support\n",
      "\n",
      "           0       1.00      0.07      0.12        60\n",
      "           1       0.83      0.92      0.87       704\n",
      "           2       0.69      0.62      0.65       216\n",
      "\n",
      "    accuracy                           0.80       980\n",
      "   macro avg       0.84      0.53      0.55       980\n",
      "weighted avg       0.81      0.80      0.78       980\n",
      "\n",
      "\n",
      "<class 'sklearn.tree._classes.DecisionTreeClassifier'>\n",
      "f1_weighted(validation) =  0.7820159813423812\n",
      "f1_weighted(test):0.7628485527764625\n",
      "[[ 11  45   4]\n",
      " [ 15 619  70]\n",
      " [  1  86 129]]\n",
      "              precision    recall  f1-score   support\n",
      "\n",
      "           0       0.41      0.18      0.25        60\n",
      "           1       0.83      0.88      0.85       704\n",
      "           2       0.64      0.60      0.62       216\n",
      "\n",
      "    accuracy                           0.77       980\n",
      "   macro avg       0.62      0.55      0.57       980\n",
      "weighted avg       0.76      0.77      0.76       980\n",
      "\n",
      "\n",
      "<class 'sklearn.svm._classes.SVC'>\n",
      "f1_weighted(validation) =  0.7747367048909636\n",
      "f1_weighted(test):0.7492135677058626\n",
      "[[  3  57   0]\n",
      " [  0 672  32]\n",
      " [  0 121  95]]\n",
      "              precision    recall  f1-score   support\n",
      "\n",
      "           0       1.00      0.05      0.10        60\n",
      "           1       0.79      0.95      0.86       704\n",
      "           2       0.75      0.44      0.55       216\n",
      "\n",
      "    accuracy                           0.79       980\n",
      "   macro avg       0.85      0.48      0.50       980\n",
      "weighted avg       0.79      0.79      0.75       980\n",
      "\n",
      "\n"
     ]
    }
   ],
   "source": [
    "performance(estimators, x_train_fs, x_test_fs, y_train, y_test)"
   ]
  },
  {
   "cell_type": "code",
   "execution_count": 14,
   "id": "8a6b83c4",
   "metadata": {
    "ExecuteTime": {
     "end_time": "2022-07-11T06:08:09.524138Z",
     "start_time": "2022-07-11T06:08:09.518436Z"
    }
   },
   "outputs": [],
   "source": [
    "# Case3: 9 features\n",
    "\n",
    "# configure to select top 9 features\n",
    "selector = SelectKBest(score_func = f_classif, k = 9)\n",
    "\n",
    "# learn relationship from training data\n",
    "selector.fit(x_train_sc, y_train)\n",
    "\n",
    "# transform train input data\n",
    "x_train_fs = selector.transform(x_train_sc)\n",
    "\n",
    "# transform test input data\n",
    "x_test_fs = selector.transform(x_test_sc)"
   ]
  },
  {
   "cell_type": "code",
   "execution_count": 15,
   "id": "380bde18",
   "metadata": {
    "ExecuteTime": {
     "end_time": "2022-07-11T06:08:13.668375Z",
     "start_time": "2022-07-11T06:08:09.525236Z"
    }
   },
   "outputs": [
    {
     "name": "stdout",
     "output_type": "stream",
     "text": [
      "<class 'sklearn.neighbors._classification.KNeighborsClassifier'>\n",
      "f1_weighted(validation) =  0.8120424095220979\n",
      "f1_weighted(test):0.7875167912657012\n",
      "[[  6  53   1]\n",
      " [  0 664  40]\n",
      " [  0  90 126]]\n",
      "              precision    recall  f1-score   support\n",
      "\n",
      "           0       1.00      0.10      0.18        60\n",
      "           1       0.82      0.94      0.88       704\n",
      "           2       0.75      0.58      0.66       216\n",
      "\n",
      "    accuracy                           0.81       980\n",
      "   macro avg       0.86      0.54      0.57       980\n",
      "weighted avg       0.82      0.81      0.79       980\n",
      "\n",
      "\n",
      "<class 'sklearn.tree._classes.DecisionTreeClassifier'>\n",
      "f1_weighted(validation) =  0.7794515701745262\n",
      "f1_weighted(test):0.7466078467595161\n",
      "[[  9  46   5]\n",
      " [ 12 615  77]\n",
      " [  2  93 121]]\n",
      "              precision    recall  f1-score   support\n",
      "\n",
      "           0       0.39      0.15      0.22        60\n",
      "           1       0.82      0.87      0.84       704\n",
      "           2       0.60      0.56      0.58       216\n",
      "\n",
      "    accuracy                           0.76       980\n",
      "   macro avg       0.60      0.53      0.55       980\n",
      "weighted avg       0.74      0.76      0.75       980\n",
      "\n",
      "\n",
      "<class 'sklearn.svm._classes.SVC'>\n",
      "f1_weighted(validation) =  0.7669601913125317\n",
      "f1_weighted(test):0.7390282573978325\n",
      "[[  2  58   0]\n",
      " [  0 666  38]\n",
      " [  0 123  93]]\n",
      "              precision    recall  f1-score   support\n",
      "\n",
      "           0       1.00      0.03      0.06        60\n",
      "           1       0.79      0.95      0.86       704\n",
      "           2       0.71      0.43      0.54       216\n",
      "\n",
      "    accuracy                           0.78       980\n",
      "   macro avg       0.83      0.47      0.49       980\n",
      "weighted avg       0.78      0.78      0.74       980\n",
      "\n",
      "\n"
     ]
    }
   ],
   "source": [
    "performance(estimators, x_train_fs, x_test_fs, y_train, y_test)"
   ]
  },
  {
   "cell_type": "code",
   "execution_count": 16,
   "id": "3df87d5b",
   "metadata": {
    "ExecuteTime": {
     "end_time": "2022-07-11T06:08:13.675393Z",
     "start_time": "2022-07-11T06:08:13.670396Z"
    }
   },
   "outputs": [],
   "source": [
    "# Case4: 8 features\n",
    "\n",
    "# configure to select top 8 features\n",
    "selector = SelectKBest(score_func = f_classif, k = 8)\n",
    "\n",
    "# learn relationship from training data\n",
    "selector.fit(x_train_sc, y_train)\n",
    "\n",
    "# transform train input data\n",
    "x_train_fs = selector.transform(x_train_sc)\n",
    "\n",
    "# transform test input data\n",
    "x_test_fs = selector.transform(x_test_sc)"
   ]
  },
  {
   "cell_type": "code",
   "execution_count": 17,
   "id": "c6c712ea",
   "metadata": {
    "ExecuteTime": {
     "end_time": "2022-07-11T06:08:17.453560Z",
     "start_time": "2022-07-11T06:08:13.676257Z"
    }
   },
   "outputs": [
    {
     "name": "stdout",
     "output_type": "stream",
     "text": [
      "<class 'sklearn.neighbors._classification.KNeighborsClassifier'>\n",
      "f1_weighted(validation) =  0.8120411648840113\n",
      "f1_weighted(test):0.7661714620904024\n",
      "[[  5  55   0]\n",
      " [  0 648  56]\n",
      " [  0  94 122]]\n",
      "              precision    recall  f1-score   support\n",
      "\n",
      "           0       1.00      0.08      0.15        60\n",
      "           1       0.81      0.92      0.86       704\n",
      "           2       0.69      0.56      0.62       216\n",
      "\n",
      "    accuracy                           0.79       980\n",
      "   macro avg       0.83      0.52      0.55       980\n",
      "weighted avg       0.80      0.79      0.77       980\n",
      "\n",
      "\n",
      "<class 'sklearn.tree._classes.DecisionTreeClassifier'>\n",
      "f1_weighted(validation) =  0.7812242936227234\n",
      "f1_weighted(test):0.7552353793138713\n",
      "[[ 10  49   1]\n",
      " [ 12 622  70]\n",
      " [  2  92 122]]\n",
      "              precision    recall  f1-score   support\n",
      "\n",
      "           0       0.42      0.17      0.24        60\n",
      "           1       0.82      0.88      0.85       704\n",
      "           2       0.63      0.56      0.60       216\n",
      "\n",
      "    accuracy                           0.77       980\n",
      "   macro avg       0.62      0.54      0.56       980\n",
      "weighted avg       0.75      0.77      0.76       980\n",
      "\n",
      "\n",
      "<class 'sklearn.svm._classes.SVC'>\n",
      "f1_weighted(validation) =  0.7630610097229198\n",
      "f1_weighted(test):0.7240165972487429\n",
      "[[  1  59   0]\n",
      " [  0 667  37]\n",
      " [  0 133  83]]\n",
      "              precision    recall  f1-score   support\n",
      "\n",
      "           0       1.00      0.02      0.03        60\n",
      "           1       0.78      0.95      0.85       704\n",
      "           2       0.69      0.38      0.49       216\n",
      "\n",
      "    accuracy                           0.77       980\n",
      "   macro avg       0.82      0.45      0.46       980\n",
      "weighted avg       0.77      0.77      0.72       980\n",
      "\n",
      "\n"
     ]
    }
   ],
   "source": [
    "performance(estimators, x_train_fs, x_test_fs, y_train, y_test)"
   ]
  },
  {
   "cell_type": "code",
   "execution_count": 18,
   "id": "4d0fb29d",
   "metadata": {
    "ExecuteTime": {
     "end_time": "2022-07-11T06:08:17.459226Z",
     "start_time": "2022-07-11T06:08:17.454523Z"
    }
   },
   "outputs": [],
   "source": [
    "# Case5: 7 features\n",
    "\n",
    "# configure to select top 7 features\n",
    "selector = SelectKBest(score_func = f_classif, k = 7)\n",
    "\n",
    "# learn relationship from training data\n",
    "selector.fit(x_train_sc, y_train)\n",
    "\n",
    "# transform train input data\n",
    "x_train_fs = selector.transform(x_train_sc)\n",
    "\n",
    "# transform test input data\n",
    "x_test_fs = selector.transform(x_test_sc)"
   ]
  },
  {
   "cell_type": "code",
   "execution_count": 19,
   "id": "c5a61b8e",
   "metadata": {
    "ExecuteTime": {
     "end_time": "2022-07-11T06:08:20.963771Z",
     "start_time": "2022-07-11T06:08:17.460100Z"
    }
   },
   "outputs": [
    {
     "name": "stdout",
     "output_type": "stream",
     "text": [
      "<class 'sklearn.neighbors._classification.KNeighborsClassifier'>\n",
      "f1_weighted(validation) =  0.8084173962898928\n",
      "f1_weighted(test):0.7706002420330352\n",
      "[[  4  55   1]\n",
      " [  0 658  46]\n",
      " [  0  96 120]]\n",
      "              precision    recall  f1-score   support\n",
      "\n",
      "           0       1.00      0.07      0.12        60\n",
      "           1       0.81      0.93      0.87       704\n",
      "           2       0.72      0.56      0.63       216\n",
      "\n",
      "    accuracy                           0.80       980\n",
      "   macro avg       0.84      0.52      0.54       980\n",
      "weighted avg       0.80      0.80      0.77       980\n",
      "\n",
      "\n",
      "<class 'sklearn.tree._classes.DecisionTreeClassifier'>\n",
      "f1_weighted(validation) =  0.7730666891205944\n",
      "f1_weighted(test):0.7533287849057047\n",
      "[[  6  52   2]\n",
      " [ 17 617  70]\n",
      " [  3  84 129]]\n",
      "              precision    recall  f1-score   support\n",
      "\n",
      "           0       0.23      0.10      0.14        60\n",
      "           1       0.82      0.88      0.85       704\n",
      "           2       0.64      0.60      0.62       216\n",
      "\n",
      "    accuracy                           0.77       980\n",
      "   macro avg       0.56      0.52      0.54       980\n",
      "weighted avg       0.74      0.77      0.75       980\n",
      "\n",
      "\n",
      "<class 'sklearn.svm._classes.SVC'>\n",
      "f1_weighted(validation) =  0.7554615489437293\n",
      "f1_weighted(test):0.7072155123623781\n",
      "[[  1  59   0]\n",
      " [  0 678  26]\n",
      " [  0 151  65]]\n",
      "              precision    recall  f1-score   support\n",
      "\n",
      "           0       1.00      0.02      0.03        60\n",
      "           1       0.76      0.96      0.85       704\n",
      "           2       0.71      0.30      0.42       216\n",
      "\n",
      "    accuracy                           0.76       980\n",
      "   macro avg       0.83      0.43      0.44       980\n",
      "weighted avg       0.77      0.76      0.71       980\n",
      "\n",
      "\n"
     ]
    }
   ],
   "source": [
    "performance(estimators, x_train_fs, x_test_fs, y_train, y_test)"
   ]
  },
  {
   "cell_type": "code",
   "execution_count": 20,
   "id": "e0474b8e",
   "metadata": {
    "ExecuteTime": {
     "end_time": "2022-07-11T06:08:20.969302Z",
     "start_time": "2022-07-11T06:08:20.964657Z"
    }
   },
   "outputs": [],
   "source": [
    "# Case6: 6 features\n",
    "\n",
    "# configure to select top 6 features\n",
    "selector = SelectKBest(score_func = f_classif, k = 6)\n",
    "\n",
    "# learn relationship from training data\n",
    "selector.fit(x_train_sc, y_train)\n",
    "\n",
    "# transform train input data\n",
    "x_train_fs = selector.transform(x_train_sc)\n",
    "\n",
    "# transform test input data\n",
    "x_test_fs = selector.transform(x_test_sc)"
   ]
  },
  {
   "cell_type": "code",
   "execution_count": 21,
   "id": "f9207538",
   "metadata": {
    "ExecuteTime": {
     "end_time": "2022-07-11T06:08:24.444778Z",
     "start_time": "2022-07-11T06:08:20.970140Z"
    }
   },
   "outputs": [
    {
     "name": "stdout",
     "output_type": "stream",
     "text": [
      "<class 'sklearn.neighbors._classification.KNeighborsClassifier'>\n",
      "f1_weighted(validation) =  0.8129383850856728\n",
      "f1_weighted(test):0.7694114171562799\n",
      "[[  3  53   4]\n",
      " [  0 651  53]\n",
      " [  0  90 126]]\n",
      "              precision    recall  f1-score   support\n",
      "\n",
      "           0       1.00      0.05      0.10        60\n",
      "           1       0.82      0.92      0.87       704\n",
      "           2       0.69      0.58      0.63       216\n",
      "\n",
      "    accuracy                           0.80       980\n",
      "   macro avg       0.84      0.52      0.53       980\n",
      "weighted avg       0.80      0.80      0.77       980\n",
      "\n",
      "\n",
      "<class 'sklearn.tree._classes.DecisionTreeClassifier'>\n",
      "f1_weighted(validation) =  0.777662688564685\n",
      "f1_weighted(test):0.7496604415228085\n",
      "[[ 12  41   7]\n",
      " [ 16 609  79]\n",
      " [  3  90 123]]\n",
      "              precision    recall  f1-score   support\n",
      "\n",
      "           0       0.39      0.20      0.26        60\n",
      "           1       0.82      0.87      0.84       704\n",
      "           2       0.59      0.57      0.58       216\n",
      "\n",
      "    accuracy                           0.76       980\n",
      "   macro avg       0.60      0.54      0.56       980\n",
      "weighted avg       0.74      0.76      0.75       980\n",
      "\n",
      "\n",
      "<class 'sklearn.svm._classes.SVC'>\n",
      "f1_weighted(validation) =  0.7548365588223518\n",
      "f1_weighted(test):0.7047087304470776\n",
      "[[  1  58   1]\n",
      " [  0 673  31]\n",
      " [  0 150  66]]\n",
      "              precision    recall  f1-score   support\n",
      "\n",
      "           0       1.00      0.02      0.03        60\n",
      "           1       0.76      0.96      0.85       704\n",
      "           2       0.67      0.31      0.42       216\n",
      "\n",
      "    accuracy                           0.76       980\n",
      "   macro avg       0.81      0.43      0.43       980\n",
      "weighted avg       0.76      0.76      0.70       980\n",
      "\n",
      "\n"
     ]
    }
   ],
   "source": [
    "performance(estimators, x_train_fs, x_test_fs, y_train, y_test)"
   ]
  },
  {
   "cell_type": "code",
   "execution_count": 22,
   "id": "2a8aab63",
   "metadata": {
    "ExecuteTime": {
     "end_time": "2022-07-11T06:08:24.450435Z",
     "start_time": "2022-07-11T06:08:24.445660Z"
    }
   },
   "outputs": [],
   "source": [
    "# Case7: 5 features\n",
    "\n",
    "# configure to select top 5 features\n",
    "selector = SelectKBest(score_func = f_classif, k = 5)\n",
    "\n",
    "# learn relationship from training data\n",
    "selector.fit(x_train_sc, y_train)\n",
    "\n",
    "# transform train input data\n",
    "x_train_fs = selector.transform(x_train_sc)\n",
    "\n",
    "# transform test input data\n",
    "x_test_fs = selector.transform(x_test_sc)"
   ]
  },
  {
   "cell_type": "code",
   "execution_count": 23,
   "id": "a2e723ee",
   "metadata": {
    "ExecuteTime": {
     "end_time": "2022-07-11T06:08:27.874605Z",
     "start_time": "2022-07-11T06:08:24.451248Z"
    }
   },
   "outputs": [
    {
     "name": "stdout",
     "output_type": "stream",
     "text": [
      "<class 'sklearn.neighbors._classification.KNeighborsClassifier'>\n",
      "f1_weighted(validation) =  0.8045454959346101\n",
      "f1_weighted(test):0.7616662244905236\n",
      "[[  3  54   3]\n",
      " [  0 645  59]\n",
      " [  0  92 124]]\n",
      "              precision    recall  f1-score   support\n",
      "\n",
      "           0       1.00      0.05      0.10        60\n",
      "           1       0.82      0.92      0.86       704\n",
      "           2       0.67      0.57      0.62       216\n",
      "\n",
      "    accuracy                           0.79       980\n",
      "   macro avg       0.83      0.51      0.53       980\n",
      "weighted avg       0.79      0.79      0.76       980\n",
      "\n",
      "\n",
      "<class 'sklearn.tree._classes.DecisionTreeClassifier'>\n",
      "f1_weighted(validation) =  0.7664290362469712\n",
      "f1_weighted(test):0.73207503017589\n",
      "[[ 10  44   6]\n",
      " [ 20 596  88]\n",
      " [  3  93 120]]\n",
      "              precision    recall  f1-score   support\n",
      "\n",
      "           0       0.30      0.17      0.22        60\n",
      "           1       0.81      0.85      0.83       704\n",
      "           2       0.56      0.56      0.56       216\n",
      "\n",
      "    accuracy                           0.74       980\n",
      "   macro avg       0.56      0.52      0.53       980\n",
      "weighted avg       0.73      0.74      0.73       980\n",
      "\n",
      "\n",
      "<class 'sklearn.svm._classes.SVC'>\n",
      "f1_weighted(validation) =  0.7371464596115552\n",
      "f1_weighted(test):0.6961928845896512\n",
      "[[  0  59   1]\n",
      " [  0 671  33]\n",
      " [  0 153  63]]\n",
      "              precision    recall  f1-score   support\n",
      "\n",
      "           0       0.00      0.00      0.00        60\n",
      "           1       0.76      0.95      0.85       704\n",
      "           2       0.65      0.29      0.40       216\n",
      "\n",
      "    accuracy                           0.75       980\n",
      "   macro avg       0.47      0.41      0.42       980\n",
      "weighted avg       0.69      0.75      0.70       980\n",
      "\n",
      "\n"
     ]
    },
    {
     "name": "stderr",
     "output_type": "stream",
     "text": [
      "/Users/maru/opt/anaconda3/lib/python3.9/site-packages/sklearn/metrics/_classification.py:1318: UndefinedMetricWarning: Precision and F-score are ill-defined and being set to 0.0 in labels with no predicted samples. Use `zero_division` parameter to control this behavior.\n",
      "  _warn_prf(average, modifier, msg_start, len(result))\n",
      "/Users/maru/opt/anaconda3/lib/python3.9/site-packages/sklearn/metrics/_classification.py:1318: UndefinedMetricWarning: Precision and F-score are ill-defined and being set to 0.0 in labels with no predicted samples. Use `zero_division` parameter to control this behavior.\n",
      "  _warn_prf(average, modifier, msg_start, len(result))\n",
      "/Users/maru/opt/anaconda3/lib/python3.9/site-packages/sklearn/metrics/_classification.py:1318: UndefinedMetricWarning: Precision and F-score are ill-defined and being set to 0.0 in labels with no predicted samples. Use `zero_division` parameter to control this behavior.\n",
      "  _warn_prf(average, modifier, msg_start, len(result))\n"
     ]
    }
   ],
   "source": [
    "performance(estimators, x_train_fs, x_test_fs, y_train, y_test)"
   ]
  },
  {
   "cell_type": "code",
   "execution_count": 24,
   "id": "193d7163",
   "metadata": {
    "ExecuteTime": {
     "end_time": "2022-07-11T06:08:27.934435Z",
     "start_time": "2022-07-11T06:08:27.875597Z"
    }
   },
   "outputs": [
    {
     "data": {
      "text/html": [
       "<div>\n",
       "<style scoped>\n",
       "    .dataframe tbody tr th:only-of-type {\n",
       "        vertical-align: middle;\n",
       "    }\n",
       "\n",
       "    .dataframe tbody tr th {\n",
       "        vertical-align: top;\n",
       "    }\n",
       "\n",
       "    .dataframe thead th {\n",
       "        text-align: right;\n",
       "    }\n",
       "</style>\n",
       "<table border=\"1\" class=\"dataframe\">\n",
       "  <thead>\n",
       "    <tr style=\"text-align: right;\">\n",
       "      <th></th>\n",
       "      <th>fixed acidity</th>\n",
       "      <th>volatile acidity</th>\n",
       "      <th>citric acid</th>\n",
       "      <th>residual sugar</th>\n",
       "      <th>chlorides</th>\n",
       "      <th>free sulfur dioxide</th>\n",
       "      <th>total sulfur dioxide</th>\n",
       "      <th>density</th>\n",
       "      <th>pH</th>\n",
       "      <th>sulphates</th>\n",
       "      <th>alcohol</th>\n",
       "      <th>quality</th>\n",
       "    </tr>\n",
       "  </thead>\n",
       "  <tbody>\n",
       "    <tr>\n",
       "      <th>fixed acidity</th>\n",
       "      <td>1.000000</td>\n",
       "      <td>-0.020250</td>\n",
       "      <td>0.206467</td>\n",
       "      <td>0.079796</td>\n",
       "      <td>0.060320</td>\n",
       "      <td>-0.016052</td>\n",
       "      <td>0.083890</td>\n",
       "      <td>0.186285</td>\n",
       "      <td>-0.288337</td>\n",
       "      <td>-0.007879</td>\n",
       "      <td>-0.072622</td>\n",
       "      <td>0.016569</td>\n",
       "    </tr>\n",
       "    <tr>\n",
       "      <th>volatile acidity</th>\n",
       "      <td>-0.020250</td>\n",
       "      <td>1.000000</td>\n",
       "      <td>-0.093485</td>\n",
       "      <td>0.068410</td>\n",
       "      <td>0.003764</td>\n",
       "      <td>-0.062351</td>\n",
       "      <td>0.083153</td>\n",
       "      <td>0.011185</td>\n",
       "      <td>-0.033679</td>\n",
       "      <td>-0.009862</td>\n",
       "      <td>0.014401</td>\n",
       "      <td>-0.028143</td>\n",
       "    </tr>\n",
       "    <tr>\n",
       "      <th>citric acid</th>\n",
       "      <td>0.206467</td>\n",
       "      <td>-0.093485</td>\n",
       "      <td>1.000000</td>\n",
       "      <td>0.017878</td>\n",
       "      <td>0.023150</td>\n",
       "      <td>0.059182</td>\n",
       "      <td>0.065634</td>\n",
       "      <td>0.061105</td>\n",
       "      <td>-0.091389</td>\n",
       "      <td>0.057199</td>\n",
       "      <td>-0.017124</td>\n",
       "      <td>0.009419</td>\n",
       "    </tr>\n",
       "    <tr>\n",
       "      <th>residual sugar</th>\n",
       "      <td>0.079796</td>\n",
       "      <td>0.068410</td>\n",
       "      <td>0.017878</td>\n",
       "      <td>1.000000</td>\n",
       "      <td>0.161077</td>\n",
       "      <td>0.238679</td>\n",
       "      <td>0.295612</td>\n",
       "      <td>0.591933</td>\n",
       "      <td>-0.124755</td>\n",
       "      <td>-0.003306</td>\n",
       "      <td>-0.310225</td>\n",
       "      <td>-0.006806</td>\n",
       "    </tr>\n",
       "    <tr>\n",
       "      <th>chlorides</th>\n",
       "      <td>0.060320</td>\n",
       "      <td>0.003764</td>\n",
       "      <td>0.023150</td>\n",
       "      <td>0.161077</td>\n",
       "      <td>1.000000</td>\n",
       "      <td>0.119016</td>\n",
       "      <td>0.258019</td>\n",
       "      <td>0.352271</td>\n",
       "      <td>-0.036938</td>\n",
       "      <td>0.066980</td>\n",
       "      <td>-0.407274</td>\n",
       "      <td>-0.019259</td>\n",
       "    </tr>\n",
       "    <tr>\n",
       "      <th>free sulfur dioxide</th>\n",
       "      <td>-0.016052</td>\n",
       "      <td>-0.062351</td>\n",
       "      <td>0.059182</td>\n",
       "      <td>0.238679</td>\n",
       "      <td>0.119016</td>\n",
       "      <td>1.000000</td>\n",
       "      <td>0.444692</td>\n",
       "      <td>0.220797</td>\n",
       "      <td>-0.004567</td>\n",
       "      <td>0.042462</td>\n",
       "      <td>-0.187698</td>\n",
       "      <td>0.000103</td>\n",
       "    </tr>\n",
       "    <tr>\n",
       "      <th>total sulfur dioxide</th>\n",
       "      <td>0.083890</td>\n",
       "      <td>0.083153</td>\n",
       "      <td>0.065634</td>\n",
       "      <td>0.295612</td>\n",
       "      <td>0.258019</td>\n",
       "      <td>0.444692</td>\n",
       "      <td>1.000000</td>\n",
       "      <td>0.389791</td>\n",
       "      <td>-0.011817</td>\n",
       "      <td>0.114015</td>\n",
       "      <td>-0.328566</td>\n",
       "      <td>-0.021316</td>\n",
       "    </tr>\n",
       "    <tr>\n",
       "      <th>density</th>\n",
       "      <td>0.186285</td>\n",
       "      <td>0.011185</td>\n",
       "      <td>0.061105</td>\n",
       "      <td>0.591933</td>\n",
       "      <td>0.352271</td>\n",
       "      <td>0.220797</td>\n",
       "      <td>0.389791</td>\n",
       "      <td>1.000000</td>\n",
       "      <td>-0.074406</td>\n",
       "      <td>0.064373</td>\n",
       "      <td>-0.637385</td>\n",
       "      <td>-0.019028</td>\n",
       "    </tr>\n",
       "    <tr>\n",
       "      <th>pH</th>\n",
       "      <td>-0.288337</td>\n",
       "      <td>-0.033679</td>\n",
       "      <td>-0.091389</td>\n",
       "      <td>-0.124755</td>\n",
       "      <td>-0.036938</td>\n",
       "      <td>-0.004567</td>\n",
       "      <td>-0.011817</td>\n",
       "      <td>-0.074406</td>\n",
       "      <td>1.000000</td>\n",
       "      <td>0.094817</td>\n",
       "      <td>0.101964</td>\n",
       "      <td>0.016363</td>\n",
       "    </tr>\n",
       "    <tr>\n",
       "      <th>sulphates</th>\n",
       "      <td>-0.007879</td>\n",
       "      <td>-0.009862</td>\n",
       "      <td>0.057199</td>\n",
       "      <td>-0.003306</td>\n",
       "      <td>0.066980</td>\n",
       "      <td>0.042462</td>\n",
       "      <td>0.114015</td>\n",
       "      <td>0.064373</td>\n",
       "      <td>0.094817</td>\n",
       "      <td>1.000000</td>\n",
       "      <td>-0.026122</td>\n",
       "      <td>-0.027859</td>\n",
       "    </tr>\n",
       "    <tr>\n",
       "      <th>alcohol</th>\n",
       "      <td>-0.072622</td>\n",
       "      <td>0.014401</td>\n",
       "      <td>-0.017124</td>\n",
       "      <td>-0.310225</td>\n",
       "      <td>-0.407274</td>\n",
       "      <td>-0.187698</td>\n",
       "      <td>-0.328566</td>\n",
       "      <td>-0.637385</td>\n",
       "      <td>0.101964</td>\n",
       "      <td>-0.026122</td>\n",
       "      <td>1.000000</td>\n",
       "      <td>0.023282</td>\n",
       "    </tr>\n",
       "    <tr>\n",
       "      <th>quality</th>\n",
       "      <td>0.016569</td>\n",
       "      <td>-0.028143</td>\n",
       "      <td>0.009419</td>\n",
       "      <td>-0.006806</td>\n",
       "      <td>-0.019259</td>\n",
       "      <td>0.000103</td>\n",
       "      <td>-0.021316</td>\n",
       "      <td>-0.019028</td>\n",
       "      <td>0.016363</td>\n",
       "      <td>-0.027859</td>\n",
       "      <td>0.023282</td>\n",
       "      <td>1.000000</td>\n",
       "    </tr>\n",
       "  </tbody>\n",
       "</table>\n",
       "</div>"
      ],
      "text/plain": [
       "                      fixed acidity  volatile acidity  citric acid  \\\n",
       "fixed acidity              1.000000         -0.020250     0.206467   \n",
       "volatile acidity          -0.020250          1.000000    -0.093485   \n",
       "citric acid                0.206467         -0.093485     1.000000   \n",
       "residual sugar             0.079796          0.068410     0.017878   \n",
       "chlorides                  0.060320          0.003764     0.023150   \n",
       "free sulfur dioxide       -0.016052         -0.062351     0.059182   \n",
       "total sulfur dioxide       0.083890          0.083153     0.065634   \n",
       "density                    0.186285          0.011185     0.061105   \n",
       "pH                        -0.288337         -0.033679    -0.091389   \n",
       "sulphates                 -0.007879         -0.009862     0.057199   \n",
       "alcohol                   -0.072622          0.014401    -0.017124   \n",
       "quality                    0.016569         -0.028143     0.009419   \n",
       "\n",
       "                      residual sugar  chlorides  free sulfur dioxide  \\\n",
       "fixed acidity               0.079796   0.060320            -0.016052   \n",
       "volatile acidity            0.068410   0.003764            -0.062351   \n",
       "citric acid                 0.017878   0.023150             0.059182   \n",
       "residual sugar              1.000000   0.161077             0.238679   \n",
       "chlorides                   0.161077   1.000000             0.119016   \n",
       "free sulfur dioxide         0.238679   0.119016             1.000000   \n",
       "total sulfur dioxide        0.295612   0.258019             0.444692   \n",
       "density                     0.591933   0.352271             0.220797   \n",
       "pH                         -0.124755  -0.036938            -0.004567   \n",
       "sulphates                  -0.003306   0.066980             0.042462   \n",
       "alcohol                    -0.310225  -0.407274            -0.187698   \n",
       "quality                    -0.006806  -0.019259             0.000103   \n",
       "\n",
       "                      total sulfur dioxide   density        pH  sulphates  \\\n",
       "fixed acidity                     0.083890  0.186285 -0.288337  -0.007879   \n",
       "volatile acidity                  0.083153  0.011185 -0.033679  -0.009862   \n",
       "citric acid                       0.065634  0.061105 -0.091389   0.057199   \n",
       "residual sugar                    0.295612  0.591933 -0.124755  -0.003306   \n",
       "chlorides                         0.258019  0.352271 -0.036938   0.066980   \n",
       "free sulfur dioxide               0.444692  0.220797 -0.004567   0.042462   \n",
       "total sulfur dioxide              1.000000  0.389791 -0.011817   0.114015   \n",
       "density                           0.389791  1.000000 -0.074406   0.064373   \n",
       "pH                               -0.011817 -0.074406  1.000000   0.094817   \n",
       "sulphates                         0.114015  0.064373  0.094817   1.000000   \n",
       "alcohol                          -0.328566 -0.637385  0.101964  -0.026122   \n",
       "quality                          -0.021316 -0.019028  0.016363  -0.027859   \n",
       "\n",
       "                       alcohol   quality  \n",
       "fixed acidity        -0.072622  0.016569  \n",
       "volatile acidity      0.014401 -0.028143  \n",
       "citric acid          -0.017124  0.009419  \n",
       "residual sugar       -0.310225 -0.006806  \n",
       "chlorides            -0.407274 -0.019259  \n",
       "free sulfur dioxide  -0.187698  0.000103  \n",
       "total sulfur dioxide -0.328566 -0.021316  \n",
       "density              -0.637385 -0.019028  \n",
       "pH                    0.101964  0.016363  \n",
       "sulphates            -0.026122 -0.027859  \n",
       "alcohol               1.000000  0.023282  \n",
       "quality               0.023282  1.000000  "
      ]
     },
     "execution_count": 24,
     "metadata": {},
     "output_type": "execute_result"
    }
   ],
   "source": [
    "# Generate correlation matrix\n",
    "x = pd.concat([x_train_sc, y_train], axis = 1)\n",
    "\n",
    "cor = x.corr(method = 'kendall')\n",
    "\n",
    "# Print correlation matrix\n",
    "cor"
   ]
  },
  {
   "cell_type": "code",
   "execution_count": 25,
   "id": "1291415a",
   "metadata": {
    "ExecuteTime": {
     "end_time": "2022-07-11T06:08:28.354509Z",
     "start_time": "2022-07-11T06:08:27.935795Z"
    }
   },
   "outputs": [
    {
     "data": {
      "text/plain": [
       "<AxesSubplot:>"
      ]
     },
     "execution_count": 25,
     "metadata": {},
     "output_type": "execute_result"
    },
    {
     "data": {
      "image/png": "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\n",
      "text/plain": [
       "<Figure size 864x720 with 2 Axes>"
      ]
     },
     "metadata": {
      "needs_background": "light"
     },
     "output_type": "display_data"
    }
   ],
   "source": [
    "# Generating the correlation heatmap\n",
    "# The heatmap is just a visualization of the correlation matrix \n",
    "\n",
    "# Set plot size\n",
    "plt.figure(figsize=(12,10))\n",
    "\n",
    "# Generate the heatmap\n",
    "sns.heatmap(\n",
    "    cor,\n",
    "    vmin = -1, \n",
    "    vmax = 1, \n",
    "    center = 0,\n",
    "    cmap = sns.diverging_palette(20, 220, n=200), \n",
    "    square = True,\n",
    "    annot = True\n",
    ")"
   ]
  },
  {
   "cell_type": "code",
   "execution_count": 26,
   "id": "65e6d5af",
   "metadata": {
    "ExecuteTime": {
     "end_time": "2022-07-11T06:08:28.358069Z",
     "start_time": "2022-07-11T06:08:28.355425Z"
    }
   },
   "outputs": [],
   "source": [
    "# get the list of features which has correlation to the target column above a specified threshold value.\n",
    "def corr_features(x_train, col_target, threshold):\n",
    "   \n",
    "    # Correlation with target\n",
    "    # Apply abs() to get the absolute value so no need to deal with negative correlations\n",
    "    cor_target = abs(cor[col_target])\n",
    "    \n",
    "    # Select highly correlated features, with threshold\n",
    "    relevant_features = cor_target[cor_target > threshold]\n",
    "    \n",
    "    # Get names of the features which are highly correlated to the target. \n",
    "    cols = [col for col in relevant_features.index if col.lower() != col_target.lower()]\n",
    "    \n",
    "    return cols"
   ]
  },
  {
   "cell_type": "code",
   "execution_count": 27,
   "id": "acb97a27",
   "metadata": {
    "ExecuteTime": {
     "end_time": "2022-07-11T06:08:28.368020Z",
     "start_time": "2022-07-11T06:08:28.359049Z"
    }
   },
   "outputs": [
    {
     "data": {
      "text/html": [
       "<div>\n",
       "<style scoped>\n",
       "    .dataframe tbody tr th:only-of-type {\n",
       "        vertical-align: middle;\n",
       "    }\n",
       "\n",
       "    .dataframe tbody tr th {\n",
       "        vertical-align: top;\n",
       "    }\n",
       "\n",
       "    .dataframe thead th {\n",
       "        text-align: right;\n",
       "    }\n",
       "</style>\n",
       "<table border=\"1\" class=\"dataframe\">\n",
       "  <thead>\n",
       "    <tr style=\"text-align: right;\">\n",
       "      <th></th>\n",
       "      <th>fixed acidity</th>\n",
       "      <th>volatile acidity</th>\n",
       "      <th>citric acid</th>\n",
       "      <th>residual sugar</th>\n",
       "      <th>chlorides</th>\n",
       "      <th>free sulfur dioxide</th>\n",
       "      <th>total sulfur dioxide</th>\n",
       "      <th>density</th>\n",
       "      <th>pH</th>\n",
       "      <th>sulphates</th>\n",
       "      <th>alcohol</th>\n",
       "    </tr>\n",
       "  </thead>\n",
       "  <tbody>\n",
       "    <tr>\n",
       "      <th>0</th>\n",
       "      <td>0.409125</td>\n",
       "      <td>-0.180992</td>\n",
       "      <td>-0.117278</td>\n",
       "      <td>0.790408</td>\n",
       "      <td>0.742829</td>\n",
       "      <td>-0.723775</td>\n",
       "      <td>-0.573277</td>\n",
       "      <td>0.860236</td>\n",
       "      <td>0.276407</td>\n",
       "      <td>0.001342</td>\n",
       "      <td>-0.011595</td>\n",
       "    </tr>\n",
       "    <tr>\n",
       "      <th>1</th>\n",
       "      <td>-1.724127</td>\n",
       "      <td>0.116674</td>\n",
       "      <td>0.378559</td>\n",
       "      <td>-1.023637</td>\n",
       "      <td>-0.767763</td>\n",
       "      <td>-0.253336</td>\n",
       "      <td>-0.149685</td>\n",
       "      <td>-1.697778</td>\n",
       "      <td>0.607565</td>\n",
       "      <td>-1.137868</td>\n",
       "      <td>1.532500</td>\n",
       "    </tr>\n",
       "    <tr>\n",
       "      <th>2</th>\n",
       "      <td>-0.420473</td>\n",
       "      <td>1.803445</td>\n",
       "      <td>-0.199917</td>\n",
       "      <td>-0.274357</td>\n",
       "      <td>-0.859314</td>\n",
       "      <td>-1.194214</td>\n",
       "      <td>-1.561658</td>\n",
       "      <td>-0.794949</td>\n",
       "      <td>0.475102</td>\n",
       "      <td>0.965289</td>\n",
       "      <td>0.801087</td>\n",
       "    </tr>\n",
       "    <tr>\n",
       "      <th>3</th>\n",
       "      <td>-0.183445</td>\n",
       "      <td>0.612783</td>\n",
       "      <td>-0.282557</td>\n",
       "      <td>1.815737</td>\n",
       "      <td>0.376625</td>\n",
       "      <td>0.922761</td>\n",
       "      <td>1.356420</td>\n",
       "      <td>1.395246</td>\n",
       "      <td>0.011480</td>\n",
       "      <td>0.001342</td>\n",
       "      <td>-0.986812</td>\n",
       "    </tr>\n",
       "    <tr>\n",
       "      <th>4</th>\n",
       "      <td>-0.894529</td>\n",
       "      <td>-1.173210</td>\n",
       "      <td>-0.530476</td>\n",
       "      <td>1.224201</td>\n",
       "      <td>0.834380</td>\n",
       "      <td>1.628419</td>\n",
       "      <td>0.556302</td>\n",
       "      <td>1.796503</td>\n",
       "      <td>3.124369</td>\n",
       "      <td>-0.524447</td>\n",
       "      <td>-1.311884</td>\n",
       "    </tr>\n",
       "  </tbody>\n",
       "</table>\n",
       "</div>"
      ],
      "text/plain": [
       "   fixed acidity  volatile acidity  citric acid  residual sugar  chlorides  \\\n",
       "0       0.409125         -0.180992    -0.117278        0.790408   0.742829   \n",
       "1      -1.724127          0.116674     0.378559       -1.023637  -0.767763   \n",
       "2      -0.420473          1.803445    -0.199917       -0.274357  -0.859314   \n",
       "3      -0.183445          0.612783    -0.282557        1.815737   0.376625   \n",
       "4      -0.894529         -1.173210    -0.530476        1.224201   0.834380   \n",
       "\n",
       "   free sulfur dioxide  total sulfur dioxide   density        pH  sulphates  \\\n",
       "0            -0.723775             -0.573277  0.860236  0.276407   0.001342   \n",
       "1            -0.253336             -0.149685 -1.697778  0.607565  -1.137868   \n",
       "2            -1.194214             -1.561658 -0.794949  0.475102   0.965289   \n",
       "3             0.922761              1.356420  1.395246  0.011480   0.001342   \n",
       "4             1.628419              0.556302  1.796503  3.124369  -0.524447   \n",
       "\n",
       "    alcohol  \n",
       "0 -0.011595  \n",
       "1  1.532500  \n",
       "2  0.801087  \n",
       "3 -0.986812  \n",
       "4 -1.311884  "
      ]
     },
     "execution_count": 27,
     "metadata": {},
     "output_type": "execute_result"
    }
   ],
   "source": [
    "# Case 1: All features (Threshold = 0.0001)\n",
    "col_target = 'quality'\n",
    "cols = corr_features(x_train_sc, col_target, threshold=0.0001)\n",
    "\n",
    "x_train_cor = x_train_sc[cols]\n",
    "x_test_cor = x_test_sc[cols]\n",
    "\n",
    "x_train_cor.head()"
   ]
  },
  {
   "cell_type": "code",
   "execution_count": 28,
   "id": "31a689e1",
   "metadata": {
    "ExecuteTime": {
     "end_time": "2022-07-11T06:08:33.383381Z",
     "start_time": "2022-07-11T06:08:28.371903Z"
    }
   },
   "outputs": [
    {
     "name": "stdout",
     "output_type": "stream",
     "text": [
      "<class 'sklearn.neighbors._classification.KNeighborsClassifier'>\n",
      "f1_weighted(validation) =  0.8292807834702943\n",
      "f1_weighted(test):0.7779318549916966\n",
      "[[  4  55   1]\n",
      " [  0 653  51]\n",
      " [  0  86 130]]\n",
      "              precision    recall  f1-score   support\n",
      "\n",
      "           0       1.00      0.07      0.12        60\n",
      "           1       0.82      0.93      0.87       704\n",
      "           2       0.71      0.60      0.65       216\n",
      "\n",
      "    accuracy                           0.80       980\n",
      "   macro avg       0.85      0.53      0.55       980\n",
      "weighted avg       0.81      0.80      0.78       980\n",
      "\n",
      "\n",
      "<class 'sklearn.tree._classes.DecisionTreeClassifier'>\n",
      "f1_weighted(validation) =  0.7851414836759589\n",
      "f1_weighted(test):0.7403588313858527\n",
      "[[ 10  47   3]\n",
      " [ 19 603  82]\n",
      " [  0  93 123]]\n",
      "              precision    recall  f1-score   support\n",
      "\n",
      "           0       0.34      0.17      0.22        60\n",
      "           1       0.81      0.86      0.83       704\n",
      "           2       0.59      0.57      0.58       216\n",
      "\n",
      "    accuracy                           0.75       980\n",
      "   macro avg       0.58      0.53      0.55       980\n",
      "weighted avg       0.73      0.75      0.74       980\n",
      "\n",
      "\n",
      "<class 'sklearn.svm._classes.SVC'>\n",
      "f1_weighted(validation) =  0.7919818954975618\n",
      "f1_weighted(test):0.7469330871547311\n",
      "[[  2  58   0]\n",
      " [  0 672  32]\n",
      " [  0 121  95]]\n",
      "              precision    recall  f1-score   support\n",
      "\n",
      "           0       1.00      0.03      0.06        60\n",
      "           1       0.79      0.95      0.86       704\n",
      "           2       0.75      0.44      0.55       216\n",
      "\n",
      "    accuracy                           0.78       980\n",
      "   macro avg       0.85      0.48      0.49       980\n",
      "weighted avg       0.79      0.78      0.75       980\n",
      "\n",
      "\n"
     ]
    }
   ],
   "source": [
    "performance(estimators, x_train_cor, x_test_cor, y_train, y_test)"
   ]
  },
  {
   "cell_type": "code",
   "execution_count": 29,
   "id": "59919e3c",
   "metadata": {
    "ExecuteTime": {
     "end_time": "2022-07-11T06:08:33.391596Z",
     "start_time": "2022-07-11T06:08:33.384288Z"
    }
   },
   "outputs": [
    {
     "data": {
      "text/html": [
       "<div>\n",
       "<style scoped>\n",
       "    .dataframe tbody tr th:only-of-type {\n",
       "        vertical-align: middle;\n",
       "    }\n",
       "\n",
       "    .dataframe tbody tr th {\n",
       "        vertical-align: top;\n",
       "    }\n",
       "\n",
       "    .dataframe thead th {\n",
       "        text-align: right;\n",
       "    }\n",
       "</style>\n",
       "<table border=\"1\" class=\"dataframe\">\n",
       "  <thead>\n",
       "    <tr style=\"text-align: right;\">\n",
       "      <th></th>\n",
       "      <th>fixed acidity</th>\n",
       "      <th>volatile acidity</th>\n",
       "      <th>citric acid</th>\n",
       "      <th>residual sugar</th>\n",
       "      <th>chlorides</th>\n",
       "      <th>total sulfur dioxide</th>\n",
       "      <th>density</th>\n",
       "      <th>pH</th>\n",
       "      <th>sulphates</th>\n",
       "      <th>alcohol</th>\n",
       "    </tr>\n",
       "  </thead>\n",
       "  <tbody>\n",
       "    <tr>\n",
       "      <th>0</th>\n",
       "      <td>0.409125</td>\n",
       "      <td>-0.180992</td>\n",
       "      <td>-0.117278</td>\n",
       "      <td>0.790408</td>\n",
       "      <td>0.742829</td>\n",
       "      <td>-0.573277</td>\n",
       "      <td>0.860236</td>\n",
       "      <td>0.276407</td>\n",
       "      <td>0.001342</td>\n",
       "      <td>-0.011595</td>\n",
       "    </tr>\n",
       "    <tr>\n",
       "      <th>1</th>\n",
       "      <td>-1.724127</td>\n",
       "      <td>0.116674</td>\n",
       "      <td>0.378559</td>\n",
       "      <td>-1.023637</td>\n",
       "      <td>-0.767763</td>\n",
       "      <td>-0.149685</td>\n",
       "      <td>-1.697778</td>\n",
       "      <td>0.607565</td>\n",
       "      <td>-1.137868</td>\n",
       "      <td>1.532500</td>\n",
       "    </tr>\n",
       "    <tr>\n",
       "      <th>2</th>\n",
       "      <td>-0.420473</td>\n",
       "      <td>1.803445</td>\n",
       "      <td>-0.199917</td>\n",
       "      <td>-0.274357</td>\n",
       "      <td>-0.859314</td>\n",
       "      <td>-1.561658</td>\n",
       "      <td>-0.794949</td>\n",
       "      <td>0.475102</td>\n",
       "      <td>0.965289</td>\n",
       "      <td>0.801087</td>\n",
       "    </tr>\n",
       "    <tr>\n",
       "      <th>3</th>\n",
       "      <td>-0.183445</td>\n",
       "      <td>0.612783</td>\n",
       "      <td>-0.282557</td>\n",
       "      <td>1.815737</td>\n",
       "      <td>0.376625</td>\n",
       "      <td>1.356420</td>\n",
       "      <td>1.395246</td>\n",
       "      <td>0.011480</td>\n",
       "      <td>0.001342</td>\n",
       "      <td>-0.986812</td>\n",
       "    </tr>\n",
       "    <tr>\n",
       "      <th>4</th>\n",
       "      <td>-0.894529</td>\n",
       "      <td>-1.173210</td>\n",
       "      <td>-0.530476</td>\n",
       "      <td>1.224201</td>\n",
       "      <td>0.834380</td>\n",
       "      <td>0.556302</td>\n",
       "      <td>1.796503</td>\n",
       "      <td>3.124369</td>\n",
       "      <td>-0.524447</td>\n",
       "      <td>-1.311884</td>\n",
       "    </tr>\n",
       "  </tbody>\n",
       "</table>\n",
       "</div>"
      ],
      "text/plain": [
       "   fixed acidity  volatile acidity  citric acid  residual sugar  chlorides  \\\n",
       "0       0.409125         -0.180992    -0.117278        0.790408   0.742829   \n",
       "1      -1.724127          0.116674     0.378559       -1.023637  -0.767763   \n",
       "2      -0.420473          1.803445    -0.199917       -0.274357  -0.859314   \n",
       "3      -0.183445          0.612783    -0.282557        1.815737   0.376625   \n",
       "4      -0.894529         -1.173210    -0.530476        1.224201   0.834380   \n",
       "\n",
       "   total sulfur dioxide   density        pH  sulphates   alcohol  \n",
       "0             -0.573277  0.860236  0.276407   0.001342 -0.011595  \n",
       "1             -0.149685 -1.697778  0.607565  -1.137868  1.532500  \n",
       "2             -1.561658 -0.794949  0.475102   0.965289  0.801087  \n",
       "3              1.356420  1.395246  0.011480   0.001342 -0.986812  \n",
       "4              0.556302  1.796503  3.124369  -0.524447 -1.311884  "
      ]
     },
     "execution_count": 29,
     "metadata": {},
     "output_type": "execute_result"
    }
   ],
   "source": [
    "# Case 2: 10 features (Threshold = 0.006)\n",
    "col_target = 'quality'\n",
    "cols = corr_features(x_train_sc, col_target, threshold=0.006)\n",
    "\n",
    "x_train_cor = x_train_sc[cols]\n",
    "x_test_cor = x_test_sc[cols]\n",
    "\n",
    "x_train_cor.head()"
   ]
  },
  {
   "cell_type": "code",
   "execution_count": 30,
   "id": "f8114c64",
   "metadata": {
    "ExecuteTime": {
     "end_time": "2022-07-11T06:08:38.215174Z",
     "start_time": "2022-07-11T06:08:33.392572Z"
    }
   },
   "outputs": [
    {
     "name": "stdout",
     "output_type": "stream",
     "text": [
      "<class 'sklearn.neighbors._classification.KNeighborsClassifier'>\n",
      "f1_weighted(validation) =  0.8267405441646828\n",
      "f1_weighted(test):0.7829299338491142\n",
      "[[  4  53   3]\n",
      " [  0 661  43]\n",
      " [  0  88 128]]\n",
      "              precision    recall  f1-score   support\n",
      "\n",
      "           0       1.00      0.07      0.12        60\n",
      "           1       0.82      0.94      0.88       704\n",
      "           2       0.74      0.59      0.66       216\n",
      "\n",
      "    accuracy                           0.81       980\n",
      "   macro avg       0.85      0.53      0.55       980\n",
      "weighted avg       0.82      0.81      0.78       980\n",
      "\n",
      "\n",
      "<class 'sklearn.tree._classes.DecisionTreeClassifier'>\n",
      "f1_weighted(validation) =  0.7817564245668633\n",
      "f1_weighted(test):0.7441497123561439\n",
      "[[ 11  44   5]\n",
      " [ 14 596  94]\n",
      " [  3  83 130]]\n",
      "              precision    recall  f1-score   support\n",
      "\n",
      "           0       0.39      0.18      0.25        60\n",
      "           1       0.82      0.85      0.84       704\n",
      "           2       0.57      0.60      0.58       216\n",
      "\n",
      "    accuracy                           0.75       980\n",
      "   macro avg       0.59      0.54      0.56       980\n",
      "weighted avg       0.74      0.75      0.74       980\n",
      "\n",
      "\n",
      "<class 'sklearn.svm._classes.SVC'>\n",
      "f1_weighted(validation) =  0.7881834225325128\n",
      "f1_weighted(test):0.7354984019631908\n",
      "[[  2  58   0]\n",
      " [  0 665  39]\n",
      " [  0 125  91]]\n",
      "              precision    recall  f1-score   support\n",
      "\n",
      "           0       1.00      0.03      0.06        60\n",
      "           1       0.78      0.94      0.86       704\n",
      "           2       0.70      0.42      0.53       216\n",
      "\n",
      "    accuracy                           0.77       980\n",
      "   macro avg       0.83      0.47      0.48       980\n",
      "weighted avg       0.78      0.77      0.74       980\n",
      "\n",
      "\n"
     ]
    }
   ],
   "source": [
    "performance(estimators, x_train_cor, x_test_cor, y_train, y_test)"
   ]
  },
  {
   "cell_type": "code",
   "execution_count": 31,
   "id": "1842b8c1",
   "metadata": {
    "ExecuteTime": {
     "end_time": "2022-07-11T06:08:38.223402Z",
     "start_time": "2022-07-11T06:08:38.216189Z"
    }
   },
   "outputs": [
    {
     "data": {
      "text/html": [
       "<div>\n",
       "<style scoped>\n",
       "    .dataframe tbody tr th:only-of-type {\n",
       "        vertical-align: middle;\n",
       "    }\n",
       "\n",
       "    .dataframe tbody tr th {\n",
       "        vertical-align: top;\n",
       "    }\n",
       "\n",
       "    .dataframe thead th {\n",
       "        text-align: right;\n",
       "    }\n",
       "</style>\n",
       "<table border=\"1\" class=\"dataframe\">\n",
       "  <thead>\n",
       "    <tr style=\"text-align: right;\">\n",
       "      <th></th>\n",
       "      <th>fixed acidity</th>\n",
       "      <th>volatile acidity</th>\n",
       "      <th>citric acid</th>\n",
       "      <th>chlorides</th>\n",
       "      <th>total sulfur dioxide</th>\n",
       "      <th>density</th>\n",
       "      <th>pH</th>\n",
       "      <th>sulphates</th>\n",
       "      <th>alcohol</th>\n",
       "    </tr>\n",
       "  </thead>\n",
       "  <tbody>\n",
       "    <tr>\n",
       "      <th>0</th>\n",
       "      <td>0.409125</td>\n",
       "      <td>-0.180992</td>\n",
       "      <td>-0.117278</td>\n",
       "      <td>0.742829</td>\n",
       "      <td>-0.573277</td>\n",
       "      <td>0.860236</td>\n",
       "      <td>0.276407</td>\n",
       "      <td>0.001342</td>\n",
       "      <td>-0.011595</td>\n",
       "    </tr>\n",
       "    <tr>\n",
       "      <th>1</th>\n",
       "      <td>-1.724127</td>\n",
       "      <td>0.116674</td>\n",
       "      <td>0.378559</td>\n",
       "      <td>-0.767763</td>\n",
       "      <td>-0.149685</td>\n",
       "      <td>-1.697778</td>\n",
       "      <td>0.607565</td>\n",
       "      <td>-1.137868</td>\n",
       "      <td>1.532500</td>\n",
       "    </tr>\n",
       "    <tr>\n",
       "      <th>2</th>\n",
       "      <td>-0.420473</td>\n",
       "      <td>1.803445</td>\n",
       "      <td>-0.199917</td>\n",
       "      <td>-0.859314</td>\n",
       "      <td>-1.561658</td>\n",
       "      <td>-0.794949</td>\n",
       "      <td>0.475102</td>\n",
       "      <td>0.965289</td>\n",
       "      <td>0.801087</td>\n",
       "    </tr>\n",
       "    <tr>\n",
       "      <th>3</th>\n",
       "      <td>-0.183445</td>\n",
       "      <td>0.612783</td>\n",
       "      <td>-0.282557</td>\n",
       "      <td>0.376625</td>\n",
       "      <td>1.356420</td>\n",
       "      <td>1.395246</td>\n",
       "      <td>0.011480</td>\n",
       "      <td>0.001342</td>\n",
       "      <td>-0.986812</td>\n",
       "    </tr>\n",
       "    <tr>\n",
       "      <th>4</th>\n",
       "      <td>-0.894529</td>\n",
       "      <td>-1.173210</td>\n",
       "      <td>-0.530476</td>\n",
       "      <td>0.834380</td>\n",
       "      <td>0.556302</td>\n",
       "      <td>1.796503</td>\n",
       "      <td>3.124369</td>\n",
       "      <td>-0.524447</td>\n",
       "      <td>-1.311884</td>\n",
       "    </tr>\n",
       "  </tbody>\n",
       "</table>\n",
       "</div>"
      ],
      "text/plain": [
       "   fixed acidity  volatile acidity  citric acid  chlorides  \\\n",
       "0       0.409125         -0.180992    -0.117278   0.742829   \n",
       "1      -1.724127          0.116674     0.378559  -0.767763   \n",
       "2      -0.420473          1.803445    -0.199917  -0.859314   \n",
       "3      -0.183445          0.612783    -0.282557   0.376625   \n",
       "4      -0.894529         -1.173210    -0.530476   0.834380   \n",
       "\n",
       "   total sulfur dioxide   density        pH  sulphates   alcohol  \n",
       "0             -0.573277  0.860236  0.276407   0.001342 -0.011595  \n",
       "1             -0.149685 -1.697778  0.607565  -1.137868  1.532500  \n",
       "2             -1.561658 -0.794949  0.475102   0.965289  0.801087  \n",
       "3              1.356420  1.395246  0.011480   0.001342 -0.986812  \n",
       "4              0.556302  1.796503  3.124369  -0.524447 -1.311884  "
      ]
     },
     "execution_count": 31,
     "metadata": {},
     "output_type": "execute_result"
    }
   ],
   "source": [
    "# Case 3: 9 features (Threshold = 0.009)\n",
    "col_target = 'quality'\n",
    "cols = corr_features(x_train_sc, col_target, threshold=0.009)\n",
    "\n",
    "x_train_cor = x_train_sc[cols]\n",
    "x_test_cor = x_test_sc[cols]\n",
    "\n",
    "x_train_cor.head()"
   ]
  },
  {
   "cell_type": "code",
   "execution_count": 32,
   "id": "f34196d8",
   "metadata": {
    "ExecuteTime": {
     "end_time": "2022-07-11T06:08:43.028878Z",
     "start_time": "2022-07-11T06:08:38.224661Z"
    }
   },
   "outputs": [
    {
     "name": "stdout",
     "output_type": "stream",
     "text": [
      "<class 'sklearn.neighbors._classification.KNeighborsClassifier'>\n",
      "f1_weighted(validation) =  0.8257998011919551\n",
      "f1_weighted(test):0.778413234714272\n",
      "[[  4  53   3]\n",
      " [  0 656  48]\n",
      " [  0  88 128]]\n",
      "              precision    recall  f1-score   support\n",
      "\n",
      "           0       1.00      0.07      0.12        60\n",
      "           1       0.82      0.93      0.87       704\n",
      "           2       0.72      0.59      0.65       216\n",
      "\n",
      "    accuracy                           0.80       980\n",
      "   macro avg       0.85      0.53      0.55       980\n",
      "weighted avg       0.81      0.80      0.78       980\n",
      "\n",
      "\n",
      "<class 'sklearn.tree._classes.DecisionTreeClassifier'>\n",
      "f1_weighted(validation) =  0.7729937857959261\n",
      "f1_weighted(test):0.7436936165114099\n",
      "[[ 10  47   3]\n",
      " [ 12 606  86]\n",
      " [  2  90 124]]\n",
      "              precision    recall  f1-score   support\n",
      "\n",
      "           0       0.42      0.17      0.24        60\n",
      "           1       0.82      0.86      0.84       704\n",
      "           2       0.58      0.57      0.58       216\n",
      "\n",
      "    accuracy                           0.76       980\n",
      "   macro avg       0.60      0.53      0.55       980\n",
      "weighted avg       0.74      0.76      0.74       980\n",
      "\n",
      "\n",
      "<class 'sklearn.svm._classes.SVC'>\n",
      "f1_weighted(validation) =  0.7833033543070171\n",
      "f1_weighted(test):0.7265423896520564\n",
      "[[  2  58   0]\n",
      " [  0 664  40]\n",
      " [  0 131  85]]\n",
      "              precision    recall  f1-score   support\n",
      "\n",
      "           0       1.00      0.03      0.06        60\n",
      "           1       0.78      0.94      0.85       704\n",
      "           2       0.68      0.39      0.50       216\n",
      "\n",
      "    accuracy                           0.77       980\n",
      "   macro avg       0.82      0.46      0.47       980\n",
      "weighted avg       0.77      0.77      0.73       980\n",
      "\n",
      "\n"
     ]
    }
   ],
   "source": [
    "performance(estimators, x_train_cor, x_test_cor, y_train, y_test)"
   ]
  },
  {
   "cell_type": "code",
   "execution_count": 33,
   "id": "58c6ce7d",
   "metadata": {
    "ExecuteTime": {
     "end_time": "2022-07-11T06:08:43.043381Z",
     "start_time": "2022-07-11T06:08:43.032302Z"
    }
   },
   "outputs": [
    {
     "data": {
      "text/html": [
       "<div>\n",
       "<style scoped>\n",
       "    .dataframe tbody tr th:only-of-type {\n",
       "        vertical-align: middle;\n",
       "    }\n",
       "\n",
       "    .dataframe tbody tr th {\n",
       "        vertical-align: top;\n",
       "    }\n",
       "\n",
       "    .dataframe thead th {\n",
       "        text-align: right;\n",
       "    }\n",
       "</style>\n",
       "<table border=\"1\" class=\"dataframe\">\n",
       "  <thead>\n",
       "    <tr style=\"text-align: right;\">\n",
       "      <th></th>\n",
       "      <th>fixed acidity</th>\n",
       "      <th>volatile acidity</th>\n",
       "      <th>chlorides</th>\n",
       "      <th>total sulfur dioxide</th>\n",
       "      <th>density</th>\n",
       "      <th>pH</th>\n",
       "      <th>sulphates</th>\n",
       "      <th>alcohol</th>\n",
       "    </tr>\n",
       "  </thead>\n",
       "  <tbody>\n",
       "    <tr>\n",
       "      <th>0</th>\n",
       "      <td>0.409125</td>\n",
       "      <td>-0.180992</td>\n",
       "      <td>0.742829</td>\n",
       "      <td>-0.573277</td>\n",
       "      <td>0.860236</td>\n",
       "      <td>0.276407</td>\n",
       "      <td>0.001342</td>\n",
       "      <td>-0.011595</td>\n",
       "    </tr>\n",
       "    <tr>\n",
       "      <th>1</th>\n",
       "      <td>-1.724127</td>\n",
       "      <td>0.116674</td>\n",
       "      <td>-0.767763</td>\n",
       "      <td>-0.149685</td>\n",
       "      <td>-1.697778</td>\n",
       "      <td>0.607565</td>\n",
       "      <td>-1.137868</td>\n",
       "      <td>1.532500</td>\n",
       "    </tr>\n",
       "    <tr>\n",
       "      <th>2</th>\n",
       "      <td>-0.420473</td>\n",
       "      <td>1.803445</td>\n",
       "      <td>-0.859314</td>\n",
       "      <td>-1.561658</td>\n",
       "      <td>-0.794949</td>\n",
       "      <td>0.475102</td>\n",
       "      <td>0.965289</td>\n",
       "      <td>0.801087</td>\n",
       "    </tr>\n",
       "    <tr>\n",
       "      <th>3</th>\n",
       "      <td>-0.183445</td>\n",
       "      <td>0.612783</td>\n",
       "      <td>0.376625</td>\n",
       "      <td>1.356420</td>\n",
       "      <td>1.395246</td>\n",
       "      <td>0.011480</td>\n",
       "      <td>0.001342</td>\n",
       "      <td>-0.986812</td>\n",
       "    </tr>\n",
       "    <tr>\n",
       "      <th>4</th>\n",
       "      <td>-0.894529</td>\n",
       "      <td>-1.173210</td>\n",
       "      <td>0.834380</td>\n",
       "      <td>0.556302</td>\n",
       "      <td>1.796503</td>\n",
       "      <td>3.124369</td>\n",
       "      <td>-0.524447</td>\n",
       "      <td>-1.311884</td>\n",
       "    </tr>\n",
       "  </tbody>\n",
       "</table>\n",
       "</div>"
      ],
      "text/plain": [
       "   fixed acidity  volatile acidity  chlorides  total sulfur dioxide   density  \\\n",
       "0       0.409125         -0.180992   0.742829             -0.573277  0.860236   \n",
       "1      -1.724127          0.116674  -0.767763             -0.149685 -1.697778   \n",
       "2      -0.420473          1.803445  -0.859314             -1.561658 -0.794949   \n",
       "3      -0.183445          0.612783   0.376625              1.356420  1.395246   \n",
       "4      -0.894529         -1.173210   0.834380              0.556302  1.796503   \n",
       "\n",
       "         pH  sulphates   alcohol  \n",
       "0  0.276407   0.001342 -0.011595  \n",
       "1  0.607565  -1.137868  1.532500  \n",
       "2  0.475102   0.965289  0.801087  \n",
       "3  0.011480   0.001342 -0.986812  \n",
       "4  3.124369  -0.524447 -1.311884  "
      ]
     },
     "execution_count": 33,
     "metadata": {},
     "output_type": "execute_result"
    }
   ],
   "source": [
    "# Case 4: 8 features (Threshold = 0.01)\n",
    "col_target = 'quality'\n",
    "cols = corr_features(x_train_sc, col_target, threshold=0.01)\n",
    "\n",
    "x_train_cor = x_train_sc[cols]\n",
    "x_test_cor = x_test_sc[cols]\n",
    "\n",
    "x_train_cor.head()"
   ]
  },
  {
   "cell_type": "code",
   "execution_count": 34,
   "id": "6433f163",
   "metadata": {
    "ExecuteTime": {
     "end_time": "2022-07-11T06:08:47.237707Z",
     "start_time": "2022-07-11T06:08:43.044388Z"
    }
   },
   "outputs": [
    {
     "name": "stdout",
     "output_type": "stream",
     "text": [
      "<class 'sklearn.neighbors._classification.KNeighborsClassifier'>\n",
      "f1_weighted(validation) =  0.8153536498398832\n",
      "f1_weighted(test):0.782655977154733\n",
      "[[  4  53   3]\n",
      " [  0 662  42]\n",
      " [  0  89 127]]\n",
      "              precision    recall  f1-score   support\n",
      "\n",
      "           0       1.00      0.07      0.12        60\n",
      "           1       0.82      0.94      0.88       704\n",
      "           2       0.74      0.59      0.65       216\n",
      "\n",
      "    accuracy                           0.81       980\n",
      "   macro avg       0.85      0.53      0.55       980\n",
      "weighted avg       0.82      0.81      0.78       980\n",
      "\n",
      "\n",
      "<class 'sklearn.tree._classes.DecisionTreeClassifier'>\n",
      "f1_weighted(validation) =  0.7710093303657855\n",
      "f1_weighted(test):0.7265011717264687\n",
      "[[  9  49   2]\n",
      " [ 16 597  91]\n",
      " [  2  97 117]]\n",
      "              precision    recall  f1-score   support\n",
      "\n",
      "           0       0.33      0.15      0.21        60\n",
      "           1       0.80      0.85      0.83       704\n",
      "           2       0.56      0.54      0.55       216\n",
      "\n",
      "    accuracy                           0.74       980\n",
      "   macro avg       0.56      0.51      0.53       980\n",
      "weighted avg       0.72      0.74      0.73       980\n",
      "\n",
      "\n",
      "<class 'sklearn.svm._classes.SVC'>\n",
      "f1_weighted(validation) =  0.770142368904622\n",
      "f1_weighted(test):0.7155488723753093\n",
      "[[  0  59   1]\n",
      " [  0 663  41]\n",
      " [  0 135  81]]\n",
      "              precision    recall  f1-score   support\n",
      "\n",
      "           0       0.00      0.00      0.00        60\n",
      "           1       0.77      0.94      0.85       704\n",
      "           2       0.66      0.38      0.48       216\n",
      "\n",
      "    accuracy                           0.76       980\n",
      "   macro avg       0.48      0.44      0.44       980\n",
      "weighted avg       0.70      0.76      0.72       980\n",
      "\n",
      "\n"
     ]
    },
    {
     "name": "stderr",
     "output_type": "stream",
     "text": [
      "/Users/maru/opt/anaconda3/lib/python3.9/site-packages/sklearn/metrics/_classification.py:1318: UndefinedMetricWarning: Precision and F-score are ill-defined and being set to 0.0 in labels with no predicted samples. Use `zero_division` parameter to control this behavior.\n",
      "  _warn_prf(average, modifier, msg_start, len(result))\n",
      "/Users/maru/opt/anaconda3/lib/python3.9/site-packages/sklearn/metrics/_classification.py:1318: UndefinedMetricWarning: Precision and F-score are ill-defined and being set to 0.0 in labels with no predicted samples. Use `zero_division` parameter to control this behavior.\n",
      "  _warn_prf(average, modifier, msg_start, len(result))\n",
      "/Users/maru/opt/anaconda3/lib/python3.9/site-packages/sklearn/metrics/_classification.py:1318: UndefinedMetricWarning: Precision and F-score are ill-defined and being set to 0.0 in labels with no predicted samples. Use `zero_division` parameter to control this behavior.\n",
      "  _warn_prf(average, modifier, msg_start, len(result))\n"
     ]
    }
   ],
   "source": [
    "performance(estimators, x_train_cor, x_test_cor, y_train, y_test)"
   ]
  },
  {
   "cell_type": "code",
   "execution_count": 35,
   "id": "0e388510",
   "metadata": {
    "ExecuteTime": {
     "end_time": "2022-07-11T06:08:47.261185Z",
     "start_time": "2022-07-11T06:08:47.239625Z"
    }
   },
   "outputs": [
    {
     "data": {
      "text/html": [
       "<div>\n",
       "<style scoped>\n",
       "    .dataframe tbody tr th:only-of-type {\n",
       "        vertical-align: middle;\n",
       "    }\n",
       "\n",
       "    .dataframe tbody tr th {\n",
       "        vertical-align: top;\n",
       "    }\n",
       "\n",
       "    .dataframe thead th {\n",
       "        text-align: right;\n",
       "    }\n",
       "</style>\n",
       "<table border=\"1\" class=\"dataframe\">\n",
       "  <thead>\n",
       "    <tr style=\"text-align: right;\">\n",
       "      <th></th>\n",
       "      <th>fixed acidity</th>\n",
       "      <th>volatile acidity</th>\n",
       "      <th>chlorides</th>\n",
       "      <th>total sulfur dioxide</th>\n",
       "      <th>density</th>\n",
       "      <th>sulphates</th>\n",
       "      <th>alcohol</th>\n",
       "    </tr>\n",
       "  </thead>\n",
       "  <tbody>\n",
       "    <tr>\n",
       "      <th>0</th>\n",
       "      <td>0.409125</td>\n",
       "      <td>-0.180992</td>\n",
       "      <td>0.742829</td>\n",
       "      <td>-0.573277</td>\n",
       "      <td>0.860236</td>\n",
       "      <td>0.001342</td>\n",
       "      <td>-0.011595</td>\n",
       "    </tr>\n",
       "    <tr>\n",
       "      <th>1</th>\n",
       "      <td>-1.724127</td>\n",
       "      <td>0.116674</td>\n",
       "      <td>-0.767763</td>\n",
       "      <td>-0.149685</td>\n",
       "      <td>-1.697778</td>\n",
       "      <td>-1.137868</td>\n",
       "      <td>1.532500</td>\n",
       "    </tr>\n",
       "    <tr>\n",
       "      <th>2</th>\n",
       "      <td>-0.420473</td>\n",
       "      <td>1.803445</td>\n",
       "      <td>-0.859314</td>\n",
       "      <td>-1.561658</td>\n",
       "      <td>-0.794949</td>\n",
       "      <td>0.965289</td>\n",
       "      <td>0.801087</td>\n",
       "    </tr>\n",
       "    <tr>\n",
       "      <th>3</th>\n",
       "      <td>-0.183445</td>\n",
       "      <td>0.612783</td>\n",
       "      <td>0.376625</td>\n",
       "      <td>1.356420</td>\n",
       "      <td>1.395246</td>\n",
       "      <td>0.001342</td>\n",
       "      <td>-0.986812</td>\n",
       "    </tr>\n",
       "    <tr>\n",
       "      <th>4</th>\n",
       "      <td>-0.894529</td>\n",
       "      <td>-1.173210</td>\n",
       "      <td>0.834380</td>\n",
       "      <td>0.556302</td>\n",
       "      <td>1.796503</td>\n",
       "      <td>-0.524447</td>\n",
       "      <td>-1.311884</td>\n",
       "    </tr>\n",
       "  </tbody>\n",
       "</table>\n",
       "</div>"
      ],
      "text/plain": [
       "   fixed acidity  volatile acidity  chlorides  total sulfur dioxide   density  \\\n",
       "0       0.409125         -0.180992   0.742829             -0.573277  0.860236   \n",
       "1      -1.724127          0.116674  -0.767763             -0.149685 -1.697778   \n",
       "2      -0.420473          1.803445  -0.859314             -1.561658 -0.794949   \n",
       "3      -0.183445          0.612783   0.376625              1.356420  1.395246   \n",
       "4      -0.894529         -1.173210   0.834380              0.556302  1.796503   \n",
       "\n",
       "   sulphates   alcohol  \n",
       "0   0.001342 -0.011595  \n",
       "1  -1.137868  1.532500  \n",
       "2   0.965289  0.801087  \n",
       "3   0.001342 -0.986812  \n",
       "4  -0.524447 -1.311884  "
      ]
     },
     "execution_count": 35,
     "metadata": {},
     "output_type": "execute_result"
    }
   ],
   "source": [
    "# Case 5: 7 features (Threshold = 0.0165)\n",
    "col_target = 'quality'\n",
    "cols = corr_features(x_train_sc, col_target, threshold=0.0165)\n",
    "\n",
    "x_train_cor = x_train_sc[cols]\n",
    "x_test_cor = x_test_sc[cols]\n",
    "\n",
    "x_train_cor.head()"
   ]
  },
  {
   "cell_type": "code",
   "execution_count": 36,
   "id": "3cf1ee08",
   "metadata": {
    "ExecuteTime": {
     "end_time": "2022-07-11T06:08:51.182256Z",
     "start_time": "2022-07-11T06:08:47.267134Z"
    }
   },
   "outputs": [
    {
     "name": "stdout",
     "output_type": "stream",
     "text": [
      "<class 'sklearn.neighbors._classification.KNeighborsClassifier'>\n",
      "f1_weighted(validation) =  0.812809294046858\n",
      "f1_weighted(test):0.7679726497839415\n",
      "[[  4  54   2]\n",
      " [  0 655  49]\n",
      " [  0  96 120]]\n",
      "              precision    recall  f1-score   support\n",
      "\n",
      "           0       1.00      0.07      0.12        60\n",
      "           1       0.81      0.93      0.87       704\n",
      "           2       0.70      0.56      0.62       216\n",
      "\n",
      "    accuracy                           0.79       980\n",
      "   macro avg       0.84      0.52      0.54       980\n",
      "weighted avg       0.80      0.79      0.77       980\n",
      "\n",
      "\n",
      "<class 'sklearn.tree._classes.DecisionTreeClassifier'>\n",
      "f1_weighted(validation) =  0.7649832090903204\n",
      "f1_weighted(test):0.7345352917366357\n",
      "[[  9  44   7]\n",
      " [ 21 598  85]\n",
      " [  6  89 121]]\n",
      "              precision    recall  f1-score   support\n",
      "\n",
      "           0       0.25      0.15      0.19        60\n",
      "           1       0.82      0.85      0.83       704\n",
      "           2       0.57      0.56      0.56       216\n",
      "\n",
      "    accuracy                           0.74       980\n",
      "   macro avg       0.55      0.52      0.53       980\n",
      "weighted avg       0.73      0.74      0.73       980\n",
      "\n",
      "\n",
      "<class 'sklearn.svm._classes.SVC'>\n",
      "f1_weighted(validation) =  0.7627937976191607\n",
      "f1_weighted(test):0.7101142995269174\n",
      "[[  0  59   1]\n",
      " [  0 670  34]\n",
      " [  0 143  73]]\n",
      "              precision    recall  f1-score   support\n",
      "\n",
      "           0       0.00      0.00      0.00        60\n",
      "           1       0.77      0.95      0.85       704\n",
      "           2       0.68      0.34      0.45       216\n",
      "\n",
      "    accuracy                           0.76       980\n",
      "   macro avg       0.48      0.43      0.43       980\n",
      "weighted avg       0.70      0.76      0.71       980\n",
      "\n",
      "\n"
     ]
    },
    {
     "name": "stderr",
     "output_type": "stream",
     "text": [
      "/Users/maru/opt/anaconda3/lib/python3.9/site-packages/sklearn/metrics/_classification.py:1318: UndefinedMetricWarning: Precision and F-score are ill-defined and being set to 0.0 in labels with no predicted samples. Use `zero_division` parameter to control this behavior.\n",
      "  _warn_prf(average, modifier, msg_start, len(result))\n",
      "/Users/maru/opt/anaconda3/lib/python3.9/site-packages/sklearn/metrics/_classification.py:1318: UndefinedMetricWarning: Precision and F-score are ill-defined and being set to 0.0 in labels with no predicted samples. Use `zero_division` parameter to control this behavior.\n",
      "  _warn_prf(average, modifier, msg_start, len(result))\n",
      "/Users/maru/opt/anaconda3/lib/python3.9/site-packages/sklearn/metrics/_classification.py:1318: UndefinedMetricWarning: Precision and F-score are ill-defined and being set to 0.0 in labels with no predicted samples. Use `zero_division` parameter to control this behavior.\n",
      "  _warn_prf(average, modifier, msg_start, len(result))\n"
     ]
    }
   ],
   "source": [
    "performance(estimators, x_train_cor, x_test_cor, y_train, y_test)"
   ]
  },
  {
   "cell_type": "code",
   "execution_count": 37,
   "id": "cb3cfdb2",
   "metadata": {
    "ExecuteTime": {
     "end_time": "2022-07-11T06:08:51.194401Z",
     "start_time": "2022-07-11T06:08:51.183792Z"
    }
   },
   "outputs": [
    {
     "data": {
      "text/html": [
       "<div>\n",
       "<style scoped>\n",
       "    .dataframe tbody tr th:only-of-type {\n",
       "        vertical-align: middle;\n",
       "    }\n",
       "\n",
       "    .dataframe tbody tr th {\n",
       "        vertical-align: top;\n",
       "    }\n",
       "\n",
       "    .dataframe thead th {\n",
       "        text-align: right;\n",
       "    }\n",
       "</style>\n",
       "<table border=\"1\" class=\"dataframe\">\n",
       "  <thead>\n",
       "    <tr style=\"text-align: right;\">\n",
       "      <th></th>\n",
       "      <th>volatile acidity</th>\n",
       "      <th>chlorides</th>\n",
       "      <th>total sulfur dioxide</th>\n",
       "      <th>density</th>\n",
       "      <th>sulphates</th>\n",
       "      <th>alcohol</th>\n",
       "    </tr>\n",
       "  </thead>\n",
       "  <tbody>\n",
       "    <tr>\n",
       "      <th>0</th>\n",
       "      <td>-0.180992</td>\n",
       "      <td>0.742829</td>\n",
       "      <td>-0.573277</td>\n",
       "      <td>0.860236</td>\n",
       "      <td>0.001342</td>\n",
       "      <td>-0.011595</td>\n",
       "    </tr>\n",
       "    <tr>\n",
       "      <th>1</th>\n",
       "      <td>0.116674</td>\n",
       "      <td>-0.767763</td>\n",
       "      <td>-0.149685</td>\n",
       "      <td>-1.697778</td>\n",
       "      <td>-1.137868</td>\n",
       "      <td>1.532500</td>\n",
       "    </tr>\n",
       "    <tr>\n",
       "      <th>2</th>\n",
       "      <td>1.803445</td>\n",
       "      <td>-0.859314</td>\n",
       "      <td>-1.561658</td>\n",
       "      <td>-0.794949</td>\n",
       "      <td>0.965289</td>\n",
       "      <td>0.801087</td>\n",
       "    </tr>\n",
       "    <tr>\n",
       "      <th>3</th>\n",
       "      <td>0.612783</td>\n",
       "      <td>0.376625</td>\n",
       "      <td>1.356420</td>\n",
       "      <td>1.395246</td>\n",
       "      <td>0.001342</td>\n",
       "      <td>-0.986812</td>\n",
       "    </tr>\n",
       "    <tr>\n",
       "      <th>4</th>\n",
       "      <td>-1.173210</td>\n",
       "      <td>0.834380</td>\n",
       "      <td>0.556302</td>\n",
       "      <td>1.796503</td>\n",
       "      <td>-0.524447</td>\n",
       "      <td>-1.311884</td>\n",
       "    </tr>\n",
       "  </tbody>\n",
       "</table>\n",
       "</div>"
      ],
      "text/plain": [
       "   volatile acidity  chlorides  total sulfur dioxide   density  sulphates  \\\n",
       "0         -0.180992   0.742829             -0.573277  0.860236   0.001342   \n",
       "1          0.116674  -0.767763             -0.149685 -1.697778  -1.137868   \n",
       "2          1.803445  -0.859314             -1.561658 -0.794949   0.965289   \n",
       "3          0.612783   0.376625              1.356420  1.395246   0.001342   \n",
       "4         -1.173210   0.834380              0.556302  1.796503  -0.524447   \n",
       "\n",
       "    alcohol  \n",
       "0 -0.011595  \n",
       "1  1.532500  \n",
       "2  0.801087  \n",
       "3 -0.986812  \n",
       "4 -1.311884  "
      ]
     },
     "execution_count": 37,
     "metadata": {},
     "output_type": "execute_result"
    }
   ],
   "source": [
    "# Case 6: 6 features (Threshold = 0.017)\n",
    "col_target = 'quality'\n",
    "cols = corr_features(x_train_sc, col_target, threshold=0.017)\n",
    "\n",
    "x_train_cor = x_train_sc[cols]\n",
    "x_test_cor = x_test_sc[cols]\n",
    "\n",
    "x_train_cor.head()"
   ]
  },
  {
   "cell_type": "code",
   "execution_count": 38,
   "id": "e0707dc4",
   "metadata": {
    "ExecuteTime": {
     "end_time": "2022-07-11T06:08:54.727042Z",
     "start_time": "2022-07-11T06:08:51.195433Z"
    }
   },
   "outputs": [
    {
     "name": "stdout",
     "output_type": "stream",
     "text": [
      "<class 'sklearn.neighbors._classification.KNeighborsClassifier'>\n",
      "f1_weighted(validation) =  0.8129409878326707\n",
      "f1_weighted(test):0.7681091506338977\n",
      "[[  3  55   2]\n",
      " [  0 659  45]\n",
      " [  0  97 119]]\n",
      "              precision    recall  f1-score   support\n",
      "\n",
      "           0       1.00      0.05      0.10        60\n",
      "           1       0.81      0.94      0.87       704\n",
      "           2       0.72      0.55      0.62       216\n",
      "\n",
      "    accuracy                           0.80       980\n",
      "   macro avg       0.84      0.51      0.53       980\n",
      "weighted avg       0.80      0.80      0.77       980\n",
      "\n",
      "\n",
      "<class 'sklearn.tree._classes.DecisionTreeClassifier'>\n",
      "f1_weighted(validation) =  0.7694859398375044\n",
      "f1_weighted(test):0.7232187617010912\n",
      "[[  9  45   6]\n",
      " [ 18 587  99]\n",
      " [  6  90 120]]\n",
      "              precision    recall  f1-score   support\n",
      "\n",
      "           0       0.27      0.15      0.19        60\n",
      "           1       0.81      0.83      0.82       704\n",
      "           2       0.53      0.56      0.54       216\n",
      "\n",
      "    accuracy                           0.73       980\n",
      "   macro avg       0.54      0.51      0.52       980\n",
      "weighted avg       0.72      0.73      0.72       980\n",
      "\n",
      "\n",
      "<class 'sklearn.svm._classes.SVC'>\n",
      "f1_weighted(validation) =  0.7481467516175306\n",
      "f1_weighted(test):0.7038066420799955\n",
      "[[  0  59   1]\n",
      " [  0 673  31]\n",
      " [  0 149  67]]\n",
      "              precision    recall  f1-score   support\n",
      "\n",
      "           0       0.00      0.00      0.00        60\n",
      "           1       0.76      0.96      0.85       704\n",
      "           2       0.68      0.31      0.43       216\n",
      "\n",
      "    accuracy                           0.76       980\n",
      "   macro avg       0.48      0.42      0.42       980\n",
      "weighted avg       0.70      0.76      0.70       980\n",
      "\n",
      "\n"
     ]
    },
    {
     "name": "stderr",
     "output_type": "stream",
     "text": [
      "/Users/maru/opt/anaconda3/lib/python3.9/site-packages/sklearn/metrics/_classification.py:1318: UndefinedMetricWarning: Precision and F-score are ill-defined and being set to 0.0 in labels with no predicted samples. Use `zero_division` parameter to control this behavior.\n",
      "  _warn_prf(average, modifier, msg_start, len(result))\n",
      "/Users/maru/opt/anaconda3/lib/python3.9/site-packages/sklearn/metrics/_classification.py:1318: UndefinedMetricWarning: Precision and F-score are ill-defined and being set to 0.0 in labels with no predicted samples. Use `zero_division` parameter to control this behavior.\n",
      "  _warn_prf(average, modifier, msg_start, len(result))\n",
      "/Users/maru/opt/anaconda3/lib/python3.9/site-packages/sklearn/metrics/_classification.py:1318: UndefinedMetricWarning: Precision and F-score are ill-defined and being set to 0.0 in labels with no predicted samples. Use `zero_division` parameter to control this behavior.\n",
      "  _warn_prf(average, modifier, msg_start, len(result))\n"
     ]
    }
   ],
   "source": [
    "performance(estimators, x_train_cor, x_test_cor, y_train, y_test)"
   ]
  },
  {
   "cell_type": "code",
   "execution_count": 39,
   "id": "c4e4ec73",
   "metadata": {
    "ExecuteTime": {
     "end_time": "2022-07-11T06:08:54.734103Z",
     "start_time": "2022-07-11T06:08:54.728022Z"
    }
   },
   "outputs": [
    {
     "data": {
      "text/html": [
       "<div>\n",
       "<style scoped>\n",
       "    .dataframe tbody tr th:only-of-type {\n",
       "        vertical-align: middle;\n",
       "    }\n",
       "\n",
       "    .dataframe tbody tr th {\n",
       "        vertical-align: top;\n",
       "    }\n",
       "\n",
       "    .dataframe thead th {\n",
       "        text-align: right;\n",
       "    }\n",
       "</style>\n",
       "<table border=\"1\" class=\"dataframe\">\n",
       "  <thead>\n",
       "    <tr style=\"text-align: right;\">\n",
       "      <th></th>\n",
       "      <th>volatile acidity</th>\n",
       "      <th>chlorides</th>\n",
       "      <th>total sulfur dioxide</th>\n",
       "      <th>sulphates</th>\n",
       "      <th>alcohol</th>\n",
       "    </tr>\n",
       "  </thead>\n",
       "  <tbody>\n",
       "    <tr>\n",
       "      <th>0</th>\n",
       "      <td>-0.180992</td>\n",
       "      <td>0.742829</td>\n",
       "      <td>-0.573277</td>\n",
       "      <td>0.001342</td>\n",
       "      <td>-0.011595</td>\n",
       "    </tr>\n",
       "    <tr>\n",
       "      <th>1</th>\n",
       "      <td>0.116674</td>\n",
       "      <td>-0.767763</td>\n",
       "      <td>-0.149685</td>\n",
       "      <td>-1.137868</td>\n",
       "      <td>1.532500</td>\n",
       "    </tr>\n",
       "    <tr>\n",
       "      <th>2</th>\n",
       "      <td>1.803445</td>\n",
       "      <td>-0.859314</td>\n",
       "      <td>-1.561658</td>\n",
       "      <td>0.965289</td>\n",
       "      <td>0.801087</td>\n",
       "    </tr>\n",
       "    <tr>\n",
       "      <th>3</th>\n",
       "      <td>0.612783</td>\n",
       "      <td>0.376625</td>\n",
       "      <td>1.356420</td>\n",
       "      <td>0.001342</td>\n",
       "      <td>-0.986812</td>\n",
       "    </tr>\n",
       "    <tr>\n",
       "      <th>4</th>\n",
       "      <td>-1.173210</td>\n",
       "      <td>0.834380</td>\n",
       "      <td>0.556302</td>\n",
       "      <td>-0.524447</td>\n",
       "      <td>-1.311884</td>\n",
       "    </tr>\n",
       "  </tbody>\n",
       "</table>\n",
       "</div>"
      ],
      "text/plain": [
       "   volatile acidity  chlorides  total sulfur dioxide  sulphates   alcohol\n",
       "0         -0.180992   0.742829             -0.573277   0.001342 -0.011595\n",
       "1          0.116674  -0.767763             -0.149685  -1.137868  1.532500\n",
       "2          1.803445  -0.859314             -1.561658   0.965289  0.801087\n",
       "3          0.612783   0.376625              1.356420   0.001342 -0.986812\n",
       "4         -1.173210   0.834380              0.556302  -0.524447 -1.311884"
      ]
     },
     "execution_count": 39,
     "metadata": {},
     "output_type": "execute_result"
    }
   ],
   "source": [
    "# Case 7: 5 features (Threshold = 0.0191)\n",
    "col_target = 'quality'\n",
    "cols = corr_features(x_train_sc, col_target, threshold=0.0191)\n",
    "\n",
    "x_train_cor = x_train_sc[cols]\n",
    "x_test_cor = x_test_sc[cols]\n",
    "\n",
    "x_train_cor.head()"
   ]
  },
  {
   "cell_type": "code",
   "execution_count": 40,
   "id": "577be53e",
   "metadata": {
    "ExecuteTime": {
     "end_time": "2022-07-11T06:08:58.200054Z",
     "start_time": "2022-07-11T06:08:54.734971Z"
    }
   },
   "outputs": [
    {
     "name": "stdout",
     "output_type": "stream",
     "text": [
      "<class 'sklearn.neighbors._classification.KNeighborsClassifier'>\n",
      "f1_weighted(validation) =  0.8060029408536933\n",
      "f1_weighted(test):0.7655424394594214\n",
      "[[  4  53   3]\n",
      " [  1 656  47]\n",
      " [  0  99 117]]\n",
      "              precision    recall  f1-score   support\n",
      "\n",
      "           0       0.80      0.07      0.12        60\n",
      "           1       0.81      0.93      0.87       704\n",
      "           2       0.70      0.54      0.61       216\n",
      "\n",
      "    accuracy                           0.79       980\n",
      "   macro avg       0.77      0.51      0.53       980\n",
      "weighted avg       0.79      0.79      0.77       980\n",
      "\n",
      "\n",
      "<class 'sklearn.tree._classes.DecisionTreeClassifier'>\n",
      "f1_weighted(validation) =  0.7724567792237931\n",
      "f1_weighted(test):0.7344090049824221\n",
      "[[ 12  42   6]\n",
      " [ 25 592  87]\n",
      " [  2  92 122]]\n",
      "              precision    recall  f1-score   support\n",
      "\n",
      "           0       0.31      0.20      0.24        60\n",
      "           1       0.82      0.84      0.83       704\n",
      "           2       0.57      0.56      0.57       216\n",
      "\n",
      "    accuracy                           0.74       980\n",
      "   macro avg       0.56      0.54      0.55       980\n",
      "weighted avg       0.73      0.74      0.73       980\n",
      "\n",
      "\n",
      "<class 'sklearn.svm._classes.SVC'>\n",
      "f1_weighted(validation) =  0.7364210510485627\n",
      "f1_weighted(test):0.6994263477055465\n",
      "[[  0  59   1]\n",
      " [  0 675  29]\n",
      " [  0 153  63]]\n",
      "              precision    recall  f1-score   support\n",
      "\n",
      "           0       0.00      0.00      0.00        60\n",
      "           1       0.76      0.96      0.85       704\n",
      "           2       0.68      0.29      0.41       216\n",
      "\n",
      "    accuracy                           0.75       980\n",
      "   macro avg       0.48      0.42      0.42       980\n",
      "weighted avg       0.70      0.75      0.70       980\n",
      "\n",
      "\n"
     ]
    },
    {
     "name": "stderr",
     "output_type": "stream",
     "text": [
      "/Users/maru/opt/anaconda3/lib/python3.9/site-packages/sklearn/metrics/_classification.py:1318: UndefinedMetricWarning: Precision and F-score are ill-defined and being set to 0.0 in labels with no predicted samples. Use `zero_division` parameter to control this behavior.\n",
      "  _warn_prf(average, modifier, msg_start, len(result))\n",
      "/Users/maru/opt/anaconda3/lib/python3.9/site-packages/sklearn/metrics/_classification.py:1318: UndefinedMetricWarning: Precision and F-score are ill-defined and being set to 0.0 in labels with no predicted samples. Use `zero_division` parameter to control this behavior.\n",
      "  _warn_prf(average, modifier, msg_start, len(result))\n",
      "/Users/maru/opt/anaconda3/lib/python3.9/site-packages/sklearn/metrics/_classification.py:1318: UndefinedMetricWarning: Precision and F-score are ill-defined and being set to 0.0 in labels with no predicted samples. Use `zero_division` parameter to control this behavior.\n",
      "  _warn_prf(average, modifier, msg_start, len(result))\n"
     ]
    }
   ],
   "source": [
    "performance(estimators, x_train_cor, x_test_cor, y_train, y_test)"
   ]
  },
  {
   "cell_type": "code",
   "execution_count": 41,
   "id": "996e5667",
   "metadata": {
    "ExecuteTime": {
     "end_time": "2022-07-11T06:08:58.542270Z",
     "start_time": "2022-07-11T06:08:58.201139Z"
    }
   },
   "outputs": [
    {
     "name": "stdout",
     "output_type": "stream",
     "text": [
      "Number of Features:  11\n",
      "Feature Ranking:  [1 1 1 1 1 1 1 1 1 1 1]\n",
      "Selected Features:  [ True  True  True  True  True  True  True  True  True  True  True]\n"
     ]
    }
   ],
   "source": [
    "# Case1: All features\n",
    "# Create a SVM classifier with linear kernel\n",
    "svmlinear = SVC(C = 1, kernel = 'linear')\n",
    "\n",
    "# Use RFE to rank features and return all features\n",
    "# Parameter step corresponds to the (integer) number of features to remove at each iteration \n",
    "rfe = RFE(estimator = svmlinear, n_features_to_select = 11, step = 1)\n",
    "rfe.fit(x_train_sc, y_train)\n",
    "\n",
    "# transform train input data\n",
    "x_train_rfe = rfe.transform(x_train_sc)\n",
    "\n",
    "# transform test input data\n",
    "x_test_rfe = rfe.transform(x_test_sc)\n",
    "\n",
    "print(\"Number of Features: \", rfe.n_features_)\n",
    "print(\"Feature Ranking: \", rfe.ranking_)\n",
    "print(\"Selected Features: \", rfe.support_)"
   ]
  },
  {
   "cell_type": "code",
   "execution_count": 42,
   "id": "b72cd499",
   "metadata": {
    "ExecuteTime": {
     "end_time": "2022-07-11T06:09:03.511357Z",
     "start_time": "2022-07-11T06:08:58.543166Z"
    }
   },
   "outputs": [
    {
     "name": "stdout",
     "output_type": "stream",
     "text": [
      "<class 'sklearn.neighbors._classification.KNeighborsClassifier'>\n",
      "f1_weighted(validation) =  0.8292807834702943\n",
      "f1_weighted(test):0.7779318549916966\n",
      "[[  4  55   1]\n",
      " [  0 653  51]\n",
      " [  0  86 130]]\n",
      "              precision    recall  f1-score   support\n",
      "\n",
      "           0       1.00      0.07      0.12        60\n",
      "           1       0.82      0.93      0.87       704\n",
      "           2       0.71      0.60      0.65       216\n",
      "\n",
      "    accuracy                           0.80       980\n",
      "   macro avg       0.85      0.53      0.55       980\n",
      "weighted avg       0.81      0.80      0.78       980\n",
      "\n",
      "\n",
      "<class 'sklearn.tree._classes.DecisionTreeClassifier'>\n",
      "f1_weighted(validation) =  0.7851414836759589\n",
      "f1_weighted(test):0.7403588313858527\n",
      "[[ 10  47   3]\n",
      " [ 19 603  82]\n",
      " [  0  93 123]]\n",
      "              precision    recall  f1-score   support\n",
      "\n",
      "           0       0.34      0.17      0.22        60\n",
      "           1       0.81      0.86      0.83       704\n",
      "           2       0.59      0.57      0.58       216\n",
      "\n",
      "    accuracy                           0.75       980\n",
      "   macro avg       0.58      0.53      0.55       980\n",
      "weighted avg       0.73      0.75      0.74       980\n",
      "\n",
      "\n",
      "<class 'sklearn.svm._classes.SVC'>\n",
      "f1_weighted(validation) =  0.7919818954975618\n",
      "f1_weighted(test):0.7469330871547311\n",
      "[[  2  58   0]\n",
      " [  0 672  32]\n",
      " [  0 121  95]]\n",
      "              precision    recall  f1-score   support\n",
      "\n",
      "           0       1.00      0.03      0.06        60\n",
      "           1       0.79      0.95      0.86       704\n",
      "           2       0.75      0.44      0.55       216\n",
      "\n",
      "    accuracy                           0.78       980\n",
      "   macro avg       0.85      0.48      0.49       980\n",
      "weighted avg       0.79      0.78      0.75       980\n",
      "\n",
      "\n"
     ]
    }
   ],
   "source": [
    "performance(estimators, x_train_rfe, x_test_rfe, y_train, y_test)"
   ]
  },
  {
   "cell_type": "code",
   "execution_count": 43,
   "id": "005fec85",
   "metadata": {
    "ExecuteTime": {
     "end_time": "2022-07-11T06:09:04.197707Z",
     "start_time": "2022-07-11T06:09:03.512684Z"
    }
   },
   "outputs": [
    {
     "name": "stdout",
     "output_type": "stream",
     "text": [
      "Number of Features:  10\n",
      "Feature Ranking:  [1 1 2 1 1 1 1 1 1 1 1]\n",
      "Selected Features:  [ True  True False  True  True  True  True  True  True  True  True]\n"
     ]
    }
   ],
   "source": [
    "# Case2: 10 features\n",
    "\n",
    "# Use RFE to rank features and return top 10 features\n",
    "# Parameter step corresponds to the (integer) number of features to remove at each iteration \n",
    "rfe = RFE(estimator = svmlinear, n_features_to_select = 10, step = 1)\n",
    "rfe.fit(x_train_sc, y_train)\n",
    "\n",
    "# transform train input data\n",
    "x_train_rfe = rfe.transform(x_train_sc)\n",
    "\n",
    "# transform test input data\n",
    "x_test_rfe = rfe.transform(x_test_sc)\n",
    "\n",
    "print(\"Number of Features: \", rfe.n_features_)\n",
    "print(\"Feature Ranking: \", rfe.ranking_)\n",
    "print(\"Selected Features: \", rfe.support_)"
   ]
  },
  {
   "cell_type": "code",
   "execution_count": 44,
   "id": "dcedc4a4",
   "metadata": {
    "ExecuteTime": {
     "end_time": "2022-07-11T06:09:08.672085Z",
     "start_time": "2022-07-11T06:09:04.198632Z"
    }
   },
   "outputs": [
    {
     "name": "stdout",
     "output_type": "stream",
     "text": [
      "<class 'sklearn.neighbors._classification.KNeighborsClassifier'>\n",
      "f1_weighted(validation) =  0.8224830525860206\n",
      "f1_weighted(test):0.790525234794192\n",
      "[[  4  55   1]\n",
      " [  0 663  41]\n",
      " [  0  83 133]]\n",
      "              precision    recall  f1-score   support\n",
      "\n",
      "           0       1.00      0.07      0.12        60\n",
      "           1       0.83      0.94      0.88       704\n",
      "           2       0.76      0.62      0.68       216\n",
      "\n",
      "    accuracy                           0.82       980\n",
      "   macro avg       0.86      0.54      0.56       980\n",
      "weighted avg       0.82      0.82      0.79       980\n",
      "\n",
      "\n",
      "<class 'sklearn.tree._classes.DecisionTreeClassifier'>\n",
      "f1_weighted(validation) =  0.7886248385093247\n",
      "f1_weighted(test):0.7296124650564407\n",
      "[[  8  49   3]\n",
      " [ 18 601  85]\n",
      " [  1  97 118]]\n",
      "              precision    recall  f1-score   support\n",
      "\n",
      "           0       0.30      0.13      0.18        60\n",
      "           1       0.80      0.85      0.83       704\n",
      "           2       0.57      0.55      0.56       216\n",
      "\n",
      "    accuracy                           0.74       980\n",
      "   macro avg       0.56      0.51      0.52       980\n",
      "weighted avg       0.72      0.74      0.73       980\n",
      "\n",
      "\n",
      "<class 'sklearn.svm._classes.SVC'>\n",
      "f1_weighted(validation) =  0.7891181051462888\n",
      "f1_weighted(test):0.7409891100821429\n",
      "[[  1  59   0]\n",
      " [  0 674  30]\n",
      " [  0 125  91]]\n",
      "              precision    recall  f1-score   support\n",
      "\n",
      "           0       1.00      0.02      0.03        60\n",
      "           1       0.79      0.96      0.86       704\n",
      "           2       0.75      0.42      0.54       216\n",
      "\n",
      "    accuracy                           0.78       980\n",
      "   macro avg       0.85      0.47      0.48       980\n",
      "weighted avg       0.79      0.78      0.74       980\n",
      "\n",
      "\n"
     ]
    }
   ],
   "source": [
    "performance(estimators, x_train_rfe, x_test_rfe, y_train, y_test)"
   ]
  },
  {
   "cell_type": "code",
   "execution_count": 45,
   "id": "95c488c3",
   "metadata": {
    "ExecuteTime": {
     "end_time": "2022-07-11T06:09:09.658567Z",
     "start_time": "2022-07-11T06:09:08.673036Z"
    }
   },
   "outputs": [
    {
     "name": "stdout",
     "output_type": "stream",
     "text": [
      "Number of Features:  9\n",
      "Feature Ranking:  [1 1 3 1 1 1 2 1 1 1 1]\n",
      "Selected Features:  [ True  True False  True  True  True False  True  True  True  True]\n"
     ]
    }
   ],
   "source": [
    "# Case3: 9 features\n",
    "\n",
    "# Use RFE to rank features and return top 9 features\n",
    "# Parameter step corresponds to the (integer) number of features to remove at each iteration \n",
    "rfe = RFE(estimator = svmlinear, n_features_to_select = 9, step = 1)\n",
    "rfe.fit(x_train_sc, y_train)\n",
    "\n",
    "# transform train input data\n",
    "x_train_rfe = rfe.transform(x_train_sc)\n",
    "\n",
    "# transform test input data\n",
    "x_test_rfe = rfe.transform(x_test_sc)\n",
    "\n",
    "print(\"Number of Features: \", rfe.n_features_)\n",
    "print(\"Feature Ranking: \", rfe.ranking_)\n",
    "print(\"Selected Features: \", rfe.support_)"
   ]
  },
  {
   "cell_type": "code",
   "execution_count": 46,
   "id": "17383d2e",
   "metadata": {
    "ExecuteTime": {
     "end_time": "2022-07-11T06:09:13.852060Z",
     "start_time": "2022-07-11T06:09:09.659460Z"
    }
   },
   "outputs": [
    {
     "name": "stdout",
     "output_type": "stream",
     "text": [
      "<class 'sklearn.neighbors._classification.KNeighborsClassifier'>\n",
      "f1_weighted(validation) =  0.8190205273894016\n",
      "f1_weighted(test):0.7953725582223372\n",
      "[[  4  55   1]\n",
      " [  0 667  37]\n",
      " [  0  82 134]]\n",
      "              precision    recall  f1-score   support\n",
      "\n",
      "           0       1.00      0.07      0.12        60\n",
      "           1       0.83      0.95      0.88       704\n",
      "           2       0.78      0.62      0.69       216\n",
      "\n",
      "    accuracy                           0.82       980\n",
      "   macro avg       0.87      0.54      0.57       980\n",
      "weighted avg       0.83      0.82      0.80       980\n",
      "\n",
      "\n",
      "<class 'sklearn.tree._classes.DecisionTreeClassifier'>\n",
      "f1_weighted(validation) =  0.7855101713868243\n",
      "f1_weighted(test):0.7514684765028644\n",
      "[[ 12  47   1]\n",
      " [ 18 611  75]\n",
      " [  0  92 124]]\n",
      "              precision    recall  f1-score   support\n",
      "\n",
      "           0       0.40      0.20      0.27        60\n",
      "           1       0.81      0.87      0.84       704\n",
      "           2       0.62      0.57      0.60       216\n",
      "\n",
      "    accuracy                           0.76       980\n",
      "   macro avg       0.61      0.55      0.57       980\n",
      "weighted avg       0.75      0.76      0.75       980\n",
      "\n",
      "\n",
      "<class 'sklearn.svm._classes.SVC'>\n",
      "f1_weighted(validation) =  0.7851224364836028\n",
      "f1_weighted(test):0.7353835836117236\n",
      "[[  1  59   0]\n",
      " [  0 677  27]\n",
      " [  0 131  85]]\n",
      "              precision    recall  f1-score   support\n",
      "\n",
      "           0       1.00      0.02      0.03        60\n",
      "           1       0.78      0.96      0.86       704\n",
      "           2       0.76      0.39      0.52       216\n",
      "\n",
      "    accuracy                           0.78       980\n",
      "   macro avg       0.85      0.46      0.47       980\n",
      "weighted avg       0.79      0.78      0.74       980\n",
      "\n",
      "\n"
     ]
    }
   ],
   "source": [
    "performance(estimators, x_train_rfe, x_test_rfe, y_train, y_test)"
   ]
  },
  {
   "cell_type": "code",
   "execution_count": 47,
   "id": "2330407d",
   "metadata": {
    "ExecuteTime": {
     "end_time": "2022-07-11T06:09:15.141871Z",
     "start_time": "2022-07-11T06:09:13.853096Z"
    }
   },
   "outputs": [
    {
     "name": "stdout",
     "output_type": "stream",
     "text": [
      "Number of Features:  8\n",
      "Feature Ranking:  [1 1 4 1 2 1 3 1 1 1 1]\n",
      "Selected Features:  [ True  True False  True False  True False  True  True  True  True]\n"
     ]
    }
   ],
   "source": [
    "# Case4: 8 features\n",
    "\n",
    "# Use RFE to rank features and return top 8 features\n",
    "# Parameter step corresponds to the (integer) number of features to remove at each iteration \n",
    "rfe = RFE(estimator = svmlinear, n_features_to_select = 8, step = 1)\n",
    "rfe.fit(x_train_sc, y_train)\n",
    "\n",
    "# transform train input data\n",
    "x_train_rfe = rfe.transform(x_train_sc)\n",
    "\n",
    "# transform test input data\n",
    "x_test_rfe = rfe.transform(x_test_sc)\n",
    "\n",
    "print(\"Number of Features: \", rfe.n_features_)\n",
    "print(\"Feature Ranking: \", rfe.ranking_)\n",
    "print(\"Selected Features: \", rfe.support_)"
   ]
  },
  {
   "cell_type": "code",
   "execution_count": 48,
   "id": "f174ad7f",
   "metadata": {
    "ExecuteTime": {
     "end_time": "2022-07-11T06:09:19.043635Z",
     "start_time": "2022-07-11T06:09:15.142846Z"
    }
   },
   "outputs": [
    {
     "name": "stdout",
     "output_type": "stream",
     "text": [
      "<class 'sklearn.neighbors._classification.KNeighborsClassifier'>\n",
      "f1_weighted(validation) =  0.8156486214602573\n",
      "f1_weighted(test):0.7826395008740352\n",
      "[[  4  55   1]\n",
      " [  0 666  38]\n",
      " [  0  92 124]]\n",
      "              precision    recall  f1-score   support\n",
      "\n",
      "           0       1.00      0.07      0.12        60\n",
      "           1       0.82      0.95      0.88       704\n",
      "           2       0.76      0.57      0.65       216\n",
      "\n",
      "    accuracy                           0.81       980\n",
      "   macro avg       0.86      0.53      0.55       980\n",
      "weighted avg       0.82      0.81      0.78       980\n",
      "\n",
      "\n",
      "<class 'sklearn.tree._classes.DecisionTreeClassifier'>\n",
      "f1_weighted(validation) =  0.7878137485348452\n",
      "f1_weighted(test):0.7664735313141348\n",
      "[[ 16  43   1]\n",
      " [ 17 621  66]\n",
      " [  0  92 124]]\n",
      "              precision    recall  f1-score   support\n",
      "\n",
      "           0       0.48      0.27      0.34        60\n",
      "           1       0.82      0.88      0.85       704\n",
      "           2       0.65      0.57      0.61       216\n",
      "\n",
      "    accuracy                           0.78       980\n",
      "   macro avg       0.65      0.57      0.60       980\n",
      "weighted avg       0.76      0.78      0.77       980\n",
      "\n",
      "\n",
      "<class 'sklearn.svm._classes.SVC'>\n",
      "f1_weighted(validation) =  0.775015978058842\n",
      "f1_weighted(test):0.7252337937516928\n",
      "[[  1  59   0]\n",
      " [  0 675  29]\n",
      " [  0 137  79]]\n",
      "              precision    recall  f1-score   support\n",
      "\n",
      "           0       1.00      0.02      0.03        60\n",
      "           1       0.77      0.96      0.86       704\n",
      "           2       0.73      0.37      0.49       216\n",
      "\n",
      "    accuracy                           0.77       980\n",
      "   macro avg       0.84      0.45      0.46       980\n",
      "weighted avg       0.78      0.77      0.73       980\n",
      "\n",
      "\n"
     ]
    }
   ],
   "source": [
    "performance(estimators, x_train_rfe, x_test_rfe, y_train, y_test)"
   ]
  },
  {
   "cell_type": "code",
   "execution_count": 49,
   "id": "c5474772",
   "metadata": {
    "ExecuteTime": {
     "end_time": "2022-07-11T06:09:20.638490Z",
     "start_time": "2022-07-11T06:09:19.044598Z"
    }
   },
   "outputs": [
    {
     "name": "stdout",
     "output_type": "stream",
     "text": [
      "Number of Features:  7\n",
      "Feature Ranking:  [1 1 5 1 3 1 4 1 1 1 2]\n",
      "Selected Features:  [ True  True False  True False  True False  True  True  True False]\n"
     ]
    }
   ],
   "source": [
    "# Case5: 7 features\n",
    "\n",
    "# Use RFE to rank features and return top 7 features\n",
    "# Parameter step corresponds to the (integer) number of features to remove at each iteration \n",
    "rfe = RFE(estimator = svmlinear, n_features_to_select = 7, step = 1)\n",
    "rfe.fit(x_train_sc, y_train)\n",
    "\n",
    "# transform train input data\n",
    "x_train_rfe = rfe.transform(x_train_sc)\n",
    "\n",
    "# transform test input data\n",
    "x_test_rfe = rfe.transform(x_test_sc)\n",
    "\n",
    "print(\"Number of Features: \", rfe.n_features_)\n",
    "print(\"Feature Ranking: \", rfe.ranking_)\n",
    "print(\"Selected Features: \", rfe.support_)"
   ]
  },
  {
   "cell_type": "code",
   "execution_count": 50,
   "id": "76d18ca7",
   "metadata": {
    "ExecuteTime": {
     "end_time": "2022-07-11T06:09:24.412086Z",
     "start_time": "2022-07-11T06:09:20.639556Z"
    }
   },
   "outputs": [
    {
     "name": "stdout",
     "output_type": "stream",
     "text": [
      "<class 'sklearn.neighbors._classification.KNeighborsClassifier'>\n",
      "f1_weighted(validation) =  0.8135532665030439\n",
      "f1_weighted(test):0.7778184890324907\n",
      "[[  4  54   2]\n",
      " [  0 670  34]\n",
      " [  0  99 117]]\n",
      "              precision    recall  f1-score   support\n",
      "\n",
      "           0       1.00      0.07      0.12        60\n",
      "           1       0.81      0.95      0.88       704\n",
      "           2       0.76      0.54      0.63       216\n",
      "\n",
      "    accuracy                           0.81       980\n",
      "   macro avg       0.86      0.52      0.55       980\n",
      "weighted avg       0.81      0.81      0.78       980\n",
      "\n",
      "\n",
      "<class 'sklearn.tree._classes.DecisionTreeClassifier'>\n",
      "f1_weighted(validation) =  0.7828332051831768\n",
      "f1_weighted(test):0.75290301093138\n",
      "[[ 15  42   3]\n",
      " [ 16 597  91]\n",
      " [  0  84 132]]\n",
      "              precision    recall  f1-score   support\n",
      "\n",
      "           0       0.48      0.25      0.33        60\n",
      "           1       0.83      0.85      0.84       704\n",
      "           2       0.58      0.61      0.60       216\n",
      "\n",
      "    accuracy                           0.76       980\n",
      "   macro avg       0.63      0.57      0.59       980\n",
      "weighted avg       0.75      0.76      0.75       980\n",
      "\n",
      "\n",
      "<class 'sklearn.svm._classes.SVC'>\n",
      "f1_weighted(validation) =  0.7669842778292313\n",
      "f1_weighted(test):0.7214372275061469\n",
      "[[  1  59   0]\n",
      " [  0 679  25]\n",
      " [  0 142  74]]\n",
      "              precision    recall  f1-score   support\n",
      "\n",
      "           0       1.00      0.02      0.03        60\n",
      "           1       0.77      0.96      0.86       704\n",
      "           2       0.75      0.34      0.47       216\n",
      "\n",
      "    accuracy                           0.77       980\n",
      "   macro avg       0.84      0.44      0.45       980\n",
      "weighted avg       0.78      0.77      0.72       980\n",
      "\n",
      "\n"
     ]
    }
   ],
   "source": [
    "performance(estimators, x_train_rfe, x_test_rfe, y_train, y_test)"
   ]
  },
  {
   "cell_type": "code",
   "execution_count": 51,
   "id": "be38d73e",
   "metadata": {
    "ExecuteTime": {
     "end_time": "2022-07-11T06:09:26.266461Z",
     "start_time": "2022-07-11T06:09:24.412997Z"
    }
   },
   "outputs": [
    {
     "name": "stdout",
     "output_type": "stream",
     "text": [
      "Number of Features:  6\n",
      "Feature Ranking:  [1 1 6 1 4 1 5 1 1 2 3]\n",
      "Selected Features:  [ True  True False  True False  True False  True  True False False]\n"
     ]
    }
   ],
   "source": [
    "# Case6: 6 features\n",
    "\n",
    "# Use RFE to rank features and return top 6 features\n",
    "# Parameter step corresponds to the (integer) number of features to remove at each iteration \n",
    "rfe = RFE(estimator = svmlinear, n_features_to_select = 6, step = 1)\n",
    "rfe.fit(x_train_sc, y_train)\n",
    "\n",
    "# transform train input data\n",
    "x_train_rfe = rfe.transform(x_train_sc)\n",
    "\n",
    "# transform test input data\n",
    "x_test_rfe = rfe.transform(x_test_sc)\n",
    "\n",
    "print(\"Number of Features: \", rfe.n_features_)\n",
    "print(\"Feature Ranking: \", rfe.ranking_)\n",
    "print(\"Selected Features: \", rfe.support_)"
   ]
  },
  {
   "cell_type": "code",
   "execution_count": 52,
   "id": "b087d840",
   "metadata": {
    "ExecuteTime": {
     "end_time": "2022-07-11T06:09:29.648786Z",
     "start_time": "2022-07-11T06:09:26.267428Z"
    }
   },
   "outputs": [
    {
     "name": "stdout",
     "output_type": "stream",
     "text": [
      "<class 'sklearn.neighbors._classification.KNeighborsClassifier'>\n",
      "f1_weighted(validation) =  0.8070751460658631\n",
      "f1_weighted(test):0.7820261433924901\n",
      "[[  4  56   0]\n",
      " [  0 668  36]\n",
      " [  0  94 122]]\n",
      "              precision    recall  f1-score   support\n",
      "\n",
      "           0       1.00      0.07      0.12        60\n",
      "           1       0.82      0.95      0.88       704\n",
      "           2       0.77      0.56      0.65       216\n",
      "\n",
      "    accuracy                           0.81       980\n",
      "   macro avg       0.86      0.53      0.55       980\n",
      "weighted avg       0.82      0.81      0.78       980\n",
      "\n",
      "\n",
      "<class 'sklearn.tree._classes.DecisionTreeClassifier'>\n",
      "f1_weighted(validation) =  0.7763073599318361\n",
      "f1_weighted(test):0.7543867298986233\n",
      "[[ 15  41   4]\n",
      " [ 21 593  90]\n",
      " [  0  80 136]]\n",
      "              precision    recall  f1-score   support\n",
      "\n",
      "           0       0.42      0.25      0.31        60\n",
      "           1       0.83      0.84      0.84       704\n",
      "           2       0.59      0.63      0.61       216\n",
      "\n",
      "    accuracy                           0.76       980\n",
      "   macro avg       0.61      0.57      0.59       980\n",
      "weighted avg       0.75      0.76      0.75       980\n",
      "\n",
      "\n",
      "<class 'sklearn.svm._classes.SVC'>\n",
      "f1_weighted(validation) =  0.7525936252281155\n",
      "f1_weighted(test):0.7159597732929696\n",
      "[[  0  59   1]\n",
      " [  0 677  27]\n",
      " [  0 143  73]]\n",
      "              precision    recall  f1-score   support\n",
      "\n",
      "           0       0.00      0.00      0.00        60\n",
      "           1       0.77      0.96      0.86       704\n",
      "           2       0.72      0.34      0.46       216\n",
      "\n",
      "    accuracy                           0.77       980\n",
      "   macro avg       0.50      0.43      0.44       980\n",
      "weighted avg       0.71      0.77      0.72       980\n",
      "\n",
      "\n"
     ]
    },
    {
     "name": "stderr",
     "output_type": "stream",
     "text": [
      "/Users/maru/opt/anaconda3/lib/python3.9/site-packages/sklearn/metrics/_classification.py:1318: UndefinedMetricWarning: Precision and F-score are ill-defined and being set to 0.0 in labels with no predicted samples. Use `zero_division` parameter to control this behavior.\n",
      "  _warn_prf(average, modifier, msg_start, len(result))\n",
      "/Users/maru/opt/anaconda3/lib/python3.9/site-packages/sklearn/metrics/_classification.py:1318: UndefinedMetricWarning: Precision and F-score are ill-defined and being set to 0.0 in labels with no predicted samples. Use `zero_division` parameter to control this behavior.\n",
      "  _warn_prf(average, modifier, msg_start, len(result))\n",
      "/Users/maru/opt/anaconda3/lib/python3.9/site-packages/sklearn/metrics/_classification.py:1318: UndefinedMetricWarning: Precision and F-score are ill-defined and being set to 0.0 in labels with no predicted samples. Use `zero_division` parameter to control this behavior.\n",
      "  _warn_prf(average, modifier, msg_start, len(result))\n"
     ]
    }
   ],
   "source": [
    "performance(estimators, x_train_rfe, x_test_rfe, y_train, y_test)"
   ]
  },
  {
   "cell_type": "code",
   "execution_count": 53,
   "id": "90bc2323",
   "metadata": {
    "ExecuteTime": {
     "end_time": "2022-07-11T06:09:31.741238Z",
     "start_time": "2022-07-11T06:09:29.649792Z"
    }
   },
   "outputs": [
    {
     "name": "stdout",
     "output_type": "stream",
     "text": [
      "Number of Features:  5\n",
      "Feature Ranking:  [1 1 7 1 5 2 6 1 1 3 4]\n",
      "Selected Features:  [ True  True False  True False False False  True  True False False]\n"
     ]
    }
   ],
   "source": [
    "# Case7: 5 features\n",
    "\n",
    "# Use RFE to rank features and return top 5 features\n",
    "# Parameter step corresponds to the (integer) number of features to remove at each iteration \n",
    "rfe = RFE(estimator = svmlinear, n_features_to_select = 5, step = 1)\n",
    "rfe.fit(x_train_sc, y_train)\n",
    "\n",
    "# transform train input data\n",
    "x_train_rfe = rfe.transform(x_train_sc)\n",
    "\n",
    "# transform test input data\n",
    "x_test_rfe = rfe.transform(x_test_sc)\n",
    "\n",
    "print(\"Number of Features: \", rfe.n_features_)\n",
    "print(\"Feature Ranking: \", rfe.ranking_)\n",
    "print(\"Selected Features: \", rfe.support_)"
   ]
  },
  {
   "cell_type": "code",
   "execution_count": 54,
   "id": "907d9a58",
   "metadata": {
    "ExecuteTime": {
     "end_time": "2022-07-11T06:09:35.207650Z",
     "start_time": "2022-07-11T06:09:31.742404Z"
    }
   },
   "outputs": [
    {
     "name": "stdout",
     "output_type": "stream",
     "text": [
      "<class 'sklearn.neighbors._classification.KNeighborsClassifier'>\n",
      "f1_weighted(validation) =  0.8042294772418351\n",
      "f1_weighted(test):0.7803327244254769\n",
      "[[  4  52   4]\n",
      " [  0 662  42]\n",
      " [  0  91 125]]\n",
      "              precision    recall  f1-score   support\n",
      "\n",
      "           0       1.00      0.07      0.12        60\n",
      "           1       0.82      0.94      0.88       704\n",
      "           2       0.73      0.58      0.65       216\n",
      "\n",
      "    accuracy                           0.81       980\n",
      "   macro avg       0.85      0.53      0.55       980\n",
      "weighted avg       0.81      0.81      0.78       980\n",
      "\n",
      "\n",
      "<class 'sklearn.tree._classes.DecisionTreeClassifier'>\n",
      "f1_weighted(validation) =  0.7740786136804587\n",
      "f1_weighted(test):0.7487917965215644\n",
      "[[  9  47   4]\n",
      " [ 16 612  76]\n",
      " [  5  87 124]]\n",
      "              precision    recall  f1-score   support\n",
      "\n",
      "           0       0.30      0.15      0.20        60\n",
      "           1       0.82      0.87      0.84       704\n",
      "           2       0.61      0.57      0.59       216\n",
      "\n",
      "    accuracy                           0.76       980\n",
      "   macro avg       0.58      0.53      0.54       980\n",
      "weighted avg       0.74      0.76      0.75       980\n",
      "\n",
      "\n",
      "<class 'sklearn.svm._classes.SVC'>\n",
      "f1_weighted(validation) =  0.7403276402958507\n",
      "f1_weighted(test):0.7045683015991843\n",
      "[[  0  56   4]\n",
      " [  0 681  23]\n",
      " [  0 153  63]]\n",
      "              precision    recall  f1-score   support\n",
      "\n",
      "           0       0.00      0.00      0.00        60\n",
      "           1       0.77      0.97      0.85       704\n",
      "           2       0.70      0.29      0.41       216\n",
      "\n",
      "    accuracy                           0.76       980\n",
      "   macro avg       0.49      0.42      0.42       980\n",
      "weighted avg       0.70      0.76      0.70       980\n",
      "\n",
      "\n"
     ]
    },
    {
     "name": "stderr",
     "output_type": "stream",
     "text": [
      "/Users/maru/opt/anaconda3/lib/python3.9/site-packages/sklearn/metrics/_classification.py:1318: UndefinedMetricWarning: Precision and F-score are ill-defined and being set to 0.0 in labels with no predicted samples. Use `zero_division` parameter to control this behavior.\n",
      "  _warn_prf(average, modifier, msg_start, len(result))\n",
      "/Users/maru/opt/anaconda3/lib/python3.9/site-packages/sklearn/metrics/_classification.py:1318: UndefinedMetricWarning: Precision and F-score are ill-defined and being set to 0.0 in labels with no predicted samples. Use `zero_division` parameter to control this behavior.\n",
      "  _warn_prf(average, modifier, msg_start, len(result))\n",
      "/Users/maru/opt/anaconda3/lib/python3.9/site-packages/sklearn/metrics/_classification.py:1318: UndefinedMetricWarning: Precision and F-score are ill-defined and being set to 0.0 in labels with no predicted samples. Use `zero_division` parameter to control this behavior.\n",
      "  _warn_prf(average, modifier, msg_start, len(result))\n"
     ]
    }
   ],
   "source": [
    "performance(estimators, x_train_rfe, x_test_rfe, y_train, y_test)"
   ]
  },
  {
   "cell_type": "code",
   "execution_count": 55,
   "id": "29e2f41e",
   "metadata": {
    "ExecuteTime": {
     "end_time": "2022-07-11T06:09:35.236889Z",
     "start_time": "2022-07-11T06:09:35.208563Z"
    }
   },
   "outputs": [
    {
     "name": "stdout",
     "output_type": "stream",
     "text": [
      "Number of Features:  11\n",
      "Feature Ranking:  [1 1 1 1 1 1 1 1 1 1 1]\n",
      "Selected Features:  [ True  True  True  True  True  True  True  True  True  True  True]\n"
     ]
    }
   ],
   "source": [
    "# Case1: All features\n",
    "# Create a Decision Tree classifier\n",
    "dtree = DecisionTreeClassifier(criterion='entropy', random_state = 0)\n",
    "\n",
    "# Use RFE to rank features and return all features\n",
    "# Parameter step corresponds to the (integer) number of features to remove at each iteration \n",
    "rfe = RFE(estimator = dtree, n_features_to_select = 11, step = 1)\n",
    "rfe.fit(x_train_sc, y_train)\n",
    "\n",
    "# transform train input data\n",
    "x_train_rfe = rfe.transform(x_train_sc)\n",
    "\n",
    "# transform test input data\n",
    "x_test_rfe = rfe.transform(x_test_sc)\n",
    "\n",
    "print(\"Number of Features: \", rfe.n_features_)\n",
    "print(\"Feature Ranking: \", rfe.ranking_)\n",
    "print(\"Selected Features: \", rfe.support_)"
   ]
  },
  {
   "cell_type": "code",
   "execution_count": 56,
   "id": "4de22c5f",
   "metadata": {
    "ExecuteTime": {
     "end_time": "2022-07-11T06:09:40.270633Z",
     "start_time": "2022-07-11T06:09:35.237943Z"
    }
   },
   "outputs": [
    {
     "name": "stdout",
     "output_type": "stream",
     "text": [
      "<class 'sklearn.neighbors._classification.KNeighborsClassifier'>\n",
      "f1_weighted(validation) =  0.8292807834702943\n",
      "f1_weighted(test):0.7779318549916966\n",
      "[[  4  55   1]\n",
      " [  0 653  51]\n",
      " [  0  86 130]]\n",
      "              precision    recall  f1-score   support\n",
      "\n",
      "           0       1.00      0.07      0.12        60\n",
      "           1       0.82      0.93      0.87       704\n",
      "           2       0.71      0.60      0.65       216\n",
      "\n",
      "    accuracy                           0.80       980\n",
      "   macro avg       0.85      0.53      0.55       980\n",
      "weighted avg       0.81      0.80      0.78       980\n",
      "\n",
      "\n",
      "<class 'sklearn.tree._classes.DecisionTreeClassifier'>\n",
      "f1_weighted(validation) =  0.7851414836759589\n",
      "f1_weighted(test):0.7403588313858527\n",
      "[[ 10  47   3]\n",
      " [ 19 603  82]\n",
      " [  0  93 123]]\n",
      "              precision    recall  f1-score   support\n",
      "\n",
      "           0       0.34      0.17      0.22        60\n",
      "           1       0.81      0.86      0.83       704\n",
      "           2       0.59      0.57      0.58       216\n",
      "\n",
      "    accuracy                           0.75       980\n",
      "   macro avg       0.58      0.53      0.55       980\n",
      "weighted avg       0.73      0.75      0.74       980\n",
      "\n",
      "\n",
      "<class 'sklearn.svm._classes.SVC'>\n",
      "f1_weighted(validation) =  0.7919818954975618\n",
      "f1_weighted(test):0.7469330871547311\n",
      "[[  2  58   0]\n",
      " [  0 672  32]\n",
      " [  0 121  95]]\n",
      "              precision    recall  f1-score   support\n",
      "\n",
      "           0       1.00      0.03      0.06        60\n",
      "           1       0.79      0.95      0.86       704\n",
      "           2       0.75      0.44      0.55       216\n",
      "\n",
      "    accuracy                           0.78       980\n",
      "   macro avg       0.85      0.48      0.49       980\n",
      "weighted avg       0.79      0.78      0.75       980\n",
      "\n",
      "\n"
     ]
    }
   ],
   "source": [
    "performance(estimators, x_train_rfe, x_test_rfe, y_train, y_test)"
   ]
  },
  {
   "cell_type": "code",
   "execution_count": 57,
   "id": "b20821b8",
   "metadata": {
    "ExecuteTime": {
     "end_time": "2022-07-11T06:09:40.321141Z",
     "start_time": "2022-07-11T06:09:40.271597Z"
    }
   },
   "outputs": [
    {
     "name": "stdout",
     "output_type": "stream",
     "text": [
      "Number of Features:  10\n",
      "Feature Ranking:  [2 1 1 1 1 1 1 1 1 1 1]\n",
      "Selected Features:  [False  True  True  True  True  True  True  True  True  True  True]\n"
     ]
    }
   ],
   "source": [
    "# Case2: 10 features\n",
    "\n",
    "# Use RFE to rank features and return top 10 features\n",
    "# Parameter step corresponds to the (integer) number of features to remove at each iteration \n",
    "rfe = RFE(estimator = dtree, n_features_to_select = 10, step = 1)\n",
    "rfe.fit(x_train_sc, y_train)\n",
    "\n",
    "# transform train input data\n",
    "x_train_rfe = rfe.transform(x_train_sc)\n",
    "\n",
    "# transform test input data\n",
    "x_test_rfe = rfe.transform(x_test_sc)\n",
    "\n",
    "print(\"Number of Features: \", rfe.n_features_)\n",
    "print(\"Feature Ranking: \", rfe.ranking_)\n",
    "print(\"Selected Features: \", rfe.support_)"
   ]
  },
  {
   "cell_type": "code",
   "execution_count": 58,
   "id": "4f61542f",
   "metadata": {
    "ExecuteTime": {
     "end_time": "2022-07-11T06:09:44.884969Z",
     "start_time": "2022-07-11T06:09:40.322786Z"
    }
   },
   "outputs": [
    {
     "name": "stdout",
     "output_type": "stream",
     "text": [
      "<class 'sklearn.neighbors._classification.KNeighborsClassifier'>\n",
      "f1_weighted(validation) =  0.82517591927295\n",
      "f1_weighted(test):0.7801517381146006\n",
      "[[  4  54   2]\n",
      " [  0 649  55]\n",
      " [  0  81 135]]\n",
      "              precision    recall  f1-score   support\n",
      "\n",
      "           0       1.00      0.07      0.12        60\n",
      "           1       0.83      0.92      0.87       704\n",
      "           2       0.70      0.62      0.66       216\n",
      "\n",
      "    accuracy                           0.80       980\n",
      "   macro avg       0.84      0.54      0.55       980\n",
      "weighted avg       0.81      0.80      0.78       980\n",
      "\n",
      "\n",
      "<class 'sklearn.tree._classes.DecisionTreeClassifier'>\n",
      "f1_weighted(validation) =  0.7817091077893648\n",
      "f1_weighted(test):0.7572868173230769\n",
      "[[ 12  44   4]\n",
      " [ 14 610  80]\n",
      " [  0  86 130]]\n",
      "              precision    recall  f1-score   support\n",
      "\n",
      "           0       0.46      0.20      0.28        60\n",
      "           1       0.82      0.87      0.84       704\n",
      "           2       0.61      0.60      0.60       216\n",
      "\n",
      "    accuracy                           0.77       980\n",
      "   macro avg       0.63      0.56      0.58       980\n",
      "weighted avg       0.75      0.77      0.76       980\n",
      "\n",
      "\n",
      "<class 'sklearn.svm._classes.SVC'>\n",
      "f1_weighted(validation) =  0.788278160909908\n",
      "f1_weighted(test):0.7328720169158083\n",
      "[[  2  58   0]\n",
      " [  0 673  31]\n",
      " [  0 132  84]]\n",
      "              precision    recall  f1-score   support\n",
      "\n",
      "           0       1.00      0.03      0.06        60\n",
      "           1       0.78      0.96      0.86       704\n",
      "           2       0.73      0.39      0.51       216\n",
      "\n",
      "    accuracy                           0.77       980\n",
      "   macro avg       0.84      0.46      0.48       980\n",
      "weighted avg       0.78      0.77      0.73       980\n",
      "\n",
      "\n"
     ]
    }
   ],
   "source": [
    "performance(estimators, x_train_rfe, x_test_rfe, y_train, y_test)"
   ]
  },
  {
   "cell_type": "code",
   "execution_count": 59,
   "id": "d4406c63",
   "metadata": {
    "ExecuteTime": {
     "end_time": "2022-07-11T06:09:44.958027Z",
     "start_time": "2022-07-11T06:09:44.886032Z"
    }
   },
   "outputs": [
    {
     "name": "stdout",
     "output_type": "stream",
     "text": [
      "Number of Features:  9\n",
      "Feature Ranking:  [3 1 2 1 1 1 1 1 1 1 1]\n",
      "Selected Features:  [False  True False  True  True  True  True  True  True  True  True]\n"
     ]
    }
   ],
   "source": [
    "# Case3: 9 features\n",
    "\n",
    "# Use RFE to rank features and return top 9 features\n",
    "# Parameter step corresponds to the (integer) number of features to remove at each iteration \n",
    "rfe = RFE(estimator = dtree, n_features_to_select = 9, step = 1)\n",
    "rfe.fit(x_train_sc, y_train)\n",
    "\n",
    "# transform train input data\n",
    "x_train_rfe = rfe.transform(x_train_sc)\n",
    "\n",
    "# transform test input data\n",
    "x_test_rfe = rfe.transform(x_test_sc)\n",
    "\n",
    "print(\"Number of Features: \", rfe.n_features_)\n",
    "print(\"Feature Ranking: \", rfe.ranking_)\n",
    "print(\"Selected Features: \", rfe.support_)"
   ]
  },
  {
   "cell_type": "code",
   "execution_count": 60,
   "id": "79dcf665",
   "metadata": {
    "ExecuteTime": {
     "end_time": "2022-07-11T06:09:49.188504Z",
     "start_time": "2022-07-11T06:09:44.959179Z"
    }
   },
   "outputs": [
    {
     "name": "stdout",
     "output_type": "stream",
     "text": [
      "<class 'sklearn.neighbors._classification.KNeighborsClassifier'>\n",
      "f1_weighted(validation) =  0.8226807596313307\n",
      "f1_weighted(test):0.7891059590452714\n",
      "[[  4  55   1]\n",
      " [  0 664  40]\n",
      " [  0  85 131]]\n",
      "              precision    recall  f1-score   support\n",
      "\n",
      "           0       1.00      0.07      0.12        60\n",
      "           1       0.83      0.94      0.88       704\n",
      "           2       0.76      0.61      0.68       216\n",
      "\n",
      "    accuracy                           0.82       980\n",
      "   macro avg       0.86      0.54      0.56       980\n",
      "weighted avg       0.82      0.82      0.79       980\n",
      "\n",
      "\n",
      "<class 'sklearn.tree._classes.DecisionTreeClassifier'>\n",
      "f1_weighted(validation) =  0.7883668276424636\n",
      "f1_weighted(test):0.7470784892637458\n",
      "[[ 10  47   3]\n",
      " [ 18 604  82]\n",
      " [  1  87 128]]\n",
      "              precision    recall  f1-score   support\n",
      "\n",
      "           0       0.34      0.17      0.22        60\n",
      "           1       0.82      0.86      0.84       704\n",
      "           2       0.60      0.59      0.60       216\n",
      "\n",
      "    accuracy                           0.76       980\n",
      "   macro avg       0.59      0.54      0.55       980\n",
      "weighted avg       0.74      0.76      0.75       980\n",
      "\n",
      "\n",
      "<class 'sklearn.svm._classes.SVC'>\n",
      "f1_weighted(validation) =  0.7833950283786357\n",
      "f1_weighted(test):0.7177059520877523\n",
      "[[  0  60   0]\n",
      " [  0 674  30]\n",
      " [  0 140  76]]\n",
      "              precision    recall  f1-score   support\n",
      "\n",
      "           0       0.00      0.00      0.00        60\n",
      "           1       0.77      0.96      0.85       704\n",
      "           2       0.72      0.35      0.47       216\n",
      "\n",
      "    accuracy                           0.77       980\n",
      "   macro avg       0.50      0.44      0.44       980\n",
      "weighted avg       0.71      0.77      0.72       980\n",
      "\n",
      "\n"
     ]
    },
    {
     "name": "stderr",
     "output_type": "stream",
     "text": [
      "/Users/maru/opt/anaconda3/lib/python3.9/site-packages/sklearn/metrics/_classification.py:1318: UndefinedMetricWarning: Precision and F-score are ill-defined and being set to 0.0 in labels with no predicted samples. Use `zero_division` parameter to control this behavior.\n",
      "  _warn_prf(average, modifier, msg_start, len(result))\n",
      "/Users/maru/opt/anaconda3/lib/python3.9/site-packages/sklearn/metrics/_classification.py:1318: UndefinedMetricWarning: Precision and F-score are ill-defined and being set to 0.0 in labels with no predicted samples. Use `zero_division` parameter to control this behavior.\n",
      "  _warn_prf(average, modifier, msg_start, len(result))\n",
      "/Users/maru/opt/anaconda3/lib/python3.9/site-packages/sklearn/metrics/_classification.py:1318: UndefinedMetricWarning: Precision and F-score are ill-defined and being set to 0.0 in labels with no predicted samples. Use `zero_division` parameter to control this behavior.\n",
      "  _warn_prf(average, modifier, msg_start, len(result))\n"
     ]
    }
   ],
   "source": [
    "performance(estimators, x_train_rfe, x_test_rfe, y_train, y_test)"
   ]
  },
  {
   "cell_type": "code",
   "execution_count": 61,
   "id": "6a02c08e",
   "metadata": {
    "ExecuteTime": {
     "end_time": "2022-07-11T06:09:49.276561Z",
     "start_time": "2022-07-11T06:09:49.189571Z"
    }
   },
   "outputs": [
    {
     "name": "stdout",
     "output_type": "stream",
     "text": [
      "Number of Features:  8\n",
      "Feature Ranking:  [4 1 3 1 2 1 1 1 1 1 1]\n",
      "Selected Features:  [False  True False  True False  True  True  True  True  True  True]\n"
     ]
    }
   ],
   "source": [
    "# Case4: 8 features\n",
    "\n",
    "# Use RFE to rank features and return top 8 features\n",
    "# Parameter step corresponds to the (integer) number of features to remove at each iteration \n",
    "rfe = RFE(estimator = dtree, n_features_to_select = 8, step = 1)\n",
    "rfe.fit(x_train_sc, y_train)\n",
    "\n",
    "# transform train input data\n",
    "x_train_rfe = rfe.transform(x_train_sc)\n",
    "\n",
    "# transform test input data\n",
    "x_test_rfe = rfe.transform(x_test_sc)\n",
    "\n",
    "print(\"Number of Features: \", rfe.n_features_)\n",
    "print(\"Feature Ranking: \", rfe.ranking_)\n",
    "print(\"Selected Features: \", rfe.support_)"
   ]
  },
  {
   "cell_type": "code",
   "execution_count": 62,
   "id": "3c61d62c",
   "metadata": {
    "ExecuteTime": {
     "end_time": "2022-07-11T06:09:53.439048Z",
     "start_time": "2022-07-11T06:09:49.277625Z"
    }
   },
   "outputs": [
    {
     "name": "stdout",
     "output_type": "stream",
     "text": [
      "<class 'sklearn.neighbors._classification.KNeighborsClassifier'>\n",
      "f1_weighted(validation) =  0.8174398786258659\n",
      "f1_weighted(test):0.7780829353017803\n",
      "[[  4  56   0]\n",
      " [  0 665  39]\n",
      " [  0  95 121]]\n",
      "              precision    recall  f1-score   support\n",
      "\n",
      "           0       1.00      0.07      0.12        60\n",
      "           1       0.81      0.94      0.88       704\n",
      "           2       0.76      0.56      0.64       216\n",
      "\n",
      "    accuracy                           0.81       980\n",
      "   macro avg       0.86      0.52      0.55       980\n",
      "weighted avg       0.81      0.81      0.78       980\n",
      "\n",
      "\n",
      "<class 'sklearn.tree._classes.DecisionTreeClassifier'>\n",
      "f1_weighted(validation) =  0.7852025720743747\n",
      "f1_weighted(test):0.7441958843680136\n",
      "[[ 15  41   4]\n",
      " [ 14 604  86]\n",
      " [  0  97 119]]\n",
      "              precision    recall  f1-score   support\n",
      "\n",
      "           0       0.52      0.25      0.34        60\n",
      "           1       0.81      0.86      0.84       704\n",
      "           2       0.57      0.55      0.56       216\n",
      "\n",
      "    accuracy                           0.75       980\n",
      "   macro avg       0.63      0.55      0.58       980\n",
      "weighted avg       0.74      0.75      0.74       980\n",
      "\n",
      "\n",
      "<class 'sklearn.svm._classes.SVC'>\n",
      "f1_weighted(validation) =  0.7755241818471021\n",
      "f1_weighted(test):0.7233976304251716\n",
      "[[  0  60   0]\n",
      " [  0 674  30]\n",
      " [  0 136  80]]\n",
      "              precision    recall  f1-score   support\n",
      "\n",
      "           0       0.00      0.00      0.00        60\n",
      "           1       0.77      0.96      0.86       704\n",
      "           2       0.73      0.37      0.49       216\n",
      "\n",
      "    accuracy                           0.77       980\n",
      "   macro avg       0.50      0.44      0.45       980\n",
      "weighted avg       0.72      0.77      0.72       980\n",
      "\n",
      "\n"
     ]
    },
    {
     "name": "stderr",
     "output_type": "stream",
     "text": [
      "/Users/maru/opt/anaconda3/lib/python3.9/site-packages/sklearn/metrics/_classification.py:1318: UndefinedMetricWarning: Precision and F-score are ill-defined and being set to 0.0 in labels with no predicted samples. Use `zero_division` parameter to control this behavior.\n",
      "  _warn_prf(average, modifier, msg_start, len(result))\n",
      "/Users/maru/opt/anaconda3/lib/python3.9/site-packages/sklearn/metrics/_classification.py:1318: UndefinedMetricWarning: Precision and F-score are ill-defined and being set to 0.0 in labels with no predicted samples. Use `zero_division` parameter to control this behavior.\n",
      "  _warn_prf(average, modifier, msg_start, len(result))\n",
      "/Users/maru/opt/anaconda3/lib/python3.9/site-packages/sklearn/metrics/_classification.py:1318: UndefinedMetricWarning: Precision and F-score are ill-defined and being set to 0.0 in labels with no predicted samples. Use `zero_division` parameter to control this behavior.\n",
      "  _warn_prf(average, modifier, msg_start, len(result))\n"
     ]
    }
   ],
   "source": [
    "performance(estimators, x_train_rfe, x_test_rfe, y_train, y_test)"
   ]
  },
  {
   "cell_type": "code",
   "execution_count": 63,
   "id": "30289ab6",
   "metadata": {
    "ExecuteTime": {
     "end_time": "2022-07-11T06:09:53.569779Z",
     "start_time": "2022-07-11T06:09:53.445293Z"
    }
   },
   "outputs": [
    {
     "name": "stdout",
     "output_type": "stream",
     "text": [
      "Number of Features:  7\n",
      "Feature Ranking:  [5 1 4 2 3 1 1 1 1 1 1]\n",
      "Selected Features:  [False  True False False False  True  True  True  True  True  True]\n"
     ]
    }
   ],
   "source": [
    "# Case5: 7 features\n",
    "\n",
    "# Use RFE to rank features and return top 7 features\n",
    "# Parameter step corresponds to the (integer) number of features to remove at each iteration \n",
    "rfe = RFE(estimator = dtree, n_features_to_select = 7, step = 1)\n",
    "rfe.fit(x_train_sc, y_train)\n",
    "\n",
    "# transform train input data\n",
    "x_train_rfe = rfe.transform(x_train_sc)\n",
    "\n",
    "# transform test input data\n",
    "x_test_rfe = rfe.transform(x_test_sc)\n",
    "\n",
    "print(\"Number of Features: \", rfe.n_features_)\n",
    "print(\"Feature Ranking: \", rfe.ranking_)\n",
    "print(\"Selected Features: \", rfe.support_)"
   ]
  },
  {
   "cell_type": "code",
   "execution_count": 64,
   "id": "ce9791bd",
   "metadata": {
    "ExecuteTime": {
     "end_time": "2022-07-11T06:09:57.339276Z",
     "start_time": "2022-07-11T06:09:53.579856Z"
    }
   },
   "outputs": [
    {
     "name": "stdout",
     "output_type": "stream",
     "text": [
      "<class 'sklearn.neighbors._classification.KNeighborsClassifier'>\n",
      "f1_weighted(validation) =  0.8178930975148081\n",
      "f1_weighted(test):0.7828475285357973\n",
      "[[  5  55   0]\n",
      " [  1 661  42]\n",
      " [  0  90 126]]\n",
      "              precision    recall  f1-score   support\n",
      "\n",
      "           0       0.83      0.08      0.15        60\n",
      "           1       0.82      0.94      0.88       704\n",
      "           2       0.75      0.58      0.66       216\n",
      "\n",
      "    accuracy                           0.81       980\n",
      "   macro avg       0.80      0.54      0.56       980\n",
      "weighted avg       0.81      0.81      0.78       980\n",
      "\n",
      "\n",
      "<class 'sklearn.tree._classes.DecisionTreeClassifier'>\n",
      "f1_weighted(validation) =  0.7803013956411166\n",
      "f1_weighted(test):0.749190642281471\n",
      "[[ 15  39   6]\n",
      " [ 16 597  91]\n",
      " [  2  86 128]]\n",
      "              precision    recall  f1-score   support\n",
      "\n",
      "           0       0.45      0.25      0.32        60\n",
      "           1       0.83      0.85      0.84       704\n",
      "           2       0.57      0.59      0.58       216\n",
      "\n",
      "    accuracy                           0.76       980\n",
      "   macro avg       0.62      0.56      0.58       980\n",
      "weighted avg       0.75      0.76      0.75       980\n",
      "\n",
      "\n",
      "<class 'sklearn.svm._classes.SVC'>\n",
      "f1_weighted(validation) =  0.7741756556011984\n",
      "f1_weighted(test):0.7081576001111728\n",
      "[[  0  60   0]\n",
      " [  0 673  31]\n",
      " [  0 146  70]]\n",
      "              precision    recall  f1-score   support\n",
      "\n",
      "           0       0.00      0.00      0.00        60\n",
      "           1       0.77      0.96      0.85       704\n",
      "           2       0.69      0.32      0.44       216\n",
      "\n",
      "    accuracy                           0.76       980\n",
      "   macro avg       0.49      0.43      0.43       980\n",
      "weighted avg       0.70      0.76      0.71       980\n",
      "\n",
      "\n"
     ]
    },
    {
     "name": "stderr",
     "output_type": "stream",
     "text": [
      "/Users/maru/opt/anaconda3/lib/python3.9/site-packages/sklearn/metrics/_classification.py:1318: UndefinedMetricWarning: Precision and F-score are ill-defined and being set to 0.0 in labels with no predicted samples. Use `zero_division` parameter to control this behavior.\n",
      "  _warn_prf(average, modifier, msg_start, len(result))\n",
      "/Users/maru/opt/anaconda3/lib/python3.9/site-packages/sklearn/metrics/_classification.py:1318: UndefinedMetricWarning: Precision and F-score are ill-defined and being set to 0.0 in labels with no predicted samples. Use `zero_division` parameter to control this behavior.\n",
      "  _warn_prf(average, modifier, msg_start, len(result))\n",
      "/Users/maru/opt/anaconda3/lib/python3.9/site-packages/sklearn/metrics/_classification.py:1318: UndefinedMetricWarning: Precision and F-score are ill-defined and being set to 0.0 in labels with no predicted samples. Use `zero_division` parameter to control this behavior.\n",
      "  _warn_prf(average, modifier, msg_start, len(result))\n"
     ]
    }
   ],
   "source": [
    "performance(estimators, x_train_rfe, x_test_rfe, y_train, y_test)"
   ]
  },
  {
   "cell_type": "code",
   "execution_count": 65,
   "id": "88e39581",
   "metadata": {
    "ExecuteTime": {
     "end_time": "2022-07-11T06:09:57.467383Z",
     "start_time": "2022-07-11T06:09:57.340152Z"
    }
   },
   "outputs": [
    {
     "name": "stdout",
     "output_type": "stream",
     "text": [
      "Number of Features:  6\n",
      "Feature Ranking:  [6 1 5 3 4 1 1 1 1 2 1]\n",
      "Selected Features:  [False  True False False False  True  True  True  True False  True]\n"
     ]
    }
   ],
   "source": [
    "# Case6: 6 features\n",
    "\n",
    "# Use RFE to rank features and return top 6 features\n",
    "# Parameter step corresponds to the (integer) number of features to remove at each iteration \n",
    "rfe = RFE(estimator = dtree, n_features_to_select = 6, step = 1)\n",
    "rfe.fit(x_train_sc, y_train)\n",
    "\n",
    "# transform train input data\n",
    "x_train_rfe = rfe.transform(x_train_sc)\n",
    "\n",
    "# transform test input data\n",
    "x_test_rfe = rfe.transform(x_test_sc)\n",
    "\n",
    "print(\"Number of Features: \", rfe.n_features_)\n",
    "print(\"Feature Ranking: \", rfe.ranking_)\n",
    "print(\"Selected Features: \", rfe.support_)"
   ]
  },
  {
   "cell_type": "code",
   "execution_count": 66,
   "id": "57274a5a",
   "metadata": {
    "ExecuteTime": {
     "end_time": "2022-07-11T06:10:00.883383Z",
     "start_time": "2022-07-11T06:09:57.468452Z"
    }
   },
   "outputs": [
    {
     "name": "stdout",
     "output_type": "stream",
     "text": [
      "<class 'sklearn.neighbors._classification.KNeighborsClassifier'>\n",
      "f1_weighted(validation) =  0.8100375324281199\n",
      "f1_weighted(test):0.7704743178030613\n",
      "[[  5  55   0]\n",
      " [  1 646  57]\n",
      " [  0  89 127]]\n",
      "              precision    recall  f1-score   support\n",
      "\n",
      "           0       0.83      0.08      0.15        60\n",
      "           1       0.82      0.92      0.86       704\n",
      "           2       0.69      0.59      0.64       216\n",
      "\n",
      "    accuracy                           0.79       980\n",
      "   macro avg       0.78      0.53      0.55       980\n",
      "weighted avg       0.79      0.79      0.77       980\n",
      "\n",
      "\n",
      "<class 'sklearn.tree._classes.DecisionTreeClassifier'>\n",
      "f1_weighted(validation) =  0.778175899021206\n",
      "f1_weighted(test):0.7561955346861167\n",
      "[[ 17  36   7]\n",
      " [ 13 604  87]\n",
      " [  3  87 126]]\n",
      "              precision    recall  f1-score   support\n",
      "\n",
      "           0       0.52      0.28      0.37        60\n",
      "           1       0.83      0.86      0.84       704\n",
      "           2       0.57      0.58      0.58       216\n",
      "\n",
      "    accuracy                           0.76       980\n",
      "   macro avg       0.64      0.57      0.60       980\n",
      "weighted avg       0.75      0.76      0.76       980\n",
      "\n",
      "\n",
      "<class 'sklearn.svm._classes.SVC'>\n",
      "f1_weighted(validation) =  0.7580708858452072\n",
      "f1_weighted(test):0.7049846602976878\n",
      "[[  1  59   0]\n",
      " [  0 661  43]\n",
      " [  0 143  73]]\n",
      "              precision    recall  f1-score   support\n",
      "\n",
      "           0       1.00      0.02      0.03        60\n",
      "           1       0.77      0.94      0.84       704\n",
      "           2       0.63      0.34      0.44       216\n",
      "\n",
      "    accuracy                           0.75       980\n",
      "   macro avg       0.80      0.43      0.44       980\n",
      "weighted avg       0.75      0.75      0.70       980\n",
      "\n",
      "\n"
     ]
    }
   ],
   "source": [
    "performance(estimators, x_train_rfe, x_test_rfe, y_train, y_test)"
   ]
  },
  {
   "cell_type": "code",
   "execution_count": 67,
   "id": "a9ede403",
   "metadata": {
    "ExecuteTime": {
     "end_time": "2022-07-11T06:10:01.008779Z",
     "start_time": "2022-07-11T06:10:00.884339Z"
    }
   },
   "outputs": [
    {
     "name": "stdout",
     "output_type": "stream",
     "text": [
      "Number of Features:  5\n",
      "Feature Ranking:  [7 1 6 4 5 1 2 1 1 3 1]\n",
      "Selected Features:  [False  True False False False  True False  True  True False  True]\n"
     ]
    }
   ],
   "source": [
    "# Case7: 5 features\n",
    "\n",
    "# Use RFE to rank features and return top 5 features\n",
    "# Parameter step corresponds to the (integer) number of features to remove at each iteration \n",
    "rfe = RFE(estimator = dtree, n_features_to_select = 5, step = 1)\n",
    "rfe.fit(x_train_sc, y_train)\n",
    "\n",
    "# transform train input data\n",
    "x_train_rfe = rfe.transform(x_train_sc)\n",
    "\n",
    "# transform test input data\n",
    "x_test_rfe = rfe.transform(x_test_sc)\n",
    "\n",
    "print(\"Number of Features: \", rfe.n_features_)\n",
    "print(\"Feature Ranking: \", rfe.ranking_)\n",
    "print(\"Selected Features: \", rfe.support_)"
   ]
  },
  {
   "cell_type": "code",
   "execution_count": 68,
   "id": "0c53f525",
   "metadata": {
    "ExecuteTime": {
     "end_time": "2022-07-11T06:10:04.320706Z",
     "start_time": "2022-07-11T06:10:01.009724Z"
    }
   },
   "outputs": [
    {
     "name": "stdout",
     "output_type": "stream",
     "text": [
      "<class 'sklearn.neighbors._classification.KNeighborsClassifier'>\n",
      "f1_weighted(validation) =  0.8017092070342381\n",
      "f1_weighted(test):0.7730837401549661\n",
      "[[  5  54   1]\n",
      " [  0 657  47]\n",
      " [  0  95 121]]\n",
      "              precision    recall  f1-score   support\n",
      "\n",
      "           0       1.00      0.08      0.15        60\n",
      "           1       0.82      0.93      0.87       704\n",
      "           2       0.72      0.56      0.63       216\n",
      "\n",
      "    accuracy                           0.80       980\n",
      "   macro avg       0.84      0.53      0.55       980\n",
      "weighted avg       0.80      0.80      0.77       980\n",
      "\n",
      "\n",
      "<class 'sklearn.tree._classes.DecisionTreeClassifier'>\n",
      "f1_weighted(validation) =  0.7690088331116147\n",
      "f1_weighted(test):0.7501218850907378\n",
      "[[ 18  39   3]\n",
      " [ 18 592  94]\n",
      " [  2  85 129]]\n",
      "              precision    recall  f1-score   support\n",
      "\n",
      "           0       0.47      0.30      0.37        60\n",
      "           1       0.83      0.84      0.83       704\n",
      "           2       0.57      0.60      0.58       216\n",
      "\n",
      "    accuracy                           0.75       980\n",
      "   macro avg       0.62      0.58      0.59       980\n",
      "weighted avg       0.75      0.75      0.75       980\n",
      "\n",
      "\n",
      "<class 'sklearn.svm._classes.SVC'>\n",
      "f1_weighted(validation) =  0.7402502847656611\n",
      "f1_weighted(test):0.6907357952310564\n",
      "[[  0  60   0]\n",
      " [  0 670  34]\n",
      " [  0 156  60]]\n",
      "              precision    recall  f1-score   support\n",
      "\n",
      "           0       0.00      0.00      0.00        60\n",
      "           1       0.76      0.95      0.84       704\n",
      "           2       0.64      0.28      0.39       216\n",
      "\n",
      "    accuracy                           0.74       980\n",
      "   macro avg       0.46      0.41      0.41       980\n",
      "weighted avg       0.68      0.74      0.69       980\n",
      "\n",
      "\n"
     ]
    },
    {
     "name": "stderr",
     "output_type": "stream",
     "text": [
      "/Users/maru/opt/anaconda3/lib/python3.9/site-packages/sklearn/metrics/_classification.py:1318: UndefinedMetricWarning: Precision and F-score are ill-defined and being set to 0.0 in labels with no predicted samples. Use `zero_division` parameter to control this behavior.\n",
      "  _warn_prf(average, modifier, msg_start, len(result))\n",
      "/Users/maru/opt/anaconda3/lib/python3.9/site-packages/sklearn/metrics/_classification.py:1318: UndefinedMetricWarning: Precision and F-score are ill-defined and being set to 0.0 in labels with no predicted samples. Use `zero_division` parameter to control this behavior.\n",
      "  _warn_prf(average, modifier, msg_start, len(result))\n",
      "/Users/maru/opt/anaconda3/lib/python3.9/site-packages/sklearn/metrics/_classification.py:1318: UndefinedMetricWarning: Precision and F-score are ill-defined and being set to 0.0 in labels with no predicted samples. Use `zero_division` parameter to control this behavior.\n",
      "  _warn_prf(average, modifier, msg_start, len(result))\n"
     ]
    }
   ],
   "source": [
    "performance(estimators, x_train_rfe, x_test_rfe, y_train, y_test)"
   ]
  },
  {
   "cell_type": "code",
   "execution_count": 69,
   "id": "0d44c74b",
   "metadata": {
    "ExecuteTime": {
     "end_time": "2022-07-11T06:10:04.334109Z",
     "start_time": "2022-07-11T06:10:04.321640Z"
    }
   },
   "outputs": [
    {
     "name": "stdout",
     "output_type": "stream",
     "text": [
      "Number of Features:  11\n",
      "Feature Ranking:  [1 1 1 1 1 1 1 1 1 1 1]\n",
      "Selected Features:  [ True  True  True  True  True  True  True  True  True  True  True]\n"
     ]
    }
   ],
   "source": [
    "# Case1: All features\n",
    "# Create a Bernoulli Naive Bayes classifier\n",
    "bnb = BernoulliNB()\n",
    "\n",
    "# Use RFE to rank features and return all features\n",
    "# Parameter step corresponds to the (integer) number of features to remove at each iteration \n",
    "rfe = RFE(estimator = bnb, n_features_to_select = 11, step = 1)\n",
    "rfe.fit(x_train_sc, y_train)\n",
    "\n",
    "# transform train input data\n",
    "x_train_rfe = rfe.transform(x_train_sc)\n",
    "\n",
    "# transform test input data\n",
    "x_test_rfe = rfe.transform(x_test_sc)\n",
    "\n",
    "print(\"Number of Features: \", rfe.n_features_)\n",
    "print(\"Feature Ranking: \", rfe.ranking_)\n",
    "print(\"Selected Features: \", rfe.support_)"
   ]
  },
  {
   "cell_type": "code",
   "execution_count": 70,
   "id": "a05555b0",
   "metadata": {
    "ExecuteTime": {
     "end_time": "2022-07-11T06:10:09.360157Z",
     "start_time": "2022-07-11T06:10:04.335087Z"
    }
   },
   "outputs": [
    {
     "name": "stdout",
     "output_type": "stream",
     "text": [
      "<class 'sklearn.neighbors._classification.KNeighborsClassifier'>\n",
      "f1_weighted(validation) =  0.8292807834702943\n",
      "f1_weighted(test):0.7779318549916966\n",
      "[[  4  55   1]\n",
      " [  0 653  51]\n",
      " [  0  86 130]]\n",
      "              precision    recall  f1-score   support\n",
      "\n",
      "           0       1.00      0.07      0.12        60\n",
      "           1       0.82      0.93      0.87       704\n",
      "           2       0.71      0.60      0.65       216\n",
      "\n",
      "    accuracy                           0.80       980\n",
      "   macro avg       0.85      0.53      0.55       980\n",
      "weighted avg       0.81      0.80      0.78       980\n",
      "\n",
      "\n",
      "<class 'sklearn.tree._classes.DecisionTreeClassifier'>\n",
      "f1_weighted(validation) =  0.7851414836759589\n",
      "f1_weighted(test):0.7403588313858527\n",
      "[[ 10  47   3]\n",
      " [ 19 603  82]\n",
      " [  0  93 123]]\n",
      "              precision    recall  f1-score   support\n",
      "\n",
      "           0       0.34      0.17      0.22        60\n",
      "           1       0.81      0.86      0.83       704\n",
      "           2       0.59      0.57      0.58       216\n",
      "\n",
      "    accuracy                           0.75       980\n",
      "   macro avg       0.58      0.53      0.55       980\n",
      "weighted avg       0.73      0.75      0.74       980\n",
      "\n",
      "\n",
      "<class 'sklearn.svm._classes.SVC'>\n",
      "f1_weighted(validation) =  0.7919818954975618\n",
      "f1_weighted(test):0.7469330871547311\n",
      "[[  2  58   0]\n",
      " [  0 672  32]\n",
      " [  0 121  95]]\n",
      "              precision    recall  f1-score   support\n",
      "\n",
      "           0       1.00      0.03      0.06        60\n",
      "           1       0.79      0.95      0.86       704\n",
      "           2       0.75      0.44      0.55       216\n",
      "\n",
      "    accuracy                           0.78       980\n",
      "   macro avg       0.85      0.48      0.49       980\n",
      "weighted avg       0.79      0.78      0.75       980\n",
      "\n",
      "\n"
     ]
    }
   ],
   "source": [
    "performance(estimators, x_train_rfe, x_test_rfe, y_train, y_test)"
   ]
  },
  {
   "cell_type": "code",
   "execution_count": 71,
   "id": "e9a39eea",
   "metadata": {
    "ExecuteTime": {
     "end_time": "2022-07-11T06:10:09.371661Z",
     "start_time": "2022-07-11T06:10:09.361468Z"
    }
   },
   "outputs": [
    {
     "name": "stdout",
     "output_type": "stream",
     "text": [
      "Number of Features:  10\n",
      "Feature Ranking:  [1 1 1 1 1 1 1 1 2 1 1]\n",
      "Selected Features:  [ True  True  True  True  True  True  True  True False  True  True]\n"
     ]
    },
   ],
   "source": [
    "# Case2: 10 features\n",
    "\n",
    "# Use RFE to rank features and return top 10 features\n",
    "# Parameter step corresponds to the (integer) number of features to remove at each iteration \n",
    "rfe = RFE(estimator = bnb, n_features_to_select = 10, step = 1)\n",
    "rfe.fit(x_train_sc, y_train)\n",
    "\n",
    "# transform train input data\n",
    "x_train_rfe = rfe.transform(x_train_sc)\n",
    "\n",
    "# transform test input data\n",
    "x_test_rfe = rfe.transform(x_test_sc)\n",
    "\n",
    "print(\"Number of Features: \", rfe.n_features_)\n",
    "print(\"Feature Ranking: \", rfe.ranking_)\n",
    "print(\"Selected Features: \", rfe.support_)"
   ]
  },
  {
   "cell_type": "code",
   "execution_count": 72,
   "id": "2d8df1e8",
   "metadata": {
    "ExecuteTime": {
     "end_time": "2022-07-11T06:10:13.910313Z",
     "start_time": "2022-07-11T06:10:09.372936Z"
    }
   },
   "outputs": [
    {
     "name": "stdout",
     "output_type": "stream",
     "text": [
      "<class 'sklearn.neighbors._classification.KNeighborsClassifier'>\n",
      "f1_weighted(validation) =  0.8263301809813312\n",
      "f1_weighted(test):0.7868074620338441\n",
      "[[  5  55   0]\n",
      " [  0 663  41]\n",
      " [  0  88 128]]\n",
      "              precision    recall  f1-score   support\n",
      "\n",
      "           0       1.00      0.08      0.15        60\n",
      "           1       0.82      0.94      0.88       704\n",
      "           2       0.76      0.59      0.66       216\n",
      "\n",
      "    accuracy                           0.81       980\n",
      "   macro avg       0.86      0.54      0.57       980\n",
      "weighted avg       0.82      0.81      0.79       980\n",
      "\n",
      "\n",
      "<class 'sklearn.tree._classes.DecisionTreeClassifier'>\n",
      "f1_weighted(validation) =  0.7855534067012542\n",
      "f1_weighted(test):0.7398409369106125\n",
      "[[ 10  47   3]\n",
      " [ 14 600  90]\n",
      " [  2  89 125]]\n",
      "              precision    recall  f1-score   support\n",
      "\n",
      "           0       0.38      0.17      0.23        60\n",
      "           1       0.82      0.85      0.83       704\n",
      "           2       0.57      0.58      0.58       216\n",
      "\n",
      "    accuracy                           0.75       980\n",
      "   macro avg       0.59      0.53      0.55       980\n",
      "weighted avg       0.74      0.75      0.74       980\n",
      "\n",
      "\n",
      "<class 'sklearn.svm._classes.SVC'>\n",
      "f1_weighted(validation) =  0.7832480617393849\n",
      "f1_weighted(test):0.7447936367875819\n",
      "[[  1  59   0]\n",
      " [  2 673  29]\n",
      " [  0 122  94]]\n",
      "              precision    recall  f1-score   support\n",
      "\n",
      "           0       0.33      0.02      0.03        60\n",
      "           1       0.79      0.96      0.86       704\n",
      "           2       0.76      0.44      0.55       216\n",
      "\n",
      "    accuracy                           0.78       980\n",
      "   macro avg       0.63      0.47      0.48       980\n",
      "weighted avg       0.75      0.78      0.74       980\n",
      "\n",
      "\n"
     ]
    }
   ],
   "source": [
    "performance(estimators, x_train_rfe, x_test_rfe, y_train, y_test)"
   ]
  },
  {
   "cell_type": "code",
   "execution_count": 73,
   "id": "afd9d303",
   "metadata": {
    "ExecuteTime": {
     "end_time": "2022-07-11T06:10:13.920031Z",
     "start_time": "2022-07-11T06:10:13.911218Z"
    }
   },
   "outputs": [
    {
     "name": "stdout",
     "output_type": "stream",
     "text": [
      "Number of Features:  9\n",
      "Feature Ranking:  [1 2 1 1 1 1 1 1 3 1 1]\n",
      "Selected Features:  [ True False  True  True  True  True  True  True False  True  True]\n"
     ]
    },
   ],
   "source": [
    "# Case3: 9 features\n",
    "\n",
    "# Use RFE to rank features and return top 9 features\n",
    "# Parameter step corresponds to the (integer) number of features to remove at each iteration \n",
    "rfe = RFE(estimator = bnb, n_features_to_select = 9, step = 1)\n",
    "rfe.fit(x_train_sc, y_train)\n",
    "\n",
    "# transform train input data\n",
    "x_train_rfe = rfe.transform(x_train_sc)\n",
    "\n",
    "# transform test input data\n",
    "x_test_rfe = rfe.transform(x_test_sc)\n",
    "\n",
    "print(\"Number of Features: \", rfe.n_features_)\n",
    "print(\"Feature Ranking: \", rfe.ranking_)\n",
    "print(\"Selected Features: \", rfe.support_)"
   ]
  },
  {
   "cell_type": "code",
   "execution_count": 74,
   "id": "90257876",
   "metadata": {
    "ExecuteTime": {
     "end_time": "2022-07-11T06:10:18.071952Z",
     "start_time": "2022-07-11T06:10:13.920925Z"
    }
   },
   "outputs": [
    {
     "name": "stdout",
     "output_type": "stream",
     "text": [
      "<class 'sklearn.neighbors._classification.KNeighborsClassifier'>\n",
      "f1_weighted(validation) =  0.824067206360932\n",
      "f1_weighted(test):0.7655715902512296\n",
      "[[  5  55   0]\n",
      " [  0 650  54]\n",
      " [  0  96 120]]\n",
      "              precision    recall  f1-score   support\n",
      "\n",
      "           0       1.00      0.08      0.15        60\n",
      "           1       0.81      0.92      0.86       704\n",
      "           2       0.69      0.56      0.62       216\n",
      "\n",
      "    accuracy                           0.79       980\n",
      "   macro avg       0.83      0.52      0.54       980\n",
      "weighted avg       0.80      0.79      0.77       980\n",
      "\n",
      "\n",
      "<class 'sklearn.tree._classes.DecisionTreeClassifier'>\n",
      "f1_weighted(validation) =  0.7851639245708469\n",
      "f1_weighted(test):0.7448807956362268\n",
      "[[ 15  38   7]\n",
      " [ 18 598  88]\n",
      " [  3  90 123]]\n",
      "              precision    recall  f1-score   support\n",
      "\n",
      "           0       0.42      0.25      0.31        60\n",
      "           1       0.82      0.85      0.84       704\n",
      "           2       0.56      0.57      0.57       216\n",
      "\n",
      "    accuracy                           0.75       980\n",
      "   macro avg       0.60      0.56      0.57       980\n",
      "weighted avg       0.74      0.75      0.74       980\n",
      "\n",
      "\n",
      "<class 'sklearn.svm._classes.SVC'>\n",
      "f1_weighted(validation) =  0.7820699403601111\n",
      "f1_weighted(test):0.7362917107906584\n",
      "[[  1  59   0]\n",
      " [  2 671  31]\n",
      " [  0 127  89]]\n",
      "              precision    recall  f1-score   support\n",
      "\n",
      "           0       0.33      0.02      0.03        60\n",
      "           1       0.78      0.95      0.86       704\n",
      "           2       0.74      0.41      0.53       216\n",
      "\n",
      "    accuracy                           0.78       980\n",
      "   macro avg       0.62      0.46      0.47       980\n",
      "weighted avg       0.75      0.78      0.74       980\n",
      "\n",
      "\n"
     ]
    }
   ],
   "source": [
    "performance(estimators, x_train_rfe, x_test_rfe, y_train, y_test)"
   ]
  },
  {
   "cell_type": "code",
   "execution_count": 75,
   "id": "4de2d8a5",
   "metadata": {
    "ExecuteTime": {
     "end_time": "2022-07-11T06:10:18.083193Z",
     "start_time": "2022-07-11T06:10:18.072873Z"
    }
   },
   "outputs": [
    {
     "name": "stdout",
     "output_type": "stream",
     "text": [
      "Number of Features:  8\n",
      "Feature Ranking:  [2 3 1 1 1 1 1 1 4 1 1]\n",
      "Selected Features:  [False False  True  True  True  True  True  True False  True  True]\n"
     ]
    },
   ],
   "source": [
    "# Case4: 8 features\n",
    "\n",
    "# Use RFE to rank features and return top 8 features\n",
    "# Parameter step corresponds to the (integer) number of features to remove at each iteration \n",
    "rfe = RFE(estimator = bnb, n_features_to_select = 8, step = 1)\n",
    "rfe.fit(x_train_sc, y_train)\n",
    "\n",
    "# transform train input data\n",
    "x_train_rfe = rfe.transform(x_train_sc)\n",
    "\n",
    "# transform test input data\n",
    "x_test_rfe = rfe.transform(x_test_sc)\n",
    "\n",
    "print(\"Number of Features: \", rfe.n_features_)\n",
    "print(\"Feature Ranking: \", rfe.ranking_)\n",
    "print(\"Selected Features: \", rfe.support_)"
   ]
  },
  {
   "cell_type": "code",
   "execution_count": 76,
   "id": "21803afb",
   "metadata": {
    "ExecuteTime": {
     "end_time": "2022-07-11T06:10:21.863299Z",
     "start_time": "2022-07-11T06:10:18.084056Z"
    }
   },
   "outputs": [
    {
     "name": "stdout",
     "output_type": "stream",
     "text": [
      "<class 'sklearn.neighbors._classification.KNeighborsClassifier'>\n",
      "f1_weighted(validation) =  0.8213808085059668\n",
      "f1_weighted(test):0.7722710825024129\n",
      "[[  4  55   1]\n",
      " [  0 648  56]\n",
      " [  0  87 129]]\n",
      "              precision    recall  f1-score   support\n",
      "\n",
      "           0       1.00      0.07      0.12        60\n",
      "           1       0.82      0.92      0.87       704\n",
      "           2       0.69      0.60      0.64       216\n",
      "\n",
      "    accuracy                           0.80       980\n",
      "   macro avg       0.84      0.53      0.54       980\n",
      "weighted avg       0.80      0.80      0.77       980\n",
      "\n",
      "\n",
      "<class 'sklearn.tree._classes.DecisionTreeClassifier'>\n",
      "f1_weighted(validation) =  0.7802618247099498\n",
      "f1_weighted(test):0.7467701376848815\n",
      "[[ 13  44   3]\n",
      " [ 18 600  86]\n",
      " [  4  86 126]]\n",
      "              precision    recall  f1-score   support\n",
      "\n",
      "           0       0.37      0.22      0.27        60\n",
      "           1       0.82      0.85      0.84       704\n",
      "           2       0.59      0.58      0.58       216\n",
      "\n",
      "    accuracy                           0.75       980\n",
      "   macro avg       0.59      0.55      0.57       980\n",
      "weighted avg       0.74      0.75      0.75       980\n",
      "\n",
      "\n",
      "<class 'sklearn.svm._classes.SVC'>\n",
      "f1_weighted(validation) =  0.7676123770616285\n",
      "f1_weighted(test):0.7274987132247054\n",
      "[[  1  59   0]\n",
      " [  2 672  30]\n",
      " [  0 134  82]]\n",
      "              precision    recall  f1-score   support\n",
      "\n",
      "           0       0.33      0.02      0.03        60\n",
      "           1       0.78      0.95      0.86       704\n",
      "           2       0.73      0.38      0.50       216\n",
      "\n",
      "    accuracy                           0.77       980\n",
      "   macro avg       0.61      0.45      0.46       980\n",
      "weighted avg       0.74      0.77      0.73       980\n",
      "\n",
      "\n"
     ]
    }
   ],
   "source": [
    "performance(estimators, x_train_rfe, x_test_rfe, y_train, y_test)"
   ]
  },
  {
   "cell_type": "code",
   "execution_count": 77,
   "id": "e5d9f4aa",
   "metadata": {
    "ExecuteTime": {
     "end_time": "2022-07-11T06:10:21.876503Z",
     "start_time": "2022-07-11T06:10:21.864303Z"
    }
   },
   "outputs": [
    {
     "name": "stdout",
     "output_type": "stream",
     "text": [
      "Number of Features:  7\n",
      "Feature Ranking:  [3 4 1 1 1 1 1 1 5 2 1]\n",
      "Selected Features:  [False False  True  True  True  True  True  True False False  True]\n"
     ]
    },
   ],
   "source": [
    "# Case5: 7 features\n",
    "\n",
    "# Use RFE to rank features and return top 7 features\n",
    "# Parameter step corresponds to the (integer) number of features to remove at each iteration \n",
    "rfe = RFE(estimator = bnb, n_features_to_select = 7, step = 1)\n",
    "rfe.fit(x_train_sc, y_train)\n",
    "\n",
    "# transform train input data\n",
    "x_train_rfe = rfe.transform(x_train_sc)\n",
    "\n",
    "# transform test input data\n",
    "x_test_rfe = rfe.transform(x_test_sc)\n",
    "\n",
    "print(\"Number of Features: \", rfe.n_features_)\n",
    "print(\"Feature Ranking: \", rfe.ranking_)\n",
    "print(\"Selected Features: \", rfe.support_)"
   ]
  },
  {
   "cell_type": "code",
   "execution_count": 78,
   "id": "86e2d31a",
   "metadata": {
    "ExecuteTime": {
     "end_time": "2022-07-11T06:10:25.495024Z",
     "start_time": "2022-07-11T06:10:21.877511Z"
    }
   },
   "outputs": [
    {
     "name": "stdout",
     "output_type": "stream",
     "text": [
      "<class 'sklearn.neighbors._classification.KNeighborsClassifier'>\n",
      "f1_weighted(validation) =  0.8030522158140918\n",
      "f1_weighted(test):0.7823129300661902\n",
      "[[  6  50   4]\n",
      " [  0 649  55]\n",
      " [  0  83 133]]\n",
      "              precision    recall  f1-score   support\n",
      "\n",
      "           0       1.00      0.10      0.18        60\n",
      "           1       0.83      0.92      0.87       704\n",
      "           2       0.69      0.62      0.65       216\n",
      "\n",
      "    accuracy                           0.80       980\n",
      "   macro avg       0.84      0.55      0.57       980\n",
      "weighted avg       0.81      0.80      0.78       980\n",
      "\n",
      "\n",
      "<class 'sklearn.tree._classes.DecisionTreeClassifier'>\n",
      "f1_weighted(validation) =  0.7720076195692243\n",
      "f1_weighted(test):0.7540535208160057\n",
      "[[ 16  42   2]\n",
      " [ 17 600  87]\n",
      " [  2  85 129]]\n",
      "              precision    recall  f1-score   support\n",
      "\n",
      "           0       0.46      0.27      0.34        60\n",
      "           1       0.83      0.85      0.84       704\n",
      "           2       0.59      0.60      0.59       216\n",
      "\n",
      "    accuracy                           0.76       980\n",
      "   macro avg       0.62      0.57      0.59       980\n",
      "weighted avg       0.75      0.76      0.75       980\n",
      "\n",
      "\n",
      "<class 'sklearn.svm._classes.SVC'>\n",
      "f1_weighted(validation) =  0.7467348130338956\n",
      "f1_weighted(test):0.7112181386733617\n",
      "[[  2  56   2]\n",
      " [  0 678  26]\n",
      " [  0 150  66]]\n",
      "              precision    recall  f1-score   support\n",
      "\n",
      "           0       1.00      0.03      0.06        60\n",
      "           1       0.77      0.96      0.85       704\n",
      "           2       0.70      0.31      0.43       216\n",
      "\n",
      "    accuracy                           0.76       980\n",
      "   macro avg       0.82      0.43      0.45       980\n",
      "weighted avg       0.77      0.76      0.71       980\n",
      "\n",
      "\n"
     ]
    }
   ],
   "source": [
    "performance(estimators, x_train_rfe, x_test_rfe, y_train, y_test)"
   ]
  },
  {
   "cell_type": "code",
   "execution_count": 79,
   "id": "e02e876d",
   "metadata": {
    "ExecuteTime": {
     "end_time": "2022-07-11T06:10:25.508128Z",
     "start_time": "2022-07-11T06:10:25.495988Z"
    }
   },
   "outputs": [
    {
     "name": "stdout",
     "output_type": "stream",
     "text": [
      "Number of Features:  6\n",
      "Feature Ranking:  [4 5 1 1 1 1 1 1 6 3 2]\n",
      "Selected Features:  [False False  True  True  True  True  True  True False False False]\n"
     ]
    },
   ],
   "source": [
    "# Case6: 6 features\n",
    "\n",
    "# Use RFE to rank features and return top 6 features\n",
    "# Parameter step corresponds to the (integer) number of features to remove at each iteration \n",
    "rfe = RFE(estimator = bnb, n_features_to_select = 6, step = 1)\n",
    "rfe.fit(x_train_sc, y_train)\n",
    "\n",
    "# transform train input data\n",
    "x_train_rfe = rfe.transform(x_train_sc)\n",
    "\n",
    "# transform test input data\n",
    "x_test_rfe = rfe.transform(x_test_sc)\n",
    "\n",
    "print(\"Number of Features: \", rfe.n_features_)\n",
    "print(\"Feature Ranking: \", rfe.ranking_)\n",
    "print(\"Selected Features: \", rfe.support_)"
   ]
  },
  {
   "cell_type": "code",
   "execution_count": 80,
   "id": "e59fa870",
   "metadata": {
    "ExecuteTime": {
     "end_time": "2022-07-11T06:10:28.958004Z",
     "start_time": "2022-07-11T06:10:25.509006Z"
    }
   },
   "outputs": [
    {
     "name": "stdout",
     "output_type": "stream",
     "text": [
      "<class 'sklearn.neighbors._classification.KNeighborsClassifier'>\n",
      "f1_weighted(validation) =  0.8052329423951233\n",
      "f1_weighted(test):0.760719982639293\n",
      "[[  5  51   4]\n",
      " [  0 651  53]\n",
      " [  0 101 115]]\n",
      "              precision    recall  f1-score   support\n",
      "\n",
      "           0       1.00      0.08      0.15        60\n",
      "           1       0.81      0.92      0.86       704\n",
      "           2       0.67      0.53      0.59       216\n",
      "\n",
      "    accuracy                           0.79       980\n",
      "   macro avg       0.83      0.51      0.54       980\n",
      "weighted avg       0.79      0.79      0.76       980\n",
      "\n",
      "\n",
      "<class 'sklearn.tree._classes.DecisionTreeClassifier'>\n",
      "f1_weighted(validation) =  0.7704668458224756\n",
      "f1_weighted(test):0.7392480769774943\n",
      "[[ 12  41   7]\n",
      " [ 20 583 101]\n",
      " [  1  81 134]]\n",
      "              precision    recall  f1-score   support\n",
      "\n",
      "           0       0.36      0.20      0.26        60\n",
      "           1       0.83      0.83      0.83       704\n",
      "           2       0.55      0.62      0.59       216\n",
      "\n",
      "    accuracy                           0.74       980\n",
      "   macro avg       0.58      0.55      0.56       980\n",
      "weighted avg       0.74      0.74      0.74       980\n",
      "\n",
      "\n",
      "<class 'sklearn.svm._classes.SVC'>\n",
      "f1_weighted(validation) =  0.731027108333903\n",
      "f1_weighted(test):0.6837148189753519\n",
      "[[  0  59   1]\n",
      " [  0 681  23]\n",
      " [  0 166  50]]\n",
      "              precision    recall  f1-score   support\n",
      "\n",
      "           0       0.00      0.00      0.00        60\n",
      "           1       0.75      0.97      0.85       704\n",
      "           2       0.68      0.23      0.34       216\n",
      "\n",
      "    accuracy                           0.75       980\n",
      "   macro avg       0.48      0.40      0.40       980\n",
      "weighted avg       0.69      0.75      0.68       980\n",
      "\n",
      "\n"
     ]
    },
    {
     "name": "stderr",
     "output_type": "stream",
     "text": [
      "/Users/maru/opt/anaconda3/lib/python3.9/site-packages/sklearn/metrics/_classification.py:1318: UndefinedMetricWarning: Precision and F-score are ill-defined and being set to 0.0 in labels with no predicted samples. Use `zero_division` parameter to control this behavior.\n",
      "  _warn_prf(average, modifier, msg_start, len(result))\n",
      "/Users/maru/opt/anaconda3/lib/python3.9/site-packages/sklearn/metrics/_classification.py:1318: UndefinedMetricWarning: Precision and F-score are ill-defined and being set to 0.0 in labels with no predicted samples. Use `zero_division` parameter to control this behavior.\n",
      "  _warn_prf(average, modifier, msg_start, len(result))\n",
      "/Users/maru/opt/anaconda3/lib/python3.9/site-packages/sklearn/metrics/_classification.py:1318: UndefinedMetricWarning: Precision and F-score are ill-defined and being set to 0.0 in labels with no predicted samples. Use `zero_division` parameter to control this behavior.\n",
      "  _warn_prf(average, modifier, msg_start, len(result))\n"
     ]
    }
   ],
   "source": [
    "performance(estimators, x_train_rfe, x_test_rfe, y_train, y_test)"
   ]
  },
  {
   "cell_type": "code",
   "execution_count": 81,
   "id": "fc05f505",
   "metadata": {
    "ExecuteTime": {
     "end_time": "2022-07-11T06:10:28.972310Z",
     "start_time": "2022-07-11T06:10:28.958890Z"
    }
   },
   "outputs": [
    {
     "name": "stdout",
     "output_type": "stream",
     "text": [
      "Number of Features:  5\n",
      "Feature Ranking:  [5 6 2 1 1 1 1 1 7 4 3]\n",
      "Selected Features:  [False False False  True  True  True  True  True False False False]\n"
     ]
    },
   ],
   "source": [
    "# Case7: 5 features\n",
    "\n",
    "# Use RFE to rank features and return top 5 features\n",
    "# Parameter step corresponds to the (integer) number of features to remove at each iteration \n",
    "rfe = RFE(estimator = bnb, n_features_to_select = 5, step = 1)\n",
    "rfe.fit(x_train_sc, y_train)\n",
    "\n",
    "# transform train input data\n",
    "x_train_rfe = rfe.transform(x_train_sc)\n",
    "\n",
    "# transform test input data\n",
    "x_test_rfe = rfe.transform(x_test_sc)\n",
    "\n",
    "print(\"Number of Features: \", rfe.n_features_)\n",
    "print(\"Feature Ranking: \", rfe.ranking_)\n",
    "print(\"Selected Features: \", rfe.support_)"
   ]
  },
  {
   "cell_type": "code",
   "execution_count": 82,
   "id": "c37796b8",
   "metadata": {
    "ExecuteTime": {
     "end_time": "2022-07-11T06:10:32.351929Z",
     "start_time": "2022-07-11T06:10:28.973167Z"
    }
   },
   "outputs": [
    {
     "name": "stdout",
     "output_type": "stream",
     "text": [
      "<class 'sklearn.neighbors._classification.KNeighborsClassifier'>\n",
      "f1_weighted(validation) =  0.8018796917655543\n",
      "f1_weighted(test):0.7752420913793131\n",
      "[[  4  52   4]\n",
      " [  0 663  41]\n",
      " [  0  96 120]]\n",
      "              precision    recall  f1-score   support\n",
      "\n",
      "           0       1.00      0.07      0.12        60\n",
      "           1       0.82      0.94      0.88       704\n",
      "           2       0.73      0.56      0.63       216\n",
      "\n",
      "    accuracy                           0.80       980\n",
      "   macro avg       0.85      0.52      0.54       980\n",
      "weighted avg       0.81      0.80      0.78       980\n",
      "\n",
      "\n",
      "<class 'sklearn.tree._classes.DecisionTreeClassifier'>\n",
      "f1_weighted(validation) =  0.76288999041252\n",
      "f1_weighted(test):0.7346719786025896\n",
      "[[ 10  42   8]\n",
      " [ 20 599  85]\n",
      " [  2  94 120]]\n",
      "              precision    recall  f1-score   support\n",
      "\n",
      "           0       0.31      0.17      0.22        60\n",
      "           1       0.81      0.85      0.83       704\n",
      "           2       0.56      0.56      0.56       216\n",
      "\n",
      "    accuracy                           0.74       980\n",
      "   macro avg       0.56      0.52      0.54       980\n",
      "weighted avg       0.73      0.74      0.73       980\n",
      "\n",
      "\n",
      "<class 'sklearn.svm._classes.SVC'>\n",
      "f1_weighted(validation) =  0.7243349391808559\n",
      "f1_weighted(test):0.6724714734868035\n",
      "[[  0  60   0]\n",
      " [  0 684  20]\n",
      " [  0 174  42]]\n",
      "              precision    recall  f1-score   support\n",
      "\n",
      "           0       0.00      0.00      0.00        60\n",
      "           1       0.75      0.97      0.84       704\n",
      "           2       0.68      0.19      0.30       216\n",
      "\n",
      "    accuracy                           0.74       980\n",
      "   macro avg       0.47      0.39      0.38       980\n",
      "weighted avg       0.68      0.74      0.67       980\n",
      "\n",
      "\n"
     ]
    },
   ],
   "source": [
    "performance(estimators, x_train_rfe, x_test_rfe, y_train, y_test)"
   ]
  },
  {
   "cell_type": "code",
   "execution_count": null,
   "id": "c29ec781",
   "metadata": {},
   "outputs": [],
   "source": []
  }
 ],
 "metadata": {
  "kernelspec": {
   "display_name": "Python 3 (ipykernel)",
   "language": "python",
   "name": "python3"
  },
  "language_info": {
   "codemirror_mode": {
    "name": "ipython",
    "version": 3
   },
   "file_extension": ".py",
   "mimetype": "text/x-python",
   "name": "python",
   "nbconvert_exporter": "python",
   "pygments_lexer": "ipython3",
   "version": "3.9.12"
  }
 },
 "nbformat": 4,
 "nbformat_minor": 5
}
