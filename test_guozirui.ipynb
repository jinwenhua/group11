{
 "cells": [
  {
   "cell_type": "code",
   "execution_count": 2,
   "id": "e4d9f0c9",
   "metadata": {},
   "outputs": [],
   "source": [
    "import numpy as np\n",
    "import pandas as pd\n",
    "import gdal\n",
    "import os\n",
    "import glob\n",
    "import random"
   ]
  },
  {
   "cell_type": "code",
   "execution_count": 17,
   "id": "47a4f925",
   "metadata": {},
   "outputs": [],
   "source": [
    "from sklearn.model_selection import train_test_split\n",
    "from sklearn.tree import DecisionTreeClassifier\n",
    "from sklearn.ensemble import BaggingClassifier "
   ]
  },
  {
   "cell_type": "code",
   "execution_count": 7,
   "id": "63276bab",
   "metadata": {},
   "outputs": [
    {
     "ename": "NameError",
     "evalue": "name 'x_train' is not defined",
     "output_type": "error",
     "traceback": [
      "\u001b[1;31m---------------------------------------------------------------------------\u001b[0m",
      "\u001b[1;31mNameError\u001b[0m                                 Traceback (most recent call last)",
      "\u001b[1;32m~\\AppData\\Local\\Temp/ipykernel_22396/143921435.py\u001b[0m in \u001b[0;36m<module>\u001b[1;34m\u001b[0m\n\u001b[0;32m     11\u001b[0m \u001b[1;31m#   较大的子样本\u001b[0m\u001b[1;33m\u001b[0m\u001b[1;33m\u001b[0m\u001b[0m\n\u001b[0;32m     12\u001b[0m \u001b[1;32mfor\u001b[0m \u001b[0mk\u001b[0m \u001b[1;32min\u001b[0m \u001b[0mrange\u001b[0m\u001b[1;33m(\u001b[0m\u001b[0mnum_subsamples\u001b[0m \u001b[1;33m-\u001b[0m \u001b[1;36m1\u001b[0m\u001b[1;33m)\u001b[0m\u001b[1;33m:\u001b[0m\u001b[1;33m\u001b[0m\u001b[1;33m\u001b[0m\u001b[0m\n\u001b[1;32m---> 13\u001b[1;33m     x_train_sub, _, y_train_sub, _ = train_test_split(x_train, y_train, \n\u001b[0m\u001b[0;32m     14\u001b[0m                                                       \u001b[0mtrain_size\u001b[0m\u001b[1;33m=\u001b[0m\u001b[1;33m(\u001b[0m\u001b[1;33m(\u001b[0m\u001b[0mk\u001b[0m\u001b[1;33m+\u001b[0m\u001b[1;36m1\u001b[0m\u001b[1;33m)\u001b[0m \u001b[1;33m/\u001b[0m \u001b[1;36m10\u001b[0m\u001b[1;33m)\u001b[0m\u001b[1;33m,\u001b[0m    \u001b[1;31m# 0.1, 0.2, ..., 0.9\u001b[0m\u001b[1;33m\u001b[0m\u001b[1;33m\u001b[0m\u001b[0m\n\u001b[0;32m     15\u001b[0m                                                       random_state=0)\n",
      "\u001b[1;31mNameError\u001b[0m: name 'x_train' is not defined"
     ]
    }
   ],
   "source": [
    "# 从原始训练集生成9+1个子样本。\n",
    "num_subsamples = 10\n",
    "\n",
    "#  定义列表来存储原始训练集的子样本（特征和目标）。\n",
    "x_train_subs = []\n",
    "y_train_subs = []\n",
    "\n",
    "# 迭代9（=10-1）次，生成9个较小的训练集\n",
    "# - `train_size` 必须是0到1之间的浮动值 (exclusive)\n",
    "# - `random_state=0`: 控制分割，使较小的子样本总是一个子集 \n",
    "#   较大的子样本\n",
    "for k in range(num_subsamples - 1):\n",
    "    x_train_sub, _, y_train_sub, _ = train_test_split(x_train, y_train, \n",
    "                                                      train_size=((k+1) / 10),    # 0.1, 0.2, ..., 0.9\n",
    "                                                      random_state=0)\n",
    "    \n",
    "    # 将子样本追加到子样本列表中\n",
    "    x_train_subs.append(x_train_sub)\n",
    "    y_train_subs.append(y_train_sub)\n",
    "    \n",
    "# 将完整的训练样本追加到子样本的列表中\n",
    "x_train_subs.append(x_train)\n",
    "y_train_subs.append(y_train)"
   ]
  },
  {
   "cell_type": "code",
   "execution_count": 8,
   "id": "91162e7a",
   "metadata": {},
   "outputs": [],
   "source": [
    "# Helper function #8\n",
    "def train_and_evaluate_vary_size(estimator, x_train_list, x_test, y_train_list, y_test):\n",
    "    # Train and evaluate\n",
    "    # I初始化3个空列表来存储k、验证和测试分数的值 \n",
    "    # 初始化1个空字典（scores）来存储k：验证分数/测试分数（键：值）对\n",
    "    K = [] \n",
    "    validationf1macro = []\n",
    "    testf1macro = []\n",
    "    scores = {}\n",
    "    \n",
    "    for k, (x_train, y_train) in enumerate(zip(x_train_list, y_train_list)):\n",
    "        # 10倍交叉验证\n",
    "        # 使用10倍交叉验证计算模型的验证分数 \n",
    "        scores_val = cross_val_score(estimator, x_train, y_train, cv = 10, scoring = 'f1_macro')\n",
    "\n",
    "        # 计算平均验证分数\n",
    "        score_val_mean = scores_val.mean()\n",
    "        \n",
    "        \n",
    "        # 培训和测试\n",
    "        # 对子样本的训练数据进行拟合和训练模型。\n",
    "        estimator.fit(x_train, y_train)\n",
    "\n",
    "        # 通过比较实际和预测的结果，计算出测试分数。\n",
    "        test_predict = estimator.predict(x_test)\n",
    "\n",
    "        # 通过比较实际和预测的结果，计算出测试分数。\n",
    "        score_test = metrics.f1_score(y_test, test_predict, average='macro')\n",
    "        \n",
    "        \n",
    "        # 更新名单\n",
    "        # ---\n",
    "        key = k + 1\n",
    "        K.append(key)\n",
    "\n",
    "        validationf1macro.append(score_val_mean)\n",
    "        testf1macro.append(score_test)\n",
    "\n",
    "        # 一个字典保存键：值对，并存储每个k值的验证分数。\n",
    "        scores[key] = (score_val_mean, score_test)\n",
    "\n",
    "\n",
    "    # 打印结果\n",
    "    print(\"Subsample (%): Macro F1 score (Validation | Test)\")\n",
    "\n",
    "    for key_score in scores:\n",
    "        score_val = scores[key_score][0]\n",
    "        score_test = scores[key_score][1]\n",
    "        print(\"{:.1f}%: ({:.4f} | {:.4f})\".format(key_score*10, score_val, score_test))"
   ]
  },
  {
   "cell_type": "code",
   "execution_count": 11,
   "id": "67bc7ed4",
   "metadata": {},
   "outputs": [
    {
     "ename": "NameError",
     "evalue": "name 'x_test' is not defined",
     "output_type": "error",
     "traceback": [
      "\u001b[1;31m---------------------------------------------------------------------------\u001b[0m",
      "\u001b[1;31mNameError\u001b[0m                                 Traceback (most recent call last)",
      "\u001b[1;32m~\\AppData\\Local\\Temp/ipykernel_22396/1477487558.py\u001b[0m in \u001b[0;36m<module>\u001b[1;34m\u001b[0m\n\u001b[0;32m      2\u001b[0m \u001b[0mdtree\u001b[0m \u001b[1;33m=\u001b[0m \u001b[0mDecisionTreeClassifier\u001b[0m\u001b[1;33m(\u001b[0m\u001b[0mcriterion\u001b[0m \u001b[1;33m=\u001b[0m \u001b[1;34m'gini'\u001b[0m\u001b[1;33m,\u001b[0m\u001b[0msplitter\u001b[0m \u001b[1;33m=\u001b[0m \u001b[1;34m'best'\u001b[0m\u001b[1;33m,\u001b[0m \u001b[0mrandom_state\u001b[0m \u001b[1;33m=\u001b[0m \u001b[1;36m0\u001b[0m\u001b[1;33m)\u001b[0m\u001b[1;33m\u001b[0m\u001b[1;33m\u001b[0m\u001b[0m\n\u001b[0;32m      3\u001b[0m \u001b[1;33m\u001b[0m\u001b[0m\n\u001b[1;32m----> 4\u001b[1;33m \u001b[0mtrain_and_evaluate_vary_size\u001b[0m\u001b[1;33m(\u001b[0m\u001b[0mdtree\u001b[0m\u001b[1;33m,\u001b[0m \u001b[0mx_train_subs\u001b[0m\u001b[1;33m,\u001b[0m \u001b[0mx_test\u001b[0m\u001b[1;33m,\u001b[0m \u001b[0my_train_subs\u001b[0m\u001b[1;33m,\u001b[0m \u001b[0my_test\u001b[0m\u001b[1;33m)\u001b[0m\u001b[1;33m\u001b[0m\u001b[1;33m\u001b[0m\u001b[0m\n\u001b[0m",
      "\u001b[1;31mNameError\u001b[0m: name 'x_test' is not defined"
     ]
    }
   ],
   "source": [
    "# 定义决策树分类器\n",
    "dtree = DecisionTreeClassifier(criterion = 'gini',splitter = 'best', random_state = 0)\n",
    "\n",
    "train_and_evaluate_vary_size(dtree, x_train_subs, x_test, y_train_subs, y_test)"
   ]
  },
  {
   "cell_type": "code",
   "execution_count": null,
   "id": "dba21350",
   "metadata": {},
   "outputs": [],
   "source": []
  },
  {
   "cell_type": "code",
   "execution_count": 13,
   "id": "ff4bef10",
   "metadata": {},
   "outputs": [],
   "source": [
    "# 辅助功能 #定义一个辅助函数，根据Chi-squared（）方法获得指定数量的特征列表。\n",
    "def get_chi2_features(X, Y, num_k=10):\n",
    "    # 创建一个选择器\n",
    "    # 设置k：我们需要前k个特征\n",
    "    selector = SelectKBest(chi2, k=num_k)\n",
    "    \n",
    "    x_new = selector.fit_transform(X, Y)\n",
    "    col_index = selector.get_support(indices=True)    # Get the index\n",
    "    \n",
    "    cols = X.columns[col_index]                       # Get the name of the feature/column\n",
    "    \n",
    "    return cols"
   ]
  },
  {
   "cell_type": "code",
   "execution_count": 14,
   "id": "427abb7a",
   "metadata": {},
   "outputs": [
    {
     "ename": "NameError",
     "evalue": "name 'x_train' is not defined",
     "output_type": "error",
     "traceback": [
      "\u001b[1;31m---------------------------------------------------------------------------\u001b[0m",
      "\u001b[1;31mNameError\u001b[0m                                 Traceback (most recent call last)",
      "\u001b[1;32m~\\AppData\\Local\\Temp/ipykernel_22396/3061624992.py\u001b[0m in \u001b[0;36m<module>\u001b[1;34m\u001b[0m\n\u001b[1;32m----> 1\u001b[1;33m \u001b[0mcols\u001b[0m \u001b[1;33m=\u001b[0m \u001b[0mget_chi2_features\u001b[0m\u001b[1;33m(\u001b[0m\u001b[0mx_train\u001b[0m\u001b[1;33m,\u001b[0m \u001b[0my_train\u001b[0m\u001b[1;33m,\u001b[0m \u001b[0mnum_k\u001b[0m\u001b[1;33m=\u001b[0m\u001b[1;36m10\u001b[0m\u001b[1;33m)\u001b[0m\u001b[1;33m\u001b[0m\u001b[1;33m\u001b[0m\u001b[0m\n\u001b[0m\u001b[0;32m      2\u001b[0m \u001b[1;33m\u001b[0m\u001b[0m\n\u001b[0;32m      3\u001b[0m \u001b[0mx_train_chi2\u001b[0m \u001b[1;33m=\u001b[0m \u001b[0mx_train\u001b[0m\u001b[1;33m[\u001b[0m\u001b[0mcols\u001b[0m\u001b[1;33m]\u001b[0m\u001b[1;33m\u001b[0m\u001b[1;33m\u001b[0m\u001b[0m\n\u001b[0;32m      4\u001b[0m \u001b[0mx_test_chi2\u001b[0m \u001b[1;33m=\u001b[0m \u001b[0mx_test\u001b[0m\u001b[1;33m[\u001b[0m\u001b[0mcols\u001b[0m\u001b[1;33m]\u001b[0m\u001b[1;33m\u001b[0m\u001b[1;33m\u001b[0m\u001b[0m\n\u001b[0;32m      5\u001b[0m \u001b[1;33m\u001b[0m\u001b[0m\n",
      "\u001b[1;31mNameError\u001b[0m: name 'x_train' is not defined"
     ]
    }
   ],
   "source": [
    "cols = get_chi2_features(x_train, y_train, num_k=10)\n",
    "\n",
    "x_train_chi2 = x_train[cols]\n",
    "x_test_chi2 = x_test[cols]\n",
    "\n",
    "x_train_sub_chi2 = []\n",
    "for k in range(num_subsamples - 1):\n",
    "    x_train_sub, _, _, _ = train_test_split(x_train_chi2, y_train,           \n",
    "                                            train_size=((k+1) / 10),\n",
    "                                            random_state=0)\n",
    "    x_train_sub_chi2.append(x_train_sub)\n",
    "#     y_train_subs.append(y_train_sub)\n",
    "    \n",
    "x_train_sub_chi2.append(x_train_chi2)\n",
    "# y_train_subs.append(y_train)"
   ]
  },
  {
   "cell_type": "code",
   "execution_count": 15,
   "id": "255cf479",
   "metadata": {},
   "outputs": [
    {
     "ename": "NameError",
     "evalue": "name 'x_train_sub_chi2' is not defined",
     "output_type": "error",
     "traceback": [
      "\u001b[1;31m---------------------------------------------------------------------------\u001b[0m",
      "\u001b[1;31mNameError\u001b[0m                                 Traceback (most recent call last)",
      "\u001b[1;32m~\\AppData\\Local\\Temp/ipykernel_22396/2686751876.py\u001b[0m in \u001b[0;36m<module>\u001b[1;34m\u001b[0m\n\u001b[0;32m      2\u001b[0m \u001b[0mdtree\u001b[0m \u001b[1;33m=\u001b[0m \u001b[0mDecisionTreeClassifier\u001b[0m\u001b[1;33m(\u001b[0m\u001b[0mrandom_state\u001b[0m\u001b[1;33m=\u001b[0m\u001b[1;36m0\u001b[0m\u001b[1;33m)\u001b[0m\u001b[1;33m\u001b[0m\u001b[1;33m\u001b[0m\u001b[0m\n\u001b[0;32m      3\u001b[0m \u001b[1;33m\u001b[0m\u001b[0m\n\u001b[1;32m----> 4\u001b[1;33m \u001b[0mtrain_and_evaluate_vary_size\u001b[0m\u001b[1;33m(\u001b[0m\u001b[0mdtree\u001b[0m\u001b[1;33m,\u001b[0m \u001b[0mx_train_sub_chi2\u001b[0m\u001b[1;33m,\u001b[0m \u001b[0mx_test_chi2\u001b[0m\u001b[1;33m,\u001b[0m \u001b[0my_train_subs\u001b[0m\u001b[1;33m,\u001b[0m \u001b[0my_test\u001b[0m\u001b[1;33m)\u001b[0m\u001b[1;33m\u001b[0m\u001b[1;33m\u001b[0m\u001b[0m\n\u001b[0m",
      "\u001b[1;31mNameError\u001b[0m: name 'x_train_sub_chi2' is not defined"
     ]
    }
   ],
   "source": [
    "# 使用前10个特征进行训练和评估 - chi2\n",
    "dtree = DecisionTreeClassifier(random_state=0)\n",
    "\n",
    "train_and_evaluate_vary_size(dtree, x_train_sub_chi2, x_test_chi2, y_train_subs, y_test)"
   ]
  },
  {
   "cell_type": "code",
   "execution_count": 18,
   "id": "cdf0dc0b",
   "metadata": {},
   "outputs": [
    {
     "ename": "NameError",
     "evalue": "name 'x_test' is not defined",
     "output_type": "error",
     "traceback": [
      "\u001b[1;31m---------------------------------------------------------------------------\u001b[0m",
      "\u001b[1;31mNameError\u001b[0m                                 Traceback (most recent call last)",
      "\u001b[1;32m~\\AppData\\Local\\Temp/ipykernel_22396/3470293854.py\u001b[0m in \u001b[0;36m<module>\u001b[1;34m\u001b[0m\n\u001b[0;32m      5\u001b[0m                                   n_estimators=100, random_state=0)\n\u001b[0;32m      6\u001b[0m \u001b[1;33m\u001b[0m\u001b[0m\n\u001b[1;32m----> 7\u001b[1;33m \u001b[0mtrain_and_evaluate_vary_size\u001b[0m\u001b[1;33m(\u001b[0m\u001b[0mmodel_bagging\u001b[0m\u001b[1;33m,\u001b[0m \u001b[0mx_train_subs\u001b[0m\u001b[1;33m,\u001b[0m \u001b[0mx_test\u001b[0m\u001b[1;33m,\u001b[0m \u001b[0my_train_subs\u001b[0m\u001b[1;33m,\u001b[0m \u001b[0my_test\u001b[0m\u001b[1;33m)\u001b[0m\u001b[1;33m\u001b[0m\u001b[1;33m\u001b[0m\u001b[0m\n\u001b[0m",
      "\u001b[1;31mNameError\u001b[0m: name 'x_test' is not defined"
     ]
    }
   ],
   "source": [
    "# #导入袋式分类器的软件包\n",
    "# 从sklearn.ensemble导入BaggingClassifier\n",
    "\n",
    "model_bagging = BaggingClassifier(base_estimator=DecisionTreeClassifier(random_state=0), \n",
    "                                  n_estimators=100, random_state=0)\n",
    "\n",
    "train_and_evaluate_vary_size(model_bagging, x_train_subs, x_test, y_train_subs, y_test)"
   ]
  },
  {
   "cell_type": "code",
   "execution_count": null,
   "id": "14bf9f6d",
   "metadata": {},
   "outputs": [],
   "source": []
  }
 ],
 "metadata": {
  "kernelspec": {
   "display_name": "Python 3 (ipykernel)",
   "language": "python",
   "name": "python3"
  },
  "language_info": {
   "codemirror_mode": {
    "name": "ipython",
    "version": 3
   },
   "file_extension": ".py",
   "mimetype": "text/x-python",
   "name": "python",
   "nbconvert_exporter": "python",
   "pygments_lexer": "ipython3",
   "version": "3.9.7"
  }
 },
 "nbformat": 4,
 "nbformat_minor": 5
}
