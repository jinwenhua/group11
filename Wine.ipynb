{
 "cells": [
  {
   "cell_type": "markdown",
   "id": "aceef4be",
   "metadata": {},
   "source": [
    "# CDS503 - Machine Learning Final Project\n",
    "\n",
    "Universiti Sains Malaysia\n",
    "\n",
    "\n",
    "Group 11 - **Wine Quality Prediction Using Classification**\n",
    "\n",
    "Members:\n",
    "- JIN WENHUA\n",
    "- MA RU\n",
    "- GUO ZIRUI\n",
    "- CHEN wenxian"
   ]
  },
  {
   "cell_type": "markdown",
   "id": "0eeb7bbf",
   "metadata": {},
   "source": [
    "## Overview\n",
    "\n",
    "### Experiment Set 1: Comparing machine learning algorithms  \n",
    "* JIN WENHUA\n",
    "### Experiment Set 2: Selecting features\n",
    "* MA RU\n",
    "### Experiment Set 3: Ensemble learning\n",
    "* CHEN WENXIAN \n",
    "### Experiment Set 4: Varying training sample size\n",
    "* GUO ZIRUI\n"
   ]
  },
  {
   "cell_type": "markdown",
   "id": "89bf176e",
   "metadata": {},
   "source": [
    "# 1. Data Preparation"
   ]
  },
  {
   "cell_type": "code",
   "execution_count": 1,
   "id": "6ae3591f",
   "metadata": {},
   "outputs": [],
   "source": [
    "import pandas as pd\n",
    "import numpy as np\n",
    "\n"
   ]
  },
  {
   "cell_type": "code",
   "execution_count": 2,
   "id": "7eedc1f5",
   "metadata": {},
   "outputs": [
    {
     "name": "stdout",
     "output_type": "stream",
     "text": [
      "<class 'pandas.core.frame.DataFrame'>\n",
      "RangeIndex: 4898 entries, 0 to 4897\n",
      "Data columns (total 12 columns):\n",
      " #   Column                Non-Null Count  Dtype  \n",
      "---  ------                --------------  -----  \n",
      " 0   fixed acidity         4898 non-null   float64\n",
      " 1   volatile acidity      4898 non-null   float64\n",
      " 2   citric acid           4898 non-null   float64\n",
      " 3   residual sugar        4898 non-null   float64\n",
      " 4   chlorides             4898 non-null   float64\n",
      " 5   free sulfur dioxide   4898 non-null   float64\n",
      " 6   total sulfur dioxide  4898 non-null   float64\n",
      " 7   density               4898 non-null   float64\n",
      " 8   pH                    4898 non-null   float64\n",
      " 9   sulphates             4898 non-null   float64\n",
      " 10  alcohol               4898 non-null   float64\n",
      " 11  quality               4898 non-null   int64  \n",
      "dtypes: float64(11), int64(1)\n",
      "memory usage: 459.3 KB\n"
     ]
    }
   ],
   "source": [
    "df = pd.read_csv('winequality-white.csv', delimiter = ';')\n",
    "#display the metadata or summary of the data \n",
    "df.info()"
   ]
  },
  {
   "cell_type": "code",
   "execution_count": 18,
   "id": "ee331221",
   "metadata": {},
   "outputs": [
    {
     "data": {
      "text/html": [
       "<div>\n",
       "<style scoped>\n",
       "    .dataframe tbody tr th:only-of-type {\n",
       "        vertical-align: middle;\n",
       "    }\n",
       "\n",
       "    .dataframe tbody tr th {\n",
       "        vertical-align: top;\n",
       "    }\n",
       "\n",
       "    .dataframe thead th {\n",
       "        text-align: right;\n",
       "    }\n",
       "</style>\n",
       "<table border=\"1\" class=\"dataframe\">\n",
       "  <thead>\n",
       "    <tr style=\"text-align: right;\">\n",
       "      <th></th>\n",
       "      <th>fixed acidity</th>\n",
       "      <th>volatile acidity</th>\n",
       "      <th>citric acid</th>\n",
       "      <th>residual sugar</th>\n",
       "      <th>chlorides</th>\n",
       "      <th>free sulfur dioxide</th>\n",
       "      <th>total sulfur dioxide</th>\n",
       "      <th>density</th>\n",
       "      <th>pH</th>\n",
       "      <th>sulphates</th>\n",
       "      <th>alcohol</th>\n",
       "      <th>quality</th>\n",
       "    </tr>\n",
       "  </thead>\n",
       "  <tbody>\n",
       "    <tr>\n",
       "      <th>0</th>\n",
       "      <td>7.0</td>\n",
       "      <td>0.27</td>\n",
       "      <td>0.36</td>\n",
       "      <td>20.7</td>\n",
       "      <td>0.045</td>\n",
       "      <td>45.0</td>\n",
       "      <td>170.0</td>\n",
       "      <td>1.00100</td>\n",
       "      <td>3.00</td>\n",
       "      <td>0.45</td>\n",
       "      <td>8.8</td>\n",
       "      <td>6</td>\n",
       "    </tr>\n",
       "    <tr>\n",
       "      <th>1</th>\n",
       "      <td>6.3</td>\n",
       "      <td>0.30</td>\n",
       "      <td>0.34</td>\n",
       "      <td>1.6</td>\n",
       "      <td>0.049</td>\n",
       "      <td>14.0</td>\n",
       "      <td>132.0</td>\n",
       "      <td>0.99400</td>\n",
       "      <td>3.30</td>\n",
       "      <td>0.49</td>\n",
       "      <td>9.5</td>\n",
       "      <td>6</td>\n",
       "    </tr>\n",
       "    <tr>\n",
       "      <th>2</th>\n",
       "      <td>8.1</td>\n",
       "      <td>0.28</td>\n",
       "      <td>0.40</td>\n",
       "      <td>6.9</td>\n",
       "      <td>0.050</td>\n",
       "      <td>30.0</td>\n",
       "      <td>97.0</td>\n",
       "      <td>0.99510</td>\n",
       "      <td>3.26</td>\n",
       "      <td>0.44</td>\n",
       "      <td>10.1</td>\n",
       "      <td>6</td>\n",
       "    </tr>\n",
       "    <tr>\n",
       "      <th>3</th>\n",
       "      <td>7.2</td>\n",
       "      <td>0.23</td>\n",
       "      <td>0.32</td>\n",
       "      <td>8.5</td>\n",
       "      <td>0.058</td>\n",
       "      <td>47.0</td>\n",
       "      <td>186.0</td>\n",
       "      <td>0.99560</td>\n",
       "      <td>3.19</td>\n",
       "      <td>0.40</td>\n",
       "      <td>9.9</td>\n",
       "      <td>6</td>\n",
       "    </tr>\n",
       "    <tr>\n",
       "      <th>4</th>\n",
       "      <td>7.2</td>\n",
       "      <td>0.23</td>\n",
       "      <td>0.32</td>\n",
       "      <td>8.5</td>\n",
       "      <td>0.058</td>\n",
       "      <td>47.0</td>\n",
       "      <td>186.0</td>\n",
       "      <td>0.99560</td>\n",
       "      <td>3.19</td>\n",
       "      <td>0.40</td>\n",
       "      <td>9.9</td>\n",
       "      <td>6</td>\n",
       "    </tr>\n",
       "    <tr>\n",
       "      <th>...</th>\n",
       "      <td>...</td>\n",
       "      <td>...</td>\n",
       "      <td>...</td>\n",
       "      <td>...</td>\n",
       "      <td>...</td>\n",
       "      <td>...</td>\n",
       "      <td>...</td>\n",
       "      <td>...</td>\n",
       "      <td>...</td>\n",
       "      <td>...</td>\n",
       "      <td>...</td>\n",
       "      <td>...</td>\n",
       "    </tr>\n",
       "    <tr>\n",
       "      <th>4893</th>\n",
       "      <td>6.2</td>\n",
       "      <td>0.21</td>\n",
       "      <td>0.29</td>\n",
       "      <td>1.6</td>\n",
       "      <td>0.039</td>\n",
       "      <td>24.0</td>\n",
       "      <td>92.0</td>\n",
       "      <td>0.99114</td>\n",
       "      <td>3.27</td>\n",
       "      <td>0.50</td>\n",
       "      <td>11.2</td>\n",
       "      <td>6</td>\n",
       "    </tr>\n",
       "    <tr>\n",
       "      <th>4894</th>\n",
       "      <td>6.6</td>\n",
       "      <td>0.32</td>\n",
       "      <td>0.36</td>\n",
       "      <td>8.0</td>\n",
       "      <td>0.047</td>\n",
       "      <td>57.0</td>\n",
       "      <td>168.0</td>\n",
       "      <td>0.99490</td>\n",
       "      <td>3.15</td>\n",
       "      <td>0.46</td>\n",
       "      <td>9.6</td>\n",
       "      <td>5</td>\n",
       "    </tr>\n",
       "    <tr>\n",
       "      <th>4895</th>\n",
       "      <td>6.5</td>\n",
       "      <td>0.24</td>\n",
       "      <td>0.19</td>\n",
       "      <td>1.2</td>\n",
       "      <td>0.041</td>\n",
       "      <td>30.0</td>\n",
       "      <td>111.0</td>\n",
       "      <td>0.99254</td>\n",
       "      <td>2.99</td>\n",
       "      <td>0.46</td>\n",
       "      <td>9.4</td>\n",
       "      <td>6</td>\n",
       "    </tr>\n",
       "    <tr>\n",
       "      <th>4896</th>\n",
       "      <td>5.5</td>\n",
       "      <td>0.29</td>\n",
       "      <td>0.30</td>\n",
       "      <td>1.1</td>\n",
       "      <td>0.022</td>\n",
       "      <td>20.0</td>\n",
       "      <td>110.0</td>\n",
       "      <td>0.98869</td>\n",
       "      <td>3.34</td>\n",
       "      <td>0.38</td>\n",
       "      <td>12.8</td>\n",
       "      <td>7</td>\n",
       "    </tr>\n",
       "    <tr>\n",
       "      <th>4897</th>\n",
       "      <td>6.0</td>\n",
       "      <td>0.21</td>\n",
       "      <td>0.38</td>\n",
       "      <td>0.8</td>\n",
       "      <td>0.020</td>\n",
       "      <td>22.0</td>\n",
       "      <td>98.0</td>\n",
       "      <td>0.98941</td>\n",
       "      <td>3.26</td>\n",
       "      <td>0.32</td>\n",
       "      <td>11.8</td>\n",
       "      <td>6</td>\n",
       "    </tr>\n",
       "  </tbody>\n",
       "</table>\n",
       "<p>4898 rows × 12 columns</p>\n",
       "</div>"
      ],
      "text/plain": [
       "      fixed acidity  volatile acidity  citric acid  residual sugar  chlorides  \\\n",
       "0               7.0              0.27         0.36            20.7      0.045   \n",
       "1               6.3              0.30         0.34             1.6      0.049   \n",
       "2               8.1              0.28         0.40             6.9      0.050   \n",
       "3               7.2              0.23         0.32             8.5      0.058   \n",
       "4               7.2              0.23         0.32             8.5      0.058   \n",
       "...             ...               ...          ...             ...        ...   \n",
       "4893            6.2              0.21         0.29             1.6      0.039   \n",
       "4894            6.6              0.32         0.36             8.0      0.047   \n",
       "4895            6.5              0.24         0.19             1.2      0.041   \n",
       "4896            5.5              0.29         0.30             1.1      0.022   \n",
       "4897            6.0              0.21         0.38             0.8      0.020   \n",
       "\n",
       "      free sulfur dioxide  total sulfur dioxide  density    pH  sulphates  \\\n",
       "0                    45.0                 170.0  1.00100  3.00       0.45   \n",
       "1                    14.0                 132.0  0.99400  3.30       0.49   \n",
       "2                    30.0                  97.0  0.99510  3.26       0.44   \n",
       "3                    47.0                 186.0  0.99560  3.19       0.40   \n",
       "4                    47.0                 186.0  0.99560  3.19       0.40   \n",
       "...                   ...                   ...      ...   ...        ...   \n",
       "4893                 24.0                  92.0  0.99114  3.27       0.50   \n",
       "4894                 57.0                 168.0  0.99490  3.15       0.46   \n",
       "4895                 30.0                 111.0  0.99254  2.99       0.46   \n",
       "4896                 20.0                 110.0  0.98869  3.34       0.38   \n",
       "4897                 22.0                  98.0  0.98941  3.26       0.32   \n",
       "\n",
       "      alcohol  quality  \n",
       "0         8.8        6  \n",
       "1         9.5        6  \n",
       "2        10.1        6  \n",
       "3         9.9        6  \n",
       "4         9.9        6  \n",
       "...       ...      ...  \n",
       "4893     11.2        6  \n",
       "4894      9.6        5  \n",
       "4895      9.4        6  \n",
       "4896     12.8        7  \n",
       "4897     11.8        6  \n",
       "\n",
       "[4898 rows x 12 columns]"
      ]
     },
     "execution_count": 18,
     "metadata": {},
     "output_type": "execute_result"
    }
   ],
   "source": [
    "df"
   ]
  },
  {
   "cell_type": "markdown",
   "id": "aa8d707d",
   "metadata": {},
   "source": [
    "## Identify each attribute and its type\n",
    "\n",
    "The data has 4898 rows. There are 11 features will be used to classify the quality of wine, many of them are chemical, so we need to have a basic understanding of such chemicals.\n",
    "\n",
    "*  fixed_acidity :   Primary fixed acids found in wine are tartaric, succinic, citric, and malic\n",
    "*  volatile_acidity :   Volatile acidity is the gaseous acids present in wine.\n",
    "* citric_acid :    It is weak organic acid, found in citrus fruits naturally.\n",
    "* residual_sugar :   Amount of sugar left after fermentation.\n",
    "* chlorides :   Amount of salt present in wine.\n",
    "* free_sulfur_dioxide :   So2 is used for prevention of wine by oxidation and microbial spoilage.\n",
    "* total sulfur dioxide \n",
    "* density \n",
    "* pH :   In wine pH is used for checking acidity\n",
    "* sulphates :    Added sulfites preserve freshness and protect wine from oxidation, and bacteria.\n",
    "* alcohol :   Percent of alcohol present in wine.\n"
   ]
  },
  {
   "cell_type": "code",
   "execution_count": 19,
   "id": "4186ad47",
   "metadata": {},
   "outputs": [
    {
     "data": {
      "text/plain": [
       "array([[<AxesSubplot:title={'center':'fixed acidity'}>,\n",
       "        <AxesSubplot:title={'center':'volatile acidity'}>,\n",
       "        <AxesSubplot:title={'center':'citric acid'}>],\n",
       "       [<AxesSubplot:title={'center':'residual sugar'}>,\n",
       "        <AxesSubplot:title={'center':'chlorides'}>,\n",
       "        <AxesSubplot:title={'center':'free sulfur dioxide'}>],\n",
       "       [<AxesSubplot:title={'center':'total sulfur dioxide'}>,\n",
       "        <AxesSubplot:title={'center':'density'}>,\n",
       "        <AxesSubplot:title={'center':'pH'}>],\n",
       "       [<AxesSubplot:title={'center':'sulphates'}>,\n",
       "        <AxesSubplot:title={'center':'alcohol'}>,\n",
       "        <AxesSubplot:title={'center':'quality'}>]], dtype=object)"
      ]
     },
     "execution_count": 19,
     "metadata": {},
     "output_type": "execute_result"
    },
    {
     "data": {
      "image/png": "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",
      "text/plain": [
       "<Figure size 720x720 with 12 Axes>"
      ]
     },
     "metadata": {
      "needs_background": "light"
     },
     "output_type": "display_data"
    }
   ],
   "source": [
    "df.hist(bins=25,figsize=(10,10))"
   ]
  },
  {
   "cell_type": "code",
   "execution_count": 20,
   "id": "e16a8d6c",
   "metadata": {},
   "outputs": [
    {
     "data": {
      "text/plain": [
       "<AxesSubplot:>"
      ]
     },
     "execution_count": 20,
     "metadata": {},
     "output_type": "execute_result"
    },
    {
     "data": {
      "image/png": "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",
      "text/plain": [
       "<Figure size 432x288 with 1 Axes>"
      ]
     },
     "metadata": {
      "needs_background": "light"
     },
     "output_type": "display_data"
    }
   ],
   "source": [
    "df['quality'].hist()"
   ]
  },
  {
   "cell_type": "code",
   "execution_count": 21,
   "id": "f24c969f",
   "metadata": {},
   "outputs": [
    {
     "data": {
      "text/plain": [
       "6    2198\n",
       "5    1457\n",
       "7     880\n",
       "8     175\n",
       "4     163\n",
       "3      20\n",
       "9       5\n",
       "Name: quality, dtype: int64"
      ]
     },
     "execution_count": 21,
     "metadata": {},
     "output_type": "execute_result"
    }
   ],
   "source": [
    "df['quality'].value_counts()"
   ]
  },
  {
   "cell_type": "code",
   "execution_count": 22,
   "id": "e3e53b09",
   "metadata": {},
   "outputs": [
    {
     "data": {
      "text/plain": [
       "1    3655\n",
       "2    1060\n",
       "0     183\n",
       "Name: quality, dtype: int64"
      ]
     },
     "execution_count": 22,
     "metadata": {},
     "output_type": "execute_result"
    }
   ],
   "source": [
    "cut_bins = [1, 4, 6, 9]\n",
    "df['quality'] = pd.cut(df['quality'], bins = cut_bins, labels = [0, 1, 2])\n",
    "df['quality'].value_counts()"
   ]
  },
  {
   "cell_type": "code",
   "execution_count": 23,
   "id": "0f398800",
   "metadata": {},
   "outputs": [],
   "source": [
    "#save the preprocess data\n",
    "df.to_csv(r'winequality-preprocess.csv', index = False, header = True)"
   ]
  },
  {
   "cell_type": "markdown",
   "id": "b5aa66cc",
   "metadata": {},
   "source": [
    "# Experiment Set 1: Comparing Machine Learning Algorithms\n",
    "\n",
    "In this experiment set, we compare the baseline performance and the best performance (after parameter tuning) on the test set for each machine learning algorithm being used.\n",
    "\n",
    "The list of machine learning algorithms are:\n",
    "\n",
    "- K-Nearest Neighbors\n",
    "- Decision Tree\n",
    "- SVM"
   ]
  },
  {
   "cell_type": "code",
   "execution_count": 2,
   "id": "ea97486f",
   "metadata": {},
   "outputs": [],
   "source": [
    "import matplotlib.pyplot as plt \n",
    "import seaborn as sns \n",
    "from sklearn.model_selection import train_test_split, GridSearchCV\n",
    "from sklearn.preprocessing import StandardScaler, MinMaxScaler\n",
    "from sklearn.metrics import classification_report, confusion_matrix, roc_curve, roc_auc_score\n",
    "from sklearn import metrics\n",
    "#import function for k-fold cross validation \n",
    "from sklearn.model_selection import cross_val_score\n",
    "\n",
    "from sklearn.neighbors import KNeighborsClassifier\n",
    "#import decision tree classifier \n",
    "from sklearn.tree import DecisionTreeClassifier \n",
    "from sklearn.svm import SVC"
   ]
  },
  {
   "cell_type": "code",
   "execution_count": 3,
   "id": "781efc5f",
   "metadata": {},
   "outputs": [
    {
     "data": {
      "image/png": "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",
      "text/plain": [
       "<Figure size 1440x1440 with 2 Axes>"
      ]
     },
     "metadata": {
      "needs_background": "light"
     },
     "output_type": "display_data"
    }
   ],
   "source": [
    "df = pd.read_csv('winequality-preprocess.csv')\n",
    "plt.figure(figsize=(20,20))\n",
    "df_corr = df.corr()\n",
    "sns.heatmap(df_corr, cmap=sns.diverging_palette(220,20,n=12), annot = True)\n",
    "plt.show()"
   ]
  },
  {
   "cell_type": "code",
   "execution_count": 4,
   "id": "1715c7ce",
   "metadata": {},
   "outputs": [],
   "source": [
    "#Indicate the target column\n",
    "target = df['quality']\n",
    "\n",
    "#Indicatethe columns that will serve as features.\n",
    "features = df.drop('quality', axis = 1)\n",
    "\n",
    "scaler = StandardScaler()\n",
    "features = scaler.fit_transform(features)"
   ]
  },
  {
   "cell_type": "code",
   "execution_count": 6,
   "id": "f25820fc",
   "metadata": {},
   "outputs": [],
   "source": [
    "\n",
    "x_train, x_test, y_train, y_test = train_test_split(features, target, test_size = 0.2, random_state = 0)"
   ]
  },
  {
   "cell_type": "markdown",
   "id": "6195242c",
   "metadata": {},
   "source": [
    "Tuning Parameter: we use f1_weighted as performing metric"
   ]
  },
  {
   "cell_type": "code",
   "execution_count": 7,
   "id": "3aa5e242",
   "metadata": {},
   "outputs": [],
   "source": [
    "def best_parameter(param_grid, estimator):\n",
    "    #fit on the dataset on all parameter combinations in param_grid \n",
    "    #retain the best conbination \n",
    "    #because our data is unbalanced data, we use f1_weighted\n",
    "    grid_search = GridSearchCV(estimator, param_grid, cv = 5, scoring = 'f1_weighted')\n",
    "    #Train model while tuning the parameters using grid search \n",
    "    grid_result = grid_search.fit(x_train, y_train)\n",
    "    #display the best parameter c value \n",
    "    print(grid_result.best_params_)\n",
    "    print(grid_search.best_score_)\n",
    "    print(grid_search.best_estimator_)\n",
    "    return grid_search"
   ]
  },
  {
   "cell_type": "code",
   "execution_count": 11,
   "id": "66c146d4",
   "metadata": {},
   "outputs": [],
   "source": [
    "def validation(estimator):\n",
    "    #train model \n",
    "    estimator.fit(x_train, y_train)\n",
    "\n",
    "    #predict the target for the test dataset \n",
    "    test_predict = estimator.predict(x_test)\n",
    "\n",
    "    print(estimator.__class__)\n",
    "\n",
    "    scores = cross_val_score(estimator, x_train, y_train, cv =5, scoring = 'f1_weighted')\n",
    "    print(\"f1_weighted(validation) = \", scores.mean())\n",
    "    \n",
    "    #compute the model f1_weighted on the development set: How often is the classifier correct?\n",
    "    print(\"f1_weighted(test):{}\".format(metrics.f1_score(y_test, test_predict, average='weighted')))\n",
    "\n",
    "    #print confusion matrix\n",
    "    print(confusion_matrix(y_test, test_predict))\n",
    "\n",
    "    #print precision, recall and f1 \n",
    "    print(classification_report(y_test, test_predict))"
   ]
  },
  {
   "cell_type": "markdown",
   "id": "1527837d",
   "metadata": {},
   "source": [
    "## 1.1 K-Nearest Neighbors"
   ]
  },
  {
   "cell_type": "code",
   "execution_count": 12,
   "id": "8a622f9c",
   "metadata": {},
   "outputs": [
    {
     "name": "stdout",
     "output_type": "stream",
     "text": [
      "<class 'sklearn.neighbors._classification.KNeighborsClassifier'>\n",
      "f1_weighted(validation) =  0.7770169633074812\n",
      "f1_weighted(test):0.73810698786335\n",
      "[[  5  52   3]\n",
      " [  5 631  68]\n",
      " [  0 106 110]]\n",
      "              precision    recall  f1-score   support\n",
      "\n",
      "           0       0.50      0.08      0.14        60\n",
      "           1       0.80      0.90      0.85       704\n",
      "           2       0.61      0.51      0.55       216\n",
      "\n",
      "    accuracy                           0.76       980\n",
      "   macro avg       0.64      0.50      0.51       980\n",
      "weighted avg       0.74      0.76      0.74       980\n",
      "\n"
     ]
    }
   ],
   "source": [
    "validation(KNeighborsClassifier())"
   ]
  },
  {
   "cell_type": "code",
   "execution_count": 14,
   "id": "48e5e03a",
   "metadata": {},
   "outputs": [
    {
     "name": "stdout",
     "output_type": "stream",
     "text": [
      "{'algorithm': 'auto', 'n_neighbors': 11, 'p': 1, 'weights': 'distance'}\n",
      "0.8292807834702943\n",
      "KNeighborsClassifier(n_neighbors=11, p=1, weights='distance')\n"
     ]
    },
    {
     "data": {
      "text/plain": [
       "GridSearchCV(cv=5, estimator=KNeighborsClassifier(),\n",
       "             param_grid={'algorithm': ['auto', 'ball_tree', 'kd_tree', 'brute'],\n",
       "                         'n_neighbors': [1, 3, 5, 7, 9, 11], 'p': [1, 2, 3],\n",
       "                         'weights': ['uniform', 'distance']},\n",
       "             scoring='f1_weighted')"
      ]
     },
     "execution_count": 14,
     "metadata": {},
     "output_type": "execute_result"
    }
   ],
   "source": [
    "#the param_grid specifies one grid should be explored \n",
    "param_grid = {\"n_neighbors\":[1,3, 5,7, 9, 11], \"weights\" : ['uniform', 'distance'], \n",
    "              \"algorithm\" : ['auto', 'ball_tree', 'kd_tree', 'brute'],\n",
    "              \"p\":[1,2,3]}\n",
    "\n",
    "best_parameter(param_grid, KNeighborsClassifier())"
   ]
  },
  {
   "cell_type": "code",
   "execution_count": 15,
   "id": "16e24d36",
   "metadata": {},
   "outputs": [
    {
     "name": "stdout",
     "output_type": "stream",
     "text": [
      "<class 'sklearn.neighbors._classification.KNeighborsClassifier'>\n",
      "f1_weighted(validation) =  0.8292807834702943\n",
      "f1_weighted(test):0.7779318549916966\n",
      "[[  4  55   1]\n",
      " [  0 653  51]\n",
      " [  0  86 130]]\n",
      "              precision    recall  f1-score   support\n",
      "\n",
      "           0       1.00      0.07      0.12        60\n",
      "           1       0.82      0.93      0.87       704\n",
      "           2       0.71      0.60      0.65       216\n",
      "\n",
      "    accuracy                           0.80       980\n",
      "   macro avg       0.85      0.53      0.55       980\n",
      "weighted avg       0.81      0.80      0.78       980\n",
      "\n"
     ]
    }
   ],
   "source": [
    "validation(KNeighborsClassifier(n_neighbors=11, p=1, weights='distance'))"
   ]
  },
  {
   "cell_type": "markdown",
   "id": "8373cb27",
   "metadata": {},
   "source": [
    "## 1.2 Decision Tree"
   ]
  },
  {
   "cell_type": "code",
   "execution_count": 27,
   "id": "32901dff",
   "metadata": {},
   "outputs": [
    {
     "name": "stdout",
     "output_type": "stream",
     "text": [
      "<class 'sklearn.tree._classes.DecisionTreeClassifier'>\n",
      "f1_weighted(validation) =  0.784510702034665\n",
      "f1_weighted(test):0.7267058658944483\n",
      "[[ 10  46   4]\n",
      " [ 19 592  93]\n",
      " [  6  92 118]]\n",
      "              precision    recall  f1-score   support\n",
      "\n",
      "           0       0.29      0.17      0.21        60\n",
      "           1       0.81      0.84      0.83       704\n",
      "           2       0.55      0.55      0.55       216\n",
      "\n",
      "    accuracy                           0.73       980\n",
      "   macro avg       0.55      0.52      0.53       980\n",
      "weighted avg       0.72      0.73      0.73       980\n",
      "\n"
     ]
    }
   ],
   "source": [
    "validation(DecisionTreeClassifier())"
   ]
  },
  {
   "cell_type": "code",
   "execution_count": 17,
   "id": "496e6fd0",
   "metadata": {},
   "outputs": [
    {
     "name": "stdout",
     "output_type": "stream",
     "text": [
      "{'criterion': 'entropy', 'max_depth': None, 'splitter': 'best'}\n",
      "0.7824260881611718\n",
      "DecisionTreeClassifier(criterion='entropy')\n"
     ]
    },
    {
     "data": {
      "text/plain": [
       "GridSearchCV(cv=5, estimator=DecisionTreeClassifier(),\n",
       "             param_grid={'criterion': ['gini', 'entropy'],\n",
       "                         'max_depth': [7, 8, 9, 10, 11, 12, 13, 14, None],\n",
       "                         'splitter': ['best', 'random']},\n",
       "             scoring='f1_weighted')"
      ]
     },
     "execution_count": 17,
     "metadata": {},
     "output_type": "execute_result"
    }
   ],
   "source": [
    "#the param_grid specifies one grid should be explored \n",
    "param_grid = {\"criterion\":[\"gini\", \"entropy\"], \n",
    "              \"splitter\" : [\"best\", \"random\"], \n",
    "              \"max_depth\":[7, 8, 9, 10, 11, 12, 13, 14, None]}\n",
    "\n",
    "best_parameter(param_grid, DecisionTreeClassifier())"
   ]
  },
  {
   "cell_type": "code",
   "execution_count": 18,
   "id": "e3c97c95",
   "metadata": {},
   "outputs": [
    {
     "name": "stdout",
     "output_type": "stream",
     "text": [
      "<class 'sklearn.tree._classes.DecisionTreeClassifier'>\n",
      "f1_weighted(validation) =  0.7844156635690783\n",
      "f1_weighted(test):0.743214086699022\n",
      "[[  9  46   5]\n",
      " [ 17 604  83]\n",
      " [  1  89 126]]\n",
      "              precision    recall  f1-score   support\n",
      "\n",
      "           0       0.33      0.15      0.21        60\n",
      "           1       0.82      0.86      0.84       704\n",
      "           2       0.59      0.58      0.59       216\n",
      "\n",
      "    accuracy                           0.75       980\n",
      "   macro avg       0.58      0.53      0.54       980\n",
      "weighted avg       0.74      0.75      0.74       980\n",
      "\n"
     ]
    }
   ],
   "source": [
    "validation(DecisionTreeClassifier(criterion='entropy'))"
   ]
  },
  {
   "cell_type": "markdown",
   "id": "73f66873",
   "metadata": {},
   "source": [
    "## 1.3 SVM"
   ]
  },
  {
   "cell_type": "code",
   "execution_count": 19,
   "id": "6f9b1142",
   "metadata": {},
   "outputs": [
    {
     "name": "stdout",
     "output_type": "stream",
     "text": [
      "<class 'sklearn.svm._classes.SVC'>\n",
      "f1_weighted(validation) =  0.7569532661622315\n",
      "f1_weighted(test):0.7083401182418172\n",
      "[[  0  60   0]\n",
      " [  0 675  29]\n",
      " [  0 147  69]]\n",
      "              precision    recall  f1-score   support\n",
      "\n",
      "           0       0.00      0.00      0.00        60\n",
      "           1       0.77      0.96      0.85       704\n",
      "           2       0.70      0.32      0.44       216\n",
      "\n",
      "    accuracy                           0.76       980\n",
      "   macro avg       0.49      0.43      0.43       980\n",
      "weighted avg       0.70      0.76      0.71       980\n",
      "\n"
     ]
    },
    {
     "name": "stderr",
     "output_type": "stream",
     "text": [
      "/Library/Frameworks/Python.framework/Versions/3.10/lib/python3.10/site-packages/sklearn/metrics/_classification.py:1318: UndefinedMetricWarning: Precision and F-score are ill-defined and being set to 0.0 in labels with no predicted samples. Use `zero_division` parameter to control this behavior.\n",
      "  _warn_prf(average, modifier, msg_start, len(result))\n",
      "/Library/Frameworks/Python.framework/Versions/3.10/lib/python3.10/site-packages/sklearn/metrics/_classification.py:1318: UndefinedMetricWarning: Precision and F-score are ill-defined and being set to 0.0 in labels with no predicted samples. Use `zero_division` parameter to control this behavior.\n",
      "  _warn_prf(average, modifier, msg_start, len(result))\n",
      "/Library/Frameworks/Python.framework/Versions/3.10/lib/python3.10/site-packages/sklearn/metrics/_classification.py:1318: UndefinedMetricWarning: Precision and F-score are ill-defined and being set to 0.0 in labels with no predicted samples. Use `zero_division` parameter to control this behavior.\n",
      "  _warn_prf(average, modifier, msg_start, len(result))\n"
     ]
    }
   ],
   "source": [
    "validation(SVC())"
   ]
  },
  {
   "cell_type": "code",
   "execution_count": 14,
   "id": "7251568b",
   "metadata": {},
   "outputs": [
    {
     "name": "stdout",
     "output_type": "stream",
     "text": [
      "{'C': 100}\n",
      "0.7570448721915268\n",
      "SVC(C=100, kernel='linear')\n"
     ]
    },
    {
     "data": {
      "text/plain": [
       "GridSearchCV(cv=5, estimator=SVC(kernel='linear'),\n",
       "             param_grid={'C': [1, 10, 100, 1000]}, scoring='f1_weighted')"
      ]
     },
     "execution_count": 14,
     "metadata": {},
     "output_type": "execute_result"
    }
   ],
   "source": [
    "#the param_grid specifies one grid should be explored \n",
    "param_grid = {\"C\":[1, 10, 100, 1000]}\n",
    "\n",
    "#fit on the dataset on all parameter combinations in param_grid \n",
    "#retain the best conbination \n",
    "best_parameter(param_grid, SVC(kernel = 'linear'))"
   ]
  },
  {
   "cell_type": "code",
   "execution_count": 12,
   "id": "328ff39b",
   "metadata": {},
   "outputs": [
    {
     "name": "stdout",
     "output_type": "stream",
     "text": [
      "{'C': 10, 'degree': 5}\n",
      "0.7463614718295586\n",
      "SVC(C=10, degree=5, kernel='poly')\n"
     ]
    },
    {
     "data": {
      "text/plain": [
       "GridSearchCV(cv=5, estimator=SVC(kernel='poly'),\n",
       "             param_grid={'C': [1, 10, 100, 1000], 'degree': [1, 2, 3, 4, 5]},\n",
       "             scoring='f1_weighted')"
      ]
     },
     "execution_count": 12,
     "metadata": {},
     "output_type": "execute_result"
    }
   ],
   "source": [
    "param_grid = {\"C\":[1, 10, 100, 1000], 'degree':[1,2,3,4,5]}\n",
    "best_parameter(param_grid, SVC(kernel = 'poly'))"
   ]
  },
  {
   "cell_type": "code",
   "execution_count": 11,
   "id": "f48ad798",
   "metadata": {},
   "outputs": [
    {
     "name": "stdout",
     "output_type": "stream",
     "text": [
      "{'C': 1, 'gamma': 0.5}\n",
      "0.7701258899347325\n",
      "SVC(C=1, gamma=0.5)\n"
     ]
    },
    {
     "data": {
      "text/plain": [
       "GridSearchCV(cv=5, estimator=SVC(),\n",
       "             param_grid={'C': [1, 10, 100, 1000],\n",
       "                         'gamma': [0.1, 0.2, 0.3, 0.4, 0.5, 0.6, 0.7, 0.8, 0.9,\n",
       "                                   1.0, 'scale', 'auto']},\n",
       "             scoring='f1_weighted')"
      ]
     },
     "execution_count": 11,
     "metadata": {},
     "output_type": "execute_result"
    }
   ],
   "source": [
    "param_grid = {\"C\":[1, 10, 100, 1000], 'gamma':[0.1,0.2,0.3,0.4,0.5,0.6,0.7,0.8,0.9,1.0, 'scale', 'auto']}\n",
    "best_parameter(param_grid, SVC(kernel = 'rbf'))"
   ]
  },
  {
   "cell_type": "code",
   "execution_count": 13,
   "id": "7f861577",
   "metadata": {},
   "outputs": [
    {
     "name": "stdout",
     "output_type": "stream",
     "text": [
      "{'C': 1, 'coef0': 0, 'gamma': 0.1}\n",
      "0.7318200285934926\n",
      "SVC(C=1, coef0=0, gamma=0.1, kernel='sigmoid')\n"
     ]
    },
    {
     "data": {
      "text/plain": [
       "GridSearchCV(cv=5, estimator=SVC(kernel='sigmoid'),\n",
       "             param_grid={'C': [1, 10, 100, 1000], 'coef0': [0, 1, 10],\n",
       "                         'gamma': [0.1, 0.2, 0.3, 0.4, 0.5, 0.6, 0.7, 0.8, 0.9,\n",
       "                                   1.0, 'scale', 'auto']},\n",
       "             scoring='f1_weighted')"
      ]
     },
     "execution_count": 13,
     "metadata": {},
     "output_type": "execute_result"
    }
   ],
   "source": [
    "param_grid = {\"C\":[1, 10, 100, 1000], 'gamma':[0.1,0.2,0.3,0.4,0.5,0.6,0.7,0.8,0.9,1.0, 'scale', 'auto'], \n",
    "               \"coef0\":[0,1,10]}\n",
    "best_parameter(param_grid, SVC(kernel = 'sigmoid'))"
   ]
  },
  {
   "cell_type": "code",
   "execution_count": 20,
   "id": "c6d8c1f8",
   "metadata": {},
   "outputs": [
    {
     "name": "stdout",
     "output_type": "stream",
     "text": [
      "<class 'sklearn.svm._classes.SVC'>\n",
      "f1_weighted(validation) =  0.7919818954975618\n",
      "f1_weighted(test):0.7469330871547311\n",
      "[[  2  58   0]\n",
      " [  0 672  32]\n",
      " [  0 121  95]]\n",
      "              precision    recall  f1-score   support\n",
      "\n",
      "           0       1.00      0.03      0.06        60\n",
      "           1       0.79      0.95      0.86       704\n",
      "           2       0.75      0.44      0.55       216\n",
      "\n",
      "    accuracy                           0.78       980\n",
      "   macro avg       0.85      0.48      0.49       980\n",
      "weighted avg       0.79      0.78      0.75       980\n",
      "\n"
     ]
    }
   ],
   "source": [
    "validation(SVC(C=1, gamma=0.5))"
   ]
  },
  {
   "cell_type": "markdown",
   "id": "715398b1",
   "metadata": {},
   "source": [
    "# Experiment Set 1: conclusion\n",
    "\n",
    "obviously KNN is the best performing model, which has the highest weighted f1-score 0.8417048078076167\n"
   ]
  }
  {
   "cell_type": "code",
   "execution_count": 1,
   "id": "6a57ce75",
   "metadata": {
    "ExecuteTime": {
     "end_time": "2022-07-11T06:53:42.879965Z",
     "start_time": "2022-07-11T06:53:40.739488Z"
    }
   },
   "outputs": [],
   "source": [
    "import pandas as pd\n",
    "import numpy as np\n",
    "import matplotlib.pyplot as plt \n",
    "import seaborn as sns \n",
    "from sklearn.model_selection import train_test_split, GridSearchCV\n",
    "from sklearn.preprocessing import StandardScaler\n",
    "from sklearn.metrics import classification_report, confusion_matrix, roc_curve, roc_auc_score\n",
    "from sklearn import metrics\n",
    "from sklearn.model_selection import cross_val_score\n",
    "from sklearn.neighbors import KNeighborsClassifier\n",
    "from sklearn.tree import DecisionTreeClassifier \n",
    "from sklearn.svm import SVC\n",
    "from sklearn.naive_bayes import BernoulliNB\n",
    "from sklearn.feature_selection import SelectKBest, f_classif\n",
    "from sklearn.feature_selection import RFE\n",
    "import matplotlib.pyplot as plt \n",
    "import warnings\n",
    "warnings.filterwarnings(\"ignore\")"
   ]
  },
  {
   "cell_type": "code",
   "execution_count": 2,
   "id": "b0514862",
   "metadata": {
    "ExecuteTime": {
     "end_time": "2022-07-11T06:53:43.709439Z",
     "start_time": "2022-07-11T06:53:43.655330Z"
    }
   },
   "outputs": [
    {
     "data": {
      "text/html": [
       "<div>\n",
       "<style scoped>\n",
       "    .dataframe tbody tr th:only-of-type {\n",
       "        vertical-align: middle;\n",
       "    }\n",
       "\n",
       "    .dataframe tbody tr th {\n",
       "        vertical-align: top;\n",
       "    }\n",
       "\n",
       "    .dataframe thead th {\n",
       "        text-align: right;\n",
       "    }\n",
       "</style>\n",
       "<table border=\"1\" class=\"dataframe\">\n",
       "  <thead>\n",
       "    <tr style=\"text-align: right;\">\n",
       "      <th></th>\n",
       "      <th>fixed acidity</th>\n",
       "      <th>volatile acidity</th>\n",
       "      <th>citric acid</th>\n",
       "      <th>residual sugar</th>\n",
       "      <th>chlorides</th>\n",
       "      <th>free sulfur dioxide</th>\n",
       "      <th>total sulfur dioxide</th>\n",
       "      <th>density</th>\n",
       "      <th>pH</th>\n",
       "      <th>sulphates</th>\n",
       "      <th>alcohol</th>\n",
       "      <th>quality</th>\n",
       "    </tr>\n",
       "  </thead>\n",
       "  <tbody>\n",
       "    <tr>\n",
       "      <th>0</th>\n",
       "      <td>7.0</td>\n",
       "      <td>0.27</td>\n",
       "      <td>0.36</td>\n",
       "      <td>20.7</td>\n",
       "      <td>0.045</td>\n",
       "      <td>45.0</td>\n",
       "      <td>170.0</td>\n",
       "      <td>1.00100</td>\n",
       "      <td>3.00</td>\n",
       "      <td>0.45</td>\n",
       "      <td>8.8</td>\n",
       "      <td>1</td>\n",
       "    </tr>\n",
       "    <tr>\n",
       "      <th>1</th>\n",
       "      <td>6.3</td>\n",
       "      <td>0.30</td>\n",
       "      <td>0.34</td>\n",
       "      <td>1.6</td>\n",
       "      <td>0.049</td>\n",
       "      <td>14.0</td>\n",
       "      <td>132.0</td>\n",
       "      <td>0.99400</td>\n",
       "      <td>3.30</td>\n",
       "      <td>0.49</td>\n",
       "      <td>9.5</td>\n",
       "      <td>1</td>\n",
       "    </tr>\n",
       "    <tr>\n",
       "      <th>2</th>\n",
       "      <td>8.1</td>\n",
       "      <td>0.28</td>\n",
       "      <td>0.40</td>\n",
       "      <td>6.9</td>\n",
       "      <td>0.050</td>\n",
       "      <td>30.0</td>\n",
       "      <td>97.0</td>\n",
       "      <td>0.99510</td>\n",
       "      <td>3.26</td>\n",
       "      <td>0.44</td>\n",
       "      <td>10.1</td>\n",
       "      <td>1</td>\n",
       "    </tr>\n",
       "    <tr>\n",
       "      <th>3</th>\n",
       "      <td>7.2</td>\n",
       "      <td>0.23</td>\n",
       "      <td>0.32</td>\n",
       "      <td>8.5</td>\n",
       "      <td>0.058</td>\n",
       "      <td>47.0</td>\n",
       "      <td>186.0</td>\n",
       "      <td>0.99560</td>\n",
       "      <td>3.19</td>\n",
       "      <td>0.40</td>\n",
       "      <td>9.9</td>\n",
       "      <td>1</td>\n",
       "    </tr>\n",
       "    <tr>\n",
       "      <th>4</th>\n",
       "      <td>7.2</td>\n",
       "      <td>0.23</td>\n",
       "      <td>0.32</td>\n",
       "      <td>8.5</td>\n",
       "      <td>0.058</td>\n",
       "      <td>47.0</td>\n",
       "      <td>186.0</td>\n",
       "      <td>0.99560</td>\n",
       "      <td>3.19</td>\n",
       "      <td>0.40</td>\n",
       "      <td>9.9</td>\n",
       "      <td>1</td>\n",
       "    </tr>\n",
       "    <tr>\n",
       "      <th>...</th>\n",
       "      <td>...</td>\n",
       "      <td>...</td>\n",
       "      <td>...</td>\n",
       "      <td>...</td>\n",
       "      <td>...</td>\n",
       "      <td>...</td>\n",
       "      <td>...</td>\n",
       "      <td>...</td>\n",
       "      <td>...</td>\n",
       "      <td>...</td>\n",
       "      <td>...</td>\n",
       "      <td>...</td>\n",
       "    </tr>\n",
       "    <tr>\n",
       "      <th>4893</th>\n",
       "      <td>6.2</td>\n",
       "      <td>0.21</td>\n",
       "      <td>0.29</td>\n",
       "      <td>1.6</td>\n",
       "      <td>0.039</td>\n",
       "      <td>24.0</td>\n",
       "      <td>92.0</td>\n",
       "      <td>0.99114</td>\n",
       "      <td>3.27</td>\n",
       "      <td>0.50</td>\n",
       "      <td>11.2</td>\n",
       "      <td>1</td>\n",
       "    </tr>\n",
       "    <tr>\n",
       "      <th>4894</th>\n",
       "      <td>6.6</td>\n",
       "      <td>0.32</td>\n",
       "      <td>0.36</td>\n",
       "      <td>8.0</td>\n",
       "      <td>0.047</td>\n",
       "      <td>57.0</td>\n",
       "      <td>168.0</td>\n",
       "      <td>0.99490</td>\n",
       "      <td>3.15</td>\n",
       "      <td>0.46</td>\n",
       "      <td>9.6</td>\n",
       "      <td>1</td>\n",
       "    </tr>\n",
       "    <tr>\n",
       "      <th>4895</th>\n",
       "      <td>6.5</td>\n",
       "      <td>0.24</td>\n",
       "      <td>0.19</td>\n",
       "      <td>1.2</td>\n",
       "      <td>0.041</td>\n",
       "      <td>30.0</td>\n",
       "      <td>111.0</td>\n",
       "      <td>0.99254</td>\n",
       "      <td>2.99</td>\n",
       "      <td>0.46</td>\n",
       "      <td>9.4</td>\n",
       "      <td>1</td>\n",
       "    </tr>\n",
       "    <tr>\n",
       "      <th>4896</th>\n",
       "      <td>5.5</td>\n",
       "      <td>0.29</td>\n",
       "      <td>0.30</td>\n",
       "      <td>1.1</td>\n",
       "      <td>0.022</td>\n",
       "      <td>20.0</td>\n",
       "      <td>110.0</td>\n",
       "      <td>0.98869</td>\n",
       "      <td>3.34</td>\n",
       "      <td>0.38</td>\n",
       "      <td>12.8</td>\n",
       "      <td>2</td>\n",
       "    </tr>\n",
       "    <tr>\n",
       "      <th>4897</th>\n",
       "      <td>6.0</td>\n",
       "      <td>0.21</td>\n",
       "      <td>0.38</td>\n",
       "      <td>0.8</td>\n",
       "      <td>0.020</td>\n",
       "      <td>22.0</td>\n",
       "      <td>98.0</td>\n",
       "      <td>0.98941</td>\n",
       "      <td>3.26</td>\n",
       "      <td>0.32</td>\n",
       "      <td>11.8</td>\n",
       "      <td>1</td>\n",
       "    </tr>\n",
       "  </tbody>\n",
       "</table>\n",
       "<p>4898 rows × 12 columns</p>\n",
       "</div>"
      ],
      "text/plain": [
       "      fixed acidity  volatile acidity  citric acid  residual sugar  chlorides  \\\n",
       "0               7.0              0.27         0.36            20.7      0.045   \n",
       "1               6.3              0.30         0.34             1.6      0.049   \n",
       "2               8.1              0.28         0.40             6.9      0.050   \n",
       "3               7.2              0.23         0.32             8.5      0.058   \n",
       "4               7.2              0.23         0.32             8.5      0.058   \n",
       "...             ...               ...          ...             ...        ...   \n",
       "4893            6.2              0.21         0.29             1.6      0.039   \n",
       "4894            6.6              0.32         0.36             8.0      0.047   \n",
       "4895            6.5              0.24         0.19             1.2      0.041   \n",
       "4896            5.5              0.29         0.30             1.1      0.022   \n",
       "4897            6.0              0.21         0.38             0.8      0.020   \n",
       "\n",
       "      free sulfur dioxide  total sulfur dioxide  density    pH  sulphates  \\\n",
       "0                    45.0                 170.0  1.00100  3.00       0.45   \n",
       "1                    14.0                 132.0  0.99400  3.30       0.49   \n",
       "2                    30.0                  97.0  0.99510  3.26       0.44   \n",
       "3                    47.0                 186.0  0.99560  3.19       0.40   \n",
       "4                    47.0                 186.0  0.99560  3.19       0.40   \n",
       "...                   ...                   ...      ...   ...        ...   \n",
       "4893                 24.0                  92.0  0.99114  3.27       0.50   \n",
       "4894                 57.0                 168.0  0.99490  3.15       0.46   \n",
       "4895                 30.0                 111.0  0.99254  2.99       0.46   \n",
       "4896                 20.0                 110.0  0.98869  3.34       0.38   \n",
       "4897                 22.0                  98.0  0.98941  3.26       0.32   \n",
       "\n",
       "      alcohol  quality  \n",
       "0         8.8        1  \n",
       "1         9.5        1  \n",
       "2        10.1        1  \n",
       "3         9.9        1  \n",
       "4         9.9        1  \n",
       "...       ...      ...  \n",
       "4893     11.2        1  \n",
       "4894      9.6        1  \n",
       "4895      9.4        1  \n",
       "4896     12.8        2  \n",
       "4897     11.8        1  \n",
       "\n",
       "[4898 rows x 12 columns]"
      ]
     },
     "execution_count": 2,
     "metadata": {},
     "output_type": "execute_result"
    }
   ],
   "source": [
    "df = pd.read_csv('winequality-preprocess.csv')\n",
    "df"
   ]
  },
  {
   "cell_type": "code",
   "execution_count": 3,
   "id": "2ab0100a",
   "metadata": {
    "ExecuteTime": {
     "end_time": "2022-07-11T06:53:44.675707Z",
     "start_time": "2022-07-11T06:53:44.664094Z"
    }
   },
   "outputs": [],
   "source": [
    "#Indicate the target column\n",
    "target = df['quality']\n",
    "\n",
    "#Indicatethe columns that will serve as features.\n",
    "features = df.drop('quality', axis = 1)"
   ]
  },
  {
   "cell_type": "code",
   "execution_count": 4,
   "id": "c5095695",
   "metadata": {
    "ExecuteTime": {
     "end_time": "2022-07-11T06:53:45.448416Z",
     "start_time": "2022-07-11T06:53:45.433594Z"
    }
   },
   "outputs": [],
   "source": [
    "# Scaler feature\n",
    "cols = features.columns\n",
    "scaler = StandardScaler()\n",
    "features = scaler.fit_transform(features)"
   ]
  },
  {
   "cell_type": "code",
   "execution_count": 5,
   "id": "e6296a17",
   "metadata": {
    "ExecuteTime": {
     "end_time": "2022-07-11T06:53:45.958357Z",
     "start_time": "2022-07-11T06:53:45.948104Z"
    }
   },
   "outputs": [],
   "source": [
    "x_train, x_test, y_train, y_test = train_test_split(features, target, test_size = 0.2, random_state = 0)"
   ]
  },
  {
   "cell_type": "code",
   "execution_count": 6,
   "id": "3ec2a1fc",
   "metadata": {
    "ExecuteTime": {
     "end_time": "2022-07-11T06:53:46.525731Z",
     "start_time": "2022-07-11T06:53:46.521331Z"
    }
   },
   "outputs": [],
   "source": [
    "x_train_sc = pd.DataFrame(x_train, columns=cols)\n",
    "x_test_sc = pd.DataFrame(x_test, columns=cols)"
   ]
  },
  {
   "cell_type": "code",
   "execution_count": 7,
   "id": "6c8d544f",
   "metadata": {
    "ExecuteTime": {
     "end_time": "2022-07-11T06:53:47.052476Z",
     "start_time": "2022-07-11T06:53:47.042064Z"
    }
   },
   "outputs": [],
   "source": [
    "# Train and Evaluate model performance\n",
    "def performance(estimators, x_train, x_test, y_train, y_test):\n",
    "\n",
    "    def validation(estimator, x_train, y_train, name = None, cv = 5):\n",
    "        estimator.fit(x_train, y_train)\n",
    "        #predict the target for the test dataset \n",
    "        test_predict = estimator.predict(x_test)\n",
    "\n",
    "        print(estimator.__class__)\n",
    "\n",
    "        scores = cross_val_score(estimator, x_train, y_train, cv =5, scoring = 'f1_weighted')\n",
    "        print(\"f1_weighted(validation) = \", scores.mean())\n",
    "    \n",
    "        #compute the model f1_weighted on the development set: How often is the classifier correct?\n",
    "        print(\"f1_weighted(test):{}\".format(metrics.f1_score(y_test, test_predict, average='weighted')))\n",
    "\n",
    "        #print confusion matrix\n",
    "        print(confusion_matrix(y_test, test_predict))\n",
    "\n",
    "        #print precision, recall and f1 \n",
    "        print(classification_report(y_test, test_predict))        \n",
    "    \n",
    "    # Print validation and test performance for all classifiers in the list.\n",
    "    for estimator in estimators:\n",
    "        \n",
    "        validation(estimators[estimator], x_train, y_train, name = estimator)   \n",
    "        \n",
    "        print()"
   ]
  },
  {
   "cell_type": "code",
   "execution_count": 8,
   "id": "9879175b",
   "metadata": {
    "ExecuteTime": {
     "end_time": "2022-07-11T06:53:47.602421Z",
     "start_time": "2022-07-11T06:53:47.593197Z"
    }
   },
   "outputs": [],
   "source": [
    "# Define 3 different estimators\n",
    "estimators = {\n",
    "    \n",
    "    \"KNN\": KNeighborsClassifier(n_neighbors = 11, p = 1, weights='distance'),\n",
    "    \"Decision Tree\": DecisionTreeClassifier(criterion='entropy', random_state = 0),\n",
    "    \"SVM\": SVC(C=1, gamma=0.5, kernel = 'rbf')\n",
    "}"
   ]
  },
  {
   "cell_type": "code",
   "execution_count": 9,
   "id": "6ba8175b",
   "metadata": {
    "ExecuteTime": {
     "end_time": "2022-07-11T06:53:48.100332Z",
     "start_time": "2022-07-11T06:53:48.079151Z"
    }
   },
   "outputs": [
    {
     "data": {
      "text/plain": [
       "Index(['fixed acidity', 'volatile acidity', 'citric acid', 'residual sugar',\n",
       "       'chlorides', 'free sulfur dioxide', 'total sulfur dioxide', 'density',\n",
       "       'pH', 'sulphates', 'alcohol'],\n",
       "      dtype='object')"
      ]
     },
     "execution_count": 9,
     "metadata": {},
     "output_type": "execute_result"
    }
   ],
   "source": [
    "# Case1: all features\n",
    "\n",
    "# configure to select all features\n",
    "selector = SelectKBest(score_func = f_classif, k = 'all')\n",
    "\n",
    "# learn relationship from training data\n",
    "selector.fit(x_train_sc, y_train)\n",
    "\n",
    "# transform train input data\n",
    "x_train_fs = selector.transform(x_train_sc)\n",
    "\n",
    "# transform test input data\n",
    "x_test_fs = selector.transform(x_test_sc)\n",
    "\n",
    "# Selected features \n",
    "selected = x_train_sc.columns[selector.get_support()]\n",
    "selected"
   ]
  },
  {
   "cell_type": "code",
   "execution_count": 10,
   "id": "c45068de",
   "metadata": {
    "ExecuteTime": {
     "end_time": "2022-07-11T06:53:48.835677Z",
     "start_time": "2022-07-11T06:53:48.703474Z"
    }
   },
   "outputs": [
    {
     "name": "stdout",
     "output_type": "stream",
     "text": [
      "Feature 0: 15.804665\n",
      "Feature 1: 75.398201\n",
      "Feature 2: 7.722746\n",
      "Feature 3: 38.858196\n",
      "Feature 4: 69.915612\n",
      "Feature 5: 30.892913\n",
      "Feature 6: 56.460540\n",
      "Feature 7: 178.080086\n",
      "Feature 8: 16.858377\n",
      "Feature 9: 4.669541\n",
      "Feature 10: 349.409917\n"
     ]
    },
    {
     "data": {
      "image/png": "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\n",
      "text/plain": [
       "<Figure size 432x288 with 1 Axes>"
      ]
     },
     "metadata": {
      "needs_background": "light"
     },
     "output_type": "display_data"
    }
   ],
   "source": [
    "# what are scores for the features\n",
    "for i in range(len(selector.scores_)):\n",
    "    print('Feature %d: %f' % (i, selector.scores_[i]))\n",
    "    \n",
    "# plot the scores\n",
    "plt.bar([i for i in range(len(selector.scores_))], selector.scores_)\n",
    "plt.xlabel('Feature index')\n",
    "plt.ylabel('Feature importance score')\n",
    "plt.title('Feature importance score of all features')\n",
    "plt.show()"
   ]
  },
  {
   "cell_type": "code",
   "execution_count": 11,
   "id": "8d4fb2b3",
   "metadata": {
    "ExecuteTime": {
     "end_time": "2022-07-11T06:53:54.127491Z",
     "start_time": "2022-07-11T06:53:49.194455Z"
    }
   },
   "outputs": [
    {
     "name": "stdout",
     "output_type": "stream",
     "text": [
      "<class 'sklearn.neighbors._classification.KNeighborsClassifier'>\n",
      "f1_weighted(validation) =  0.8292807834702943\n",
      "f1_weighted(test):0.7779318549916966\n",
      "[[  4  55   1]\n",
      " [  0 653  51]\n",
      " [  0  86 130]]\n",
      "              precision    recall  f1-score   support\n",
      "\n",
      "           0       1.00      0.07      0.12        60\n",
      "           1       0.82      0.93      0.87       704\n",
      "           2       0.71      0.60      0.65       216\n",
      "\n",
      "    accuracy                           0.80       980\n",
      "   macro avg       0.85      0.53      0.55       980\n",
      "weighted avg       0.81      0.80      0.78       980\n",
      "\n",
      "\n",
      "<class 'sklearn.tree._classes.DecisionTreeClassifier'>\n",
      "f1_weighted(validation) =  0.7851414836759589\n",
      "f1_weighted(test):0.7403588313858527\n",
      "[[ 10  47   3]\n",
      " [ 19 603  82]\n",
      " [  0  93 123]]\n",
      "              precision    recall  f1-score   support\n",
      "\n",
      "           0       0.34      0.17      0.22        60\n",
      "           1       0.81      0.86      0.83       704\n",
      "           2       0.59      0.57      0.58       216\n",
      "\n",
      "    accuracy                           0.75       980\n",
      "   macro avg       0.58      0.53      0.55       980\n",
      "weighted avg       0.73      0.75      0.74       980\n",
      "\n",
      "\n",
      "<class 'sklearn.svm._classes.SVC'>\n",
      "f1_weighted(validation) =  0.7919818954975618\n",
      "f1_weighted(test):0.7469330871547311\n",
      "[[  2  58   0]\n",
      " [  0 672  32]\n",
      " [  0 121  95]]\n",
      "              precision    recall  f1-score   support\n",
      "\n",
      "           0       1.00      0.03      0.06        60\n",
      "           1       0.79      0.95      0.86       704\n",
      "           2       0.75      0.44      0.55       216\n",
      "\n",
      "    accuracy                           0.78       980\n",
      "   macro avg       0.85      0.48      0.49       980\n",
      "weighted avg       0.79      0.78      0.75       980\n",
      "\n",
      "\n"
     ]
    }
   ],
   "source": [
    "performance(estimators, x_train_fs, x_test_fs, y_train, y_test)"
   ]
  },
  {
   "cell_type": "code",
   "execution_count": 12,
   "id": "9d423f96",
   "metadata": {
    "ExecuteTime": {
     "end_time": "2022-07-11T06:53:54.135173Z",
     "start_time": "2022-07-11T06:53:54.129148Z"
    }
   },
   "outputs": [],
   "source": [
    "# Case2: 10 features\n",
    "\n",
    "# configure to select top 10 features\n",
    "selector = SelectKBest(score_func = f_classif, k = 10)\n",
    "\n",
    "# learn relationship from training data\n",
    "selector.fit(x_train_sc, y_train)\n",
    "\n",
    "# transform train input data\n",
    "x_train_fs = selector.transform(x_train_sc)\n",
    "\n",
    "# transform test input data\n",
    "x_test_fs = selector.transform(x_test_sc)"
   ]
  },
  {
   "cell_type": "code",
   "execution_count": 13,
   "id": "2b952e03",
   "metadata": {
    "ExecuteTime": {
     "end_time": "2022-07-11T06:53:58.574993Z",
     "start_time": "2022-07-11T06:53:54.136215Z"
    }
   },
   "outputs": [
    {
     "name": "stdout",
     "output_type": "stream",
     "text": [
      "<class 'sklearn.neighbors._classification.KNeighborsClassifier'>\n",
      "f1_weighted(validation) =  0.8178130654477895\n",
      "f1_weighted(test):0.7770253262595361\n",
      "[[  4  53   3]\n",
      " [  0 648  56]\n",
      " [  0  83 133]]\n",
      "              precision    recall  f1-score   support\n",
      "\n",
      "           0       1.00      0.07      0.12        60\n",
      "           1       0.83      0.92      0.87       704\n",
      "           2       0.69      0.62      0.65       216\n",
      "\n",
      "    accuracy                           0.80       980\n",
      "   macro avg       0.84      0.53      0.55       980\n",
      "weighted avg       0.81      0.80      0.78       980\n",
      "\n",
      "\n",
      "<class 'sklearn.tree._classes.DecisionTreeClassifier'>\n",
      "f1_weighted(validation) =  0.7820159813423812\n",
      "f1_weighted(test):0.7628485527764625\n",
      "[[ 11  45   4]\n",
      " [ 15 619  70]\n",
      " [  1  86 129]]\n",
      "              precision    recall  f1-score   support\n",
      "\n",
      "           0       0.41      0.18      0.25        60\n",
      "           1       0.83      0.88      0.85       704\n",
      "           2       0.64      0.60      0.62       216\n",
      "\n",
      "    accuracy                           0.77       980\n",
      "   macro avg       0.62      0.55      0.57       980\n",
      "weighted avg       0.76      0.77      0.76       980\n",
      "\n",
      "\n",
      "<class 'sklearn.svm._classes.SVC'>\n",
      "f1_weighted(validation) =  0.7747367048909636\n",
      "f1_weighted(test):0.7492135677058626\n",
      "[[  3  57   0]\n",
      " [  0 672  32]\n",
      " [  0 121  95]]\n",
      "              precision    recall  f1-score   support\n",
      "\n",
      "           0       1.00      0.05      0.10        60\n",
      "           1       0.79      0.95      0.86       704\n",
      "           2       0.75      0.44      0.55       216\n",
      "\n",
      "    accuracy                           0.79       980\n",
      "   macro avg       0.85      0.48      0.50       980\n",
      "weighted avg       0.79      0.79      0.75       980\n",
      "\n",
      "\n"
     ]
    }
   ],
   "source": [
    "performance(estimators, x_train_fs, x_test_fs, y_train, y_test)"
   ]
  },
  {
   "cell_type": "code",
   "execution_count": 14,
   "id": "9bbceb27",
   "metadata": {
    "ExecuteTime": {
     "end_time": "2022-07-11T06:53:58.582749Z",
     "start_time": "2022-07-11T06:53:58.576958Z"
    }
   },
   "outputs": [],
   "source": [
    "# Case3: 9 features\n",
    "\n",
    "# configure to select top 9 features\n",
    "selector = SelectKBest(score_func = f_classif, k = 9)\n",
    "\n",
    "# learn relationship from training data\n",
    "selector.fit(x_train_sc, y_train)\n",
    "\n",
    "# transform train input data\n",
    "x_train_fs = selector.transform(x_train_sc)\n",
    "\n",
    "# transform test input data\n",
    "x_test_fs = selector.transform(x_test_sc)"
   ]
  },
  {
   "cell_type": "code",
   "execution_count": 15,
   "id": "76586649",
   "metadata": {
    "ExecuteTime": {
     "end_time": "2022-07-11T06:54:02.640525Z",
     "start_time": "2022-07-11T06:53:58.583714Z"
    }
   },
   "outputs": [
    {
     "name": "stdout",
     "output_type": "stream",
     "text": [
      "<class 'sklearn.neighbors._classification.KNeighborsClassifier'>\n",
      "f1_weighted(validation) =  0.8120424095220979\n",
      "f1_weighted(test):0.7875167912657012\n",
      "[[  6  53   1]\n",
      " [  0 664  40]\n",
      " [  0  90 126]]\n",
      "              precision    recall  f1-score   support\n",
      "\n",
      "           0       1.00      0.10      0.18        60\n",
      "           1       0.82      0.94      0.88       704\n",
      "           2       0.75      0.58      0.66       216\n",
      "\n",
      "    accuracy                           0.81       980\n",
      "   macro avg       0.86      0.54      0.57       980\n",
      "weighted avg       0.82      0.81      0.79       980\n",
      "\n",
      "\n",
      "<class 'sklearn.tree._classes.DecisionTreeClassifier'>\n",
      "f1_weighted(validation) =  0.7794515701745262\n",
      "f1_weighted(test):0.7466078467595161\n",
      "[[  9  46   5]\n",
      " [ 12 615  77]\n",
      " [  2  93 121]]\n",
      "              precision    recall  f1-score   support\n",
      "\n",
      "           0       0.39      0.15      0.22        60\n",
      "           1       0.82      0.87      0.84       704\n",
      "           2       0.60      0.56      0.58       216\n",
      "\n",
      "    accuracy                           0.76       980\n",
      "   macro avg       0.60      0.53      0.55       980\n",
      "weighted avg       0.74      0.76      0.75       980\n",
      "\n",
      "\n",
      "<class 'sklearn.svm._classes.SVC'>\n",
      "f1_weighted(validation) =  0.7669601913125317\n",
      "f1_weighted(test):0.7390282573978325\n",
      "[[  2  58   0]\n",
      " [  0 666  38]\n",
      " [  0 123  93]]\n",
      "              precision    recall  f1-score   support\n",
      "\n",
      "           0       1.00      0.03      0.06        60\n",
      "           1       0.79      0.95      0.86       704\n",
      "           2       0.71      0.43      0.54       216\n",
      "\n",
      "    accuracy                           0.78       980\n",
      "   macro avg       0.83      0.47      0.49       980\n",
      "weighted avg       0.78      0.78      0.74       980\n",
      "\n",
      "\n"
     ]
    }
   ],
   "source": [
    "performance(estimators, x_train_fs, x_test_fs, y_train, y_test)"
   ]
  },
  {
   "cell_type": "code",
   "execution_count": 16,
   "id": "76d88419",
   "metadata": {
    "ExecuteTime": {
     "end_time": "2022-07-11T06:54:02.647806Z",
     "start_time": "2022-07-11T06:54:02.641771Z"
    }
   },
   "outputs": [],
   "source": [
    "# Case4: 8 features\n",
    "\n",
    "# configure to select top 8 features\n",
    "selector = SelectKBest(score_func = f_classif, k = 8)\n",
    "\n",
    "# learn relationship from training data\n",
    "selector.fit(x_train_sc, y_train)\n",
    "\n",
    "# transform train input data\n",
    "x_train_fs = selector.transform(x_train_sc)\n",
    "\n",
    "# transform test input data\n",
    "x_test_fs = selector.transform(x_test_sc)"
   ]
  },
  {
   "cell_type": "code",
   "execution_count": 17,
   "id": "48bec6cb",
   "metadata": {
    "ExecuteTime": {
     "end_time": "2022-07-11T06:54:06.439190Z",
     "start_time": "2022-07-11T06:54:02.648863Z"
    }
   },
   "outputs": [
    {
     "name": "stdout",
     "output_type": "stream",
     "text": [
      "<class 'sklearn.neighbors._classification.KNeighborsClassifier'>\n",
      "f1_weighted(validation) =  0.8120411648840113\n",
      "f1_weighted(test):0.7661714620904024\n",
      "[[  5  55   0]\n",
      " [  0 648  56]\n",
      " [  0  94 122]]\n",
      "              precision    recall  f1-score   support\n",
      "\n",
      "           0       1.00      0.08      0.15        60\n",
      "           1       0.81      0.92      0.86       704\n",
      "           2       0.69      0.56      0.62       216\n",
      "\n",
      "    accuracy                           0.79       980\n",
      "   macro avg       0.83      0.52      0.55       980\n",
      "weighted avg       0.80      0.79      0.77       980\n",
      "\n",
      "\n",
      "<class 'sklearn.tree._classes.DecisionTreeClassifier'>\n",
      "f1_weighted(validation) =  0.7812242936227234\n",
      "f1_weighted(test):0.7552353793138713\n",
      "[[ 10  49   1]\n",
      " [ 12 622  70]\n",
      " [  2  92 122]]\n",
      "              precision    recall  f1-score   support\n",
      "\n",
      "           0       0.42      0.17      0.24        60\n",
      "           1       0.82      0.88      0.85       704\n",
      "           2       0.63      0.56      0.60       216\n",
      "\n",
      "    accuracy                           0.77       980\n",
      "   macro avg       0.62      0.54      0.56       980\n",
      "weighted avg       0.75      0.77      0.76       980\n",
      "\n",
      "\n",
      "<class 'sklearn.svm._classes.SVC'>\n",
      "f1_weighted(validation) =  0.7630610097229198\n",
      "f1_weighted(test):0.7240165972487429\n",
      "[[  1  59   0]\n",
      " [  0 667  37]\n",
      " [  0 133  83]]\n",
      "              precision    recall  f1-score   support\n",
      "\n",
      "           0       1.00      0.02      0.03        60\n",
      "           1       0.78      0.95      0.85       704\n",
      "           2       0.69      0.38      0.49       216\n",
      "\n",
      "    accuracy                           0.77       980\n",
      "   macro avg       0.82      0.45      0.46       980\n",
      "weighted avg       0.77      0.77      0.72       980\n",
      "\n",
      "\n"
     ]
    }
   ],
   "source": [
    "performance(estimators, x_train_fs, x_test_fs, y_train, y_test)"
   ]
  },
  {
   "cell_type": "code",
   "execution_count": 18,
   "id": "81d37934",
   "metadata": {
    "ExecuteTime": {
     "end_time": "2022-07-11T06:54:06.446085Z",
     "start_time": "2022-07-11T06:54:06.440373Z"
    }
   },
   "outputs": [],
   "source": [
    "# Case5: 7 features\n",
    "\n",
    "# configure to select top 7 features\n",
    "selector = SelectKBest(score_func = f_classif, k = 7)\n",
    "\n",
    "# learn relationship from training data\n",
    "selector.fit(x_train_sc, y_train)\n",
    "\n",
    "# transform train input data\n",
    "x_train_fs = selector.transform(x_train_sc)\n",
    "\n",
    "# transform test input data\n",
    "x_test_fs = selector.transform(x_test_sc)"
   ]
  },
  {
   "cell_type": "code",
   "execution_count": 19,
   "id": "dbc33b7b",
   "metadata": {
    "ExecuteTime": {
     "end_time": "2022-07-11T06:54:09.909896Z",
     "start_time": "2022-07-11T06:54:06.447010Z"
    }
   },
   "outputs": [
    {
     "name": "stdout",
     "output_type": "stream",
     "text": [
      "<class 'sklearn.neighbors._classification.KNeighborsClassifier'>\n",
      "f1_weighted(validation) =  0.8084173962898928\n",
      "f1_weighted(test):0.7706002420330352\n",
      "[[  4  55   1]\n",
      " [  0 658  46]\n",
      " [  0  96 120]]\n",
      "              precision    recall  f1-score   support\n",
      "\n",
      "           0       1.00      0.07      0.12        60\n",
      "           1       0.81      0.93      0.87       704\n",
      "           2       0.72      0.56      0.63       216\n",
      "\n",
      "    accuracy                           0.80       980\n",
      "   macro avg       0.84      0.52      0.54       980\n",
      "weighted avg       0.80      0.80      0.77       980\n",
      "\n",
      "\n",
      "<class 'sklearn.tree._classes.DecisionTreeClassifier'>\n",
      "f1_weighted(validation) =  0.7730666891205944\n",
      "f1_weighted(test):0.7533287849057047\n",
      "[[  6  52   2]\n",
      " [ 17 617  70]\n",
      " [  3  84 129]]\n",
      "              precision    recall  f1-score   support\n",
      "\n",
      "           0       0.23      0.10      0.14        60\n",
      "           1       0.82      0.88      0.85       704\n",
      "           2       0.64      0.60      0.62       216\n",
      "\n",
      "    accuracy                           0.77       980\n",
      "   macro avg       0.56      0.52      0.54       980\n",
      "weighted avg       0.74      0.77      0.75       980\n",
      "\n",
      "\n",
      "<class 'sklearn.svm._classes.SVC'>\n",
      "f1_weighted(validation) =  0.7554615489437293\n",
      "f1_weighted(test):0.7072155123623781\n",
      "[[  1  59   0]\n",
      " [  0 678  26]\n",
      " [  0 151  65]]\n",
      "              precision    recall  f1-score   support\n",
      "\n",
      "           0       1.00      0.02      0.03        60\n",
      "           1       0.76      0.96      0.85       704\n",
      "           2       0.71      0.30      0.42       216\n",
      "\n",
      "    accuracy                           0.76       980\n",
      "   macro avg       0.83      0.43      0.44       980\n",
      "weighted avg       0.77      0.76      0.71       980\n",
      "\n",
      "\n"
     ]
    }
   ],
   "source": [
    "performance(estimators, x_train_fs, x_test_fs, y_train, y_test)"
   ]
  },
  {
   "cell_type": "code",
   "execution_count": 20,
   "id": "edde86ee",
   "metadata": {
    "ExecuteTime": {
     "end_time": "2022-07-11T06:54:09.916587Z",
     "start_time": "2022-07-11T06:54:09.911936Z"
    }
   },
   "outputs": [],
   "source": [
    "# Case6: 6 features\n",
    "\n",
    "# configure to select top 6 features\n",
    "selector = SelectKBest(score_func = f_classif, k = 6)\n",
    "\n",
    "# learn relationship from training data\n",
    "selector.fit(x_train_sc, y_train)\n",
    "\n",
    "# transform train input data\n",
    "x_train_fs = selector.transform(x_train_sc)\n",
    "\n",
    "# transform test input data\n",
    "x_test_fs = selector.transform(x_test_sc)"
   ]
  },
  {
   "cell_type": "code",
   "execution_count": 21,
   "id": "9ab22c96",
   "metadata": {
    "ExecuteTime": {
     "end_time": "2022-07-11T06:54:13.253021Z",
     "start_time": "2022-07-11T06:54:09.917393Z"
    }
   },
   "outputs": [
    {
     "name": "stdout",
     "output_type": "stream",
     "text": [
      "<class 'sklearn.neighbors._classification.KNeighborsClassifier'>\n",
      "f1_weighted(validation) =  0.8129383850856728\n",
      "f1_weighted(test):0.7694114171562799\n",
      "[[  3  53   4]\n",
      " [  0 651  53]\n",
      " [  0  90 126]]\n",
      "              precision    recall  f1-score   support\n",
      "\n",
      "           0       1.00      0.05      0.10        60\n",
      "           1       0.82      0.92      0.87       704\n",
      "           2       0.69      0.58      0.63       216\n",
      "\n",
      "    accuracy                           0.80       980\n",
      "   macro avg       0.84      0.52      0.53       980\n",
      "weighted avg       0.80      0.80      0.77       980\n",
      "\n",
      "\n",
      "<class 'sklearn.tree._classes.DecisionTreeClassifier'>\n",
      "f1_weighted(validation) =  0.777662688564685\n",
      "f1_weighted(test):0.7496604415228085\n",
      "[[ 12  41   7]\n",
      " [ 16 609  79]\n",
      " [  3  90 123]]\n",
      "              precision    recall  f1-score   support\n",
      "\n",
      "           0       0.39      0.20      0.26        60\n",
      "           1       0.82      0.87      0.84       704\n",
      "           2       0.59      0.57      0.58       216\n",
      "\n",
      "    accuracy                           0.76       980\n",
      "   macro avg       0.60      0.54      0.56       980\n",
      "weighted avg       0.74      0.76      0.75       980\n",
      "\n",
      "\n",
      "<class 'sklearn.svm._classes.SVC'>\n",
      "f1_weighted(validation) =  0.7548365588223518\n",
      "f1_weighted(test):0.7047087304470776\n",
      "[[  1  58   1]\n",
      " [  0 673  31]\n",
      " [  0 150  66]]\n",
      "              precision    recall  f1-score   support\n",
      "\n",
      "           0       1.00      0.02      0.03        60\n",
      "           1       0.76      0.96      0.85       704\n",
      "           2       0.67      0.31      0.42       216\n",
      "\n",
      "    accuracy                           0.76       980\n",
      "   macro avg       0.81      0.43      0.43       980\n",
      "weighted avg       0.76      0.76      0.70       980\n",
      "\n",
      "\n"
     ]
    }
   ],
   "source": [
    "performance(estimators, x_train_fs, x_test_fs, y_train, y_test)"
   ]
  },
  {
   "cell_type": "code",
   "execution_count": 22,
   "id": "2d05d6be",
   "metadata": {
    "ExecuteTime": {
     "end_time": "2022-07-11T06:54:13.258744Z",
     "start_time": "2022-07-11T06:54:13.253981Z"
    }
   },
   "outputs": [],
   "source": [
    "# Case7: 5 features\n",
    "\n",
    "# configure to select top 5 features\n",
    "selector = SelectKBest(score_func = f_classif, k = 5)\n",
    "\n",
    "# learn relationship from training data\n",
    "selector.fit(x_train_sc, y_train)\n",
    "\n",
    "# transform train input data\n",
    "x_train_fs = selector.transform(x_train_sc)\n",
    "\n",
    "# transform test input data\n",
    "x_test_fs = selector.transform(x_test_sc)"
   ]
  },
  {
   "cell_type": "code",
   "execution_count": 23,
   "id": "65ea207c",
   "metadata": {
    "ExecuteTime": {
     "end_time": "2022-07-11T06:54:16.635116Z",
     "start_time": "2022-07-11T06:54:13.259581Z"
    }
   },
   "outputs": [
    {
     "name": "stdout",
     "output_type": "stream",
     "text": [
      "<class 'sklearn.neighbors._classification.KNeighborsClassifier'>\n",
      "f1_weighted(validation) =  0.8045454959346101\n",
      "f1_weighted(test):0.7616662244905236\n",
      "[[  3  54   3]\n",
      " [  0 645  59]\n",
      " [  0  92 124]]\n",
      "              precision    recall  f1-score   support\n",
      "\n",
      "           0       1.00      0.05      0.10        60\n",
      "           1       0.82      0.92      0.86       704\n",
      "           2       0.67      0.57      0.62       216\n",
      "\n",
      "    accuracy                           0.79       980\n",
      "   macro avg       0.83      0.51      0.53       980\n",
      "weighted avg       0.79      0.79      0.76       980\n",
      "\n",
      "\n",
      "<class 'sklearn.tree._classes.DecisionTreeClassifier'>\n",
      "f1_weighted(validation) =  0.7664290362469712\n",
      "f1_weighted(test):0.73207503017589\n",
      "[[ 10  44   6]\n",
      " [ 20 596  88]\n",
      " [  3  93 120]]\n",
      "              precision    recall  f1-score   support\n",
      "\n",
      "           0       0.30      0.17      0.22        60\n",
      "           1       0.81      0.85      0.83       704\n",
      "           2       0.56      0.56      0.56       216\n",
      "\n",
      "    accuracy                           0.74       980\n",
      "   macro avg       0.56      0.52      0.53       980\n",
      "weighted avg       0.73      0.74      0.73       980\n",
      "\n",
      "\n",
      "<class 'sklearn.svm._classes.SVC'>\n",
      "f1_weighted(validation) =  0.7371464596115552\n",
      "f1_weighted(test):0.6961928845896512\n",
      "[[  0  59   1]\n",
      " [  0 671  33]\n",
      " [  0 153  63]]\n",
      "              precision    recall  f1-score   support\n",
      "\n",
      "           0       0.00      0.00      0.00        60\n",
      "           1       0.76      0.95      0.85       704\n",
      "           2       0.65      0.29      0.40       216\n",
      "\n",
      "    accuracy                           0.75       980\n",
      "   macro avg       0.47      0.41      0.42       980\n",
      "weighted avg       0.69      0.75      0.70       980\n",
      "\n",
      "\n"
     ]
    }
   ],
   "source": [
    "performance(estimators, x_train_fs, x_test_fs, y_train, y_test)"
   ]
  },
  {
   "cell_type": "code",
   "execution_count": 24,
   "id": "137da00a",
   "metadata": {
    "ExecuteTime": {
     "end_time": "2022-07-11T06:54:22.892955Z",
     "start_time": "2022-07-11T06:54:22.806782Z"
    }
   },
   "outputs": [
    {
     "data": {
      "text/html": [
       "<div>\n",
       "<style scoped>\n",
       "    .dataframe tbody tr th:only-of-type {\n",
       "        vertical-align: middle;\n",
       "    }\n",
       "\n",
       "    .dataframe tbody tr th {\n",
       "        vertical-align: top;\n",
       "    }\n",
       "\n",
       "    .dataframe thead th {\n",
       "        text-align: right;\n",
       "    }\n",
       "</style>\n",
       "<table border=\"1\" class=\"dataframe\">\n",
       "  <thead>\n",
       "    <tr style=\"text-align: right;\">\n",
       "      <th></th>\n",
       "      <th>fixed acidity</th>\n",
       "      <th>volatile acidity</th>\n",
       "      <th>citric acid</th>\n",
       "      <th>residual sugar</th>\n",
       "      <th>chlorides</th>\n",
       "      <th>free sulfur dioxide</th>\n",
       "      <th>total sulfur dioxide</th>\n",
       "      <th>density</th>\n",
       "      <th>pH</th>\n",
       "      <th>sulphates</th>\n",
       "      <th>alcohol</th>\n",
       "      <th>quality</th>\n",
       "    </tr>\n",
       "  </thead>\n",
       "  <tbody>\n",
       "    <tr>\n",
       "      <th>fixed acidity</th>\n",
       "      <td>1.000000</td>\n",
       "      <td>-0.020250</td>\n",
       "      <td>0.206467</td>\n",
       "      <td>0.079796</td>\n",
       "      <td>0.060320</td>\n",
       "      <td>-0.016052</td>\n",
       "      <td>0.083890</td>\n",
       "      <td>0.186285</td>\n",
       "      <td>-0.288337</td>\n",
       "      <td>-0.007879</td>\n",
       "      <td>-0.072622</td>\n",
       "      <td>0.016569</td>\n",
       "    </tr>\n",
       "    <tr>\n",
       "      <th>volatile acidity</th>\n",
       "      <td>-0.020250</td>\n",
       "      <td>1.000000</td>\n",
       "      <td>-0.093485</td>\n",
       "      <td>0.068410</td>\n",
       "      <td>0.003764</td>\n",
       "      <td>-0.062351</td>\n",
       "      <td>0.083153</td>\n",
       "      <td>0.011185</td>\n",
       "      <td>-0.033679</td>\n",
       "      <td>-0.009862</td>\n",
       "      <td>0.014401</td>\n",
       "      <td>-0.028143</td>\n",
       "    </tr>\n",
       "    <tr>\n",
       "      <th>citric acid</th>\n",
       "      <td>0.206467</td>\n",
       "      <td>-0.093485</td>\n",
       "      <td>1.000000</td>\n",
       "      <td>0.017878</td>\n",
       "      <td>0.023150</td>\n",
       "      <td>0.059182</td>\n",
       "      <td>0.065634</td>\n",
       "      <td>0.061105</td>\n",
       "      <td>-0.091389</td>\n",
       "      <td>0.057199</td>\n",
       "      <td>-0.017124</td>\n",
       "      <td>0.009419</td>\n",
       "    </tr>\n",
       "    <tr>\n",
       "      <th>residual sugar</th>\n",
       "      <td>0.079796</td>\n",
       "      <td>0.068410</td>\n",
       "      <td>0.017878</td>\n",
       "      <td>1.000000</td>\n",
       "      <td>0.161077</td>\n",
       "      <td>0.238679</td>\n",
       "      <td>0.295612</td>\n",
       "      <td>0.591933</td>\n",
       "      <td>-0.124755</td>\n",
       "      <td>-0.003306</td>\n",
       "      <td>-0.310225</td>\n",
       "      <td>-0.006806</td>\n",
       "    </tr>\n",
       "    <tr>\n",
       "      <th>chlorides</th>\n",
       "      <td>0.060320</td>\n",
       "      <td>0.003764</td>\n",
       "      <td>0.023150</td>\n",
       "      <td>0.161077</td>\n",
       "      <td>1.000000</td>\n",
       "      <td>0.119016</td>\n",
       "      <td>0.258019</td>\n",
       "      <td>0.352271</td>\n",
       "      <td>-0.036938</td>\n",
       "      <td>0.066980</td>\n",
       "      <td>-0.407274</td>\n",
       "      <td>-0.019259</td>\n",
       "    </tr>\n",
       "    <tr>\n",
       "      <th>free sulfur dioxide</th>\n",
       "      <td>-0.016052</td>\n",
       "      <td>-0.062351</td>\n",
       "      <td>0.059182</td>\n",
       "      <td>0.238679</td>\n",
       "      <td>0.119016</td>\n",
       "      <td>1.000000</td>\n",
       "      <td>0.444692</td>\n",
       "      <td>0.220797</td>\n",
       "      <td>-0.004567</td>\n",
       "      <td>0.042462</td>\n",
       "      <td>-0.187698</td>\n",
       "      <td>0.000103</td>\n",
       "    </tr>\n",
       "    <tr>\n",
       "      <th>total sulfur dioxide</th>\n",
       "      <td>0.083890</td>\n",
       "      <td>0.083153</td>\n",
       "      <td>0.065634</td>\n",
       "      <td>0.295612</td>\n",
       "      <td>0.258019</td>\n",
       "      <td>0.444692</td>\n",
       "      <td>1.000000</td>\n",
       "      <td>0.389791</td>\n",
       "      <td>-0.011817</td>\n",
       "      <td>0.114015</td>\n",
       "      <td>-0.328566</td>\n",
       "      <td>-0.021316</td>\n",
       "    </tr>\n",
       "    <tr>\n",
       "      <th>density</th>\n",
       "      <td>0.186285</td>\n",
       "      <td>0.011185</td>\n",
       "      <td>0.061105</td>\n",
       "      <td>0.591933</td>\n",
       "      <td>0.352271</td>\n",
       "      <td>0.220797</td>\n",
       "      <td>0.389791</td>\n",
       "      <td>1.000000</td>\n",
       "      <td>-0.074406</td>\n",
       "      <td>0.064373</td>\n",
       "      <td>-0.637385</td>\n",
       "      <td>-0.019028</td>\n",
       "    </tr>\n",
       "    <tr>\n",
       "      <th>pH</th>\n",
       "      <td>-0.288337</td>\n",
       "      <td>-0.033679</td>\n",
       "      <td>-0.091389</td>\n",
       "      <td>-0.124755</td>\n",
       "      <td>-0.036938</td>\n",
       "      <td>-0.004567</td>\n",
       "      <td>-0.011817</td>\n",
       "      <td>-0.074406</td>\n",
       "      <td>1.000000</td>\n",
       "      <td>0.094817</td>\n",
       "      <td>0.101964</td>\n",
       "      <td>0.016363</td>\n",
       "    </tr>\n",
       "    <tr>\n",
       "      <th>sulphates</th>\n",
       "      <td>-0.007879</td>\n",
       "      <td>-0.009862</td>\n",
       "      <td>0.057199</td>\n",
       "      <td>-0.003306</td>\n",
       "      <td>0.066980</td>\n",
       "      <td>0.042462</td>\n",
       "      <td>0.114015</td>\n",
       "      <td>0.064373</td>\n",
       "      <td>0.094817</td>\n",
       "      <td>1.000000</td>\n",
       "      <td>-0.026122</td>\n",
       "      <td>-0.027859</td>\n",
       "    </tr>\n",
       "    <tr>\n",
       "      <th>alcohol</th>\n",
       "      <td>-0.072622</td>\n",
       "      <td>0.014401</td>\n",
       "      <td>-0.017124</td>\n",
       "      <td>-0.310225</td>\n",
       "      <td>-0.407274</td>\n",
       "      <td>-0.187698</td>\n",
       "      <td>-0.328566</td>\n",
       "      <td>-0.637385</td>\n",
       "      <td>0.101964</td>\n",
       "      <td>-0.026122</td>\n",
       "      <td>1.000000</td>\n",
       "      <td>0.023282</td>\n",
       "    </tr>\n",
       "    <tr>\n",
       "      <th>quality</th>\n",
       "      <td>0.016569</td>\n",
       "      <td>-0.028143</td>\n",
       "      <td>0.009419</td>\n",
       "      <td>-0.006806</td>\n",
       "      <td>-0.019259</td>\n",
       "      <td>0.000103</td>\n",
       "      <td>-0.021316</td>\n",
       "      <td>-0.019028</td>\n",
       "      <td>0.016363</td>\n",
       "      <td>-0.027859</td>\n",
       "      <td>0.023282</td>\n",
       "      <td>1.000000</td>\n",
       "    </tr>\n",
       "  </tbody>\n",
       "</table>\n",
       "</div>"
      ],
      "text/plain": [
       "                      fixed acidity  volatile acidity  citric acid  \\\n",
       "fixed acidity              1.000000         -0.020250     0.206467   \n",
       "volatile acidity          -0.020250          1.000000    -0.093485   \n",
       "citric acid                0.206467         -0.093485     1.000000   \n",
       "residual sugar             0.079796          0.068410     0.017878   \n",
       "chlorides                  0.060320          0.003764     0.023150   \n",
       "free sulfur dioxide       -0.016052         -0.062351     0.059182   \n",
       "total sulfur dioxide       0.083890          0.083153     0.065634   \n",
       "density                    0.186285          0.011185     0.061105   \n",
       "pH                        -0.288337         -0.033679    -0.091389   \n",
       "sulphates                 -0.007879         -0.009862     0.057199   \n",
       "alcohol                   -0.072622          0.014401    -0.017124   \n",
       "quality                    0.016569         -0.028143     0.009419   \n",
       "\n",
       "                      residual sugar  chlorides  free sulfur dioxide  \\\n",
       "fixed acidity               0.079796   0.060320            -0.016052   \n",
       "volatile acidity            0.068410   0.003764            -0.062351   \n",
       "citric acid                 0.017878   0.023150             0.059182   \n",
       "residual sugar              1.000000   0.161077             0.238679   \n",
       "chlorides                   0.161077   1.000000             0.119016   \n",
       "free sulfur dioxide         0.238679   0.119016             1.000000   \n",
       "total sulfur dioxide        0.295612   0.258019             0.444692   \n",
       "density                     0.591933   0.352271             0.220797   \n",
       "pH                         -0.124755  -0.036938            -0.004567   \n",
       "sulphates                  -0.003306   0.066980             0.042462   \n",
       "alcohol                    -0.310225  -0.407274            -0.187698   \n",
       "quality                    -0.006806  -0.019259             0.000103   \n",
       "\n",
       "                      total sulfur dioxide   density        pH  sulphates  \\\n",
       "fixed acidity                     0.083890  0.186285 -0.288337  -0.007879   \n",
       "volatile acidity                  0.083153  0.011185 -0.033679  -0.009862   \n",
       "citric acid                       0.065634  0.061105 -0.091389   0.057199   \n",
       "residual sugar                    0.295612  0.591933 -0.124755  -0.003306   \n",
       "chlorides                         0.258019  0.352271 -0.036938   0.066980   \n",
       "free sulfur dioxide               0.444692  0.220797 -0.004567   0.042462   \n",
       "total sulfur dioxide              1.000000  0.389791 -0.011817   0.114015   \n",
       "density                           0.389791  1.000000 -0.074406   0.064373   \n",
       "pH                               -0.011817 -0.074406  1.000000   0.094817   \n",
       "sulphates                         0.114015  0.064373  0.094817   1.000000   \n",
       "alcohol                          -0.328566 -0.637385  0.101964  -0.026122   \n",
       "quality                          -0.021316 -0.019028  0.016363  -0.027859   \n",
       "\n",
       "                       alcohol   quality  \n",
       "fixed acidity        -0.072622  0.016569  \n",
       "volatile acidity      0.014401 -0.028143  \n",
       "citric acid          -0.017124  0.009419  \n",
       "residual sugar       -0.310225 -0.006806  \n",
       "chlorides            -0.407274 -0.019259  \n",
       "free sulfur dioxide  -0.187698  0.000103  \n",
       "total sulfur dioxide -0.328566 -0.021316  \n",
       "density              -0.637385 -0.019028  \n",
       "pH                    0.101964  0.016363  \n",
       "sulphates            -0.026122 -0.027859  \n",
       "alcohol               1.000000  0.023282  \n",
       "quality               0.023282  1.000000  "
      ]
     },
     "execution_count": 24,
     "metadata": {},
     "output_type": "execute_result"
    }
   ],
   "source": [
    "# Generate correlation matrix\n",
    "x = pd.concat([x_train_sc, y_train], axis = 1)\n",
    "\n",
    "cor = x.corr(method = 'kendall')\n",
    "\n",
    "# Print correlation matrix\n",
    "cor"
   ]
  },
  {
   "cell_type": "code",
   "execution_count": 25,
   "id": "ff848979",
   "metadata": {
    "ExecuteTime": {
     "end_time": "2022-07-11T06:54:23.833771Z",
     "start_time": "2022-07-11T06:54:23.458142Z"
    }
   },
   "outputs": [
    {
     "data": {
      "text/plain": [
       "<AxesSubplot:>"
      ]
     },
     "execution_count": 25,
     "metadata": {},
     "output_type": "execute_result"
    },
    {
     "data": {
      "image/png": "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\n",
      "text/plain": [
       "<Figure size 864x720 with 2 Axes>"
      ]
     },
     "metadata": {
      "needs_background": "light"
     },
     "output_type": "display_data"
    }
   ],
   "source": [
    "# Generating the correlation heatmap\n",
    "# The heatmap is just a visualization of the correlation matrix \n",
    "\n",
    "# Set plot size\n",
    "plt.figure(figsize=(12,10))\n",
    "\n",
    "# Generate the heatmap\n",
    "sns.heatmap(\n",
    "    cor,\n",
    "    vmin = -1, \n",
    "    vmax = 1, \n",
    "    center = 0,\n",
    "    cmap = sns.diverging_palette(20, 220, n=200), \n",
    "    square = True,\n",
    "    annot = True\n",
    ")"
   ]
  },
  {
   "cell_type": "code",
   "execution_count": 26,
   "id": "c502e79a",
   "metadata": {
    "ExecuteTime": {
     "end_time": "2022-07-11T06:54:23.879687Z",
     "start_time": "2022-07-11T06:54:23.876818Z"
    }
   },
   "outputs": [],
   "source": [
    "# get the list of features which has correlation to the target column above a specified threshold value.\n",
    "def corr_features(x_train, col_target, threshold):\n",
    "   \n",
    "    # Correlation with target\n",
    "    # Apply abs() to get the absolute value so no need to deal with negative correlations\n",
    "    cor_target = abs(cor[col_target])\n",
    "    \n",
    "    # Select highly correlated features, with threshold\n",
    "    relevant_features = cor_target[cor_target > threshold]\n",
    "    \n",
    "    # Get names of the features which are highly correlated to the target. \n",
    "    cols = [col for col in relevant_features.index if col.lower() != col_target.lower()]\n",
    "    \n",
    "    return cols"
   ]
  },
  {
   "cell_type": "code",
   "execution_count": 27,
   "id": "f5044a7b",
   "metadata": {
    "ExecuteTime": {
     "end_time": "2022-07-11T06:54:24.488482Z",
     "start_time": "2022-07-11T06:54:24.460312Z"
    }
   },
   "outputs": [
    {
     "data": {
      "text/html": [
       "<div>\n",
       "<style scoped>\n",
       "    .dataframe tbody tr th:only-of-type {\n",
       "        vertical-align: middle;\n",
       "    }\n",
       "\n",
       "    .dataframe tbody tr th {\n",
       "        vertical-align: top;\n",
       "    }\n",
       "\n",
       "    .dataframe thead th {\n",
       "        text-align: right;\n",
       "    }\n",
       "</style>\n",
       "<table border=\"1\" class=\"dataframe\">\n",
       "  <thead>\n",
       "    <tr style=\"text-align: right;\">\n",
       "      <th></th>\n",
       "      <th>fixed acidity</th>\n",
       "      <th>volatile acidity</th>\n",
       "      <th>citric acid</th>\n",
       "      <th>residual sugar</th>\n",
       "      <th>chlorides</th>\n",
       "      <th>free sulfur dioxide</th>\n",
       "      <th>total sulfur dioxide</th>\n",
       "      <th>density</th>\n",
       "      <th>pH</th>\n",
       "      <th>sulphates</th>\n",
       "      <th>alcohol</th>\n",
       "    </tr>\n",
       "  </thead>\n",
       "  <tbody>\n",
       "    <tr>\n",
       "      <th>0</th>\n",
       "      <td>0.409125</td>\n",
       "      <td>-0.180992</td>\n",
       "      <td>-0.117278</td>\n",
       "      <td>0.790408</td>\n",
       "      <td>0.742829</td>\n",
       "      <td>-0.723775</td>\n",
       "      <td>-0.573277</td>\n",
       "      <td>0.860236</td>\n",
       "      <td>0.276407</td>\n",
       "      <td>0.001342</td>\n",
       "      <td>-0.011595</td>\n",
       "    </tr>\n",
       "    <tr>\n",
       "      <th>1</th>\n",
       "      <td>-1.724127</td>\n",
       "      <td>0.116674</td>\n",
       "      <td>0.378559</td>\n",
       "      <td>-1.023637</td>\n",
       "      <td>-0.767763</td>\n",
       "      <td>-0.253336</td>\n",
       "      <td>-0.149685</td>\n",
       "      <td>-1.697778</td>\n",
       "      <td>0.607565</td>\n",
       "      <td>-1.137868</td>\n",
       "      <td>1.532500</td>\n",
       "    </tr>\n",
       "    <tr>\n",
       "      <th>2</th>\n",
       "      <td>-0.420473</td>\n",
       "      <td>1.803445</td>\n",
       "      <td>-0.199917</td>\n",
       "      <td>-0.274357</td>\n",
       "      <td>-0.859314</td>\n",
       "      <td>-1.194214</td>\n",
       "      <td>-1.561658</td>\n",
       "      <td>-0.794949</td>\n",
       "      <td>0.475102</td>\n",
       "      <td>0.965289</td>\n",
       "      <td>0.801087</td>\n",
       "    </tr>\n",
       "    <tr>\n",
       "      <th>3</th>\n",
       "      <td>-0.183445</td>\n",
       "      <td>0.612783</td>\n",
       "      <td>-0.282557</td>\n",
       "      <td>1.815737</td>\n",
       "      <td>0.376625</td>\n",
       "      <td>0.922761</td>\n",
       "      <td>1.356420</td>\n",
       "      <td>1.395246</td>\n",
       "      <td>0.011480</td>\n",
       "      <td>0.001342</td>\n",
       "      <td>-0.986812</td>\n",
       "    </tr>\n",
       "    <tr>\n",
       "      <th>4</th>\n",
       "      <td>-0.894529</td>\n",
       "      <td>-1.173210</td>\n",
       "      <td>-0.530476</td>\n",
       "      <td>1.224201</td>\n",
       "      <td>0.834380</td>\n",
       "      <td>1.628419</td>\n",
       "      <td>0.556302</td>\n",
       "      <td>1.796503</td>\n",
       "      <td>3.124369</td>\n",
       "      <td>-0.524447</td>\n",
       "      <td>-1.311884</td>\n",
       "    </tr>\n",
       "  </tbody>\n",
       "</table>\n",
       "</div>"
      ],
      "text/plain": [
       "   fixed acidity  volatile acidity  citric acid  residual sugar  chlorides  \\\n",
       "0       0.409125         -0.180992    -0.117278        0.790408   0.742829   \n",
       "1      -1.724127          0.116674     0.378559       -1.023637  -0.767763   \n",
       "2      -0.420473          1.803445    -0.199917       -0.274357  -0.859314   \n",
       "3      -0.183445          0.612783    -0.282557        1.815737   0.376625   \n",
       "4      -0.894529         -1.173210    -0.530476        1.224201   0.834380   \n",
       "\n",
       "   free sulfur dioxide  total sulfur dioxide   density        pH  sulphates  \\\n",
       "0            -0.723775             -0.573277  0.860236  0.276407   0.001342   \n",
       "1            -0.253336             -0.149685 -1.697778  0.607565  -1.137868   \n",
       "2            -1.194214             -1.561658 -0.794949  0.475102   0.965289   \n",
       "3             0.922761              1.356420  1.395246  0.011480   0.001342   \n",
       "4             1.628419              0.556302  1.796503  3.124369  -0.524447   \n",
       "\n",
       "    alcohol  \n",
       "0 -0.011595  \n",
       "1  1.532500  \n",
       "2  0.801087  \n",
       "3 -0.986812  \n",
       "4 -1.311884  "
      ]
     },
     "execution_count": 27,
     "metadata": {},
     "output_type": "execute_result"
    }
   ],
   "source": [
    "# Case 1: All features (Threshold = 0.0001)\n",
    "col_target = 'quality'\n",
    "cols = corr_features(x_train_sc, col_target, threshold=0.0001)\n",
    "\n",
    "x_train_cor = x_train_sc[cols]\n",
    "x_test_cor = x_test_sc[cols]\n",
    "\n",
    "x_train_cor.head()"
   ]
  },
  {
   "cell_type": "code",
   "execution_count": 28,
   "id": "6868ae06",
   "metadata": {
    "ExecuteTime": {
     "end_time": "2022-07-11T06:54:29.750305Z",
     "start_time": "2022-07-11T06:54:24.832770Z"
    }
   },
   "outputs": [
    {
     "name": "stdout",
     "output_type": "stream",
     "text": [
      "<class 'sklearn.neighbors._classification.KNeighborsClassifier'>\n",
      "f1_weighted(validation) =  0.8292807834702943\n",
      "f1_weighted(test):0.7779318549916966\n",
      "[[  4  55   1]\n",
      " [  0 653  51]\n",
      " [  0  86 130]]\n",
      "              precision    recall  f1-score   support\n",
      "\n",
      "           0       1.00      0.07      0.12        60\n",
      "           1       0.82      0.93      0.87       704\n",
      "           2       0.71      0.60      0.65       216\n",
      "\n",
      "    accuracy                           0.80       980\n",
      "   macro avg       0.85      0.53      0.55       980\n",
      "weighted avg       0.81      0.80      0.78       980\n",
      "\n",
      "\n",
      "<class 'sklearn.tree._classes.DecisionTreeClassifier'>\n",
      "f1_weighted(validation) =  0.7851414836759589\n",
      "f1_weighted(test):0.7403588313858527\n",
      "[[ 10  47   3]\n",
      " [ 19 603  82]\n",
      " [  0  93 123]]\n",
      "              precision    recall  f1-score   support\n",
      "\n",
      "           0       0.34      0.17      0.22        60\n",
      "           1       0.81      0.86      0.83       704\n",
      "           2       0.59      0.57      0.58       216\n",
      "\n",
      "    accuracy                           0.75       980\n",
      "   macro avg       0.58      0.53      0.55       980\n",
      "weighted avg       0.73      0.75      0.74       980\n",
      "\n",
      "\n",
      "<class 'sklearn.svm._classes.SVC'>\n",
      "f1_weighted(validation) =  0.7919818954975618\n",
      "f1_weighted(test):0.7469330871547311\n",
      "[[  2  58   0]\n",
      " [  0 672  32]\n",
      " [  0 121  95]]\n",
      "              precision    recall  f1-score   support\n",
      "\n",
      "           0       1.00      0.03      0.06        60\n",
      "           1       0.79      0.95      0.86       704\n",
      "           2       0.75      0.44      0.55       216\n",
      "\n",
      "    accuracy                           0.78       980\n",
      "   macro avg       0.85      0.48      0.49       980\n",
      "weighted avg       0.79      0.78      0.75       980\n",
      "\n",
      "\n"
     ]
    }
   ],
   "source": [
    "performance(estimators, x_train_cor, x_test_cor, y_train, y_test)"
   ]
  },
  {
   "cell_type": "code",
   "execution_count": 29,
   "id": "3cfaaa76",
   "metadata": {
    "ExecuteTime": {
     "end_time": "2022-07-11T06:54:29.760895Z",
     "start_time": "2022-07-11T06:54:29.752048Z"
    }
   },
   "outputs": [
    {
     "data": {
      "text/html": [
       "<div>\n",
       "<style scoped>\n",
       "    .dataframe tbody tr th:only-of-type {\n",
       "        vertical-align: middle;\n",
       "    }\n",
       "\n",
       "    .dataframe tbody tr th {\n",
       "        vertical-align: top;\n",
       "    }\n",
       "\n",
       "    .dataframe thead th {\n",
       "        text-align: right;\n",
       "    }\n",
       "</style>\n",
       "<table border=\"1\" class=\"dataframe\">\n",
       "  <thead>\n",
       "    <tr style=\"text-align: right;\">\n",
       "      <th></th>\n",
       "      <th>fixed acidity</th>\n",
       "      <th>volatile acidity</th>\n",
       "      <th>citric acid</th>\n",
       "      <th>residual sugar</th>\n",
       "      <th>chlorides</th>\n",
       "      <th>total sulfur dioxide</th>\n",
       "      <th>density</th>\n",
       "      <th>pH</th>\n",
       "      <th>sulphates</th>\n",
       "      <th>alcohol</th>\n",
       "    </tr>\n",
       "  </thead>\n",
       "  <tbody>\n",
       "    <tr>\n",
       "      <th>0</th>\n",
       "      <td>0.409125</td>\n",
       "      <td>-0.180992</td>\n",
       "      <td>-0.117278</td>\n",
       "      <td>0.790408</td>\n",
       "      <td>0.742829</td>\n",
       "      <td>-0.573277</td>\n",
       "      <td>0.860236</td>\n",
       "      <td>0.276407</td>\n",
       "      <td>0.001342</td>\n",
       "      <td>-0.011595</td>\n",
       "    </tr>\n",
       "    <tr>\n",
       "      <th>1</th>\n",
       "      <td>-1.724127</td>\n",
       "      <td>0.116674</td>\n",
       "      <td>0.378559</td>\n",
       "      <td>-1.023637</td>\n",
       "      <td>-0.767763</td>\n",
       "      <td>-0.149685</td>\n",
       "      <td>-1.697778</td>\n",
       "      <td>0.607565</td>\n",
       "      <td>-1.137868</td>\n",
       "      <td>1.532500</td>\n",
       "    </tr>\n",
       "    <tr>\n",
       "      <th>2</th>\n",
       "      <td>-0.420473</td>\n",
       "      <td>1.803445</td>\n",
       "      <td>-0.199917</td>\n",
       "      <td>-0.274357</td>\n",
       "      <td>-0.859314</td>\n",
       "      <td>-1.561658</td>\n",
       "      <td>-0.794949</td>\n",
       "      <td>0.475102</td>\n",
       "      <td>0.965289</td>\n",
       "      <td>0.801087</td>\n",
       "    </tr>\n",
       "    <tr>\n",
       "      <th>3</th>\n",
       "      <td>-0.183445</td>\n",
       "      <td>0.612783</td>\n",
       "      <td>-0.282557</td>\n",
       "      <td>1.815737</td>\n",
       "      <td>0.376625</td>\n",
       "      <td>1.356420</td>\n",
       "      <td>1.395246</td>\n",
       "      <td>0.011480</td>\n",
       "      <td>0.001342</td>\n",
       "      <td>-0.986812</td>\n",
       "    </tr>\n",
       "    <tr>\n",
       "      <th>4</th>\n",
       "      <td>-0.894529</td>\n",
       "      <td>-1.173210</td>\n",
       "      <td>-0.530476</td>\n",
       "      <td>1.224201</td>\n",
       "      <td>0.834380</td>\n",
       "      <td>0.556302</td>\n",
       "      <td>1.796503</td>\n",
       "      <td>3.124369</td>\n",
       "      <td>-0.524447</td>\n",
       "      <td>-1.311884</td>\n",
       "    </tr>\n",
       "  </tbody>\n",
       "</table>\n",
       "</div>"
      ],
      "text/plain": [
       "   fixed acidity  volatile acidity  citric acid  residual sugar  chlorides  \\\n",
       "0       0.409125         -0.180992    -0.117278        0.790408   0.742829   \n",
       "1      -1.724127          0.116674     0.378559       -1.023637  -0.767763   \n",
       "2      -0.420473          1.803445    -0.199917       -0.274357  -0.859314   \n",
       "3      -0.183445          0.612783    -0.282557        1.815737   0.376625   \n",
       "4      -0.894529         -1.173210    -0.530476        1.224201   0.834380   \n",
       "\n",
       "   total sulfur dioxide   density        pH  sulphates   alcohol  \n",
       "0             -0.573277  0.860236  0.276407   0.001342 -0.011595  \n",
       "1             -0.149685 -1.697778  0.607565  -1.137868  1.532500  \n",
       "2             -1.561658 -0.794949  0.475102   0.965289  0.801087  \n",
       "3              1.356420  1.395246  0.011480   0.001342 -0.986812  \n",
       "4              0.556302  1.796503  3.124369  -0.524447 -1.311884  "
      ]
     },
     "execution_count": 29,
     "metadata": {},
     "output_type": "execute_result"
    }
   ],
   "source": [
    "# Case 2: 10 features (Threshold = 0.006)\n",
    "col_target = 'quality'\n",
    "cols = corr_features(x_train_sc, col_target, threshold=0.006)\n",
    "\n",
    "x_train_cor = x_train_sc[cols]\n",
    "x_test_cor = x_test_sc[cols]\n",
    "\n",
    "x_train_cor.head()"
   ]
  },
  {
   "cell_type": "code",
   "execution_count": 30,
   "id": "324f94ae",
   "metadata": {
    "ExecuteTime": {
     "end_time": "2022-07-11T06:54:34.240158Z",
     "start_time": "2022-07-11T06:54:29.762875Z"
    }
   },
   "outputs": [
    {
     "name": "stdout",
     "output_type": "stream",
     "text": [
      "<class 'sklearn.neighbors._classification.KNeighborsClassifier'>\n",
      "f1_weighted(validation) =  0.8267405441646828\n",
      "f1_weighted(test):0.7829299338491142\n",
      "[[  4  53   3]\n",
      " [  0 661  43]\n",
      " [  0  88 128]]\n",
      "              precision    recall  f1-score   support\n",
      "\n",
      "           0       1.00      0.07      0.12        60\n",
      "           1       0.82      0.94      0.88       704\n",
      "           2       0.74      0.59      0.66       216\n",
      "\n",
      "    accuracy                           0.81       980\n",
      "   macro avg       0.85      0.53      0.55       980\n",
      "weighted avg       0.82      0.81      0.78       980\n",
      "\n",
      "\n",
      "<class 'sklearn.tree._classes.DecisionTreeClassifier'>\n",
      "f1_weighted(validation) =  0.7817564245668633\n",
      "f1_weighted(test):0.7441497123561439\n",
      "[[ 11  44   5]\n",
      " [ 14 596  94]\n",
      " [  3  83 130]]\n",
      "              precision    recall  f1-score   support\n",
      "\n",
      "           0       0.39      0.18      0.25        60\n",
      "           1       0.82      0.85      0.84       704\n",
      "           2       0.57      0.60      0.58       216\n",
      "\n",
      "    accuracy                           0.75       980\n",
      "   macro avg       0.59      0.54      0.56       980\n",
      "weighted avg       0.74      0.75      0.74       980\n",
      "\n",
      "\n",
      "<class 'sklearn.svm._classes.SVC'>\n",
      "f1_weighted(validation) =  0.7881834225325128\n",
      "f1_weighted(test):0.7354984019631908\n",
      "[[  2  58   0]\n",
      " [  0 665  39]\n",
      " [  0 125  91]]\n",
      "              precision    recall  f1-score   support\n",
      "\n",
      "           0       1.00      0.03      0.06        60\n",
      "           1       0.78      0.94      0.86       704\n",
      "           2       0.70      0.42      0.53       216\n",
      "\n",
      "    accuracy                           0.77       980\n",
      "   macro avg       0.83      0.47      0.48       980\n",
      "weighted avg       0.78      0.77      0.74       980\n",
      "\n",
      "\n"
     ]
    }
   ],
   "source": [
    "performance(estimators, x_train_cor, x_test_cor, y_train, y_test)"
   ]
  },
  {
   "cell_type": "code",
   "execution_count": 31,
   "id": "192e07f1",
   "metadata": {
    "ExecuteTime": {
     "end_time": "2022-07-11T06:54:34.249869Z",
     "start_time": "2022-07-11T06:54:34.241809Z"
    }
   },
   "outputs": [
    {
     "data": {
      "text/html": [
       "<div>\n",
       "<style scoped>\n",
       "    .dataframe tbody tr th:only-of-type {\n",
       "        vertical-align: middle;\n",
       "    }\n",
       "\n",
       "    .dataframe tbody tr th {\n",
       "        vertical-align: top;\n",
       "    }\n",
       "\n",
       "    .dataframe thead th {\n",
       "        text-align: right;\n",
       "    }\n",
       "</style>\n",
       "<table border=\"1\" class=\"dataframe\">\n",
       "  <thead>\n",
       "    <tr style=\"text-align: right;\">\n",
       "      <th></th>\n",
       "      <th>fixed acidity</th>\n",
       "      <th>volatile acidity</th>\n",
       "      <th>citric acid</th>\n",
       "      <th>chlorides</th>\n",
       "      <th>total sulfur dioxide</th>\n",
       "      <th>density</th>\n",
       "      <th>pH</th>\n",
       "      <th>sulphates</th>\n",
       "      <th>alcohol</th>\n",
       "    </tr>\n",
       "  </thead>\n",
       "  <tbody>\n",
       "    <tr>\n",
       "      <th>0</th>\n",
       "      <td>0.409125</td>\n",
       "      <td>-0.180992</td>\n",
       "      <td>-0.117278</td>\n",
       "      <td>0.742829</td>\n",
       "      <td>-0.573277</td>\n",
       "      <td>0.860236</td>\n",
       "      <td>0.276407</td>\n",
       "      <td>0.001342</td>\n",
       "      <td>-0.011595</td>\n",
       "    </tr>\n",
       "    <tr>\n",
       "      <th>1</th>\n",
       "      <td>-1.724127</td>\n",
       "      <td>0.116674</td>\n",
       "      <td>0.378559</td>\n",
       "      <td>-0.767763</td>\n",
       "      <td>-0.149685</td>\n",
       "      <td>-1.697778</td>\n",
       "      <td>0.607565</td>\n",
       "      <td>-1.137868</td>\n",
       "      <td>1.532500</td>\n",
       "    </tr>\n",
       "    <tr>\n",
       "      <th>2</th>\n",
       "      <td>-0.420473</td>\n",
       "      <td>1.803445</td>\n",
       "      <td>-0.199917</td>\n",
       "      <td>-0.859314</td>\n",
       "      <td>-1.561658</td>\n",
       "      <td>-0.794949</td>\n",
       "      <td>0.475102</td>\n",
       "      <td>0.965289</td>\n",
       "      <td>0.801087</td>\n",
       "    </tr>\n",
       "    <tr>\n",
       "      <th>3</th>\n",
       "      <td>-0.183445</td>\n",
       "      <td>0.612783</td>\n",
       "      <td>-0.282557</td>\n",
       "      <td>0.376625</td>\n",
       "      <td>1.356420</td>\n",
       "      <td>1.395246</td>\n",
       "      <td>0.011480</td>\n",
       "      <td>0.001342</td>\n",
       "      <td>-0.986812</td>\n",
       "    </tr>\n",
       "    <tr>\n",
       "      <th>4</th>\n",
       "      <td>-0.894529</td>\n",
       "      <td>-1.173210</td>\n",
       "      <td>-0.530476</td>\n",
       "      <td>0.834380</td>\n",
       "      <td>0.556302</td>\n",
       "      <td>1.796503</td>\n",
       "      <td>3.124369</td>\n",
       "      <td>-0.524447</td>\n",
       "      <td>-1.311884</td>\n",
       "    </tr>\n",
       "  </tbody>\n",
       "</table>\n",
       "</div>"
      ],
      "text/plain": [
       "   fixed acidity  volatile acidity  citric acid  chlorides  \\\n",
       "0       0.409125         -0.180992    -0.117278   0.742829   \n",
       "1      -1.724127          0.116674     0.378559  -0.767763   \n",
       "2      -0.420473          1.803445    -0.199917  -0.859314   \n",
       "3      -0.183445          0.612783    -0.282557   0.376625   \n",
       "4      -0.894529         -1.173210    -0.530476   0.834380   \n",
       "\n",
       "   total sulfur dioxide   density        pH  sulphates   alcohol  \n",
       "0             -0.573277  0.860236  0.276407   0.001342 -0.011595  \n",
       "1             -0.149685 -1.697778  0.607565  -1.137868  1.532500  \n",
       "2             -1.561658 -0.794949  0.475102   0.965289  0.801087  \n",
       "3              1.356420  1.395246  0.011480   0.001342 -0.986812  \n",
       "4              0.556302  1.796503  3.124369  -0.524447 -1.311884  "
      ]
     },
     "execution_count": 31,
     "metadata": {},
     "output_type": "execute_result"
    }
   ],
   "source": [
    "# Case 3: 9 features (Threshold = 0.009)\n",
    "col_target = 'quality'\n",
    "cols = corr_features(x_train_sc, col_target, threshold=0.009)\n",
    "\n",
    "x_train_cor = x_train_sc[cols]\n",
    "x_test_cor = x_test_sc[cols]\n",
    "\n",
    "x_train_cor.head()"
   ]
  },
  {
   "cell_type": "code",
   "execution_count": 32,
   "id": "3fcc2a1e",
   "metadata": {
    "ExecuteTime": {
     "end_time": "2022-07-11T06:54:38.616637Z",
     "start_time": "2022-07-11T06:54:34.250906Z"
    }
   },
   "outputs": [
    {
     "name": "stdout",
     "output_type": "stream",
     "text": [
      "<class 'sklearn.neighbors._classification.KNeighborsClassifier'>\n",
      "f1_weighted(validation) =  0.8257998011919551\n",
      "f1_weighted(test):0.778413234714272\n",
      "[[  4  53   3]\n",
      " [  0 656  48]\n",
      " [  0  88 128]]\n",
      "              precision    recall  f1-score   support\n",
      "\n",
      "           0       1.00      0.07      0.12        60\n",
      "           1       0.82      0.93      0.87       704\n",
      "           2       0.72      0.59      0.65       216\n",
      "\n",
      "    accuracy                           0.80       980\n",
      "   macro avg       0.85      0.53      0.55       980\n",
      "weighted avg       0.81      0.80      0.78       980\n",
      "\n",
      "\n",
      "<class 'sklearn.tree._classes.DecisionTreeClassifier'>\n",
      "f1_weighted(validation) =  0.7729937857959261\n",
      "f1_weighted(test):0.7436936165114099\n",
      "[[ 10  47   3]\n",
      " [ 12 606  86]\n",
      " [  2  90 124]]\n",
      "              precision    recall  f1-score   support\n",
      "\n",
      "           0       0.42      0.17      0.24        60\n",
      "           1       0.82      0.86      0.84       704\n",
      "           2       0.58      0.57      0.58       216\n",
      "\n",
      "    accuracy                           0.76       980\n",
      "   macro avg       0.60      0.53      0.55       980\n",
      "weighted avg       0.74      0.76      0.74       980\n",
      "\n",
      "\n",
      "<class 'sklearn.svm._classes.SVC'>\n",
      "f1_weighted(validation) =  0.7833033543070171\n",
      "f1_weighted(test):0.7265423896520564\n",
      "[[  2  58   0]\n",
      " [  0 664  40]\n",
      " [  0 131  85]]\n",
      "              precision    recall  f1-score   support\n",
      "\n",
      "           0       1.00      0.03      0.06        60\n",
      "           1       0.78      0.94      0.85       704\n",
      "           2       0.68      0.39      0.50       216\n",
      "\n",
      "    accuracy                           0.77       980\n",
      "   macro avg       0.82      0.46      0.47       980\n",
      "weighted avg       0.77      0.77      0.73       980\n",
      "\n",
      "\n"
     ]
    }
   ],
   "source": [
    "performance(estimators, x_train_cor, x_test_cor, y_train, y_test)"
   ]
  },
  {
   "cell_type": "code",
   "execution_count": 33,
   "id": "e81bec10",
   "metadata": {
    "ExecuteTime": {
     "end_time": "2022-07-11T06:54:38.625601Z",
     "start_time": "2022-07-11T06:54:38.617774Z"
    }
   },
   "outputs": [
    {
     "data": {
      "text/html": [
       "<div>\n",
       "<style scoped>\n",
       "    .dataframe tbody tr th:only-of-type {\n",
       "        vertical-align: middle;\n",
       "    }\n",
       "\n",
       "    .dataframe tbody tr th {\n",
       "        vertical-align: top;\n",
       "    }\n",
       "\n",
       "    .dataframe thead th {\n",
       "        text-align: right;\n",
       "    }\n",
       "</style>\n",
       "<table border=\"1\" class=\"dataframe\">\n",
       "  <thead>\n",
       "    <tr style=\"text-align: right;\">\n",
       "      <th></th>\n",
       "      <th>fixed acidity</th>\n",
       "      <th>volatile acidity</th>\n",
       "      <th>chlorides</th>\n",
       "      <th>total sulfur dioxide</th>\n",
       "      <th>density</th>\n",
       "      <th>pH</th>\n",
       "      <th>sulphates</th>\n",
       "      <th>alcohol</th>\n",
       "    </tr>\n",
       "  </thead>\n",
       "  <tbody>\n",
       "    <tr>\n",
       "      <th>0</th>\n",
       "      <td>0.409125</td>\n",
       "      <td>-0.180992</td>\n",
       "      <td>0.742829</td>\n",
       "      <td>-0.573277</td>\n",
       "      <td>0.860236</td>\n",
       "      <td>0.276407</td>\n",
       "      <td>0.001342</td>\n",
       "      <td>-0.011595</td>\n",
       "    </tr>\n",
       "    <tr>\n",
       "      <th>1</th>\n",
       "      <td>-1.724127</td>\n",
       "      <td>0.116674</td>\n",
       "      <td>-0.767763</td>\n",
       "      <td>-0.149685</td>\n",
       "      <td>-1.697778</td>\n",
       "      <td>0.607565</td>\n",
       "      <td>-1.137868</td>\n",
       "      <td>1.532500</td>\n",
       "    </tr>\n",
       "    <tr>\n",
       "      <th>2</th>\n",
       "      <td>-0.420473</td>\n",
       "      <td>1.803445</td>\n",
       "      <td>-0.859314</td>\n",
       "      <td>-1.561658</td>\n",
       "      <td>-0.794949</td>\n",
       "      <td>0.475102</td>\n",
       "      <td>0.965289</td>\n",
       "      <td>0.801087</td>\n",
       "    </tr>\n",
       "    <tr>\n",
       "      <th>3</th>\n",
       "      <td>-0.183445</td>\n",
       "      <td>0.612783</td>\n",
       "      <td>0.376625</td>\n",
       "      <td>1.356420</td>\n",
       "      <td>1.395246</td>\n",
       "      <td>0.011480</td>\n",
       "      <td>0.001342</td>\n",
       "      <td>-0.986812</td>\n",
       "    </tr>\n",
       "    <tr>\n",
       "      <th>4</th>\n",
       "      <td>-0.894529</td>\n",
       "      <td>-1.173210</td>\n",
       "      <td>0.834380</td>\n",
       "      <td>0.556302</td>\n",
       "      <td>1.796503</td>\n",
       "      <td>3.124369</td>\n",
       "      <td>-0.524447</td>\n",
       "      <td>-1.311884</td>\n",
       "    </tr>\n",
       "  </tbody>\n",
       "</table>\n",
       "</div>"
      ],
      "text/plain": [
       "   fixed acidity  volatile acidity  chlorides  total sulfur dioxide   density  \\\n",
       "0       0.409125         -0.180992   0.742829             -0.573277  0.860236   \n",
       "1      -1.724127          0.116674  -0.767763             -0.149685 -1.697778   \n",
       "2      -0.420473          1.803445  -0.859314             -1.561658 -0.794949   \n",
       "3      -0.183445          0.612783   0.376625              1.356420  1.395246   \n",
       "4      -0.894529         -1.173210   0.834380              0.556302  1.796503   \n",
       "\n",
       "         pH  sulphates   alcohol  \n",
       "0  0.276407   0.001342 -0.011595  \n",
       "1  0.607565  -1.137868  1.532500  \n",
       "2  0.475102   0.965289  0.801087  \n",
       "3  0.011480   0.001342 -0.986812  \n",
       "4  3.124369  -0.524447 -1.311884  "
      ]
     },
     "execution_count": 33,
     "metadata": {},
     "output_type": "execute_result"
    }
   ],
   "source": [
    "# Case 4: 8 features (Threshold = 0.01)\n",
    "col_target = 'quality'\n",
    "cols = corr_features(x_train_sc, col_target, threshold=0.01)\n",
    "\n",
    "x_train_cor = x_train_sc[cols]\n",
    "x_test_cor = x_test_sc[cols]\n",
    "\n",
    "x_train_cor.head()"
   ]
  },
  {
   "cell_type": "code",
   "execution_count": 34,
   "id": "36c2c04d",
   "metadata": {
    "ExecuteTime": {
     "end_time": "2022-07-11T06:54:42.643208Z",
     "start_time": "2022-07-11T06:54:38.626796Z"
    }
   },
   "outputs": [
    {
     "name": "stdout",
     "output_type": "stream",
     "text": [
      "<class 'sklearn.neighbors._classification.KNeighborsClassifier'>\n",
      "f1_weighted(validation) =  0.8153536498398832\n",
      "f1_weighted(test):0.782655977154733\n",
      "[[  4  53   3]\n",
      " [  0 662  42]\n",
      " [  0  89 127]]\n",
      "              precision    recall  f1-score   support\n",
      "\n",
      "           0       1.00      0.07      0.12        60\n",
      "           1       0.82      0.94      0.88       704\n",
      "           2       0.74      0.59      0.65       216\n",
      "\n",
      "    accuracy                           0.81       980\n",
      "   macro avg       0.85      0.53      0.55       980\n",
      "weighted avg       0.82      0.81      0.78       980\n",
      "\n",
      "\n",
      "<class 'sklearn.tree._classes.DecisionTreeClassifier'>\n",
      "f1_weighted(validation) =  0.7710093303657855\n",
      "f1_weighted(test):0.7265011717264687\n",
      "[[  9  49   2]\n",
      " [ 16 597  91]\n",
      " [  2  97 117]]\n",
      "              precision    recall  f1-score   support\n",
      "\n",
      "           0       0.33      0.15      0.21        60\n",
      "           1       0.80      0.85      0.83       704\n",
      "           2       0.56      0.54      0.55       216\n",
      "\n",
      "    accuracy                           0.74       980\n",
      "   macro avg       0.56      0.51      0.53       980\n",
      "weighted avg       0.72      0.74      0.73       980\n",
      "\n",
      "\n",
      "<class 'sklearn.svm._classes.SVC'>\n",
      "f1_weighted(validation) =  0.770142368904622\n",
      "f1_weighted(test):0.7155488723753093\n",
      "[[  0  59   1]\n",
      " [  0 663  41]\n",
      " [  0 135  81]]\n",
      "              precision    recall  f1-score   support\n",
      "\n",
      "           0       0.00      0.00      0.00        60\n",
      "           1       0.77      0.94      0.85       704\n",
      "           2       0.66      0.38      0.48       216\n",
      "\n",
      "    accuracy                           0.76       980\n",
      "   macro avg       0.48      0.44      0.44       980\n",
      "weighted avg       0.70      0.76      0.72       980\n",
      "\n",
      "\n"
     ]
    }
   ],
   "source": [
    "performance(estimators, x_train_cor, x_test_cor, y_train, y_test)"
   ]
  },
  {
   "cell_type": "code",
   "execution_count": 35,
   "id": "55d15609",
   "metadata": {
    "ExecuteTime": {
     "end_time": "2022-07-11T06:54:42.651940Z",
     "start_time": "2022-07-11T06:54:42.644228Z"
    }
   },
   "outputs": [
    {
     "data": {
      "text/html": [
       "<div>\n",
       "<style scoped>\n",
       "    .dataframe tbody tr th:only-of-type {\n",
       "        vertical-align: middle;\n",
       "    }\n",
       "\n",
       "    .dataframe tbody tr th {\n",
       "        vertical-align: top;\n",
       "    }\n",
       "\n",
       "    .dataframe thead th {\n",
       "        text-align: right;\n",
       "    }\n",
       "</style>\n",
       "<table border=\"1\" class=\"dataframe\">\n",
       "  <thead>\n",
       "    <tr style=\"text-align: right;\">\n",
       "      <th></th>\n",
       "      <th>fixed acidity</th>\n",
       "      <th>volatile acidity</th>\n",
       "      <th>chlorides</th>\n",
       "      <th>total sulfur dioxide</th>\n",
       "      <th>density</th>\n",
       "      <th>sulphates</th>\n",
       "      <th>alcohol</th>\n",
       "    </tr>\n",
       "  </thead>\n",
       "  <tbody>\n",
       "    <tr>\n",
       "      <th>0</th>\n",
       "      <td>0.409125</td>\n",
       "      <td>-0.180992</td>\n",
       "      <td>0.742829</td>\n",
       "      <td>-0.573277</td>\n",
       "      <td>0.860236</td>\n",
       "      <td>0.001342</td>\n",
       "      <td>-0.011595</td>\n",
       "    </tr>\n",
       "    <tr>\n",
       "      <th>1</th>\n",
       "      <td>-1.724127</td>\n",
       "      <td>0.116674</td>\n",
       "      <td>-0.767763</td>\n",
       "      <td>-0.149685</td>\n",
       "      <td>-1.697778</td>\n",
       "      <td>-1.137868</td>\n",
       "      <td>1.532500</td>\n",
       "    </tr>\n",
       "    <tr>\n",
       "      <th>2</th>\n",
       "      <td>-0.420473</td>\n",
       "      <td>1.803445</td>\n",
       "      <td>-0.859314</td>\n",
       "      <td>-1.561658</td>\n",
       "      <td>-0.794949</td>\n",
       "      <td>0.965289</td>\n",
       "      <td>0.801087</td>\n",
       "    </tr>\n",
       "    <tr>\n",
       "      <th>3</th>\n",
       "      <td>-0.183445</td>\n",
       "      <td>0.612783</td>\n",
       "      <td>0.376625</td>\n",
       "      <td>1.356420</td>\n",
       "      <td>1.395246</td>\n",
       "      <td>0.001342</td>\n",
       "      <td>-0.986812</td>\n",
       "    </tr>\n",
       "    <tr>\n",
       "      <th>4</th>\n",
       "      <td>-0.894529</td>\n",
       "      <td>-1.173210</td>\n",
       "      <td>0.834380</td>\n",
       "      <td>0.556302</td>\n",
       "      <td>1.796503</td>\n",
       "      <td>-0.524447</td>\n",
       "      <td>-1.311884</td>\n",
       "    </tr>\n",
       "  </tbody>\n",
       "</table>\n",
       "</div>"
      ],
      "text/plain": [
       "   fixed acidity  volatile acidity  chlorides  total sulfur dioxide   density  \\\n",
       "0       0.409125         -0.180992   0.742829             -0.573277  0.860236   \n",
       "1      -1.724127          0.116674  -0.767763             -0.149685 -1.697778   \n",
       "2      -0.420473          1.803445  -0.859314             -1.561658 -0.794949   \n",
       "3      -0.183445          0.612783   0.376625              1.356420  1.395246   \n",
       "4      -0.894529         -1.173210   0.834380              0.556302  1.796503   \n",
       "\n",
       "   sulphates   alcohol  \n",
       "0   0.001342 -0.011595  \n",
       "1  -1.137868  1.532500  \n",
       "2   0.965289  0.801087  \n",
       "3   0.001342 -0.986812  \n",
       "4  -0.524447 -1.311884  "
      ]
     },
     "execution_count": 35,
     "metadata": {},
     "output_type": "execute_result"
    }
   ],
   "source": [
    "# Case 5: 7 features (Threshold = 0.0165)\n",
    "col_target = 'quality'\n",
    "cols = corr_features(x_train_sc, col_target, threshold=0.0165)\n",
    "\n",
    "x_train_cor = x_train_sc[cols]\n",
    "x_test_cor = x_test_sc[cols]\n",
    "\n",
    "x_train_cor.head()"
   ]
  },
  {
   "cell_type": "code",
   "execution_count": 36,
   "id": "158da019",
   "metadata": {
    "ExecuteTime": {
     "end_time": "2022-07-11T06:54:46.400269Z",
     "start_time": "2022-07-11T06:54:42.653080Z"
    }
   },
   "outputs": [
    {
     "name": "stdout",
     "output_type": "stream",
     "text": [
      "<class 'sklearn.neighbors._classification.KNeighborsClassifier'>\n",
      "f1_weighted(validation) =  0.812809294046858\n",
      "f1_weighted(test):0.7679726497839415\n",
      "[[  4  54   2]\n",
      " [  0 655  49]\n",
      " [  0  96 120]]\n",
      "              precision    recall  f1-score   support\n",
      "\n",
      "           0       1.00      0.07      0.12        60\n",
      "           1       0.81      0.93      0.87       704\n",
      "           2       0.70      0.56      0.62       216\n",
      "\n",
      "    accuracy                           0.79       980\n",
      "   macro avg       0.84      0.52      0.54       980\n",
      "weighted avg       0.80      0.79      0.77       980\n",
      "\n",
      "\n",
      "<class 'sklearn.tree._classes.DecisionTreeClassifier'>\n",
      "f1_weighted(validation) =  0.7649832090903204\n",
      "f1_weighted(test):0.7345352917366357\n",
      "[[  9  44   7]\n",
      " [ 21 598  85]\n",
      " [  6  89 121]]\n",
      "              precision    recall  f1-score   support\n",
      "\n",
      "           0       0.25      0.15      0.19        60\n",
      "           1       0.82      0.85      0.83       704\n",
      "           2       0.57      0.56      0.56       216\n",
      "\n",
      "    accuracy                           0.74       980\n",
      "   macro avg       0.55      0.52      0.53       980\n",
      "weighted avg       0.73      0.74      0.73       980\n",
      "\n",
      "\n",
      "<class 'sklearn.svm._classes.SVC'>\n",
      "f1_weighted(validation) =  0.7627937976191607\n",
      "f1_weighted(test):0.7101142995269174\n",
      "[[  0  59   1]\n",
      " [  0 670  34]\n",
      " [  0 143  73]]\n",
      "              precision    recall  f1-score   support\n",
      "\n",
      "           0       0.00      0.00      0.00        60\n",
      "           1       0.77      0.95      0.85       704\n",
      "           2       0.68      0.34      0.45       216\n",
      "\n",
      "    accuracy                           0.76       980\n",
      "   macro avg       0.48      0.43      0.43       980\n",
      "weighted avg       0.70      0.76      0.71       980\n",
      "\n",
      "\n"
     ]
    }
   ],
   "source": [
    "performance(estimators, x_train_cor, x_test_cor, y_train, y_test)"
   ]
  },
  {
   "cell_type": "code",
   "execution_count": 37,
   "id": "9c43f20d",
   "metadata": {
    "ExecuteTime": {
     "end_time": "2022-07-11T06:54:46.410070Z",
     "start_time": "2022-07-11T06:54:46.403005Z"
    }
   },
   "outputs": [
    {
     "data": {
      "text/html": [
       "<div>\n",
       "<style scoped>\n",
       "    .dataframe tbody tr th:only-of-type {\n",
       "        vertical-align: middle;\n",
       "    }\n",
       "\n",
       "    .dataframe tbody tr th {\n",
       "        vertical-align: top;\n",
       "    }\n",
       "\n",
       "    .dataframe thead th {\n",
       "        text-align: right;\n",
       "    }\n",
       "</style>\n",
       "<table border=\"1\" class=\"dataframe\">\n",
       "  <thead>\n",
       "    <tr style=\"text-align: right;\">\n",
       "      <th></th>\n",
       "      <th>volatile acidity</th>\n",
       "      <th>chlorides</th>\n",
       "      <th>total sulfur dioxide</th>\n",
       "      <th>density</th>\n",
       "      <th>sulphates</th>\n",
       "      <th>alcohol</th>\n",
       "    </tr>\n",
       "  </thead>\n",
       "  <tbody>\n",
       "    <tr>\n",
       "      <th>0</th>\n",
       "      <td>-0.180992</td>\n",
       "      <td>0.742829</td>\n",
       "      <td>-0.573277</td>\n",
       "      <td>0.860236</td>\n",
       "      <td>0.001342</td>\n",
       "      <td>-0.011595</td>\n",
       "    </tr>\n",
       "    <tr>\n",
       "      <th>1</th>\n",
       "      <td>0.116674</td>\n",
       "      <td>-0.767763</td>\n",
       "      <td>-0.149685</td>\n",
       "      <td>-1.697778</td>\n",
       "      <td>-1.137868</td>\n",
       "      <td>1.532500</td>\n",
       "    </tr>\n",
       "    <tr>\n",
       "      <th>2</th>\n",
       "      <td>1.803445</td>\n",
       "      <td>-0.859314</td>\n",
       "      <td>-1.561658</td>\n",
       "      <td>-0.794949</td>\n",
       "      <td>0.965289</td>\n",
       "      <td>0.801087</td>\n",
       "    </tr>\n",
       "    <tr>\n",
       "      <th>3</th>\n",
       "      <td>0.612783</td>\n",
       "      <td>0.376625</td>\n",
       "      <td>1.356420</td>\n",
       "      <td>1.395246</td>\n",
       "      <td>0.001342</td>\n",
       "      <td>-0.986812</td>\n",
       "    </tr>\n",
       "    <tr>\n",
       "      <th>4</th>\n",
       "      <td>-1.173210</td>\n",
       "      <td>0.834380</td>\n",
       "      <td>0.556302</td>\n",
       "      <td>1.796503</td>\n",
       "      <td>-0.524447</td>\n",
       "      <td>-1.311884</td>\n",
       "    </tr>\n",
       "  </tbody>\n",
       "</table>\n",
       "</div>"
      ],
      "text/plain": [
       "   volatile acidity  chlorides  total sulfur dioxide   density  sulphates  \\\n",
       "0         -0.180992   0.742829             -0.573277  0.860236   0.001342   \n",
       "1          0.116674  -0.767763             -0.149685 -1.697778  -1.137868   \n",
       "2          1.803445  -0.859314             -1.561658 -0.794949   0.965289   \n",
       "3          0.612783   0.376625              1.356420  1.395246   0.001342   \n",
       "4         -1.173210   0.834380              0.556302  1.796503  -0.524447   \n",
       "\n",
       "    alcohol  \n",
       "0 -0.011595  \n",
       "1  1.532500  \n",
       "2  0.801087  \n",
       "3 -0.986812  \n",
       "4 -1.311884  "
      ]
     },
     "execution_count": 37,
     "metadata": {},
     "output_type": "execute_result"
    }
   ],
   "source": [
    "# Case 6: 6 features (Threshold = 0.017)\n",
    "col_target = 'quality'\n",
    "cols = corr_features(x_train_sc, col_target, threshold=0.017)\n",
    "\n",
    "x_train_cor = x_train_sc[cols]\n",
    "x_test_cor = x_test_sc[cols]\n",
    "\n",
    "x_train_cor.head()"
   ]
  },
  {
   "cell_type": "code",
   "execution_count": 38,
   "id": "f8fbc1e0",
   "metadata": {
    "ExecuteTime": {
     "end_time": "2022-07-11T06:54:49.864262Z",
     "start_time": "2022-07-11T06:54:46.411150Z"
    }
   },
   "outputs": [
    {
     "name": "stdout",
     "output_type": "stream",
     "text": [
      "<class 'sklearn.neighbors._classification.KNeighborsClassifier'>\n",
      "f1_weighted(validation) =  0.8129409878326707\n",
      "f1_weighted(test):0.7681091506338977\n",
      "[[  3  55   2]\n",
      " [  0 659  45]\n",
      " [  0  97 119]]\n",
      "              precision    recall  f1-score   support\n",
      "\n",
      "           0       1.00      0.05      0.10        60\n",
      "           1       0.81      0.94      0.87       704\n",
      "           2       0.72      0.55      0.62       216\n",
      "\n",
      "    accuracy                           0.80       980\n",
      "   macro avg       0.84      0.51      0.53       980\n",
      "weighted avg       0.80      0.80      0.77       980\n",
      "\n",
      "\n",
      "<class 'sklearn.tree._classes.DecisionTreeClassifier'>\n",
      "f1_weighted(validation) =  0.7694859398375044\n",
      "f1_weighted(test):0.7232187617010912\n",
      "[[  9  45   6]\n",
      " [ 18 587  99]\n",
      " [  6  90 120]]\n",
      "              precision    recall  f1-score   support\n",
      "\n",
      "           0       0.27      0.15      0.19        60\n",
      "           1       0.81      0.83      0.82       704\n",
      "           2       0.53      0.56      0.54       216\n",
      "\n",
      "    accuracy                           0.73       980\n",
      "   macro avg       0.54      0.51      0.52       980\n",
      "weighted avg       0.72      0.73      0.72       980\n",
      "\n",
      "\n",
      "<class 'sklearn.svm._classes.SVC'>\n",
      "f1_weighted(validation) =  0.7481467516175306\n",
      "f1_weighted(test):0.7038066420799955\n",
      "[[  0  59   1]\n",
      " [  0 673  31]\n",
      " [  0 149  67]]\n",
      "              precision    recall  f1-score   support\n",
      "\n",
      "           0       0.00      0.00      0.00        60\n",
      "           1       0.76      0.96      0.85       704\n",
      "           2       0.68      0.31      0.43       216\n",
      "\n",
      "    accuracy                           0.76       980\n",
      "   macro avg       0.48      0.42      0.42       980\n",
      "weighted avg       0.70      0.76      0.70       980\n",
      "\n",
      "\n"
     ]
    }
   ],
   "source": [
    "performance(estimators, x_train_cor, x_test_cor, y_train, y_test)"
   ]
  },
  {
   "cell_type": "code",
   "execution_count": 39,
   "id": "7155026e",
   "metadata": {
    "ExecuteTime": {
     "end_time": "2022-07-11T06:54:49.871856Z",
     "start_time": "2022-07-11T06:54:49.865347Z"
    }
   },
   "outputs": [
    {
     "data": {
      "text/html": [
       "<div>\n",
       "<style scoped>\n",
       "    .dataframe tbody tr th:only-of-type {\n",
       "        vertical-align: middle;\n",
       "    }\n",
       "\n",
       "    .dataframe tbody tr th {\n",
       "        vertical-align: top;\n",
       "    }\n",
       "\n",
       "    .dataframe thead th {\n",
       "        text-align: right;\n",
       "    }\n",
       "</style>\n",
       "<table border=\"1\" class=\"dataframe\">\n",
       "  <thead>\n",
       "    <tr style=\"text-align: right;\">\n",
       "      <th></th>\n",
       "      <th>volatile acidity</th>\n",
       "      <th>chlorides</th>\n",
       "      <th>total sulfur dioxide</th>\n",
       "      <th>sulphates</th>\n",
       "      <th>alcohol</th>\n",
       "    </tr>\n",
       "  </thead>\n",
       "  <tbody>\n",
       "    <tr>\n",
       "      <th>0</th>\n",
       "      <td>-0.180992</td>\n",
       "      <td>0.742829</td>\n",
       "      <td>-0.573277</td>\n",
       "      <td>0.001342</td>\n",
       "      <td>-0.011595</td>\n",
       "    </tr>\n",
       "    <tr>\n",
       "      <th>1</th>\n",
       "      <td>0.116674</td>\n",
       "      <td>-0.767763</td>\n",
       "      <td>-0.149685</td>\n",
       "      <td>-1.137868</td>\n",
       "      <td>1.532500</td>\n",
       "    </tr>\n",
       "    <tr>\n",
       "      <th>2</th>\n",
       "      <td>1.803445</td>\n",
       "      <td>-0.859314</td>\n",
       "      <td>-1.561658</td>\n",
       "      <td>0.965289</td>\n",
       "      <td>0.801087</td>\n",
       "    </tr>\n",
       "    <tr>\n",
       "      <th>3</th>\n",
       "      <td>0.612783</td>\n",
       "      <td>0.376625</td>\n",
       "      <td>1.356420</td>\n",
       "      <td>0.001342</td>\n",
       "      <td>-0.986812</td>\n",
       "    </tr>\n",
       "    <tr>\n",
       "      <th>4</th>\n",
       "      <td>-1.173210</td>\n",
       "      <td>0.834380</td>\n",
       "      <td>0.556302</td>\n",
       "      <td>-0.524447</td>\n",
       "      <td>-1.311884</td>\n",
       "    </tr>\n",
       "  </tbody>\n",
       "</table>\n",
       "</div>"
      ],
      "text/plain": [
       "   volatile acidity  chlorides  total sulfur dioxide  sulphates   alcohol\n",
       "0         -0.180992   0.742829             -0.573277   0.001342 -0.011595\n",
       "1          0.116674  -0.767763             -0.149685  -1.137868  1.532500\n",
       "2          1.803445  -0.859314             -1.561658   0.965289  0.801087\n",
       "3          0.612783   0.376625              1.356420   0.001342 -0.986812\n",
       "4         -1.173210   0.834380              0.556302  -0.524447 -1.311884"
      ]
     },
     "execution_count": 39,
     "metadata": {},
     "output_type": "execute_result"
    }
   ],
   "source": [
    "# Case 7: 5 features (Threshold = 0.0191)\n",
    "col_target = 'quality'\n",
    "cols = corr_features(x_train_sc, col_target, threshold=0.0191)\n",
    "\n",
    "x_train_cor = x_train_sc[cols]\n",
    "x_test_cor = x_test_sc[cols]\n",
    "\n",
    "x_train_cor.head()"
   ]
  },
  {
   "cell_type": "code",
   "execution_count": 40,
   "id": "7e9ac4a2",
   "metadata": {
    "ExecuteTime": {
     "end_time": "2022-07-11T06:54:53.273799Z",
     "start_time": "2022-07-11T06:54:49.872914Z"
    }
   },
   "outputs": [
    {
     "name": "stdout",
     "output_type": "stream",
     "text": [
      "<class 'sklearn.neighbors._classification.KNeighborsClassifier'>\n",
      "f1_weighted(validation) =  0.8060029408536933\n",
      "f1_weighted(test):0.7655424394594214\n",
      "[[  4  53   3]\n",
      " [  1 656  47]\n",
      " [  0  99 117]]\n",
      "              precision    recall  f1-score   support\n",
      "\n",
      "           0       0.80      0.07      0.12        60\n",
      "           1       0.81      0.93      0.87       704\n",
      "           2       0.70      0.54      0.61       216\n",
      "\n",
      "    accuracy                           0.79       980\n",
      "   macro avg       0.77      0.51      0.53       980\n",
      "weighted avg       0.79      0.79      0.77       980\n",
      "\n",
      "\n",
      "<class 'sklearn.tree._classes.DecisionTreeClassifier'>\n",
      "f1_weighted(validation) =  0.7724567792237931\n",
      "f1_weighted(test):0.7344090049824221\n",
      "[[ 12  42   6]\n",
      " [ 25 592  87]\n",
      " [  2  92 122]]\n",
      "              precision    recall  f1-score   support\n",
      "\n",
      "           0       0.31      0.20      0.24        60\n",
      "           1       0.82      0.84      0.83       704\n",
      "           2       0.57      0.56      0.57       216\n",
      "\n",
      "    accuracy                           0.74       980\n",
      "   macro avg       0.56      0.54      0.55       980\n",
      "weighted avg       0.73      0.74      0.73       980\n",
      "\n",
      "\n",
      "<class 'sklearn.svm._classes.SVC'>\n",
      "f1_weighted(validation) =  0.7364210510485627\n",
      "f1_weighted(test):0.6994263477055465\n",
      "[[  0  59   1]\n",
      " [  0 675  29]\n",
      " [  0 153  63]]\n",
      "              precision    recall  f1-score   support\n",
      "\n",
      "           0       0.00      0.00      0.00        60\n",
      "           1       0.76      0.96      0.85       704\n",
      "           2       0.68      0.29      0.41       216\n",
      "\n",
      "    accuracy                           0.75       980\n",
      "   macro avg       0.48      0.42      0.42       980\n",
      "weighted avg       0.70      0.75      0.70       980\n",
      "\n",
      "\n"
     ]
    }
   ],
   "source": [
    "performance(estimators, x_train_cor, x_test_cor, y_train, y_test)"
   ]
  },
  {
   "cell_type": "code",
   "execution_count": 41,
   "id": "10dba7da",
   "metadata": {
    "ExecuteTime": {
     "end_time": "2022-07-11T06:54:53.617405Z",
     "start_time": "2022-07-11T06:54:53.274852Z"
    }
   },
   "outputs": [
    {
     "name": "stdout",
     "output_type": "stream",
     "text": [
      "Number of Features:  11\n",
      "Feature Ranking:  [1 1 1 1 1 1 1 1 1 1 1]\n",
      "Selected Features:  [ True  True  True  True  True  True  True  True  True  True  True]\n"
     ]
    }
   ],
   "source": [
    "# Case1: All features\n",
    "# Create a SVM classifier with linear kernel\n",
    "svmlinear = SVC(C = 1, kernel = 'linear')\n",
    "\n",
    "# Use RFE to rank features and return all features\n",
    "# Parameter step corresponds to the (integer) number of features to remove at each iteration \n",
    "rfe = RFE(estimator = svmlinear, n_features_to_select = 11, step = 1)\n",
    "rfe.fit(x_train_sc, y_train)\n",
    "\n",
    "# transform train input data\n",
    "x_train_rfe = rfe.transform(x_train_sc)\n",
    "\n",
    "# transform test input data\n",
    "x_test_rfe = rfe.transform(x_test_sc)\n",
    "\n",
    "print(\"Number of Features: \", rfe.n_features_)\n",
    "print(\"Feature Ranking: \", rfe.ranking_)\n",
    "print(\"Selected Features: \", rfe.support_)"
   ]
  },
  {
   "cell_type": "code",
   "execution_count": 42,
   "id": "f5333239",
   "metadata": {
    "ExecuteTime": {
     "end_time": "2022-07-11T06:54:58.507226Z",
     "start_time": "2022-07-11T06:54:53.618496Z"
    }
   },
   "outputs": [
    {
     "name": "stdout",
     "output_type": "stream",
     "text": [
      "<class 'sklearn.neighbors._classification.KNeighborsClassifier'>\n",
      "f1_weighted(validation) =  0.8292807834702943\n",
      "f1_weighted(test):0.7779318549916966\n",
      "[[  4  55   1]\n",
      " [  0 653  51]\n",
      " [  0  86 130]]\n",
      "              precision    recall  f1-score   support\n",
      "\n",
      "           0       1.00      0.07      0.12        60\n",
      "           1       0.82      0.93      0.87       704\n",
      "           2       0.71      0.60      0.65       216\n",
      "\n",
      "    accuracy                           0.80       980\n",
      "   macro avg       0.85      0.53      0.55       980\n",
      "weighted avg       0.81      0.80      0.78       980\n",
      "\n",
      "\n",
      "<class 'sklearn.tree._classes.DecisionTreeClassifier'>\n",
      "f1_weighted(validation) =  0.7851414836759589\n",
      "f1_weighted(test):0.7403588313858527\n",
      "[[ 10  47   3]\n",
      " [ 19 603  82]\n",
      " [  0  93 123]]\n",
      "              precision    recall  f1-score   support\n",
      "\n",
      "           0       0.34      0.17      0.22        60\n",
      "           1       0.81      0.86      0.83       704\n",
      "           2       0.59      0.57      0.58       216\n",
      "\n",
      "    accuracy                           0.75       980\n",
      "   macro avg       0.58      0.53      0.55       980\n",
      "weighted avg       0.73      0.75      0.74       980\n",
      "\n",
      "\n",
      "<class 'sklearn.svm._classes.SVC'>\n",
      "f1_weighted(validation) =  0.7919818954975618\n",
      "f1_weighted(test):0.7469330871547311\n",
      "[[  2  58   0]\n",
      " [  0 672  32]\n",
      " [  0 121  95]]\n",
      "              precision    recall  f1-score   support\n",
      "\n",
      "           0       1.00      0.03      0.06        60\n",
      "           1       0.79      0.95      0.86       704\n",
      "           2       0.75      0.44      0.55       216\n",
      "\n",
      "    accuracy                           0.78       980\n",
      "   macro avg       0.85      0.48      0.49       980\n",
      "weighted avg       0.79      0.78      0.75       980\n",
      "\n",
      "\n"
     ]
    }
   ],
   "source": [
    "performance(estimators, x_train_rfe, x_test_rfe, y_train, y_test)"
   ]
  },
  {
   "cell_type": "code",
   "execution_count": 43,
   "id": "2fe57aa8",
   "metadata": {
    "ExecuteTime": {
     "end_time": "2022-07-11T06:54:59.176058Z",
     "start_time": "2022-07-11T06:54:58.508344Z"
    }
   },
   "outputs": [
    {
     "name": "stdout",
     "output_type": "stream",
     "text": [
      "Number of Features:  10\n",
      "Feature Ranking:  [1 1 2 1 1 1 1 1 1 1 1]\n",
      "Selected Features:  [ True  True False  True  True  True  True  True  True  True  True]\n"
     ]
    }
   ],
   "source": [
    "# Case2: 10 features\n",
    "\n",
    "# Use RFE to rank features and return top 10 features\n",
    "# Parameter step corresponds to the (integer) number of features to remove at each iteration \n",
    "rfe = RFE(estimator = svmlinear, n_features_to_select = 10, step = 1)\n",
    "rfe.fit(x_train_sc, y_train)\n",
    "\n",
    "# transform train input data\n",
    "x_train_rfe = rfe.transform(x_train_sc)\n",
    "\n",
    "# transform test input data\n",
    "x_test_rfe = rfe.transform(x_test_sc)\n",
    "\n",
    "print(\"Number of Features: \", rfe.n_features_)\n",
    "print(\"Feature Ranking: \", rfe.ranking_)\n",
    "print(\"Selected Features: \", rfe.support_)"
   ]
  },
  {
   "cell_type": "code",
   "execution_count": 44,
   "id": "0d1abad6",
   "metadata": {
    "ExecuteTime": {
     "end_time": "2022-07-11T06:55:03.564540Z",
     "start_time": "2022-07-11T06:54:59.176953Z"
    }
   },
   "outputs": [
    {
     "name": "stdout",
     "output_type": "stream",
     "text": [
      "<class 'sklearn.neighbors._classification.KNeighborsClassifier'>\n",
      "f1_weighted(validation) =  0.8224830525860206\n",
      "f1_weighted(test):0.790525234794192\n",
      "[[  4  55   1]\n",
      " [  0 663  41]\n",
      " [  0  83 133]]\n",
      "              precision    recall  f1-score   support\n",
      "\n",
      "           0       1.00      0.07      0.12        60\n",
      "           1       0.83      0.94      0.88       704\n",
      "           2       0.76      0.62      0.68       216\n",
      "\n",
      "    accuracy                           0.82       980\n",
      "   macro avg       0.86      0.54      0.56       980\n",
      "weighted avg       0.82      0.82      0.79       980\n",
      "\n",
      "\n",
      "<class 'sklearn.tree._classes.DecisionTreeClassifier'>\n",
      "f1_weighted(validation) =  0.7886248385093247\n",
      "f1_weighted(test):0.7296124650564407\n",
      "[[  8  49   3]\n",
      " [ 18 601  85]\n",
      " [  1  97 118]]\n",
      "              precision    recall  f1-score   support\n",
      "\n",
      "           0       0.30      0.13      0.18        60\n",
      "           1       0.80      0.85      0.83       704\n",
      "           2       0.57      0.55      0.56       216\n",
      "\n",
      "    accuracy                           0.74       980\n",
      "   macro avg       0.56      0.51      0.52       980\n",
      "weighted avg       0.72      0.74      0.73       980\n",
      "\n",
      "\n",
      "<class 'sklearn.svm._classes.SVC'>\n",
      "f1_weighted(validation) =  0.7891181051462888\n",
      "f1_weighted(test):0.7409891100821429\n",
      "[[  1  59   0]\n",
      " [  0 674  30]\n",
      " [  0 125  91]]\n",
      "              precision    recall  f1-score   support\n",
      "\n",
      "           0       1.00      0.02      0.03        60\n",
      "           1       0.79      0.96      0.86       704\n",
      "           2       0.75      0.42      0.54       216\n",
      "\n",
      "    accuracy                           0.78       980\n",
      "   macro avg       0.85      0.47      0.48       980\n",
      "weighted avg       0.79      0.78      0.74       980\n",
      "\n",
      "\n"
     ]
    }
   ],
   "source": [
    "performance(estimators, x_train_rfe, x_test_rfe, y_train, y_test)"
   ]
  },
  {
   "cell_type": "code",
   "execution_count": 45,
   "id": "1ff8ecf1",
   "metadata": {
    "ExecuteTime": {
     "end_time": "2022-07-11T06:55:04.545803Z",
     "start_time": "2022-07-11T06:55:03.565586Z"
    }
   },
   "outputs": [
    {
     "name": "stdout",
     "output_type": "stream",
     "text": [
      "Number of Features:  9\n",
      "Feature Ranking:  [1 1 3 1 1 1 2 1 1 1 1]\n",
      "Selected Features:  [ True  True False  True  True  True False  True  True  True  True]\n"
     ]
    }
   ],
   "source": [
    "# Case3: 9 features\n",
    "\n",
    "# Use RFE to rank features and return top 9 features\n",
    "# Parameter step corresponds to the (integer) number of features to remove at each iteration \n",
    "rfe = RFE(estimator = svmlinear, n_features_to_select = 9, step = 1)\n",
    "rfe.fit(x_train_sc, y_train)\n",
    "\n",
    "# transform train input data\n",
    "x_train_rfe = rfe.transform(x_train_sc)\n",
    "\n",
    "# transform test input data\n",
    "x_test_rfe = rfe.transform(x_test_sc)\n",
    "\n",
    "print(\"Number of Features: \", rfe.n_features_)\n",
    "print(\"Feature Ranking: \", rfe.ranking_)\n",
    "print(\"Selected Features: \", rfe.support_)"
   ]
  },
  {
   "cell_type": "code",
   "execution_count": 46,
   "id": "c2666480",
   "metadata": {
    "ExecuteTime": {
     "end_time": "2022-07-11T06:55:08.668752Z",
     "start_time": "2022-07-11T06:55:04.546777Z"
    }
   },
   "outputs": [
    {
     "name": "stdout",
     "output_type": "stream",
     "text": [
      "<class 'sklearn.neighbors._classification.KNeighborsClassifier'>\n",
      "f1_weighted(validation) =  0.8190205273894016\n",
      "f1_weighted(test):0.7953725582223372\n",
      "[[  4  55   1]\n",
      " [  0 667  37]\n",
      " [  0  82 134]]\n",
      "              precision    recall  f1-score   support\n",
      "\n",
      "           0       1.00      0.07      0.12        60\n",
      "           1       0.83      0.95      0.88       704\n",
      "           2       0.78      0.62      0.69       216\n",
      "\n",
      "    accuracy                           0.82       980\n",
      "   macro avg       0.87      0.54      0.57       980\n",
      "weighted avg       0.83      0.82      0.80       980\n",
      "\n",
      "\n",
      "<class 'sklearn.tree._classes.DecisionTreeClassifier'>\n",
      "f1_weighted(validation) =  0.7855101713868243\n",
      "f1_weighted(test):0.7514684765028644\n",
      "[[ 12  47   1]\n",
      " [ 18 611  75]\n",
      " [  0  92 124]]\n",
      "              precision    recall  f1-score   support\n",
      "\n",
      "           0       0.40      0.20      0.27        60\n",
      "           1       0.81      0.87      0.84       704\n",
      "           2       0.62      0.57      0.60       216\n",
      "\n",
      "    accuracy                           0.76       980\n",
      "   macro avg       0.61      0.55      0.57       980\n",
      "weighted avg       0.75      0.76      0.75       980\n",
      "\n",
      "\n",
      "<class 'sklearn.svm._classes.SVC'>\n",
      "f1_weighted(validation) =  0.7851224364836028\n",
      "f1_weighted(test):0.7353835836117236\n",
      "[[  1  59   0]\n",
      " [  0 677  27]\n",
      " [  0 131  85]]\n",
      "              precision    recall  f1-score   support\n",
      "\n",
      "           0       1.00      0.02      0.03        60\n",
      "           1       0.78      0.96      0.86       704\n",
      "           2       0.76      0.39      0.52       216\n",
      "\n",
      "    accuracy                           0.78       980\n",
      "   macro avg       0.85      0.46      0.47       980\n",
      "weighted avg       0.79      0.78      0.74       980\n",
      "\n",
      "\n"
     ]
    }
   ],
   "source": [
    "performance(estimators, x_train_rfe, x_test_rfe, y_train, y_test)"
   ]
  },
  {
   "cell_type": "code",
   "execution_count": 47,
   "id": "a83d9b7d",
   "metadata": {
    "ExecuteTime": {
     "end_time": "2022-07-11T06:55:09.958661Z",
     "start_time": "2022-07-11T06:55:08.669930Z"
    }
   },
   "outputs": [
    {
     "name": "stdout",
     "output_type": "stream",
     "text": [
      "Number of Features:  8\n",
      "Feature Ranking:  [1 1 4 1 2 1 3 1 1 1 1]\n",
      "Selected Features:  [ True  True False  True False  True False  True  True  True  True]\n"
     ]
    }
   ],
   "source": [
    "# Case4: 8 features\n",
    "\n",
    "# Use RFE to rank features and return top 8 features\n",
    "# Parameter step corresponds to the (integer) number of features to remove at each iteration \n",
    "rfe = RFE(estimator = svmlinear, n_features_to_select = 8, step = 1)\n",
    "rfe.fit(x_train_sc, y_train)\n",
    "\n",
    "# transform train input data\n",
    "x_train_rfe = rfe.transform(x_train_sc)\n",
    "\n",
    "# transform test input data\n",
    "x_test_rfe = rfe.transform(x_test_sc)\n",
    "\n",
    "print(\"Number of Features: \", rfe.n_features_)\n",
    "print(\"Feature Ranking: \", rfe.ranking_)\n",
    "print(\"Selected Features: \", rfe.support_)"
   ]
  },
  {
   "cell_type": "code",
   "execution_count": 48,
   "id": "b66596bf",
   "metadata": {
    "ExecuteTime": {
     "end_time": "2022-07-11T06:55:13.819556Z",
     "start_time": "2022-07-11T06:55:09.959619Z"
    }
   },
   "outputs": [
    {
     "name": "stdout",
     "output_type": "stream",
     "text": [
      "<class 'sklearn.neighbors._classification.KNeighborsClassifier'>\n",
      "f1_weighted(validation) =  0.8156486214602573\n",
      "f1_weighted(test):0.7826395008740352\n",
      "[[  4  55   1]\n",
      " [  0 666  38]\n",
      " [  0  92 124]]\n",
      "              precision    recall  f1-score   support\n",
      "\n",
      "           0       1.00      0.07      0.12        60\n",
      "           1       0.82      0.95      0.88       704\n",
      "           2       0.76      0.57      0.65       216\n",
      "\n",
      "    accuracy                           0.81       980\n",
      "   macro avg       0.86      0.53      0.55       980\n",
      "weighted avg       0.82      0.81      0.78       980\n",
      "\n",
      "\n",
      "<class 'sklearn.tree._classes.DecisionTreeClassifier'>\n",
      "f1_weighted(validation) =  0.7878137485348452\n",
      "f1_weighted(test):0.7664735313141348\n",
      "[[ 16  43   1]\n",
      " [ 17 621  66]\n",
      " [  0  92 124]]\n",
      "              precision    recall  f1-score   support\n",
      "\n",
      "           0       0.48      0.27      0.34        60\n",
      "           1       0.82      0.88      0.85       704\n",
      "           2       0.65      0.57      0.61       216\n",
      "\n",
      "    accuracy                           0.78       980\n",
      "   macro avg       0.65      0.57      0.60       980\n",
      "weighted avg       0.76      0.78      0.77       980\n",
      "\n",
      "\n",
      "<class 'sklearn.svm._classes.SVC'>\n",
      "f1_weighted(validation) =  0.775015978058842\n",
      "f1_weighted(test):0.7252337937516928\n",
      "[[  1  59   0]\n",
      " [  0 675  29]\n",
      " [  0 137  79]]\n",
      "              precision    recall  f1-score   support\n",
      "\n",
      "           0       1.00      0.02      0.03        60\n",
      "           1       0.77      0.96      0.86       704\n",
      "           2       0.73      0.37      0.49       216\n",
      "\n",
      "    accuracy                           0.77       980\n",
      "   macro avg       0.84      0.45      0.46       980\n",
      "weighted avg       0.78      0.77      0.73       980\n",
      "\n",
      "\n"
     ]
    }
   ],
   "source": [
    "performance(estimators, x_train_rfe, x_test_rfe, y_train, y_test)"
   ]
  },
  {
   "cell_type": "code",
   "execution_count": 49,
   "id": "e4476298",
   "metadata": {
    "ExecuteTime": {
     "end_time": "2022-07-11T06:55:15.392151Z",
     "start_time": "2022-07-11T06:55:13.820406Z"
    }
   },
   "outputs": [
    {
     "name": "stdout",
     "output_type": "stream",
     "text": [
      "Number of Features:  7\n",
      "Feature Ranking:  [1 1 5 1 3 1 4 1 1 1 2]\n",
      "Selected Features:  [ True  True False  True False  True False  True  True  True False]\n"
     ]
    }
   ],
   "source": [
    "# Case5: 7 features\n",
    "\n",
    "# Use RFE to rank features and return top 7 features\n",
    "# Parameter step corresponds to the (integer) number of features to remove at each iteration \n",
    "rfe = RFE(estimator = svmlinear, n_features_to_select = 7, step = 1)\n",
    "rfe.fit(x_train_sc, y_train)\n",
    "\n",
    "# transform train input data\n",
    "x_train_rfe = rfe.transform(x_train_sc)\n",
    "\n",
    "# transform test input data\n",
    "x_test_rfe = rfe.transform(x_test_sc)\n",
    "\n",
    "print(\"Number of Features: \", rfe.n_features_)\n",
    "print(\"Feature Ranking: \", rfe.ranking_)\n",
    "print(\"Selected Features: \", rfe.support_)"
   ]
  },
  {
   "cell_type": "code",
   "execution_count": 50,
   "id": "c3983de4",
   "metadata": {
    "ExecuteTime": {
     "end_time": "2022-07-11T06:55:19.061847Z",
     "start_time": "2022-07-11T06:55:15.393141Z"
    }
   },
   "outputs": [
    {
     "name": "stdout",
     "output_type": "stream",
     "text": [
      "<class 'sklearn.neighbors._classification.KNeighborsClassifier'>\n",
      "f1_weighted(validation) =  0.8135532665030439\n",
      "f1_weighted(test):0.7778184890324907\n",
      "[[  4  54   2]\n",
      " [  0 670  34]\n",
      " [  0  99 117]]\n",
      "              precision    recall  f1-score   support\n",
      "\n",
      "           0       1.00      0.07      0.12        60\n",
      "           1       0.81      0.95      0.88       704\n",
      "           2       0.76      0.54      0.63       216\n",
      "\n",
      "    accuracy                           0.81       980\n",
      "   macro avg       0.86      0.52      0.55       980\n",
      "weighted avg       0.81      0.81      0.78       980\n",
      "\n",
      "\n",
      "<class 'sklearn.tree._classes.DecisionTreeClassifier'>\n",
      "f1_weighted(validation) =  0.7828332051831768\n",
      "f1_weighted(test):0.75290301093138\n",
      "[[ 15  42   3]\n",
      " [ 16 597  91]\n",
      " [  0  84 132]]\n",
      "              precision    recall  f1-score   support\n",
      "\n",
      "           0       0.48      0.25      0.33        60\n",
      "           1       0.83      0.85      0.84       704\n",
      "           2       0.58      0.61      0.60       216\n",
      "\n",
      "    accuracy                           0.76       980\n",
      "   macro avg       0.63      0.57      0.59       980\n",
      "weighted avg       0.75      0.76      0.75       980\n",
      "\n",
      "\n",
      "<class 'sklearn.svm._classes.SVC'>\n",
      "f1_weighted(validation) =  0.7669842778292313\n",
      "f1_weighted(test):0.7214372275061469\n",
      "[[  1  59   0]\n",
      " [  0 679  25]\n",
      " [  0 142  74]]\n",
      "              precision    recall  f1-score   support\n",
      "\n",
      "           0       1.00      0.02      0.03        60\n",
      "           1       0.77      0.96      0.86       704\n",
      "           2       0.75      0.34      0.47       216\n",
      "\n",
      "    accuracy                           0.77       980\n",
      "   macro avg       0.84      0.44      0.45       980\n",
      "weighted avg       0.78      0.77      0.72       980\n",
      "\n",
      "\n"
     ]
    }
   ],
   "source": [
    "performance(estimators, x_train_rfe, x_test_rfe, y_train, y_test)"
   ]
  },
  {
   "cell_type": "code",
   "execution_count": 51,
   "id": "96d74982",
   "metadata": {
    "ExecuteTime": {
     "end_time": "2022-07-11T06:55:20.890990Z",
     "start_time": "2022-07-11T06:55:19.062767Z"
    }
   },
   "outputs": [
    {
     "name": "stdout",
     "output_type": "stream",
     "text": [
      "Number of Features:  6\n",
      "Feature Ranking:  [1 1 6 1 4 1 5 1 1 2 3]\n",
      "Selected Features:  [ True  True False  True False  True False  True  True False False]\n"
     ]
    }
   ],
   "source": [
    "# Case6: 6 features\n",
    "\n",
    "# Use RFE to rank features and return top 6 features\n",
    "# Parameter step corresponds to the (integer) number of features to remove at each iteration \n",
    "rfe = RFE(estimator = svmlinear, n_features_to_select = 6, step = 1)\n",
    "rfe.fit(x_train_sc, y_train)\n",
    "\n",
    "# transform train input data\n",
    "x_train_rfe = rfe.transform(x_train_sc)\n",
    "\n",
    "# transform test input data\n",
    "x_test_rfe = rfe.transform(x_test_sc)\n",
    "\n",
    "print(\"Number of Features: \", rfe.n_features_)\n",
    "print(\"Feature Ranking: \", rfe.ranking_)\n",
    "print(\"Selected Features: \", rfe.support_)"
   ]
  },
  {
   "cell_type": "code",
   "execution_count": 52,
   "id": "24791c47",
   "metadata": {
    "ExecuteTime": {
     "end_time": "2022-07-11T06:55:24.220719Z",
     "start_time": "2022-07-11T06:55:20.891972Z"
    }
   },
   "outputs": [
    {
     "name": "stdout",
     "output_type": "stream",
     "text": [
      "<class 'sklearn.neighbors._classification.KNeighborsClassifier'>\n",
      "f1_weighted(validation) =  0.8070751460658631\n",
      "f1_weighted(test):0.7820261433924901\n",
      "[[  4  56   0]\n",
      " [  0 668  36]\n",
      " [  0  94 122]]\n",
      "              precision    recall  f1-score   support\n",
      "\n",
      "           0       1.00      0.07      0.12        60\n",
      "           1       0.82      0.95      0.88       704\n",
      "           2       0.77      0.56      0.65       216\n",
      "\n",
      "    accuracy                           0.81       980\n",
      "   macro avg       0.86      0.53      0.55       980\n",
      "weighted avg       0.82      0.81      0.78       980\n",
      "\n",
      "\n",
      "<class 'sklearn.tree._classes.DecisionTreeClassifier'>\n",
      "f1_weighted(validation) =  0.7763073599318361\n",
      "f1_weighted(test):0.7543867298986233\n",
      "[[ 15  41   4]\n",
      " [ 21 593  90]\n",
      " [  0  80 136]]\n",
      "              precision    recall  f1-score   support\n",
      "\n",
      "           0       0.42      0.25      0.31        60\n",
      "           1       0.83      0.84      0.84       704\n",
      "           2       0.59      0.63      0.61       216\n",
      "\n",
      "    accuracy                           0.76       980\n",
      "   macro avg       0.61      0.57      0.59       980\n",
      "weighted avg       0.75      0.76      0.75       980\n",
      "\n",
      "\n",
      "<class 'sklearn.svm._classes.SVC'>\n",
      "f1_weighted(validation) =  0.7525936252281155\n",
      "f1_weighted(test):0.7159597732929696\n",
      "[[  0  59   1]\n",
      " [  0 677  27]\n",
      " [  0 143  73]]\n",
      "              precision    recall  f1-score   support\n",
      "\n",
      "           0       0.00      0.00      0.00        60\n",
      "           1       0.77      0.96      0.86       704\n",
      "           2       0.72      0.34      0.46       216\n",
      "\n",
      "    accuracy                           0.77       980\n",
      "   macro avg       0.50      0.43      0.44       980\n",
      "weighted avg       0.71      0.77      0.72       980\n",
      "\n",
      "\n"
     ]
    }
   ],
   "source": [
    "performance(estimators, x_train_rfe, x_test_rfe, y_train, y_test)"
   ]
  },
  {
   "cell_type": "code",
   "execution_count": 53,
   "id": "a369418b",
   "metadata": {
    "ExecuteTime": {
     "end_time": "2022-07-11T06:55:26.319088Z",
     "start_time": "2022-07-11T06:55:24.221745Z"
    }
   },
   "outputs": [
    {
     "name": "stdout",
     "output_type": "stream",
     "text": [
      "Number of Features:  5\n",
      "Feature Ranking:  [1 1 7 1 5 2 6 1 1 3 4]\n",
      "Selected Features:  [ True  True False  True False False False  True  True False False]\n"
     ]
    }
   ],
   "source": [
    "# Case7: 5 features\n",
    "\n",
    "# Use RFE to rank features and return top 5 features\n",
    "# Parameter step corresponds to the (integer) number of features to remove at each iteration \n",
    "rfe = RFE(estimator = svmlinear, n_features_to_select = 5, step = 1)\n",
    "rfe.fit(x_train_sc, y_train)\n",
    "\n",
    "# transform train input data\n",
    "x_train_rfe = rfe.transform(x_train_sc)\n",
    "\n",
    "# transform test input data\n",
    "x_test_rfe = rfe.transform(x_test_sc)\n",
    "\n",
    "print(\"Number of Features: \", rfe.n_features_)\n",
    "print(\"Feature Ranking: \", rfe.ranking_)\n",
    "print(\"Selected Features: \", rfe.support_)"
   ]
  },
  {
   "cell_type": "code",
   "execution_count": 54,
   "id": "a22f0270",
   "metadata": {
    "ExecuteTime": {
     "end_time": "2022-07-11T06:55:29.667357Z",
     "start_time": "2022-07-11T06:55:26.320075Z"
    }
   },
   "outputs": [
    {
     "name": "stdout",
     "output_type": "stream",
     "text": [
      "<class 'sklearn.neighbors._classification.KNeighborsClassifier'>\n",
      "f1_weighted(validation) =  0.8042294772418351\n",
      "f1_weighted(test):0.7803327244254769\n",
      "[[  4  52   4]\n",
      " [  0 662  42]\n",
      " [  0  91 125]]\n",
      "              precision    recall  f1-score   support\n",
      "\n",
      "           0       1.00      0.07      0.12        60\n",
      "           1       0.82      0.94      0.88       704\n",
      "           2       0.73      0.58      0.65       216\n",
      "\n",
      "    accuracy                           0.81       980\n",
      "   macro avg       0.85      0.53      0.55       980\n",
      "weighted avg       0.81      0.81      0.78       980\n",
      "\n",
      "\n",
      "<class 'sklearn.tree._classes.DecisionTreeClassifier'>\n",
      "f1_weighted(validation) =  0.7740786136804587\n",
      "f1_weighted(test):0.7487917965215644\n",
      "[[  9  47   4]\n",
      " [ 16 612  76]\n",
      " [  5  87 124]]\n",
      "              precision    recall  f1-score   support\n",
      "\n",
      "           0       0.30      0.15      0.20        60\n",
      "           1       0.82      0.87      0.84       704\n",
      "           2       0.61      0.57      0.59       216\n",
      "\n",
      "    accuracy                           0.76       980\n",
      "   macro avg       0.58      0.53      0.54       980\n",
      "weighted avg       0.74      0.76      0.75       980\n",
      "\n",
      "\n",
      "<class 'sklearn.svm._classes.SVC'>\n",
      "f1_weighted(validation) =  0.7403276402958507\n",
      "f1_weighted(test):0.7045683015991843\n",
      "[[  0  56   4]\n",
      " [  0 681  23]\n",
      " [  0 153  63]]\n",
      "              precision    recall  f1-score   support\n",
      "\n",
      "           0       0.00      0.00      0.00        60\n",
      "           1       0.77      0.97      0.85       704\n",
      "           2       0.70      0.29      0.41       216\n",
      "\n",
      "    accuracy                           0.76       980\n",
      "   macro avg       0.49      0.42      0.42       980\n",
      "weighted avg       0.70      0.76      0.70       980\n",
      "\n",
      "\n"
     ]
    }
   ],
   "source": [
    "performance(estimators, x_train_rfe, x_test_rfe, y_train, y_test)"
   ]
  },
  {
   "cell_type": "code",
   "execution_count": 55,
   "id": "717793e0",
   "metadata": {
    "ExecuteTime": {
     "end_time": "2022-07-11T06:55:29.699677Z",
     "start_time": "2022-07-11T06:55:29.671224Z"
    }
   },
   "outputs": [
    {
     "name": "stdout",
     "output_type": "stream",
     "text": [
      "Number of Features:  11\n",
      "Feature Ranking:  [1 1 1 1 1 1 1 1 1 1 1]\n",
      "Selected Features:  [ True  True  True  True  True  True  True  True  True  True  True]\n"
     ]
    }
   ],
   "source": [
    "# Case1: All features\n",
    "# Create a Decision Tree classifier\n",
    "dtree = DecisionTreeClassifier(criterion='entropy', random_state = 0)\n",
    "\n",
    "# Use RFE to rank features and return all features\n",
    "# Parameter step corresponds to the (integer) number of features to remove at each iteration \n",
    "rfe = RFE(estimator = dtree, n_features_to_select = 11, step = 1)\n",
    "rfe.fit(x_train_sc, y_train)\n",
    "\n",
    "# transform train input data\n",
    "x_train_rfe = rfe.transform(x_train_sc)\n",
    "\n",
    "# transform test input data\n",
    "x_test_rfe = rfe.transform(x_test_sc)\n",
    "\n",
    "print(\"Number of Features: \", rfe.n_features_)\n",
    "print(\"Feature Ranking: \", rfe.ranking_)\n",
    "print(\"Selected Features: \", rfe.support_)"
   ]
  },
  {
   "cell_type": "code",
   "execution_count": 56,
   "id": "e2b3ded3",
   "metadata": {
    "ExecuteTime": {
     "end_time": "2022-07-11T06:55:34.560205Z",
     "start_time": "2022-07-11T06:55:29.700685Z"
    }
   },
   "outputs": [
    {
     "name": "stdout",
     "output_type": "stream",
     "text": [
      "<class 'sklearn.neighbors._classification.KNeighborsClassifier'>\n",
      "f1_weighted(validation) =  0.8292807834702943\n",
      "f1_weighted(test):0.7779318549916966\n",
      "[[  4  55   1]\n",
      " [  0 653  51]\n",
      " [  0  86 130]]\n",
      "              precision    recall  f1-score   support\n",
      "\n",
      "           0       1.00      0.07      0.12        60\n",
      "           1       0.82      0.93      0.87       704\n",
      "           2       0.71      0.60      0.65       216\n",
      "\n",
      "    accuracy                           0.80       980\n",
      "   macro avg       0.85      0.53      0.55       980\n",
      "weighted avg       0.81      0.80      0.78       980\n",
      "\n",
      "\n",
      "<class 'sklearn.tree._classes.DecisionTreeClassifier'>\n",
      "f1_weighted(validation) =  0.7851414836759589\n",
      "f1_weighted(test):0.7403588313858527\n",
      "[[ 10  47   3]\n",
      " [ 19 603  82]\n",
      " [  0  93 123]]\n",
      "              precision    recall  f1-score   support\n",
      "\n",
      "           0       0.34      0.17      0.22        60\n",
      "           1       0.81      0.86      0.83       704\n",
      "           2       0.59      0.57      0.58       216\n",
      "\n",
      "    accuracy                           0.75       980\n",
      "   macro avg       0.58      0.53      0.55       980\n",
      "weighted avg       0.73      0.75      0.74       980\n",
      "\n",
      "\n",
      "<class 'sklearn.svm._classes.SVC'>\n",
      "f1_weighted(validation) =  0.7919818954975618\n",
      "f1_weighted(test):0.7469330871547311\n",
      "[[  2  58   0]\n",
      " [  0 672  32]\n",
      " [  0 121  95]]\n",
      "              precision    recall  f1-score   support\n",
      "\n",
      "           0       1.00      0.03      0.06        60\n",
      "           1       0.79      0.95      0.86       704\n",
      "           2       0.75      0.44      0.55       216\n",
      "\n",
      "    accuracy                           0.78       980\n",
      "   macro avg       0.85      0.48      0.49       980\n",
      "weighted avg       0.79      0.78      0.75       980\n",
      "\n",
      "\n"
     ]
    }
   ],
   "source": [
    "performance(estimators, x_train_rfe, x_test_rfe, y_train, y_test)"
   ]
  },
  {
   "cell_type": "code",
   "execution_count": 57,
   "id": "c2d135a7",
   "metadata": {
    "ExecuteTime": {
     "end_time": "2022-07-11T06:55:34.609262Z",
     "start_time": "2022-07-11T06:55:34.561169Z"
    }
   },
   "outputs": [
    {
     "name": "stdout",
     "output_type": "stream",
     "text": [
      "Number of Features:  10\n",
      "Feature Ranking:  [2 1 1 1 1 1 1 1 1 1 1]\n",
      "Selected Features:  [False  True  True  True  True  True  True  True  True  True  True]\n"
     ]
    }
   ],
   "source": [
    "# Case2: 10 features\n",
    "\n",
    "# Use RFE to rank features and return top 10 features\n",
    "# Parameter step corresponds to the (integer) number of features to remove at each iteration \n",
    "rfe = RFE(estimator = dtree, n_features_to_select = 10, step = 1)\n",
    "rfe.fit(x_train_sc, y_train)\n",
    "\n",
    "# transform train input data\n",
    "x_train_rfe = rfe.transform(x_train_sc)\n",
    "\n",
    "# transform test input data\n",
    "x_test_rfe = rfe.transform(x_test_sc)\n",
    "\n",
    "print(\"Number of Features: \", rfe.n_features_)\n",
    "print(\"Feature Ranking: \", rfe.ranking_)\n",
    "print(\"Selected Features: \", rfe.support_)"
   ]
  },
  {
   "cell_type": "code",
   "execution_count": 58,
   "id": "e9c0ff30",
   "metadata": {
    "ExecuteTime": {
     "end_time": "2022-07-11T06:55:39.016673Z",
     "start_time": "2022-07-11T06:55:34.610245Z"
    }
   },
   "outputs": [
    {
     "name": "stdout",
     "output_type": "stream",
     "text": [
      "<class 'sklearn.neighbors._classification.KNeighborsClassifier'>\n",
      "f1_weighted(validation) =  0.82517591927295\n",
      "f1_weighted(test):0.7801517381146006\n",
      "[[  4  54   2]\n",
      " [  0 649  55]\n",
      " [  0  81 135]]\n",
      "              precision    recall  f1-score   support\n",
      "\n",
      "           0       1.00      0.07      0.12        60\n",
      "           1       0.83      0.92      0.87       704\n",
      "           2       0.70      0.62      0.66       216\n",
      "\n",
      "    accuracy                           0.80       980\n",
      "   macro avg       0.84      0.54      0.55       980\n",
      "weighted avg       0.81      0.80      0.78       980\n",
      "\n",
      "\n",
      "<class 'sklearn.tree._classes.DecisionTreeClassifier'>\n",
      "f1_weighted(validation) =  0.7817091077893648\n",
      "f1_weighted(test):0.7572868173230769\n",
      "[[ 12  44   4]\n",
      " [ 14 610  80]\n",
      " [  0  86 130]]\n",
      "              precision    recall  f1-score   support\n",
      "\n",
      "           0       0.46      0.20      0.28        60\n",
      "           1       0.82      0.87      0.84       704\n",
      "           2       0.61      0.60      0.60       216\n",
      "\n",
      "    accuracy                           0.77       980\n",
      "   macro avg       0.63      0.56      0.58       980\n",
      "weighted avg       0.75      0.77      0.76       980\n",
      "\n",
      "\n",
      "<class 'sklearn.svm._classes.SVC'>\n",
      "f1_weighted(validation) =  0.788278160909908\n",
      "f1_weighted(test):0.7328720169158083\n",
      "[[  2  58   0]\n",
      " [  0 673  31]\n",
      " [  0 132  84]]\n",
      "              precision    recall  f1-score   support\n",
      "\n",
      "           0       1.00      0.03      0.06        60\n",
      "           1       0.78      0.96      0.86       704\n",
      "           2       0.73      0.39      0.51       216\n",
      "\n",
      "    accuracy                           0.77       980\n",
      "   macro avg       0.84      0.46      0.48       980\n",
      "weighted avg       0.78      0.77      0.73       980\n",
      "\n",
      "\n"
     ]
    }
   ],
   "source": [
    "performance(estimators, x_train_rfe, x_test_rfe, y_train, y_test)"
   ]
  },
  {
   "cell_type": "code",
   "execution_count": 59,
   "id": "249b5cee",
   "metadata": {
    "ExecuteTime": {
     "end_time": "2022-07-11T06:55:39.084796Z",
     "start_time": "2022-07-11T06:55:39.017648Z"
    }
   },
   "outputs": [
    {
     "name": "stdout",
     "output_type": "stream",
     "text": [
      "Number of Features:  9\n",
      "Feature Ranking:  [3 1 2 1 1 1 1 1 1 1 1]\n",
      "Selected Features:  [False  True False  True  True  True  True  True  True  True  True]\n"
     ]
    }
   ],
   "source": [
    "# Case3: 9 features\n",
    "\n",
    "# Use RFE to rank features and return top 9 features\n",
    "# Parameter step corresponds to the (integer) number of features to remove at each iteration \n",
    "rfe = RFE(estimator = dtree, n_features_to_select = 9, step = 1)\n",
    "rfe.fit(x_train_sc, y_train)\n",
    "\n",
    "# transform train input data\n",
    "x_train_rfe = rfe.transform(x_train_sc)\n",
    "\n",
    "# transform test input data\n",
    "x_test_rfe = rfe.transform(x_test_sc)\n",
    "\n",
    "print(\"Number of Features: \", rfe.n_features_)\n",
    "print(\"Feature Ranking: \", rfe.ranking_)\n",
    "print(\"Selected Features: \", rfe.support_)"
   ]
  },
  {
   "cell_type": "code",
   "execution_count": 60,
   "id": "08840f3a",
   "metadata": {
    "ExecuteTime": {
     "end_time": "2022-07-11T06:55:43.189806Z",
     "start_time": "2022-07-11T06:55:39.085836Z"
    }
   },
   "outputs": [
    {
     "name": "stdout",
     "output_type": "stream",
     "text": [
      "<class 'sklearn.neighbors._classification.KNeighborsClassifier'>\n",
      "f1_weighted(validation) =  0.8226807596313307\n",
      "f1_weighted(test):0.7891059590452714\n",
      "[[  4  55   1]\n",
      " [  0 664  40]\n",
      " [  0  85 131]]\n",
      "              precision    recall  f1-score   support\n",
      "\n",
      "           0       1.00      0.07      0.12        60\n",
      "           1       0.83      0.94      0.88       704\n",
      "           2       0.76      0.61      0.68       216\n",
      "\n",
      "    accuracy                           0.82       980\n",
      "   macro avg       0.86      0.54      0.56       980\n",
      "weighted avg       0.82      0.82      0.79       980\n",
      "\n",
      "\n",
      "<class 'sklearn.tree._classes.DecisionTreeClassifier'>\n",
      "f1_weighted(validation) =  0.7883668276424636\n",
      "f1_weighted(test):0.7470784892637458\n",
      "[[ 10  47   3]\n",
      " [ 18 604  82]\n",
      " [  1  87 128]]\n",
      "              precision    recall  f1-score   support\n",
      "\n",
      "           0       0.34      0.17      0.22        60\n",
      "           1       0.82      0.86      0.84       704\n",
      "           2       0.60      0.59      0.60       216\n",
      "\n",
      "    accuracy                           0.76       980\n",
      "   macro avg       0.59      0.54      0.55       980\n",
      "weighted avg       0.74      0.76      0.75       980\n",
      "\n",
      "\n",
      "<class 'sklearn.svm._classes.SVC'>\n",
      "f1_weighted(validation) =  0.7833950283786357\n",
      "f1_weighted(test):0.7177059520877523\n",
      "[[  0  60   0]\n",
      " [  0 674  30]\n",
      " [  0 140  76]]\n",
      "              precision    recall  f1-score   support\n",
      "\n",
      "           0       0.00      0.00      0.00        60\n",
      "           1       0.77      0.96      0.85       704\n",
      "           2       0.72      0.35      0.47       216\n",
      "\n",
      "    accuracy                           0.77       980\n",
      "   macro avg       0.50      0.44      0.44       980\n",
      "weighted avg       0.71      0.77      0.72       980\n",
      "\n",
      "\n"
     ]
    }
   ],
   "source": [
    "performance(estimators, x_train_rfe, x_test_rfe, y_train, y_test)"
   ]
  },
  {
   "cell_type": "code",
   "execution_count": 61,
   "id": "1cb3f7c4",
   "metadata": {
    "ExecuteTime": {
     "end_time": "2022-07-11T06:55:43.274110Z",
     "start_time": "2022-07-11T06:55:43.190841Z"
    }
   },
   "outputs": [
    {
     "name": "stdout",
     "output_type": "stream",
     "text": [
      "Number of Features:  8\n",
      "Feature Ranking:  [4 1 3 1 2 1 1 1 1 1 1]\n",
      "Selected Features:  [False  True False  True False  True  True  True  True  True  True]\n"
     ]
    }
   ],
   "source": [
    "# Case4: 8 features\n",
    "\n",
    "# Use RFE to rank features and return top 8 features\n",
    "# Parameter step corresponds to the (integer) number of features to remove at each iteration \n",
    "rfe = RFE(estimator = dtree, n_features_to_select = 8, step = 1)\n",
    "rfe.fit(x_train_sc, y_train)\n",
    "\n",
    "# transform train input data\n",
    "x_train_rfe = rfe.transform(x_train_sc)\n",
    "\n",
    "# transform test input data\n",
    "x_test_rfe = rfe.transform(x_test_sc)\n",
    "\n",
    "print(\"Number of Features: \", rfe.n_features_)\n",
    "print(\"Feature Ranking: \", rfe.ranking_)\n",
    "print(\"Selected Features: \", rfe.support_)"
   ]
  },
  {
   "cell_type": "code",
   "execution_count": 62,
   "id": "0ebd99ce",
   "metadata": {
    "ExecuteTime": {
     "end_time": "2022-07-11T06:55:48.274181Z",
     "start_time": "2022-07-11T06:55:43.275310Z"
    }
   },
   "outputs": [
    {
     "name": "stdout",
     "output_type": "stream",
     "text": [
      "<class 'sklearn.neighbors._classification.KNeighborsClassifier'>\n",
      "f1_weighted(validation) =  0.8174398786258659\n",
      "f1_weighted(test):0.7780829353017803\n",
      "[[  4  56   0]\n",
      " [  0 665  39]\n",
      " [  0  95 121]]\n",
      "              precision    recall  f1-score   support\n",
      "\n",
      "           0       1.00      0.07      0.12        60\n",
      "           1       0.81      0.94      0.88       704\n",
      "           2       0.76      0.56      0.64       216\n",
      "\n",
      "    accuracy                           0.81       980\n",
      "   macro avg       0.86      0.52      0.55       980\n",
      "weighted avg       0.81      0.81      0.78       980\n",
      "\n",
      "\n",
      "<class 'sklearn.tree._classes.DecisionTreeClassifier'>\n",
      "f1_weighted(validation) =  0.7852025720743747\n",
      "f1_weighted(test):0.7441958843680136\n",
      "[[ 15  41   4]\n",
      " [ 14 604  86]\n",
      " [  0  97 119]]\n",
      "              precision    recall  f1-score   support\n",
      "\n",
      "           0       0.52      0.25      0.34        60\n",
      "           1       0.81      0.86      0.84       704\n",
      "           2       0.57      0.55      0.56       216\n",
      "\n",
      "    accuracy                           0.75       980\n",
      "   macro avg       0.63      0.55      0.58       980\n",
      "weighted avg       0.74      0.75      0.74       980\n",
      "\n",
      "\n",
      "<class 'sklearn.svm._classes.SVC'>\n",
      "f1_weighted(validation) =  0.7755241818471021\n",
      "f1_weighted(test):0.7233976304251716\n",
      "[[  0  60   0]\n",
      " [  0 674  30]\n",
      " [  0 136  80]]\n",
      "              precision    recall  f1-score   support\n",
      "\n",
      "           0       0.00      0.00      0.00        60\n",
      "           1       0.77      0.96      0.86       704\n",
      "           2       0.73      0.37      0.49       216\n",
      "\n",
      "    accuracy                           0.77       980\n",
      "   macro avg       0.50      0.44      0.45       980\n",
      "weighted avg       0.72      0.77      0.72       980\n",
      "\n",
      "\n"
     ]
    }
   ],
   "source": [
    "performance(estimators, x_train_rfe, x_test_rfe, y_train, y_test)"
   ]
  },
  {
   "cell_type": "code",
   "execution_count": 63,
   "id": "2579c4cf",
   "metadata": {
    "ExecuteTime": {
     "end_time": "2022-07-11T06:55:48.406126Z",
     "start_time": "2022-07-11T06:55:48.277001Z"
    }
   },
   "outputs": [
    {
     "name": "stdout",
     "output_type": "stream",
     "text": [
      "Number of Features:  7\n",
      "Feature Ranking:  [5 1 4 2 3 1 1 1 1 1 1]\n",
      "Selected Features:  [False  True False False False  True  True  True  True  True  True]\n"
     ]
    }
   ],
   "source": [
    "# Case5: 7 features\n",
    "\n",
    "# Use RFE to rank features and return top 7 features\n",
    "# Parameter step corresponds to the (integer) number of features to remove at each iteration \n",
    "rfe = RFE(estimator = dtree, n_features_to_select = 7, step = 1)\n",
    "rfe.fit(x_train_sc, y_train)\n",
    "\n",
    "# transform train input data\n",
    "x_train_rfe = rfe.transform(x_train_sc)\n",
    "\n",
    "# transform test input data\n",
    "x_test_rfe = rfe.transform(x_test_sc)\n",
    "\n",
    "print(\"Number of Features: \", rfe.n_features_)\n",
    "print(\"Feature Ranking: \", rfe.ranking_)\n",
    "print(\"Selected Features: \", rfe.support_)"
   ]
  },
  {
   "cell_type": "code",
   "execution_count": 64,
   "id": "d516730f",
   "metadata": {
    "ExecuteTime": {
     "end_time": "2022-07-11T06:55:52.103892Z",
     "start_time": "2022-07-11T06:55:48.407394Z"
    }
   },
   "outputs": [
    {
     "name": "stdout",
     "output_type": "stream",
     "text": [
      "<class 'sklearn.neighbors._classification.KNeighborsClassifier'>\n",
      "f1_weighted(validation) =  0.8178930975148081\n",
      "f1_weighted(test):0.7828475285357973\n",
      "[[  5  55   0]\n",
      " [  1 661  42]\n",
      " [  0  90 126]]\n",
      "              precision    recall  f1-score   support\n",
      "\n",
      "           0       0.83      0.08      0.15        60\n",
      "           1       0.82      0.94      0.88       704\n",
      "           2       0.75      0.58      0.66       216\n",
      "\n",
      "    accuracy                           0.81       980\n",
      "   macro avg       0.80      0.54      0.56       980\n",
      "weighted avg       0.81      0.81      0.78       980\n",
      "\n",
      "\n",
      "<class 'sklearn.tree._classes.DecisionTreeClassifier'>\n",
      "f1_weighted(validation) =  0.7803013956411166\n",
      "f1_weighted(test):0.749190642281471\n",
      "[[ 15  39   6]\n",
      " [ 16 597  91]\n",
      " [  2  86 128]]\n",
      "              precision    recall  f1-score   support\n",
      "\n",
      "           0       0.45      0.25      0.32        60\n",
      "           1       0.83      0.85      0.84       704\n",
      "           2       0.57      0.59      0.58       216\n",
      "\n",
      "    accuracy                           0.76       980\n",
      "   macro avg       0.62      0.56      0.58       980\n",
      "weighted avg       0.75      0.76      0.75       980\n",
      "\n",
      "\n",
      "<class 'sklearn.svm._classes.SVC'>\n",
      "f1_weighted(validation) =  0.7741756556011984\n",
      "f1_weighted(test):0.7081576001111728\n",
      "[[  0  60   0]\n",
      " [  0 673  31]\n",
      " [  0 146  70]]\n",
      "              precision    recall  f1-score   support\n",
      "\n",
      "           0       0.00      0.00      0.00        60\n",
      "           1       0.77      0.96      0.85       704\n",
      "           2       0.69      0.32      0.44       216\n",
      "\n",
      "    accuracy                           0.76       980\n",
      "   macro avg       0.49      0.43      0.43       980\n",
      "weighted avg       0.70      0.76      0.71       980\n",
      "\n",
      "\n"
     ]
    }
   ],
   "source": [
    "performance(estimators, x_train_rfe, x_test_rfe, y_train, y_test)"
   ]
  },
  {
   "cell_type": "code",
   "execution_count": 65,
   "id": "51d4d8cb",
   "metadata": {
    "ExecuteTime": {
     "end_time": "2022-07-11T06:55:52.219922Z",
     "start_time": "2022-07-11T06:55:52.104734Z"
    }
   },
   "outputs": [
    {
     "name": "stdout",
     "output_type": "stream",
     "text": [
      "Number of Features:  6\n",
      "Feature Ranking:  [6 1 5 3 4 1 1 1 1 2 1]\n",
      "Selected Features:  [False  True False False False  True  True  True  True False  True]\n"
     ]
    }
   ],
   "source": [
    "# Case6: 6 features\n",
    "\n",
    "# Use RFE to rank features and return top 6 features\n",
    "# Parameter step corresponds to the (integer) number of features to remove at each iteration \n",
    "rfe = RFE(estimator = dtree, n_features_to_select = 6, step = 1)\n",
    "rfe.fit(x_train_sc, y_train)\n",
    "\n",
    "# transform train input data\n",
    "x_train_rfe = rfe.transform(x_train_sc)\n",
    "\n",
    "# transform test input data\n",
    "x_test_rfe = rfe.transform(x_test_sc)\n",
    "\n",
    "print(\"Number of Features: \", rfe.n_features_)\n",
    "print(\"Feature Ranking: \", rfe.ranking_)\n",
    "print(\"Selected Features: \", rfe.support_)"
   ]
  },
  {
   "cell_type": "code",
   "execution_count": 66,
   "id": "77421fae",
   "metadata": {
    "ExecuteTime": {
     "end_time": "2022-07-11T06:55:55.596281Z",
     "start_time": "2022-07-11T06:55:52.220981Z"
    }
   },
   "outputs": [
    {
     "name": "stdout",
     "output_type": "stream",
     "text": [
      "<class 'sklearn.neighbors._classification.KNeighborsClassifier'>\n",
      "f1_weighted(validation) =  0.8100375324281199\n",
      "f1_weighted(test):0.7704743178030613\n",
      "[[  5  55   0]\n",
      " [  1 646  57]\n",
      " [  0  89 127]]\n",
      "              precision    recall  f1-score   support\n",
      "\n",
      "           0       0.83      0.08      0.15        60\n",
      "           1       0.82      0.92      0.86       704\n",
      "           2       0.69      0.59      0.64       216\n",
      "\n",
      "    accuracy                           0.79       980\n",
      "   macro avg       0.78      0.53      0.55       980\n",
      "weighted avg       0.79      0.79      0.77       980\n",
      "\n",
      "\n",
      "<class 'sklearn.tree._classes.DecisionTreeClassifier'>\n",
      "f1_weighted(validation) =  0.778175899021206\n",
      "f1_weighted(test):0.7561955346861167\n",
      "[[ 17  36   7]\n",
      " [ 13 604  87]\n",
      " [  3  87 126]]\n",
      "              precision    recall  f1-score   support\n",
      "\n",
      "           0       0.52      0.28      0.37        60\n",
      "           1       0.83      0.86      0.84       704\n",
      "           2       0.57      0.58      0.58       216\n",
      "\n",
      "    accuracy                           0.76       980\n",
      "   macro avg       0.64      0.57      0.60       980\n",
      "weighted avg       0.75      0.76      0.76       980\n",
      "\n",
      "\n",
      "<class 'sklearn.svm._classes.SVC'>\n",
      "f1_weighted(validation) =  0.7580708858452072\n",
      "f1_weighted(test):0.7049846602976878\n",
      "[[  1  59   0]\n",
      " [  0 661  43]\n",
      " [  0 143  73]]\n",
      "              precision    recall  f1-score   support\n",
      "\n",
      "           0       1.00      0.02      0.03        60\n",
      "           1       0.77      0.94      0.84       704\n",
      "           2       0.63      0.34      0.44       216\n",
      "\n",
      "    accuracy                           0.75       980\n",
      "   macro avg       0.80      0.43      0.44       980\n",
      "weighted avg       0.75      0.75      0.70       980\n",
      "\n",
      "\n"
     ]
    }
   ],
   "source": [
    "performance(estimators, x_train_rfe, x_test_rfe, y_train, y_test)"
   ]
  },
  {
   "cell_type": "code",
   "execution_count": 67,
   "id": "7c760ac2",
   "metadata": {
    "ExecuteTime": {
     "end_time": "2022-07-11T06:55:55.721103Z",
     "start_time": "2022-07-11T06:55:55.597269Z"
    }
   },
   "outputs": [
    {
     "name": "stdout",
     "output_type": "stream",
     "text": [
      "Number of Features:  5\n",
      "Feature Ranking:  [7 1 6 4 5 1 2 1 1 3 1]\n",
      "Selected Features:  [False  True False False False  True False  True  True False  True]\n"
     ]
    }
   ],
   "source": [
    "# Case7: 5 features\n",
    "\n",
    "# Use RFE to rank features and return top 5 features\n",
    "# Parameter step corresponds to the (integer) number of features to remove at each iteration \n",
    "rfe = RFE(estimator = dtree, n_features_to_select = 5, step = 1)\n",
    "rfe.fit(x_train_sc, y_train)\n",
    "\n",
    "# transform train input data\n",
    "x_train_rfe = rfe.transform(x_train_sc)\n",
    "\n",
    "# transform test input data\n",
    "x_test_rfe = rfe.transform(x_test_sc)\n",
    "\n",
    "print(\"Number of Features: \", rfe.n_features_)\n",
    "print(\"Feature Ranking: \", rfe.ranking_)\n",
    "print(\"Selected Features: \", rfe.support_)"
   ]
  },
  {
   "cell_type": "code",
   "execution_count": 68,
   "id": "b9debf85",
   "metadata": {
    "ExecuteTime": {
     "end_time": "2022-07-11T06:55:59.045630Z",
     "start_time": "2022-07-11T06:55:55.722193Z"
    }
   },
   "outputs": [
    {
     "name": "stdout",
     "output_type": "stream",
     "text": [
      "<class 'sklearn.neighbors._classification.KNeighborsClassifier'>\n",
      "f1_weighted(validation) =  0.8017092070342381\n",
      "f1_weighted(test):0.7730837401549661\n",
      "[[  5  54   1]\n",
      " [  0 657  47]\n",
      " [  0  95 121]]\n",
      "              precision    recall  f1-score   support\n",
      "\n",
      "           0       1.00      0.08      0.15        60\n",
      "           1       0.82      0.93      0.87       704\n",
      "           2       0.72      0.56      0.63       216\n",
      "\n",
      "    accuracy                           0.80       980\n",
      "   macro avg       0.84      0.53      0.55       980\n",
      "weighted avg       0.80      0.80      0.77       980\n",
      "\n",
      "\n",
      "<class 'sklearn.tree._classes.DecisionTreeClassifier'>\n",
      "f1_weighted(validation) =  0.7690088331116147\n",
      "f1_weighted(test):0.7501218850907378\n",
      "[[ 18  39   3]\n",
      " [ 18 592  94]\n",
      " [  2  85 129]]\n",
      "              precision    recall  f1-score   support\n",
      "\n",
      "           0       0.47      0.30      0.37        60\n",
      "           1       0.83      0.84      0.83       704\n",
      "           2       0.57      0.60      0.58       216\n",
      "\n",
      "    accuracy                           0.75       980\n",
      "   macro avg       0.62      0.58      0.59       980\n",
      "weighted avg       0.75      0.75      0.75       980\n",
      "\n",
      "\n",
      "<class 'sklearn.svm._classes.SVC'>\n",
      "f1_weighted(validation) =  0.7402502847656611\n",
      "f1_weighted(test):0.6907357952310564\n",
      "[[  0  60   0]\n",
      " [  0 670  34]\n",
      " [  0 156  60]]\n",
      "              precision    recall  f1-score   support\n",
      "\n",
      "           0       0.00      0.00      0.00        60\n",
      "           1       0.76      0.95      0.84       704\n",
      "           2       0.64      0.28      0.39       216\n",
      "\n",
      "    accuracy                           0.74       980\n",
      "   macro avg       0.46      0.41      0.41       980\n",
      "weighted avg       0.68      0.74      0.69       980\n",
      "\n",
      "\n"
     ]
    }
   ],
   "source": [
    "performance(estimators, x_train_rfe, x_test_rfe, y_train, y_test)"
   ]
  },
  {
   "cell_type": "code",
   "execution_count": 69,
   "id": "8baa89da",
   "metadata": {
    "ExecuteTime": {
     "end_time": "2022-07-11T06:55:59.065849Z",
     "start_time": "2022-07-11T06:55:59.046927Z"
    }
   },
   "outputs": [
    {
     "name": "stdout",
     "output_type": "stream",
     "text": [
      "Number of Features:  11\n",
      "Feature Ranking:  [1 1 1 1 1 1 1 1 1 1 1]\n",
      "Selected Features:  [ True  True  True  True  True  True  True  True  True  True  True]\n"
     ]
    }
   ],
   "source": [
    "# Case1: All features\n",
    "# Create a Bernoulli Naive Bayes classifier\n",
    "bnb = BernoulliNB()\n",
    "\n",
    "# Use RFE to rank features and return all features\n",
    "# Parameter step corresponds to the (integer) number of features to remove at each iteration \n",
    "rfe = RFE(estimator = bnb, n_features_to_select = 11, step = 1)\n",
    "rfe.fit(x_train_sc, y_train)\n",
    "\n",
    "# transform train input data\n",
    "x_train_rfe = rfe.transform(x_train_sc)\n",
    "\n",
    "# transform test input data\n",
    "x_test_rfe = rfe.transform(x_test_sc)\n",
    "\n",
    "print(\"Number of Features: \", rfe.n_features_)\n",
    "print(\"Feature Ranking: \", rfe.ranking_)\n",
    "print(\"Selected Features: \", rfe.support_)"
   ]
  },
  {
   "cell_type": "code",
   "execution_count": 70,
   "id": "85137b4c",
   "metadata": {
    "ExecuteTime": {
     "end_time": "2022-07-11T06:56:04.212273Z",
     "start_time": "2022-07-11T06:55:59.068666Z"
    }
   },
   "outputs": [
    {
     "name": "stdout",
     "output_type": "stream",
     "text": [
      "<class 'sklearn.neighbors._classification.KNeighborsClassifier'>\n",
      "f1_weighted(validation) =  0.8292807834702943\n",
      "f1_weighted(test):0.7779318549916966\n",
      "[[  4  55   1]\n",
      " [  0 653  51]\n",
      " [  0  86 130]]\n",
      "              precision    recall  f1-score   support\n",
      "\n",
      "           0       1.00      0.07      0.12        60\n",
      "           1       0.82      0.93      0.87       704\n",
      "           2       0.71      0.60      0.65       216\n",
      "\n",
      "    accuracy                           0.80       980\n",
      "   macro avg       0.85      0.53      0.55       980\n",
      "weighted avg       0.81      0.80      0.78       980\n",
      "\n",
      "\n",
      "<class 'sklearn.tree._classes.DecisionTreeClassifier'>\n",
      "f1_weighted(validation) =  0.7851414836759589\n",
      "f1_weighted(test):0.7403588313858527\n",
      "[[ 10  47   3]\n",
      " [ 19 603  82]\n",
      " [  0  93 123]]\n",
      "              precision    recall  f1-score   support\n",
      "\n",
      "           0       0.34      0.17      0.22        60\n",
      "           1       0.81      0.86      0.83       704\n",
      "           2       0.59      0.57      0.58       216\n",
      "\n",
      "    accuracy                           0.75       980\n",
      "   macro avg       0.58      0.53      0.55       980\n",
      "weighted avg       0.73      0.75      0.74       980\n",
      "\n",
      "\n",
      "<class 'sklearn.svm._classes.SVC'>\n",
      "f1_weighted(validation) =  0.7919818954975618\n",
      "f1_weighted(test):0.7469330871547311\n",
      "[[  2  58   0]\n",
      " [  0 672  32]\n",
      " [  0 121  95]]\n",
      "              precision    recall  f1-score   support\n",
      "\n",
      "           0       1.00      0.03      0.06        60\n",
      "           1       0.79      0.95      0.86       704\n",
      "           2       0.75      0.44      0.55       216\n",
      "\n",
      "    accuracy                           0.78       980\n",
      "   macro avg       0.85      0.48      0.49       980\n",
      "weighted avg       0.79      0.78      0.75       980\n",
      "\n",
      "\n"
     ]
    }
   ],
   "source": [
    "performance(estimators, x_train_rfe, x_test_rfe, y_train, y_test)"
   ]
  },
  {
   "cell_type": "code",
   "execution_count": 71,
   "id": "380f8a95",
   "metadata": {
    "ExecuteTime": {
     "end_time": "2022-07-11T06:56:04.222959Z",
     "start_time": "2022-07-11T06:56:04.213587Z"
    }
   },
   "outputs": [
    {
     "name": "stdout",
     "output_type": "stream",
     "text": [
      "Number of Features:  10\n",
      "Feature Ranking:  [1 1 1 1 1 1 1 1 2 1 1]\n",
      "Selected Features:  [ True  True  True  True  True  True  True  True False  True  True]\n"
     ]
    }
   ],
   "source": [
    "# Case2: 10 features\n",
    "\n",
    "# Use RFE to rank features and return top 10 features\n",
    "# Parameter step corresponds to the (integer) number of features to remove at each iteration \n",
    "rfe = RFE(estimator = bnb, n_features_to_select = 10, step = 1)\n",
    "rfe.fit(x_train_sc, y_train)\n",
    "\n",
    "# transform train input data\n",
    "x_train_rfe = rfe.transform(x_train_sc)\n",
    "\n",
    "# transform test input data\n",
    "x_test_rfe = rfe.transform(x_test_sc)\n",
    "\n",
    "print(\"Number of Features: \", rfe.n_features_)\n",
    "print(\"Feature Ranking: \", rfe.ranking_)\n",
    "print(\"Selected Features: \", rfe.support_)"
   ]
  },
  {
   "cell_type": "code",
   "execution_count": 72,
   "id": "b71aa385",
   "metadata": {
    "ExecuteTime": {
     "end_time": "2022-07-11T06:56:08.860812Z",
     "start_time": "2022-07-11T06:56:04.224227Z"
    }
   },
   "outputs": [
    {
     "name": "stdout",
     "output_type": "stream",
     "text": [
      "<class 'sklearn.neighbors._classification.KNeighborsClassifier'>\n",
      "f1_weighted(validation) =  0.8263301809813312\n",
      "f1_weighted(test):0.7868074620338441\n",
      "[[  5  55   0]\n",
      " [  0 663  41]\n",
      " [  0  88 128]]\n",
      "              precision    recall  f1-score   support\n",
      "\n",
      "           0       1.00      0.08      0.15        60\n",
      "           1       0.82      0.94      0.88       704\n",
      "           2       0.76      0.59      0.66       216\n",
      "\n",
      "    accuracy                           0.81       980\n",
      "   macro avg       0.86      0.54      0.57       980\n",
      "weighted avg       0.82      0.81      0.79       980\n",
      "\n",
      "\n",
      "<class 'sklearn.tree._classes.DecisionTreeClassifier'>\n",
      "f1_weighted(validation) =  0.7855534067012542\n",
      "f1_weighted(test):0.7398409369106125\n",
      "[[ 10  47   3]\n",
      " [ 14 600  90]\n",
      " [  2  89 125]]\n",
      "              precision    recall  f1-score   support\n",
      "\n",
      "           0       0.38      0.17      0.23        60\n",
      "           1       0.82      0.85      0.83       704\n",
      "           2       0.57      0.58      0.58       216\n",
      "\n",
      "    accuracy                           0.75       980\n",
      "   macro avg       0.59      0.53      0.55       980\n",
      "weighted avg       0.74      0.75      0.74       980\n",
      "\n",
      "\n",
      "<class 'sklearn.svm._classes.SVC'>\n",
      "f1_weighted(validation) =  0.7832480617393849\n",
      "f1_weighted(test):0.7447936367875819\n",
      "[[  1  59   0]\n",
      " [  2 673  29]\n",
      " [  0 122  94]]\n",
      "              precision    recall  f1-score   support\n",
      "\n",
      "           0       0.33      0.02      0.03        60\n",
      "           1       0.79      0.96      0.86       704\n",
      "           2       0.76      0.44      0.55       216\n",
      "\n",
      "    accuracy                           0.78       980\n",
      "   macro avg       0.63      0.47      0.48       980\n",
      "weighted avg       0.75      0.78      0.74       980\n",
      "\n",
      "\n"
     ]
    }
   ],
   "source": [
    "performance(estimators, x_train_rfe, x_test_rfe, y_train, y_test)"
   ]
  },
  {
   "cell_type": "code",
   "execution_count": 73,
   "id": "0ce8cd74",
   "metadata": {
    "ExecuteTime": {
     "end_time": "2022-07-11T06:56:08.873742Z",
     "start_time": "2022-07-11T06:56:08.861855Z"
    }
   },
   "outputs": [
    {
     "name": "stdout",
     "output_type": "stream",
     "text": [
      "Number of Features:  9\n",
      "Feature Ranking:  [1 2 1 1 1 1 1 1 3 1 1]\n",
      "Selected Features:  [ True False  True  True  True  True  True  True False  True  True]\n"
     ]
    }
   ],
   "source": [
    "# Case3: 9 features\n",
    "\n",
    "# Use RFE to rank features and return top 9 features\n",
    "# Parameter step corresponds to the (integer) number of features to remove at each iteration \n",
    "rfe = RFE(estimator = bnb, n_features_to_select = 9, step = 1)\n",
    "rfe.fit(x_train_sc, y_train)\n",
    "\n",
    "# transform train input data\n",
    "x_train_rfe = rfe.transform(x_train_sc)\n",
    "\n",
    "# transform test input data\n",
    "x_test_rfe = rfe.transform(x_test_sc)\n",
    "\n",
    "print(\"Number of Features: \", rfe.n_features_)\n",
    "print(\"Feature Ranking: \", rfe.ranking_)\n",
    "print(\"Selected Features: \", rfe.support_)"
   ]
  },
  {
   "cell_type": "code",
   "execution_count": 74,
   "id": "cbe562df",
   "metadata": {
    "ExecuteTime": {
     "end_time": "2022-07-11T06:56:12.961859Z",
     "start_time": "2022-07-11T06:56:08.875180Z"
    }
   },
   "outputs": [
    {
     "name": "stdout",
     "output_type": "stream",
     "text": [
      "<class 'sklearn.neighbors._classification.KNeighborsClassifier'>\n",
      "f1_weighted(validation) =  0.824067206360932\n",
      "f1_weighted(test):0.7655715902512296\n",
      "[[  5  55   0]\n",
      " [  0 650  54]\n",
      " [  0  96 120]]\n",
      "              precision    recall  f1-score   support\n",
      "\n",
      "           0       1.00      0.08      0.15        60\n",
      "           1       0.81      0.92      0.86       704\n",
      "           2       0.69      0.56      0.62       216\n",
      "\n",
      "    accuracy                           0.79       980\n",
      "   macro avg       0.83      0.52      0.54       980\n",
      "weighted avg       0.80      0.79      0.77       980\n",
      "\n",
      "\n",
      "<class 'sklearn.tree._classes.DecisionTreeClassifier'>\n",
      "f1_weighted(validation) =  0.7851639245708469\n",
      "f1_weighted(test):0.7448807956362268\n",
      "[[ 15  38   7]\n",
      " [ 18 598  88]\n",
      " [  3  90 123]]\n",
      "              precision    recall  f1-score   support\n",
      "\n",
      "           0       0.42      0.25      0.31        60\n",
      "           1       0.82      0.85      0.84       704\n",
      "           2       0.56      0.57      0.57       216\n",
      "\n",
      "    accuracy                           0.75       980\n",
      "   macro avg       0.60      0.56      0.57       980\n",
      "weighted avg       0.74      0.75      0.74       980\n",
      "\n",
      "\n",
      "<class 'sklearn.svm._classes.SVC'>\n",
      "f1_weighted(validation) =  0.7820699403601111\n",
      "f1_weighted(test):0.7362917107906584\n",
      "[[  1  59   0]\n",
      " [  2 671  31]\n",
      " [  0 127  89]]\n",
      "              precision    recall  f1-score   support\n",
      "\n",
      "           0       0.33      0.02      0.03        60\n",
      "           1       0.78      0.95      0.86       704\n",
      "           2       0.74      0.41      0.53       216\n",
      "\n",
      "    accuracy                           0.78       980\n",
      "   macro avg       0.62      0.46      0.47       980\n",
      "weighted avg       0.75      0.78      0.74       980\n",
      "\n",
      "\n"
     ]
    }
   ],
   "source": [
    "performance(estimators, x_train_rfe, x_test_rfe, y_train, y_test)"
   ]
  },
  {
   "cell_type": "code",
   "execution_count": 75,
   "id": "3043fcaa",
   "metadata": {
    "ExecuteTime": {
     "end_time": "2022-07-11T06:56:12.972441Z",
     "start_time": "2022-07-11T06:56:12.962772Z"
    }
   },
   "outputs": [
    {
     "name": "stdout",
     "output_type": "stream",
     "text": [
      "Number of Features:  8\n",
      "Feature Ranking:  [2 3 1 1 1 1 1 1 4 1 1]\n",
      "Selected Features:  [False False  True  True  True  True  True  True False  True  True]\n"
     ]
    }
   ],
   "source": [
    "# Case4: 8 features\n",
    "\n",
    "# Use RFE to rank features and return top 8 features\n",
    "# Parameter step corresponds to the (integer) number of features to remove at each iteration \n",
    "rfe = RFE(estimator = bnb, n_features_to_select = 8, step = 1)\n",
    "rfe.fit(x_train_sc, y_train)\n",
    "\n",
    "# transform train input data\n",
    "x_train_rfe = rfe.transform(x_train_sc)\n",
    "\n",
    "# transform test input data\n",
    "x_test_rfe = rfe.transform(x_test_sc)\n",
    "\n",
    "print(\"Number of Features: \", rfe.n_features_)\n",
    "print(\"Feature Ranking: \", rfe.ranking_)\n",
    "print(\"Selected Features: \", rfe.support_)"
   ]
  },
  {
   "cell_type": "code",
   "execution_count": 76,
   "id": "ff81de44",
   "metadata": {
    "ExecuteTime": {
     "end_time": "2022-07-11T06:56:16.721738Z",
     "start_time": "2022-07-11T06:56:12.973539Z"
    }
   },
   "outputs": [
    {
     "name": "stdout",
     "output_type": "stream",
     "text": [
      "<class 'sklearn.neighbors._classification.KNeighborsClassifier'>\n",
      "f1_weighted(validation) =  0.8213808085059668\n",
      "f1_weighted(test):0.7722710825024129\n",
      "[[  4  55   1]\n",
      " [  0 648  56]\n",
      " [  0  87 129]]\n",
      "              precision    recall  f1-score   support\n",
      "\n",
      "           0       1.00      0.07      0.12        60\n",
      "           1       0.82      0.92      0.87       704\n",
      "           2       0.69      0.60      0.64       216\n",
      "\n",
      "    accuracy                           0.80       980\n",
      "   macro avg       0.84      0.53      0.54       980\n",
      "weighted avg       0.80      0.80      0.77       980\n",
      "\n",
      "\n",
      "<class 'sklearn.tree._classes.DecisionTreeClassifier'>\n",
      "f1_weighted(validation) =  0.7802618247099498\n",
      "f1_weighted(test):0.7467701376848815\n",
      "[[ 13  44   3]\n",
      " [ 18 600  86]\n",
      " [  4  86 126]]\n",
      "              precision    recall  f1-score   support\n",
      "\n",
      "           0       0.37      0.22      0.27        60\n",
      "           1       0.82      0.85      0.84       704\n",
      "           2       0.59      0.58      0.58       216\n",
      "\n",
      "    accuracy                           0.75       980\n",
      "   macro avg       0.59      0.55      0.57       980\n",
      "weighted avg       0.74      0.75      0.75       980\n",
      "\n",
      "\n",
      "<class 'sklearn.svm._classes.SVC'>\n",
      "f1_weighted(validation) =  0.7676123770616285\n",
      "f1_weighted(test):0.7274987132247054\n",
      "[[  1  59   0]\n",
      " [  2 672  30]\n",
      " [  0 134  82]]\n",
      "              precision    recall  f1-score   support\n",
      "\n",
      "           0       0.33      0.02      0.03        60\n",
      "           1       0.78      0.95      0.86       704\n",
      "           2       0.73      0.38      0.50       216\n",
      "\n",
      "    accuracy                           0.77       980\n",
      "   macro avg       0.61      0.45      0.46       980\n",
      "weighted avg       0.74      0.77      0.73       980\n",
      "\n",
      "\n"
     ]
    }
   ],
   "source": [
    "performance(estimators, x_train_rfe, x_test_rfe, y_train, y_test)"
   ]
  },
  {
   "cell_type": "code",
   "execution_count": 77,
   "id": "135609f9",
   "metadata": {
    "ExecuteTime": {
     "end_time": "2022-07-11T06:56:16.733102Z",
     "start_time": "2022-07-11T06:56:16.722670Z"
    }
   },
   "outputs": [
    {
     "name": "stdout",
     "output_type": "stream",
     "text": [
      "Number of Features:  7\n",
      "Feature Ranking:  [3 4 1 1 1 1 1 1 5 2 1]\n",
      "Selected Features:  [False False  True  True  True  True  True  True False False  True]\n"
     ]
    }
   ],
   "source": [
    "# Case5: 7 features\n",
    "\n",
    "# Use RFE to rank features and return top 7 features\n",
    "# Parameter step corresponds to the (integer) number of features to remove at each iteration \n",
    "rfe = RFE(estimator = bnb, n_features_to_select = 7, step = 1)\n",
    "rfe.fit(x_train_sc, y_train)\n",
    "\n",
    "# transform train input data\n",
    "x_train_rfe = rfe.transform(x_train_sc)\n",
    "\n",
    "# transform test input data\n",
    "x_test_rfe = rfe.transform(x_test_sc)\n",
    "\n",
    "print(\"Number of Features: \", rfe.n_features_)\n",
    "print(\"Feature Ranking: \", rfe.ranking_)\n",
    "print(\"Selected Features: \", rfe.support_)"
   ]
  },
  {
   "cell_type": "code",
   "execution_count": 78,
   "id": "aa55c179",
   "metadata": {
    "ExecuteTime": {
     "end_time": "2022-07-11T06:56:20.267138Z",
     "start_time": "2022-07-11T06:56:16.734112Z"
    }
   },
   "outputs": [
    {
     "name": "stdout",
     "output_type": "stream",
     "text": [
      "<class 'sklearn.neighbors._classification.KNeighborsClassifier'>\n",
      "f1_weighted(validation) =  0.8030522158140918\n",
      "f1_weighted(test):0.7823129300661902\n",
      "[[  6  50   4]\n",
      " [  0 649  55]\n",
      " [  0  83 133]]\n",
      "              precision    recall  f1-score   support\n",
      "\n",
      "           0       1.00      0.10      0.18        60\n",
      "           1       0.83      0.92      0.87       704\n",
      "           2       0.69      0.62      0.65       216\n",
      "\n",
      "    accuracy                           0.80       980\n",
      "   macro avg       0.84      0.55      0.57       980\n",
      "weighted avg       0.81      0.80      0.78       980\n",
      "\n",
      "\n",
      "<class 'sklearn.tree._classes.DecisionTreeClassifier'>\n",
      "f1_weighted(validation) =  0.7720076195692243\n",
      "f1_weighted(test):0.7540535208160057\n",
      "[[ 16  42   2]\n",
      " [ 17 600  87]\n",
      " [  2  85 129]]\n",
      "              precision    recall  f1-score   support\n",
      "\n",
      "           0       0.46      0.27      0.34        60\n",
      "           1       0.83      0.85      0.84       704\n",
      "           2       0.59      0.60      0.59       216\n",
      "\n",
      "    accuracy                           0.76       980\n",
      "   macro avg       0.62      0.57      0.59       980\n",
      "weighted avg       0.75      0.76      0.75       980\n",
      "\n",
      "\n",
      "<class 'sklearn.svm._classes.SVC'>\n",
      "f1_weighted(validation) =  0.7467348130338956\n",
      "f1_weighted(test):0.7112181386733617\n",
      "[[  2  56   2]\n",
      " [  0 678  26]\n",
      " [  0 150  66]]\n",
      "              precision    recall  f1-score   support\n",
      "\n",
      "           0       1.00      0.03      0.06        60\n",
      "           1       0.77      0.96      0.85       704\n",
      "           2       0.70      0.31      0.43       216\n",
      "\n",
      "    accuracy                           0.76       980\n",
      "   macro avg       0.82      0.43      0.45       980\n",
      "weighted avg       0.77      0.76      0.71       980\n",
      "\n",
      "\n"
     ]
    }
   ],
   "source": [
    "performance(estimators, x_train_rfe, x_test_rfe, y_train, y_test)"
   ]
  },
  {
   "cell_type": "code",
   "execution_count": 79,
   "id": "bc0feb60",
   "metadata": {
    "ExecuteTime": {
     "end_time": "2022-07-11T06:56:20.279825Z",
     "start_time": "2022-07-11T06:56:20.268121Z"
    }
   },
   "outputs": [
    {
     "name": "stdout",
     "output_type": "stream",
     "text": [
      "Number of Features:  6\n",
      "Feature Ranking:  [4 5 1 1 1 1 1 1 6 3 2]\n",
      "Selected Features:  [False False  True  True  True  True  True  True False False False]\n"
     ]
    }
   ],
   "source": [
    "# Case6: 6 features\n",
    "\n",
    "# Use RFE to rank features and return top 6 features\n",
    "# Parameter step corresponds to the (integer) number of features to remove at each iteration \n",
    "rfe = RFE(estimator = bnb, n_features_to_select = 6, step = 1)\n",
    "rfe.fit(x_train_sc, y_train)\n",
    "\n",
    "# transform train input data\n",
    "x_train_rfe = rfe.transform(x_train_sc)\n",
    "\n",
    "# transform test input data\n",
    "x_test_rfe = rfe.transform(x_test_sc)\n",
    "\n",
    "print(\"Number of Features: \", rfe.n_features_)\n",
    "print(\"Feature Ranking: \", rfe.ranking_)\n",
    "print(\"Selected Features: \", rfe.support_)"
   ]
  },
  {
   "cell_type": "code",
   "execution_count": 80,
   "id": "2d4b0b37",
   "metadata": {
    "ExecuteTime": {
     "end_time": "2022-07-11T06:56:23.686687Z",
     "start_time": "2022-07-11T06:56:20.280827Z"
    }
   },
   "outputs": [
    {
     "name": "stdout",
     "output_type": "stream",
     "text": [
      "<class 'sklearn.neighbors._classification.KNeighborsClassifier'>\n",
      "f1_weighted(validation) =  0.8052329423951233\n",
      "f1_weighted(test):0.760719982639293\n",
      "[[  5  51   4]\n",
      " [  0 651  53]\n",
      " [  0 101 115]]\n",
      "              precision    recall  f1-score   support\n",
      "\n",
      "           0       1.00      0.08      0.15        60\n",
      "           1       0.81      0.92      0.86       704\n",
      "           2       0.67      0.53      0.59       216\n",
      "\n",
      "    accuracy                           0.79       980\n",
      "   macro avg       0.83      0.51      0.54       980\n",
      "weighted avg       0.79      0.79      0.76       980\n",
      "\n",
      "\n",
      "<class 'sklearn.tree._classes.DecisionTreeClassifier'>\n",
      "f1_weighted(validation) =  0.7704668458224756\n",
      "f1_weighted(test):0.7392480769774943\n",
      "[[ 12  41   7]\n",
      " [ 20 583 101]\n",
      " [  1  81 134]]\n",
      "              precision    recall  f1-score   support\n",
      "\n",
      "           0       0.36      0.20      0.26        60\n",
      "           1       0.83      0.83      0.83       704\n",
      "           2       0.55      0.62      0.59       216\n",
      "\n",
      "    accuracy                           0.74       980\n",
      "   macro avg       0.58      0.55      0.56       980\n",
      "weighted avg       0.74      0.74      0.74       980\n",
      "\n",
      "\n",
      "<class 'sklearn.svm._classes.SVC'>\n",
      "f1_weighted(validation) =  0.731027108333903\n",
      "f1_weighted(test):0.6837148189753519\n",
      "[[  0  59   1]\n",
      " [  0 681  23]\n",
      " [  0 166  50]]\n",
      "              precision    recall  f1-score   support\n",
      "\n",
      "           0       0.00      0.00      0.00        60\n",
      "           1       0.75      0.97      0.85       704\n",
      "           2       0.68      0.23      0.34       216\n",
      "\n",
      "    accuracy                           0.75       980\n",
      "   macro avg       0.48      0.40      0.40       980\n",
      "weighted avg       0.69      0.75      0.68       980\n",
      "\n",
      "\n"
     ]
    }
   ],
   "source": [
    "performance(estimators, x_train_rfe, x_test_rfe, y_train, y_test)"
   ]
  },
  {
   "cell_type": "code",
   "execution_count": 81,
   "id": "18d037fb",
   "metadata": {
    "ExecuteTime": {
     "end_time": "2022-07-11T06:56:23.700486Z",
     "start_time": "2022-07-11T06:56:23.687674Z"
    }
   },
   "outputs": [
    {
     "name": "stdout",
     "output_type": "stream",
     "text": [
      "Number of Features:  5\n",
      "Feature Ranking:  [5 6 2 1 1 1 1 1 7 4 3]\n",
      "Selected Features:  [False False False  True  True  True  True  True False False False]\n"
     ]
    }
   ],
   "source": [
    "# Case7: 5 features\n",
    "\n",
    "# Use RFE to rank features and return top 5 features\n",
    "# Parameter step corresponds to the (integer) number of features to remove at each iteration \n",
    "rfe = RFE(estimator = bnb, n_features_to_select = 5, step = 1)\n",
    "rfe.fit(x_train_sc, y_train)\n",
    "\n",
    "# transform train input data\n",
    "x_train_rfe = rfe.transform(x_train_sc)\n",
    "\n",
    "# transform test input data\n",
    "x_test_rfe = rfe.transform(x_test_sc)\n",
    "\n",
    "print(\"Number of Features: \", rfe.n_features_)\n",
    "print(\"Feature Ranking: \", rfe.ranking_)\n",
    "print(\"Selected Features: \", rfe.support_)"
   ]
  },
  {
   "cell_type": "code",
   "execution_count": 82,
   "id": "8538818f",
   "metadata": {
    "ExecuteTime": {
     "end_time": "2022-07-11T06:56:27.032104Z",
     "start_time": "2022-07-11T06:56:23.701572Z"
    }
   },
   "outputs": [
    {
     "name": "stdout",
     "output_type": "stream",
     "text": [
      "<class 'sklearn.neighbors._classification.KNeighborsClassifier'>\n",
      "f1_weighted(validation) =  0.8018796917655543\n",
      "f1_weighted(test):0.7752420913793131\n",
      "[[  4  52   4]\n",
      " [  0 663  41]\n",
      " [  0  96 120]]\n",
      "              precision    recall  f1-score   support\n",
      "\n",
      "           0       1.00      0.07      0.12        60\n",
      "           1       0.82      0.94      0.88       704\n",
      "           2       0.73      0.56      0.63       216\n",
      "\n",
      "    accuracy                           0.80       980\n",
      "   macro avg       0.85      0.52      0.54       980\n",
      "weighted avg       0.81      0.80      0.78       980\n",
      "\n",
      "\n",
      "<class 'sklearn.tree._classes.DecisionTreeClassifier'>\n",
      "f1_weighted(validation) =  0.76288999041252\n",
      "f1_weighted(test):0.7346719786025896\n",
      "[[ 10  42   8]\n",
      " [ 20 599  85]\n",
      " [  2  94 120]]\n",
      "              precision    recall  f1-score   support\n",
      "\n",
      "           0       0.31      0.17      0.22        60\n",
      "           1       0.81      0.85      0.83       704\n",
      "           2       0.56      0.56      0.56       216\n",
      "\n",
      "    accuracy                           0.74       980\n",
      "   macro avg       0.56      0.52      0.54       980\n",
      "weighted avg       0.73      0.74      0.73       980\n",
      "\n",
      "\n",
      "<class 'sklearn.svm._classes.SVC'>\n",
      "f1_weighted(validation) =  0.7243349391808559\n",
      "f1_weighted(test):0.6724714734868035\n",
      "[[  0  60   0]\n",
      " [  0 684  20]\n",
      " [  0 174  42]]\n",
      "              precision    recall  f1-score   support\n",
      "\n",
      "           0       0.00      0.00      0.00        60\n",
      "           1       0.75      0.97      0.84       704\n",
      "           2       0.68      0.19      0.30       216\n",
      "\n",
      "    accuracy                           0.74       980\n",
      "   macro avg       0.47      0.39      0.38       980\n",
      "weighted avg       0.68      0.74      0.67       980\n",
      "\n",
      "\n"
     ]
    }
   ],
   "source": [
    "performance(estimators, x_train_rfe, x_test_rfe, y_train, y_test)"
   ]
  },
 ],
 "metadata": {
  "interpreter": {
   "hash": "aee8b7b246df8f9039afb4144a1f6fd8d2ca17a180786b69acc140d282b71a49"
  },
  "kernelspec": {
   "display_name": "Python 3.10.2 64-bit",
   "language": "python",
   "name": "python3"
  },
  "language_info": {
   "codemirror_mode": {
    "name": "ipython",
    "version": 3
   },
   "file_extension": ".py",
   "mimetype": "text/x-python",
   "name": "python",
   "nbconvert_exporter": "python",
   "pygments_lexer": "ipython3",
   "version": "3.10.2"
  }
 },
 "nbformat": 4,
 "nbformat_minor": 5
}
