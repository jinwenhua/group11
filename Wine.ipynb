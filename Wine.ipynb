{
 "cells": [
  {
   "cell_type": "markdown",
   "id": "aceef4be",
   "metadata": {},
   "source": [
    "# CDS503 - Machine Learning Final Project\n",
    "\n",
    "Universiti Sains Malaysia\n",
    "\n",
    "\n",
    "Group 11 - **Wine Quality Prediction Using Classification**\n",
    "\n",
    "Members:\n",
    "- JIN WENHUA\n",
    "- MA RU\n",
    "- GUO ZIRUI\n",
    "- CHEN wenxian"
   ]
  },
  {
   "cell_type": "markdown",
   "id": "0eeb7bbf",
   "metadata": {},
   "source": [
    "## Overview\n",
    "\n",
    "### Experiment Set 1: Comparing machine learning algorithms  \n",
    "* JIN WENHUA\n",
    "### Experiment Set 2: Selecting features\n",
    "* MA RU\n",
    "### Experiment Set 3: Ensemble learning\n",
    "* CHEN WENXIAN \n",
    "### Experiment Set 4: Varying training sample size\n",
    "* GUO ZIRUI\n"
   ]
  },
  {
   "cell_type": "markdown",
   "id": "89bf176e",
   "metadata": {},
   "source": [
    "# 1. Data Preparation"
   ]
  },
  {
   "cell_type": "code",
   "execution_count": 1,
   "id": "6ae3591f",
   "metadata": {},
   "outputs": [],
   "source": [
    "import pandas as pd\n",
    "import numpy as np\n",
    "\n"
   ]
  },
  {
   "cell_type": "code",
   "execution_count": 2,
   "id": "7eedc1f5",
   "metadata": {},
   "outputs": [
    {
     "name": "stdout",
     "output_type": "stream",
     "text": [
      "<class 'pandas.core.frame.DataFrame'>\n",
      "RangeIndex: 4898 entries, 0 to 4897\n",
      "Data columns (total 12 columns):\n",
      " #   Column                Non-Null Count  Dtype  \n",
      "---  ------                --------------  -----  \n",
      " 0   fixed acidity         4898 non-null   float64\n",
      " 1   volatile acidity      4898 non-null   float64\n",
      " 2   citric acid           4898 non-null   float64\n",
      " 3   residual sugar        4898 non-null   float64\n",
      " 4   chlorides             4898 non-null   float64\n",
      " 5   free sulfur dioxide   4898 non-null   float64\n",
      " 6   total sulfur dioxide  4898 non-null   float64\n",
      " 7   density               4898 non-null   float64\n",
      " 8   pH                    4898 non-null   float64\n",
      " 9   sulphates             4898 non-null   float64\n",
      " 10  alcohol               4898 non-null   float64\n",
      " 11  quality               4898 non-null   int64  \n",
      "dtypes: float64(11), int64(1)\n",
      "memory usage: 459.3 KB\n"
     ]
    }
   ],
   "source": [
    "df = pd.read_csv('winequality-white.csv', delimiter = ';')\n",
    "#display the metadata or summary of the data \n",
    "df.info()"
   ]
  },
  {
   "cell_type": "code",
   "execution_count": 18,
   "id": "ee331221",
   "metadata": {},
   "outputs": [
    {
     "data": {
      "text/html": [
       "<div>\n",
       "<style scoped>\n",
       "    .dataframe tbody tr th:only-of-type {\n",
       "        vertical-align: middle;\n",
       "    }\n",
       "\n",
       "    .dataframe tbody tr th {\n",
       "        vertical-align: top;\n",
       "    }\n",
       "\n",
       "    .dataframe thead th {\n",
       "        text-align: right;\n",
       "    }\n",
       "</style>\n",
       "<table border=\"1\" class=\"dataframe\">\n",
       "  <thead>\n",
       "    <tr style=\"text-align: right;\">\n",
       "      <th></th>\n",
       "      <th>fixed acidity</th>\n",
       "      <th>volatile acidity</th>\n",
       "      <th>citric acid</th>\n",
       "      <th>residual sugar</th>\n",
       "      <th>chlorides</th>\n",
       "      <th>free sulfur dioxide</th>\n",
       "      <th>total sulfur dioxide</th>\n",
       "      <th>density</th>\n",
       "      <th>pH</th>\n",
       "      <th>sulphates</th>\n",
       "      <th>alcohol</th>\n",
       "      <th>quality</th>\n",
       "    </tr>\n",
       "  </thead>\n",
       "  <tbody>\n",
       "    <tr>\n",
       "      <th>0</th>\n",
       "      <td>7.0</td>\n",
       "      <td>0.27</td>\n",
       "      <td>0.36</td>\n",
       "      <td>20.7</td>\n",
       "      <td>0.045</td>\n",
       "      <td>45.0</td>\n",
       "      <td>170.0</td>\n",
       "      <td>1.00100</td>\n",
       "      <td>3.00</td>\n",
       "      <td>0.45</td>\n",
       "      <td>8.8</td>\n",
       "      <td>6</td>\n",
       "    </tr>\n",
       "    <tr>\n",
       "      <th>1</th>\n",
       "      <td>6.3</td>\n",
       "      <td>0.30</td>\n",
       "      <td>0.34</td>\n",
       "      <td>1.6</td>\n",
       "      <td>0.049</td>\n",
       "      <td>14.0</td>\n",
       "      <td>132.0</td>\n",
       "      <td>0.99400</td>\n",
       "      <td>3.30</td>\n",
       "      <td>0.49</td>\n",
       "      <td>9.5</td>\n",
       "      <td>6</td>\n",
       "    </tr>\n",
       "    <tr>\n",
       "      <th>2</th>\n",
       "      <td>8.1</td>\n",
       "      <td>0.28</td>\n",
       "      <td>0.40</td>\n",
       "      <td>6.9</td>\n",
       "      <td>0.050</td>\n",
       "      <td>30.0</td>\n",
       "      <td>97.0</td>\n",
       "      <td>0.99510</td>\n",
       "      <td>3.26</td>\n",
       "      <td>0.44</td>\n",
       "      <td>10.1</td>\n",
       "      <td>6</td>\n",
       "    </tr>\n",
       "    <tr>\n",
       "      <th>3</th>\n",
       "      <td>7.2</td>\n",
       "      <td>0.23</td>\n",
       "      <td>0.32</td>\n",
       "      <td>8.5</td>\n",
       "      <td>0.058</td>\n",
       "      <td>47.0</td>\n",
       "      <td>186.0</td>\n",
       "      <td>0.99560</td>\n",
       "      <td>3.19</td>\n",
       "      <td>0.40</td>\n",
       "      <td>9.9</td>\n",
       "      <td>6</td>\n",
       "    </tr>\n",
       "    <tr>\n",
       "      <th>4</th>\n",
       "      <td>7.2</td>\n",
       "      <td>0.23</td>\n",
       "      <td>0.32</td>\n",
       "      <td>8.5</td>\n",
       "      <td>0.058</td>\n",
       "      <td>47.0</td>\n",
       "      <td>186.0</td>\n",
       "      <td>0.99560</td>\n",
       "      <td>3.19</td>\n",
       "      <td>0.40</td>\n",
       "      <td>9.9</td>\n",
       "      <td>6</td>\n",
       "    </tr>\n",
       "    <tr>\n",
       "      <th>...</th>\n",
       "      <td>...</td>\n",
       "      <td>...</td>\n",
       "      <td>...</td>\n",
       "      <td>...</td>\n",
       "      <td>...</td>\n",
       "      <td>...</td>\n",
       "      <td>...</td>\n",
       "      <td>...</td>\n",
       "      <td>...</td>\n",
       "      <td>...</td>\n",
       "      <td>...</td>\n",
       "      <td>...</td>\n",
       "    </tr>\n",
       "    <tr>\n",
       "      <th>4893</th>\n",
       "      <td>6.2</td>\n",
       "      <td>0.21</td>\n",
       "      <td>0.29</td>\n",
       "      <td>1.6</td>\n",
       "      <td>0.039</td>\n",
       "      <td>24.0</td>\n",
       "      <td>92.0</td>\n",
       "      <td>0.99114</td>\n",
       "      <td>3.27</td>\n",
       "      <td>0.50</td>\n",
       "      <td>11.2</td>\n",
       "      <td>6</td>\n",
       "    </tr>\n",
       "    <tr>\n",
       "      <th>4894</th>\n",
       "      <td>6.6</td>\n",
       "      <td>0.32</td>\n",
       "      <td>0.36</td>\n",
       "      <td>8.0</td>\n",
       "      <td>0.047</td>\n",
       "      <td>57.0</td>\n",
       "      <td>168.0</td>\n",
       "      <td>0.99490</td>\n",
       "      <td>3.15</td>\n",
       "      <td>0.46</td>\n",
       "      <td>9.6</td>\n",
       "      <td>5</td>\n",
       "    </tr>\n",
       "    <tr>\n",
       "      <th>4895</th>\n",
       "      <td>6.5</td>\n",
       "      <td>0.24</td>\n",
       "      <td>0.19</td>\n",
       "      <td>1.2</td>\n",
       "      <td>0.041</td>\n",
       "      <td>30.0</td>\n",
       "      <td>111.0</td>\n",
       "      <td>0.99254</td>\n",
       "      <td>2.99</td>\n",
       "      <td>0.46</td>\n",
       "      <td>9.4</td>\n",
       "      <td>6</td>\n",
       "    </tr>\n",
       "    <tr>\n",
       "      <th>4896</th>\n",
       "      <td>5.5</td>\n",
       "      <td>0.29</td>\n",
       "      <td>0.30</td>\n",
       "      <td>1.1</td>\n",
       "      <td>0.022</td>\n",
       "      <td>20.0</td>\n",
       "      <td>110.0</td>\n",
       "      <td>0.98869</td>\n",
       "      <td>3.34</td>\n",
       "      <td>0.38</td>\n",
       "      <td>12.8</td>\n",
       "      <td>7</td>\n",
       "    </tr>\n",
       "    <tr>\n",
       "      <th>4897</th>\n",
       "      <td>6.0</td>\n",
       "      <td>0.21</td>\n",
       "      <td>0.38</td>\n",
       "      <td>0.8</td>\n",
       "      <td>0.020</td>\n",
       "      <td>22.0</td>\n",
       "      <td>98.0</td>\n",
       "      <td>0.98941</td>\n",
       "      <td>3.26</td>\n",
       "      <td>0.32</td>\n",
       "      <td>11.8</td>\n",
       "      <td>6</td>\n",
       "    </tr>\n",
       "  </tbody>\n",
       "</table>\n",
       "<p>4898 rows × 12 columns</p>\n",
       "</div>"
      ],
      "text/plain": [
       "      fixed acidity  volatile acidity  citric acid  residual sugar  chlorides  \\\n",
       "0               7.0              0.27         0.36            20.7      0.045   \n",
       "1               6.3              0.30         0.34             1.6      0.049   \n",
       "2               8.1              0.28         0.40             6.9      0.050   \n",
       "3               7.2              0.23         0.32             8.5      0.058   \n",
       "4               7.2              0.23         0.32             8.5      0.058   \n",
       "...             ...               ...          ...             ...        ...   \n",
       "4893            6.2              0.21         0.29             1.6      0.039   \n",
       "4894            6.6              0.32         0.36             8.0      0.047   \n",
       "4895            6.5              0.24         0.19             1.2      0.041   \n",
       "4896            5.5              0.29         0.30             1.1      0.022   \n",
       "4897            6.0              0.21         0.38             0.8      0.020   \n",
       "\n",
       "      free sulfur dioxide  total sulfur dioxide  density    pH  sulphates  \\\n",
       "0                    45.0                 170.0  1.00100  3.00       0.45   \n",
       "1                    14.0                 132.0  0.99400  3.30       0.49   \n",
       "2                    30.0                  97.0  0.99510  3.26       0.44   \n",
       "3                    47.0                 186.0  0.99560  3.19       0.40   \n",
       "4                    47.0                 186.0  0.99560  3.19       0.40   \n",
       "...                   ...                   ...      ...   ...        ...   \n",
       "4893                 24.0                  92.0  0.99114  3.27       0.50   \n",
       "4894                 57.0                 168.0  0.99490  3.15       0.46   \n",
       "4895                 30.0                 111.0  0.99254  2.99       0.46   \n",
       "4896                 20.0                 110.0  0.98869  3.34       0.38   \n",
       "4897                 22.0                  98.0  0.98941  3.26       0.32   \n",
       "\n",
       "      alcohol  quality  \n",
       "0         8.8        6  \n",
       "1         9.5        6  \n",
       "2        10.1        6  \n",
       "3         9.9        6  \n",
       "4         9.9        6  \n",
       "...       ...      ...  \n",
       "4893     11.2        6  \n",
       "4894      9.6        5  \n",
       "4895      9.4        6  \n",
       "4896     12.8        7  \n",
       "4897     11.8        6  \n",
       "\n",
       "[4898 rows x 12 columns]"
      ]
     },
     "execution_count": 18,
     "metadata": {},
     "output_type": "execute_result"
    }
   ],
   "source": [
    "df"
   ]
  },
  {
   "cell_type": "markdown",
   "id": "aa8d707d",
   "metadata": {},
   "source": [
    "## Identify each attribute and its type\n",
    "\n",
    "The data has 4898 rows. There are 11 features will be used to classify the quality of wine, many of them are chemical, so we need to have a basic understanding of such chemicals.\n",
    "\n",
    "*  fixed_acidity :   Primary fixed acids found in wine are tartaric, succinic, citric, and malic\n",
    "*  volatile_acidity :   Volatile acidity is the gaseous acids present in wine.\n",
    "* citric_acid :    It is weak organic acid, found in citrus fruits naturally.\n",
    "* residual_sugar :   Amount of sugar left after fermentation.\n",
    "* chlorides :   Amount of salt present in wine.\n",
    "* free_sulfur_dioxide :   So2 is used for prevention of wine by oxidation and microbial spoilage.\n",
    "* total sulfur dioxide \n",
    "* density \n",
    "* pH :   In wine pH is used for checking acidity\n",
    "* sulphates :    Added sulfites preserve freshness and protect wine from oxidation, and bacteria.\n",
    "* alcohol :   Percent of alcohol present in wine.\n"
   ]
  },
  {
   "cell_type": "code",
   "execution_count": 19,
   "id": "4186ad47",
   "metadata": {},
   "outputs": [
    {
     "data": {
      "text/plain": [
       "array([[<AxesSubplot:title={'center':'fixed acidity'}>,\n",
       "        <AxesSubplot:title={'center':'volatile acidity'}>,\n",
       "        <AxesSubplot:title={'center':'citric acid'}>],\n",
       "       [<AxesSubplot:title={'center':'residual sugar'}>,\n",
       "        <AxesSubplot:title={'center':'chlorides'}>,\n",
       "        <AxesSubplot:title={'center':'free sulfur dioxide'}>],\n",
       "       [<AxesSubplot:title={'center':'total sulfur dioxide'}>,\n",
       "        <AxesSubplot:title={'center':'density'}>,\n",
       "        <AxesSubplot:title={'center':'pH'}>],\n",
       "       [<AxesSubplot:title={'center':'sulphates'}>,\n",
       "        <AxesSubplot:title={'center':'alcohol'}>,\n",
       "        <AxesSubplot:title={'center':'quality'}>]], dtype=object)"
      ]
     },
     "execution_count": 19,
     "metadata": {},
     "output_type": "execute_result"
    },
    {
     "data": {
      "image/png": "[encoded data removed]",
      "text/plain": [
       "<Figure size 720x720 with 12 Axes>"
      ]
     },
     "metadata": {
      "needs_background": "light"
     },
     "output_type": "display_data"
    }
   ],
   "source": [
    "df.hist(bins=25,figsize=(10,10))"
   ]
  },
  {
   "cell_type": "code",
   "execution_count": 20,
   "id": "e16a8d6c",
   "metadata": {},
   "outputs": [
    {
     "data": {
      "text/plain": [
       "<AxesSubplot:>"
      ]
     },
     "execution_count": 20,
     "metadata": {},
     "output_type": "execute_result"
    },
    {
     "data": {
      "image/png": "[encoded data removed]",
      "text/plain": [
       "<Figure size 432x288 with 1 Axes>"
      ]
     },
     "metadata": {
      "needs_background": "light"
     },
     "output_type": "display_data"
    }
   ],
   "source": [
    "df['quality'].hist()"
   ]
  },
  {
   "cell_type": "code",
   "execution_count": 21,
   "id": "f24c969f",
   "metadata": {},
   "outputs": [
    {
     "data": {
      "text/plain": [
       "6    2198\n",
       "5    1457\n",
       "7     880\n",
       "8     175\n",
       "4     163\n",
       "3      20\n",
       "9       5\n",
       "Name: quality, dtype: int64"
      ]
     },
     "execution_count": 21,
     "metadata": {},
     "output_type": "execute_result"
    }
   ],
   "source": [
    "df['quality'].value_counts()"
   ]
  },
  {
   "cell_type": "code",
   "execution_count": 22,
   "id": "e3e53b09",
   "metadata": {},
   "outputs": [
    {
     "data": {
      "text/plain": [
       "1    3655\n",
       "2    1060\n",
       "0     183\n",
       "Name: quality, dtype: int64"
      ]
     },
     "execution_count": 22,
     "metadata": {},
     "output_type": "execute_result"
    }
   ],
   "source": [
    "cut_bins = [1, 4, 6, 9]\n",
    "df['quality'] = pd.cut(df['quality'], bins = cut_bins, labels = [0, 1, 2])\n",
    "df['quality'].value_counts()"
   ]
  },
  {
   "cell_type": "code",
   "execution_count": 23,
   "id": "0f398800",
   "metadata": {},
   "outputs": [],
   "source": [
    "#save the preprocess data\n",
    "df.to_csv(r'winequality-preprocess.csv', index = False, header = True)"
   ]
  },
  {
   "cell_type": "markdown",
   "id": "b5aa66cc",
   "metadata": {},
   "source": [
    "# Experiment Set 1: Comparing Machine Learning Algorithms\n",
    "\n",
    "In this experiment set, we compare the baseline performance and the best performance (after parameter tuning) on the test set for each machine learning algorithm being used.\n",
    "\n",
    "The list of machine learning algorithms are:\n",
    "\n",
    "- K-Nearest Neighbors\n",
    "- Decision Tree\n",
    "- SVM"
   ]
  },
  {
   "cell_type": "code",
   "execution_count": 23,
   "id": "ea97486f",
   "metadata": {},
   "outputs": [],
   "source": [
    "import matplotlib.pyplot as plt \n",
    "import seaborn as sns \n",
    "from sklearn.model_selection import train_test_split, GridSearchCV\n",
    "from sklearn.preprocessing import StandardScaler, MinMaxScaler\n",
    "from sklearn.metrics import classification_report, confusion_matrix, roc_curve, roc_auc_score\n",
    "from sklearn import metrics\n",
    "#import function for k-fold cross validation \n",
    "from sklearn.model_selection import cross_val_score\n",
    "\n",
    "from sklearn.neighbors import KNeighborsClassifier\n",
    "#import decision tree classifier \n",
    "from sklearn.tree import DecisionTreeClassifier \n",
    "from sklearn.svm import SVC"
   ]
  },
  {
   "cell_type": "code",
   "execution_count": 4,
   "id": "781efc5f",
   "metadata": {},
   "outputs": [
    {
     "data": {
      "image/png": "[encoded data removed]",
      "text/plain": [
       "<Figure size 1440x1440 with 2 Axes>"
      ]
     },
     "metadata": {
      "needs_background": "light"
     },
     "output_type": "display_data"
    }
   ],
   "source": [
    "df = pd.read_csv('winequality-preprocess.csv')\n",
    "plt.figure(figsize=(20,20))\n",
    "df_corr = df.corr()\n",
    "sns.heatmap(df_corr, cmap=sns.diverging_palette(220,20,n=12), annot = True)\n",
    "plt.show()"
   ]
  },
  {
   "cell_type": "code",
   "execution_count": 13,
   "id": "1715c7ce",
   "metadata": {},
   "outputs": [],
   "source": [
    "#Indicate the target column\n",
    "target = df['quality']\n",
    "\n",
    "#Indicatethe columns that will serve as features.\n",
    "features = df.drop('quality', axis = 1)\n",
    "\n",
    "scaler = StandardScaler()\n",
    "features = scaler.fit_transform(features)"
   ]
  },
  {
   "cell_type": "code",
   "execution_count": 16,
   "id": "f25820fc",
   "metadata": {},
   "outputs": [],
   "source": [
    "\n",
    "x_train, x_test, y_train, y_test = train_test_split(features, target, test_size = 0.2, random_state = 42)"
   ]
  },
  {
   "cell_type": "code",
   "execution_count": 7,
   "id": "3aa5e242",
   "metadata": {},
   "outputs": [],
   "source": [
    "def best_parameter(param_grid, estimator):\n",
    "    #fit on the dataset on all parameter combinations in param_grid \n",
    "    #retain the best conbination \n",
    "    #because our data is unbalanced data, we use f1_weighted\n",
    "    grid_search = GridSearchCV(estimator, param_grid, cv = 5, scoring = 'f1_weighted')\n",
    "    #Train model while tuning the parameters using grid search \n",
    "    grid_result = grid_search.fit(x_train, y_train)\n",
    "    #display the best parameter c value \n",
    "    print(grid_result.best_params_)\n",
    "    print(grid_search.best_score_)\n",
    "    print(grid_search.best_estimator_)\n",
    "    return grid_search"
   ]
  },
  {
   "cell_type": "code",
   "execution_count": 43,
   "id": "66c146d4",
   "metadata": {},
   "outputs": [],
   "source": [
    "def validation(estimator):\n",
    "    #train model \n",
    "    estimator.fit(x_train, y_train)\n",
    "\n",
    "    #predict the target for the test dataset \n",
    "    test_predict = estimator.predict(x_test)\n",
    "\n",
    "    print(estimator.__class__)\n",
    "\n",
    "    scores = cross_val_score(estimator, x_train, y_train, cv =5, scoring = 'f1_weighted')\n",
    "    print(\"f1_weighted(validation) = \", scores.mean())\n",
    "    \n",
    "    #compute the model accuracy on the development set: How often is the classifier correct?\n",
    "    print(\"f1_weighted(test):{}\".format(metrics.f1_score(y_test, test_predict, average='weighted')))\n",
    "\n",
    "    #print confusion matrix\n",
    "    print(confusion_matrix(y_test, test_predict))\n",
    "\n",
    "    #print precision, recall and f1 \n",
    "    print(classification_report(y_test, test_predict))"
   ]
  },
  {
   "cell_type": "markdown",
   "id": "1527837d",
   "metadata": {},
   "source": [
    "## 1.1 K-Nearest Neighbors"
   ]
  },
  {
   "cell_type": "code",
   "execution_count": 50,
   "id": "8a622f9c",
   "metadata": {},
   "outputs": [
    {
     "name": "stdout",
     "output_type": "stream",
     "text": [
      "<class 'sklearn.neighbors._classification.KNeighborsClassifier'>\n",
      "f1_weighted(validation) =  0.7648175925503283\n",
      "f1_weighted(test):0.7945188655919486\n",
      "[[  6  23   1]\n",
      " [  8 661  54]\n",
      " [  0 104 123]]\n",
      "              precision    recall  f1-score   support\n",
      "\n",
      "           0       0.43      0.20      0.27        30\n",
      "           1       0.84      0.91      0.87       723\n",
      "           2       0.69      0.54      0.61       227\n",
      "\n",
      "    accuracy                           0.81       980\n",
      "   macro avg       0.65      0.55      0.59       980\n",
      "weighted avg       0.79      0.81      0.79       980\n",
      "\n"
     ]
    }
   ],
   "source": [
    "validation(KNeighborsClassifier())"
   ]
  },
  {
   "cell_type": "code",
   "execution_count": 41,
   "id": "48e5e03a",
   "metadata": {},
   "outputs": [
    {
     "name": "stdout",
     "output_type": "stream",
     "text": [
      "{'algorithm': 'auto', 'n_neighbors': 9, 'p': 2, 'weights': 'distance'}\n",
      "0.8112841274300744\n",
      "KNeighborsClassifier(n_neighbors=9, weights='distance')\n"
     ]
    },
    {
     "data": {
      "text/plain": [
       "GridSearchCV(cv=5, estimator=KNeighborsClassifier(),\n",
       "             param_grid={'algorithm': ['auto', 'ball_tree', 'kd_tree', 'brute'],\n",
       "                         'n_neighbors': [1, 3, 5, 7, 9, 11], 'p': [1, 2, 3],\n",
       "                         'weights': ['uniform', 'distance']},\n",
       "             scoring='f1_weighted')"
      ]
     },
     "execution_count": 41,
     "metadata": {},
     "output_type": "execute_result"
    }
   ],
   "source": [
    "#the param_grid specifies one grid should be explored \n",
    "param_grid = {\"n_neighbors\":[1,3, 5,7, 9, 11], \"weights\" : ['uniform', 'distance'], \n",
    "              \"algorithm\" : ['auto', 'ball_tree', 'kd_tree', 'brute'],\n",
    "              \"p\":[1,2,3]}\n",
    "\n",
    "best_parameter(param_grid, KNeighborsClassifier())"
   ]
  },
  {
   "cell_type": "code",
   "execution_count": 45,
   "id": "16e24d36",
   "metadata": {},
   "outputs": [
    {
     "name": "stdout",
     "output_type": "stream",
     "text": [
      "<class 'sklearn.neighbors._classification.KNeighborsClassifier'>\n",
      "f1_weighted(validation) =  0.8112841274300744\n",
      "f1_weighted(test):0.8417048078076167\n",
      "[[  6  22   2]\n",
      " [  2 676  45]\n",
      " [  0  75 152]]\n",
      "              precision    recall  f1-score   support\n",
      "\n",
      "           0       0.75      0.20      0.32        30\n",
      "           1       0.87      0.93      0.90       723\n",
      "           2       0.76      0.67      0.71       227\n",
      "\n",
      "    accuracy                           0.85       980\n",
      "   macro avg       0.80      0.60      0.64       980\n",
      "weighted avg       0.85      0.85      0.84       980\n",
      "\n"
     ]
    }
   ],
   "source": [
    "validation(KNeighborsClassifier(n_neighbors=9, weights='distance'))"
   ]
  },
  {
   "cell_type": "markdown",
   "id": "8373cb27",
   "metadata": {},
   "source": [
    "## 1.2 Decision Tree"
   ]
  },
  {
   "cell_type": "code",
   "execution_count": 46,
   "id": "32901dff",
   "metadata": {},
   "outputs": [
    {
     "name": "stdout",
     "output_type": "stream",
     "text": [
      "<class 'sklearn.tree._classes.DecisionTreeClassifier'>\n",
      "f1_weighted(validation) =  0.7696428770526091\n",
      "f1_weighted(test):0.7850757623994209\n",
      "[[ 11  17   2]\n",
      " [ 26 592 105]\n",
      " [  2  65 160]]\n",
      "              precision    recall  f1-score   support\n",
      "\n",
      "           0       0.28      0.37      0.32        30\n",
      "           1       0.88      0.82      0.85       723\n",
      "           2       0.60      0.70      0.65       227\n",
      "\n",
      "    accuracy                           0.78       980\n",
      "   macro avg       0.59      0.63      0.60       980\n",
      "weighted avg       0.80      0.78      0.79       980\n",
      "\n"
     ]
    }
   ],
   "source": [
    "validation(DecisionTreeClassifier())"
   ]
  },
  {
   "cell_type": "code",
   "execution_count": 56,
   "id": "496e6fd0",
   "metadata": {},
   "outputs": [
    {
     "name": "stdout",
     "output_type": "stream",
     "text": [
      "{'criterion': 'entropy', 'max_depth': None, 'splitter': 'best'}\n",
      "0.7745566377576688\n",
      "DecisionTreeClassifier(criterion='entropy')\n"
     ]
    },
    {
     "data": {
      "text/plain": [
       "GridSearchCV(cv=5, estimator=DecisionTreeClassifier(),\n",
       "             param_grid={'criterion': ['gini', 'entropy'],\n",
       "                         'max_depth': [7, 8, 9, 10, 11, 12, 13, 14, None],\n",
       "                         'splitter': ['best', 'random']},\n",
       "             scoring='f1_weighted')"
      ]
     },
     "execution_count": 56,
     "metadata": {},
     "output_type": "execute_result"
    }
   ],
   "source": [
    "#the param_grid specifies one grid should be explored \n",
    "param_grid = {\"criterion\":[\"gini\", \"entropy\"], \n",
    "              \"splitter\" : [\"best\", \"random\"], \n",
    "              \"max_depth\":[7, 8, 9, 10, 11, 12, 13, 14, None]}\n",
    "\n",
    "best_parameter(param_grid, DecisionTreeClassifier())"
   ]
  },
  {
   "cell_type": "code",
   "execution_count": 47,
   "id": "e3c97c95",
   "metadata": {},
   "outputs": [
    {
     "name": "stdout",
     "output_type": "stream",
     "text": [
      "<class 'sklearn.tree._classes.DecisionTreeClassifier'>\n",
      "f1_weighted(validation) =  0.7748538331524093\n",
      "f1_weighted(test):0.7986239646938167\n",
      "[[ 13  13   4]\n",
      " [ 22 610  91]\n",
      " [  0  71 156]]\n",
      "              precision    recall  f1-score   support\n",
      "\n",
      "           0       0.37      0.43      0.40        30\n",
      "           1       0.88      0.84      0.86       723\n",
      "           2       0.62      0.69      0.65       227\n",
      "\n",
      "    accuracy                           0.79       980\n",
      "   macro avg       0.62      0.65      0.64       980\n",
      "weighted avg       0.80      0.79      0.80       980\n",
      "\n"
     ]
    }
   ],
   "source": [
    "validation(DecisionTreeClassifier(criterion='entropy'))"
   ]
  },
  {
   "cell_type": "markdown",
   "id": "73f66873",
   "metadata": {},
   "source": [
    "## 1.3 SVM"
   ]
  },
  {
   "cell_type": "code",
   "execution_count": 48,
   "id": "6f9b1142",
   "metadata": {},
   "outputs": [
    {
     "name": "stdout",
     "output_type": "stream",
     "text": [
      "<class 'sklearn.svm._classes.SVC'>\n",
      "f1_weighted(validation) =  0.7463428599607058\n",
      "f1_weighted(test):0.757039783775711\n",
      "[[  1  29   0]\n",
      " [  0 698  25]\n",
      " [  0 148  79]]\n",
      "              precision    recall  f1-score   support\n",
      "\n",
      "           0       1.00      0.03      0.06        30\n",
      "           1       0.80      0.97      0.87       723\n",
      "           2       0.76      0.35      0.48       227\n",
      "\n",
      "    accuracy                           0.79       980\n",
      "   macro avg       0.85      0.45      0.47       980\n",
      "weighted avg       0.80      0.79      0.76       980\n",
      "\n"
     ]
    }
   ],
   "source": [
    "validation(SVC())"
   ]
  },
  {
   "cell_type": "code",
   "execution_count": 14,
   "id": "7251568b",
   "metadata": {},
   "outputs": [
    {
     "name": "stdout",
     "output_type": "stream",
     "text": [
      "{'C': 100}\n",
      "0.7570448721915268\n",
      "SVC(C=100, kernel='linear')\n"
     ]
    },
    {
     "data": {
      "text/plain": [
       "GridSearchCV(cv=5, estimator=SVC(kernel='linear'),\n",
       "             param_grid={'C': [1, 10, 100, 1000]}, scoring='f1_weighted')"
      ]
     },
     "execution_count": 14,
     "metadata": {},
     "output_type": "execute_result"
    }
   ],
   "source": [
    "#the param_grid specifies one grid should be explored \n",
    "param_grid = {\"C\":[1, 10, 100, 1000]}\n",
    "\n",
    "#fit on the dataset on all parameter combinations in param_grid \n",
    "#retain the best conbination \n",
    "best_parameter(param_grid, SVC(kernel = 'linear'))"
   ]
  },
  {
   "cell_type": "code",
   "execution_count": 19,
   "id": "328ff39b",
   "metadata": {},
   "outputs": [
    {
     "name": "stdout",
     "output_type": "stream",
     "text": [
      "{'C': 1000, 'degree': 1}\n",
      "0.7570448721915268\n",
      "SVC(C=1000, degree=1, kernel='poly')\n"
     ]
    },
    {
     "data": {
      "text/plain": [
       "GridSearchCV(cv=5, estimator=SVC(kernel='poly'),\n",
       "             param_grid={'C': [1, 10, 100, 1000], 'degree': [1, 2, 3, 4, 5]},\n",
       "             scoring='f1_weighted')"
      ]
     },
     "execution_count": 19,
     "metadata": {},
     "output_type": "execute_result"
    }
   ],
   "source": [
    "param_grid = {\"C\":[1, 10, 100, 1000], 'degree':[1,2,3,4,5]}\n",
    "best_parameter(param_grid, SVC(kernel = 'poly'))"
   ]
  },
  {
   "cell_type": "code",
   "execution_count": 20,
   "id": "f48ad798",
   "metadata": {},
   "outputs": [
    {
     "name": "stdout",
     "output_type": "stream",
     "text": [
      "{'C': 1, 'gamma': 'auto'}\n",
      "0.7573374916624601\n",
      "SVC(C=1, gamma='auto')\n"
     ]
    },
    {
     "data": {
      "text/plain": [
       "GridSearchCV(cv=5, estimator=SVC(),\n",
       "             param_grid={'C': [1, 10, 100, 1000],\n",
       "                         'gamma': [0.1, 0.2, 0.3, 0.4, 0.5, 0.6, 0.7, 0.8, 0.9,\n",
       "                                   1.0, 'scale', 'auto']},\n",
       "             scoring='f1_weighted')"
      ]
     },
     "execution_count": 20,
     "metadata": {},
     "output_type": "execute_result"
    }
   ],
   "source": [
    "param_grid = {\"C\":[1, 10, 100, 1000], 'gamma':[0.1,0.2,0.3,0.4,0.5,0.6,0.7,0.8,0.9,1.0, 'scale', 'auto']}\n",
    "best_parameter(param_grid, SVC(kernel = 'rbf'))"
   ]
  },
  {
   "cell_type": "code",
   "execution_count": 21,
   "id": "7f861577",
   "metadata": {},
   "outputs": [
    {
     "name": "stdout",
     "output_type": "stream",
     "text": [
      "{'C': 10, 'coef0': 0, 'gamma': 'scale'}\n",
      "0.7312322213101939\n",
      "SVC(C=10, coef0=0, kernel='sigmoid')\n"
     ]
    },
    {
     "data": {
      "text/plain": [
       "GridSearchCV(cv=5, estimator=SVC(kernel='sigmoid'),\n",
       "             param_grid={'C': [1, 10, 100, 1000], 'coef0': [0, 1, 10],\n",
       "                         'gamma': [0.1, 0.2, 0.3, 0.4, 0.5, 0.6, 0.7, 0.8, 0.9,\n",
       "                                   1.0, 'scale', 'auto']},\n",
       "             scoring='f1_weighted')"
      ]
     },
     "execution_count": 21,
     "metadata": {},
     "output_type": "execute_result"
    }
   ],
   "source": [
    "param_grid = {\"C\":[1, 10, 100, 1000], 'gamma':[0.1,0.2,0.3,0.4,0.5,0.6,0.7,0.8,0.9,1.0, 'scale', 'auto'], \n",
    "               \"coef0\":[0,1,10]}\n",
    "best_parameter(param_grid, SVC(kernel = 'sigmoid'))"
   ]
  },
  {
   "cell_type": "code",
   "execution_count": 49,
   "id": "c6d8c1f8",
   "metadata": {},
   "outputs": [
    {
     "name": "stdout",
     "output_type": "stream",
     "text": [
      "<class 'sklearn.svm._classes.SVC'>\n",
      "f1_weighted(validation) =  0.7465363480450318\n",
      "f1_weighted(test):0.757039783775711\n",
      "[[  1  29   0]\n",
      " [  0 698  25]\n",
      " [  0 148  79]]\n",
      "              precision    recall  f1-score   support\n",
      "\n",
      "           0       1.00      0.03      0.06        30\n",
      "           1       0.80      0.97      0.87       723\n",
      "           2       0.76      0.35      0.48       227\n",
      "\n",
      "    accuracy                           0.79       980\n",
      "   macro avg       0.85      0.45      0.47       980\n",
      "weighted avg       0.80      0.79      0.76       980\n",
      "\n"
     ]
    }
   ],
   "source": [
    "validation(SVC(C=1, gamma='auto'))"
   ]
  },
  {
   "cell_type": "markdown",
   "id": "715398b1",
   "metadata": {},
   "source": [
    "# Experiment Set 1: conclusion\n",
    "\n",
    "obviously KNN is the best performing model, which has the highest weighted f1-score 0.84\n"
   ]
  }
 ],
 "metadata": {
  "interpreter": {
   "hash": "aee8b7b246df8f9039afb4144a1f6fd8d2ca17a180786b69acc140d282b71a49"
  },
  "kernelspec": {
   "display_name": "Python 3.10.2 64-bit",
   "language": "python",
   "name": "python3"
  },
  "language_info": {
   "codemirror_mode": {
    "name": "ipython",
    "version": 3
   },
   "file_extension": ".py",
   "mimetype": "text/x-python",
   "name": "python",
   "nbconvert_exporter": "python",
   "pygments_lexer": "ipython3",
   "version": "3.10.2"
  }
 },
 "nbformat": 4,
 "nbformat_minor": 5
}
