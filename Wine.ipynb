{
 "cells": [
  {
   "cell_type": "markdown",
   "id": "aceef4be",
   "metadata": {},
   "source": [
    "# CDS503 - Machine Learning Final Project\n",
    "\n",
    "Universiti Sains Malaysia\n",
    "\n",
    "\n",
    "Group 11 - **model wine quality**\n",
    "\n",
    "Members:\n",
    "- JIN WENHUA\n",
    "- MA RU\n",
    "- GUO ZIRUI\n",
    "- CHEN wenxian"
   ]
  },
  {
   "cell_type": "markdown",
   "id": "0eeb7bbf",
   "metadata": {},
   "source": [
    "## Overview\n",
    "### Experiment Set 1: Comparing machine learning algorithms  \n",
    "* JIN WENHUA\n",
    "### Experiment Set 2: Selecting features\n",
    "* MA RU\n",
    "### Experiment Set 3: Ensemble learning\n",
    "* CHEN WENXIAN \n",
    "### Experiment Set 4: Varying training sample size\n",
    "* GUO ZIRUI\n"
   ]
  },
  {
   "cell_type": "markdown",
   "id": "89bf176e",
   "metadata": {},
   "source": [
    "# 1. Data Preparation"
   ]
  },
  {
   "cell_type": "code",
   "execution_count": 8,
   "id": "6ae3591f",
   "metadata": {},
   "outputs": [],
   "source": [
    "import pandas as pd\n",
    "import numpy as np\n",
    "\n"
   ]
  },
  {
   "cell_type": "code",
   "execution_count": 14,
   "id": "7eedc1f5",
   "metadata": {},
   "outputs": [
    {
     "name": "stdout",
     "output_type": "stream",
     "text": [
      "<class 'pandas.core.frame.DataFrame'>\n",
      "RangeIndex: 4898 entries, 0 to 4897\n",
      "Data columns (total 12 columns):\n",
      " #   Column                Non-Null Count  Dtype  \n",
      "---  ------                --------------  -----  \n",
      " 0   fixed acidity         4898 non-null   float64\n",
      " 1   volatile acidity      4898 non-null   float64\n",
      " 2   citric acid           4898 non-null   float64\n",
      " 3   residual sugar        4898 non-null   float64\n",
      " 4   chlorides             4898 non-null   float64\n",
      " 5   free sulfur dioxide   4898 non-null   float64\n",
      " 6   total sulfur dioxide  4898 non-null   float64\n",
      " 7   density               4898 non-null   float64\n",
      " 8   pH                    4898 non-null   float64\n",
      " 9   sulphates             4898 non-null   float64\n",
      " 10  alcohol               4898 non-null   float64\n",
      " 11  quality               4898 non-null   int64  \n",
      "dtypes: float64(11), int64(1)\n",
      "memory usage: 459.3 KB\n"
     ]
    }
   ],
   "source": [
    "df = pd.read_csv('winequality-white.csv', delimiter = ';')\n",
    "#display the metadata or summary of the data \n",
    "df.info()"
   ]
  },
  {
   "cell_type": "code",
   "execution_count": 15,
   "id": "2d65c711",
   "metadata": {},
   "outputs": [
    {
     "name": "stdout",
     "output_type": "stream",
     "text": [
      "937 duplicates rows in wine\n",
      "0 duplicates rows in wine\n"
     ]
    }
   ],
   "source": [
    "print( str(np.sum(np.array(df.duplicated()))) + \" duplicates rows in wine\")\n",
    "df = df.drop_duplicates()\n",
    "print( str(np.sum(np.array(df.duplicated()))) + \" duplicates rows in wine\")"
   ]
  },
  {
   "cell_type": "code",
   "execution_count": 17,
   "id": "ee331221",
   "metadata": {},
   "outputs": [
    {
     "data": {
      "text/plain": [
       "fixed acidity  volatile acidity  citric acid  residual sugar  chlorides  free sulfur dioxide  total sulfur dioxide  density   pH    sulphates  alcohol  quality\n",
       "3.8            0.310             0.02         11.10           0.036      20.0                 114.0                 0.992480  3.75  0.44       12.4     6          1\n",
       "7.1            0.260             0.37         5.50            0.025      31.0                 105.0                 0.990820  3.06  0.33       12.6     8          1\n",
       "               0.270             0.24         12.60           0.044      48.0                 118.0                 0.997260  3.04  0.56       10.0     7          1\n",
       "                                 0.27         10.40           0.041      26.0                 114.0                 0.993350  3.04  0.52       11.5     7          1\n",
       "                                 0.28         1.25            0.023      3.0                  89.0                  0.989930  2.95  0.30       11.4     4          1\n",
       "                                                                                                                                                                  ..\n",
       "6.4            0.460             0.22         14.70           0.047      51.0                 183.0                 0.998275  3.39  0.60       10.5     5          1\n",
       "               0.475             0.06         1.00            0.030      9.0                  131.0                 0.990400  2.97  0.29       10.8     5          1\n",
       "               0.500             0.16         12.90           0.042      26.0                 138.0                 0.997400  3.28  0.33       9.0      5          1\n",
       "                                 0.20         2.40            0.059      19.0                 112.0                 0.993140  3.18  0.40       9.2      6          1\n",
       "14.2           0.270             0.49         1.10            0.037      33.0                 156.0                 0.992000  3.15  0.54       11.1     6          1\n",
       "Length: 3961, dtype: int64"
      ]
     },
     "execution_count": 17,
     "metadata": {},
     "output_type": "execute_result"
    }
   ],
   "source": [
    "df.value_counts()"
   ]
  },
  {
   "cell_type": "code",
   "execution_count": 18,
   "id": "e16a8d6c",
   "metadata": {},
   "outputs": [
    {
     "data": {
      "text/plain": [
       "<AxesSubplot:>"
      ]
     },
     "execution_count": 18,
     "metadata": {},
     "output_type": "execute_result"
    },
    {
     "data": {
      "image/png": "[encoded data removed]",
      "text/plain": [
       "<Figure size 432x288 with 1 Axes>"
      ]
     },
     "metadata": {
      "needs_background": "light"
     },
     "output_type": "display_data"
    }
   ],
   "source": [
    "df['quality'].hist()"
   ]
  },
  {
   "cell_type": "code",
   "execution_count": 19,
   "id": "f24c969f",
   "metadata": {},
   "outputs": [
    {
     "data": {
      "text/plain": [
       "6    1788\n",
       "5    1175\n",
       "7     689\n",
       "4     153\n",
       "8     131\n",
       "3      20\n",
       "9       5\n",
       "Name: quality, dtype: int64"
      ]
     },
     "execution_count": 19,
     "metadata": {},
     "output_type": "execute_result"
    }
   ],
   "source": [
    "df['quality'].value_counts()"
   ]
  },
  {
   "cell_type": "code",
   "execution_count": 20,
   "id": "deb6b008",
   "metadata": {},
   "outputs": [
    {
     "data": {
      "text/plain": [
       "<AxesSubplot:>"
      ]
     },
     "execution_count": 20,
     "metadata": {},
     "output_type": "execute_result"
    },
    {
     "data": {
      "image/png": "[encoded data removed]",
      "text/plain": [
       "<Figure size 432x288 with 1 Axes>"
      ]
     },
     "metadata": {
      "needs_background": "light"
     },
     "output_type": "display_data"
    }
   ],
   "source": [
    "df['quality'].value_counts().plot(kind='bar')"
   ]
  },
  {
   "cell_type": "code",
   "execution_count": null,
   "id": "e3e53b09",
   "metadata": {},
   "outputs": [],
   "source": []
  },
  {
   "cell_type": "code",
   "execution_count": null,
   "id": "636259a1",
   "metadata": {},
   "outputs": [],
   "source": []
  }
 ],
 "metadata": {
  "interpreter": {
   "hash": "aee8b7b246df8f9039afb4144a1f6fd8d2ca17a180786b69acc140d282b71a49"
  },
  "kernelspec": {
   "display_name": "Python 3.10.2 64-bit",
   "language": "python",
   "name": "python3"
  },
  "language_info": {
   "codemirror_mode": {
    "name": "ipython",
    "version": 3
   },
   "file_extension": ".py",
   "mimetype": "text/x-python",
   "name": "python",
   "nbconvert_exporter": "python",
   "pygments_lexer": "ipython3",
   "version": "3.10.2"
  }
 },
 "nbformat": 4,
 "nbformat_minor": 5
}
